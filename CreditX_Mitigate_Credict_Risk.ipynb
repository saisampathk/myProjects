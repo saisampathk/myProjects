{
 "cells": [
  {
   "cell_type": "code",
   "execution_count": 1,
   "metadata": {},
   "outputs": [],
   "source": [
    "# Importing required libraries\n",
    "import pandas as pd\n",
    "import numpy as np\n",
    "import seaborn as sns\n",
    "import matplotlib.pyplot as plt\n",
    "import xverse\n",
    "from xverse.feature_subset import FeatureSubset\n",
    "from xverse.transformer import MonotonicBinning\n",
    "import sklearn\n",
    "from sklearn.model_selection import train_test_split\n",
    "from xverse.transformer import WOE\n",
    "import statsmodels.api as sm\n",
    "# Importing LogisticRegression and metrics from sklearn library\n",
    "from sklearn.linear_model import LogisticRegression\n",
    "from sklearn import metrics\n",
    "from statsmodels.stats.outliers_influence import variance_inflation_factor\n",
    "# Importing required libraries\n",
    "from sklearn.pipeline import Pipeline\n",
    "from sklearn.decomposition import PCA\n",
    "from sklearn.metrics import confusion_matrix\n",
    "from sklearn.metrics import roc_auc_score\n",
    "from sklearn.model_selection import StratifiedKFold\n",
    "from sklearn.model_selection import GridSearchCV\n",
    "\n",
    "#ignore warnings\n",
    "import warnings\n",
    "warnings.filterwarnings('ignore')"
   ]
  },
  {
   "cell_type": "code",
   "execution_count": 2,
   "metadata": {},
   "outputs": [],
   "source": [
    "#Import data\n",
    "\n",
    "crt_br=pd.read_csv('Credit Bureau data.csv')\n",
    "df_dmg=pd.read_csv('Demographic data.csv')"
   ]
  },
  {
   "cell_type": "markdown",
   "metadata": {},
   "source": [
    "#### Demographic data EDA"
   ]
  },
  {
   "cell_type": "code",
   "execution_count": 3,
   "metadata": {},
   "outputs": [],
   "source": [
    "#Column renaming\n",
    "df_dmg.rename(columns={'Marital Status (at the time of application)':'Marital_Status',\n",
    "                       'Profession ':'Profession'},inplace='True')"
   ]
  },
  {
   "cell_type": "code",
   "execution_count": 4,
   "metadata": {},
   "outputs": [
    {
     "name": "stdout",
     "output_type": "stream",
     "text": [
      "<class 'pandas.core.frame.DataFrame'>\n",
      "RangeIndex: 71295 entries, 0 to 71294\n",
      "Data columns (total 12 columns):\n",
      "Application ID                       71295 non-null int64\n",
      "Age                                  71295 non-null int64\n",
      "Gender                               71293 non-null object\n",
      "Marital_Status                       71289 non-null object\n",
      "No of dependents                     71292 non-null float64\n",
      "Income                               71295 non-null float64\n",
      "Education                            71176 non-null object\n",
      "Profession                           71281 non-null object\n",
      "Type of residence                    71287 non-null object\n",
      "No of months in current residence    71295 non-null int64\n",
      "No of months in current company      71295 non-null int64\n",
      "Performance Tag                      69870 non-null float64\n",
      "dtypes: float64(3), int64(4), object(5)\n",
      "memory usage: 6.5+ MB\n"
     ]
    }
   ],
   "source": [
    "#Analysing the data info\n",
    "df_dmg.info()"
   ]
  },
  {
   "cell_type": "code",
   "execution_count": 5,
   "metadata": {},
   "outputs": [
    {
     "data": {
      "text/plain": [
       "Application ID                          0\n",
       "Age                                     0\n",
       "Gender                                  2\n",
       "Marital_Status                          6\n",
       "No of dependents                        3\n",
       "Income                                  0\n",
       "Education                             119\n",
       "Profession                             14\n",
       "Type of residence                       8\n",
       "No of months in current residence       0\n",
       "No of months in current company         0\n",
       "Performance Tag                      1425\n",
       "dtype: int64"
      ]
     },
     "execution_count": 5,
     "metadata": {},
     "output_type": "execute_result"
    }
   ],
   "source": [
    "#Calculating null count in each column\n",
    "df_dmg.isnull().sum()"
   ]
  },
  {
   "cell_type": "code",
   "execution_count": 6,
   "metadata": {},
   "outputs": [
    {
     "data": {
      "text/html": [
       "<div>\n",
       "<style scoped>\n",
       "    .dataframe tbody tr th:only-of-type {\n",
       "        vertical-align: middle;\n",
       "    }\n",
       "\n",
       "    .dataframe tbody tr th {\n",
       "        vertical-align: top;\n",
       "    }\n",
       "\n",
       "    .dataframe thead th {\n",
       "        text-align: right;\n",
       "    }\n",
       "</style>\n",
       "<table border=\"1\" class=\"dataframe\">\n",
       "  <thead>\n",
       "    <tr style=\"text-align: right;\">\n",
       "      <th></th>\n",
       "      <th>Application ID</th>\n",
       "      <th>Age</th>\n",
       "      <th>No of dependents</th>\n",
       "      <th>Income</th>\n",
       "      <th>No of months in current residence</th>\n",
       "      <th>No of months in current company</th>\n",
       "      <th>Performance Tag</th>\n",
       "    </tr>\n",
       "  </thead>\n",
       "  <tbody>\n",
       "    <tr>\n",
       "      <th>count</th>\n",
       "      <td>7.129500e+04</td>\n",
       "      <td>71295.000000</td>\n",
       "      <td>71292.000000</td>\n",
       "      <td>71295.000000</td>\n",
       "      <td>71295.000000</td>\n",
       "      <td>71295.000000</td>\n",
       "      <td>69870.000000</td>\n",
       "    </tr>\n",
       "    <tr>\n",
       "      <th>mean</th>\n",
       "      <td>4.989601e+08</td>\n",
       "      <td>44.943039</td>\n",
       "      <td>2.865188</td>\n",
       "      <td>27.195224</td>\n",
       "      <td>34.563420</td>\n",
       "      <td>33.958244</td>\n",
       "      <td>0.042193</td>\n",
       "    </tr>\n",
       "    <tr>\n",
       "      <th>std</th>\n",
       "      <td>2.885905e+08</td>\n",
       "      <td>9.939211</td>\n",
       "      <td>1.382319</td>\n",
       "      <td>15.514626</td>\n",
       "      <td>36.759758</td>\n",
       "      <td>20.410824</td>\n",
       "      <td>0.201030</td>\n",
       "    </tr>\n",
       "    <tr>\n",
       "      <th>min</th>\n",
       "      <td>1.004500e+05</td>\n",
       "      <td>-3.000000</td>\n",
       "      <td>1.000000</td>\n",
       "      <td>-0.500000</td>\n",
       "      <td>6.000000</td>\n",
       "      <td>3.000000</td>\n",
       "      <td>0.000000</td>\n",
       "    </tr>\n",
       "    <tr>\n",
       "      <th>20%</th>\n",
       "      <td>1.990307e+08</td>\n",
       "      <td>36.000000</td>\n",
       "      <td>1.000000</td>\n",
       "      <td>11.000000</td>\n",
       "      <td>6.000000</td>\n",
       "      <td>13.000000</td>\n",
       "      <td>0.000000</td>\n",
       "    </tr>\n",
       "    <tr>\n",
       "      <th>50%</th>\n",
       "      <td>4.975698e+08</td>\n",
       "      <td>45.000000</td>\n",
       "      <td>3.000000</td>\n",
       "      <td>27.000000</td>\n",
       "      <td>11.000000</td>\n",
       "      <td>34.000000</td>\n",
       "      <td>0.000000</td>\n",
       "    </tr>\n",
       "    <tr>\n",
       "      <th>75%</th>\n",
       "      <td>7.495868e+08</td>\n",
       "      <td>53.000000</td>\n",
       "      <td>4.000000</td>\n",
       "      <td>40.000000</td>\n",
       "      <td>60.000000</td>\n",
       "      <td>51.000000</td>\n",
       "      <td>0.000000</td>\n",
       "    </tr>\n",
       "    <tr>\n",
       "      <th>95%</th>\n",
       "      <td>9.492921e+08</td>\n",
       "      <td>62.000000</td>\n",
       "      <td>5.000000</td>\n",
       "      <td>54.000000</td>\n",
       "      <td>110.000000</td>\n",
       "      <td>68.000000</td>\n",
       "      <td>0.000000</td>\n",
       "    </tr>\n",
       "    <tr>\n",
       "      <th>max</th>\n",
       "      <td>1.000084e+09</td>\n",
       "      <td>65.000000</td>\n",
       "      <td>5.000000</td>\n",
       "      <td>60.000000</td>\n",
       "      <td>126.000000</td>\n",
       "      <td>133.000000</td>\n",
       "      <td>1.000000</td>\n",
       "    </tr>\n",
       "  </tbody>\n",
       "</table>\n",
       "</div>"
      ],
      "text/plain": [
       "       Application ID           Age  No of dependents        Income  \\\n",
       "count    7.129500e+04  71295.000000      71292.000000  71295.000000   \n",
       "mean     4.989601e+08     44.943039          2.865188     27.195224   \n",
       "std      2.885905e+08      9.939211          1.382319     15.514626   \n",
       "min      1.004500e+05     -3.000000          1.000000     -0.500000   \n",
       "20%      1.990307e+08     36.000000          1.000000     11.000000   \n",
       "50%      4.975698e+08     45.000000          3.000000     27.000000   \n",
       "75%      7.495868e+08     53.000000          4.000000     40.000000   \n",
       "95%      9.492921e+08     62.000000          5.000000     54.000000   \n",
       "max      1.000084e+09     65.000000          5.000000     60.000000   \n",
       "\n",
       "       No of months in current residence  No of months in current company  \\\n",
       "count                       71295.000000                     71295.000000   \n",
       "mean                           34.563420                        33.958244   \n",
       "std                            36.759758                        20.410824   \n",
       "min                             6.000000                         3.000000   \n",
       "20%                             6.000000                        13.000000   \n",
       "50%                            11.000000                        34.000000   \n",
       "75%                            60.000000                        51.000000   \n",
       "95%                           110.000000                        68.000000   \n",
       "max                           126.000000                       133.000000   \n",
       "\n",
       "       Performance Tag  \n",
       "count     69870.000000  \n",
       "mean          0.042193  \n",
       "std           0.201030  \n",
       "min           0.000000  \n",
       "20%           0.000000  \n",
       "50%           0.000000  \n",
       "75%           0.000000  \n",
       "95%           0.000000  \n",
       "max           1.000000  "
      ]
     },
     "execution_count": 6,
     "metadata": {},
     "output_type": "execute_result"
    }
   ],
   "source": [
    "#Fetching percentiles of each column\n",
    "df_dmg.describe(percentiles=[0.2,0.5,0.75,0.95])"
   ]
  },
  {
   "cell_type": "code",
   "execution_count": 7,
   "metadata": {},
   "outputs": [
    {
     "data": {
      "text/plain": [
       "Index(['Application ID', 'Age', 'Gender', 'Marital_Status', 'No of dependents',\n",
       "       'Income', 'Education', 'Profession', 'Type of residence',\n",
       "       'No of months in current residence', 'No of months in current company',\n",
       "       'Performance Tag'],\n",
       "      dtype='object')"
      ]
     },
     "execution_count": 7,
     "metadata": {},
     "output_type": "execute_result"
    }
   ],
   "source": [
    "dem_cols=df_dmg.columns\n",
    "dem_cols"
   ]
  },
  {
   "cell_type": "markdown",
   "metadata": {},
   "source": [
    "#### Analysis of each variable using plots"
   ]
  },
  {
   "cell_type": "code",
   "execution_count": 8,
   "metadata": {},
   "outputs": [
    {
     "data": {
      "text/plain": [
       "<matplotlib.axes._subplots.AxesSubplot at 0x1cb6247fc18>"
      ]
     },
     "execution_count": 8,
     "metadata": {},
     "output_type": "execute_result"
    },
    {
     "data": {
      "image/png": "[encoded data removed]",
      "text/plain": [
       "<Figure size 432x288 with 1 Axes>"
      ]
     },
     "metadata": {
      "needs_background": "light"
     },
     "output_type": "display_data"
    }
   ],
   "source": [
    "#Age boxplot\n",
    "df_dmg.Age.plot(kind='box')"
   ]
  },
  {
   "cell_type": "code",
   "execution_count": 9,
   "metadata": {},
   "outputs": [
    {
     "data": {
      "text/plain": [
       "<matplotlib.axes._subplots.AxesSubplot at 0x1cb625297f0>"
      ]
     },
     "execution_count": 9,
     "metadata": {},
     "output_type": "execute_result"
    },
    {
     "data": {
      "image/png": "[encoded data removed]",
      "text/plain": [
       "<Figure size 432x288 with 1 Axes>"
      ]
     },
     "metadata": {
      "needs_background": "light"
     },
     "output_type": "display_data"
    }
   ],
   "source": [
    "# Histogram of age based by filter on performance tag\n",
    "df_dmg[df_dmg['Performance Tag']==0]['Age'].plot(kind='hist')"
   ]
  },
  {
   "cell_type": "code",
   "execution_count": 10,
   "metadata": {},
   "outputs": [
    {
     "data": {
      "text/plain": [
       "<matplotlib.axes._subplots.AxesSubplot at 0x1cb62578ac8>"
      ]
     },
     "execution_count": 10,
     "metadata": {},
     "output_type": "execute_result"
    },
    {
     "data": {
      "image/png": "[encoded data removed]",
      "text/plain": [
       "<Figure size 432x288 with 1 Axes>"
      ]
     },
     "metadata": {
      "needs_background": "light"
     },
     "output_type": "display_data"
    }
   ],
   "source": [
    "df_dmg[df_dmg['Performance Tag']==1]['Age'].plot(kind='hist')"
   ]
  },
  {
   "cell_type": "code",
   "execution_count": 12,
   "metadata": {},
   "outputs": [
    {
     "data": {
      "text/plain": [
       "<matplotlib.axes._subplots.AxesSubplot at 0x7f7cb71aae48>"
      ]
     },
     "execution_count": 12,
     "metadata": {},
     "output_type": "execute_result"
    },
    {
     "data": {
      "image/png": "[encoded data removed]",
      "text/plain": [
       "<Figure size 432x288 with 1 Axes>"
      ]
     },
     "metadata": {
      "needs_background": "light"
     },
     "output_type": "display_data"
    }
   ],
   "source": [
    "#No of dependents box plot\n",
    "df_dmg['No of dependents'].plot(kind='box')"
   ]
  },
  {
   "cell_type": "code",
   "execution_count": 13,
   "metadata": {},
   "outputs": [
    {
     "data": {
      "text/plain": [
       "<matplotlib.axes._subplots.AxesSubplot at 0x7f7cb70b9128>"
      ]
     },
     "execution_count": 13,
     "metadata": {},
     "output_type": "execute_result"
    },
    {
     "data": {
      "image/png": "[encoded data removed]",
      "text/plain": [
       "<Figure size 432x288 with 1 Axes>"
      ]
     },
     "metadata": {
      "needs_background": "light"
     },
     "output_type": "display_data"
    }
   ],
   "source": [
    "# Income boxplot\n",
    "df_dmg['Income'].plot(kind='box')"
   ]
  },
  {
   "cell_type": "code",
   "execution_count": 14,
   "metadata": {},
   "outputs": [
    {
     "data": {
      "text/plain": [
       "<matplotlib.axes._subplots.AxesSubplot at 0x7f7cb71cb6a0>"
      ]
     },
     "execution_count": 14,
     "metadata": {},
     "output_type": "execute_result"
    },
    {
     "data": {
      "image/png": "[encoded data removed]",
      "text/plain": [
       "<Figure size 432x288 with 1 Axes>"
      ]
     },
     "metadata": {
      "needs_background": "light"
     },
     "output_type": "display_data"
    }
   ],
   "source": [
    "#No of months in current residence boxplot\n",
    "df_dmg['No of months in current residence'].plot(kind='box')"
   ]
  },
  {
   "cell_type": "code",
   "execution_count": 11,
   "metadata": {},
   "outputs": [
    {
     "data": {
      "text/html": [
       "<div>\n",
       "<style scoped>\n",
       "    .dataframe tbody tr th:only-of-type {\n",
       "        vertical-align: middle;\n",
       "    }\n",
       "\n",
       "    .dataframe tbody tr th {\n",
       "        vertical-align: top;\n",
       "    }\n",
       "\n",
       "    .dataframe thead th {\n",
       "        text-align: right;\n",
       "    }\n",
       "</style>\n",
       "<table border=\"1\" class=\"dataframe\">\n",
       "  <thead>\n",
       "    <tr style=\"text-align: right;\">\n",
       "      <th></th>\n",
       "      <th>Application ID</th>\n",
       "      <th>Age</th>\n",
       "      <th>Gender</th>\n",
       "      <th>Marital_Status</th>\n",
       "      <th>No of dependents</th>\n",
       "      <th>Income</th>\n",
       "      <th>Education</th>\n",
       "      <th>Profession</th>\n",
       "      <th>Type of residence</th>\n",
       "      <th>No of months in current residence</th>\n",
       "      <th>No of months in current company</th>\n",
       "      <th>Performance Tag</th>\n",
       "    </tr>\n",
       "  </thead>\n",
       "  <tbody>\n",
       "    <tr>\n",
       "      <th>15</th>\n",
       "      <td>268129376</td>\n",
       "      <td>45</td>\n",
       "      <td>F</td>\n",
       "      <td>Married</td>\n",
       "      <td>5.0</td>\n",
       "      <td>44.0</td>\n",
       "      <td>Bachelor</td>\n",
       "      <td>SAL</td>\n",
       "      <td>Rented</td>\n",
       "      <td>81</td>\n",
       "      <td>123</td>\n",
       "      <td>0.0</td>\n",
       "    </tr>\n",
       "    <tr>\n",
       "      <th>810</th>\n",
       "      <td>788141600</td>\n",
       "      <td>52</td>\n",
       "      <td>F</td>\n",
       "      <td>Married</td>\n",
       "      <td>1.0</td>\n",
       "      <td>5.0</td>\n",
       "      <td>Masters</td>\n",
       "      <td>SAL</td>\n",
       "      <td>Rented</td>\n",
       "      <td>6</td>\n",
       "      <td>128</td>\n",
       "      <td>0.0</td>\n",
       "    </tr>\n",
       "    <tr>\n",
       "      <th>11811</th>\n",
       "      <td>700748782</td>\n",
       "      <td>56</td>\n",
       "      <td>M</td>\n",
       "      <td>Married</td>\n",
       "      <td>5.0</td>\n",
       "      <td>4.5</td>\n",
       "      <td>Professional</td>\n",
       "      <td>SE_PROF</td>\n",
       "      <td>Rented</td>\n",
       "      <td>6</td>\n",
       "      <td>133</td>\n",
       "      <td>0.0</td>\n",
       "    </tr>\n",
       "    <tr>\n",
       "      <th>27571</th>\n",
       "      <td>457161315</td>\n",
       "      <td>47</td>\n",
       "      <td>M</td>\n",
       "      <td>Married</td>\n",
       "      <td>5.0</td>\n",
       "      <td>10.0</td>\n",
       "      <td>Bachelor</td>\n",
       "      <td>SAL</td>\n",
       "      <td>Company provided</td>\n",
       "      <td>6</td>\n",
       "      <td>121</td>\n",
       "      <td>0.0</td>\n",
       "    </tr>\n",
       "    <tr>\n",
       "      <th>34070</th>\n",
       "      <td>825597539</td>\n",
       "      <td>52</td>\n",
       "      <td>M</td>\n",
       "      <td>Married</td>\n",
       "      <td>2.0</td>\n",
       "      <td>14.0</td>\n",
       "      <td>Masters</td>\n",
       "      <td>SE_PROF</td>\n",
       "      <td>Rented</td>\n",
       "      <td>6</td>\n",
       "      <td>126</td>\n",
       "      <td>0.0</td>\n",
       "    </tr>\n",
       "    <tr>\n",
       "      <th>50947</th>\n",
       "      <td>862310213</td>\n",
       "      <td>46</td>\n",
       "      <td>M</td>\n",
       "      <td>Married</td>\n",
       "      <td>2.0</td>\n",
       "      <td>19.0</td>\n",
       "      <td>Professional</td>\n",
       "      <td>SE</td>\n",
       "      <td>Owned</td>\n",
       "      <td>66</td>\n",
       "      <td>105</td>\n",
       "      <td>0.0</td>\n",
       "    </tr>\n",
       "  </tbody>\n",
       "</table>\n",
       "</div>"
      ],
      "text/plain": [
       "       Application ID  Age Gender Marital_Status  No of dependents  Income  \\\n",
       "15          268129376   45      F        Married               5.0    44.0   \n",
       "810         788141600   52      F        Married               1.0     5.0   \n",
       "11811       700748782   56      M        Married               5.0     4.5   \n",
       "27571       457161315   47      M        Married               5.0    10.0   \n",
       "34070       825597539   52      M        Married               2.0    14.0   \n",
       "50947       862310213   46      M        Married               2.0    19.0   \n",
       "\n",
       "          Education Profession Type of residence  \\\n",
       "15         Bachelor        SAL            Rented   \n",
       "810         Masters        SAL            Rented   \n",
       "11811  Professional    SE_PROF            Rented   \n",
       "27571      Bachelor        SAL  Company provided   \n",
       "34070       Masters    SE_PROF            Rented   \n",
       "50947  Professional         SE             Owned   \n",
       "\n",
       "       No of months in current residence  No of months in current company  \\\n",
       "15                                    81                              123   \n",
       "810                                    6                              128   \n",
       "11811                                  6                              133   \n",
       "27571                                  6                              121   \n",
       "34070                                  6                              126   \n",
       "50947                                 66                              105   \n",
       "\n",
       "       Performance Tag  \n",
       "15                 0.0  \n",
       "810                0.0  \n",
       "11811              0.0  \n",
       "27571              0.0  \n",
       "34070              0.0  \n",
       "50947              0.0  "
      ]
     },
     "execution_count": 11,
     "metadata": {},
     "output_type": "execute_result"
    }
   ],
   "source": [
    "df_dmg[df_dmg['No of months in current company']>100]"
   ]
  },
  {
   "cell_type": "code",
   "execution_count": 12,
   "metadata": {},
   "outputs": [],
   "source": [
    "#To remove outilers suppressing the higher values\n",
    "df_dmg['No of months in current company']=df_dmg['No of months in current company'].map(lambda x:100 if x>100 else x)"
   ]
  },
  {
   "cell_type": "code",
   "execution_count": 13,
   "metadata": {},
   "outputs": [
    {
     "data": {
      "text/plain": [
       "<matplotlib.axes._subplots.AxesSubplot at 0x1cb625c39b0>"
      ]
     },
     "execution_count": 13,
     "metadata": {},
     "output_type": "execute_result"
    },
    {
     "data": {
      "image/png": "[encoded data removed]",
      "text/plain": [
       "<Figure size 432x288 with 1 Axes>"
      ]
     },
     "metadata": {
      "needs_background": "light"
     },
     "output_type": "display_data"
    }
   ],
   "source": [
    "df_dmg['No of months in current company'].plot(kind='box')"
   ]
  },
  {
   "cell_type": "markdown",
   "metadata": {},
   "source": [
    "#### Categorical variables frequency analysis"
   ]
  },
  {
   "cell_type": "code",
   "execution_count": 14,
   "metadata": {},
   "outputs": [
    {
     "data": {
      "text/plain": [
       "Gender  Performance Tag\n",
       "F       0.0                15788\n",
       "        1.0                  718\n",
       "M       0.0                51132\n",
       "        1.0                 2230\n",
       "Name: Performance Tag, dtype: int64"
      ]
     },
     "execution_count": 14,
     "metadata": {},
     "output_type": "execute_result"
    }
   ],
   "source": [
    "#Gender frequency based on target variable\n",
    "df_dmg.groupby(['Gender','Performance Tag'])['Performance Tag'].count()"
   ]
  },
  {
   "cell_type": "code",
   "execution_count": 15,
   "metadata": {},
   "outputs": [
    {
     "data": {
      "text/plain": [
       "Marital_Status  Performance Tag\n",
       "Married         0.0                57044\n",
       "                1.0                 2503\n",
       "Single          0.0                 9872\n",
       "                1.0                  445\n",
       "Name: Performance Tag, dtype: int64"
      ]
     },
     "execution_count": 15,
     "metadata": {},
     "output_type": "execute_result"
    }
   ],
   "source": [
    "#Marital_Status frequency\n",
    "df_dmg.groupby(['Marital_Status','Performance Tag'])['Performance Tag'].count()"
   ]
  },
  {
   "cell_type": "code",
   "execution_count": 16,
   "metadata": {},
   "outputs": [
    {
     "data": {
      "text/plain": [
       "Education     Performance Tag\n",
       "Bachelor      0.0                16560\n",
       "              1.0                  742\n",
       "Masters       0.0                22483\n",
       "              1.0                  998\n",
       "Others        0.0                  111\n",
       "              1.0                    8\n",
       "Phd           0.0                 4280\n",
       "              1.0                  184\n",
       "Professional  0.0                23375\n",
       "              1.0                 1011\n",
       "Name: Performance Tag, dtype: int64"
      ]
     },
     "execution_count": 16,
     "metadata": {},
     "output_type": "execute_result"
    }
   ],
   "source": [
    "#Education Frequency\n",
    "df_dmg.groupby(['Education','Performance Tag'])['Performance Tag'].count()"
   ]
  },
  {
   "cell_type": "code",
   "execution_count": 17,
   "metadata": {},
   "outputs": [
    {
     "data": {
      "text/plain": [
       "Profession  Performance Tag\n",
       "SAL         0.0                38045\n",
       "            1.0                 1629\n",
       "SE          0.0                13285\n",
       "            1.0                  642\n",
       "SE_PROF     0.0                15579\n",
       "            1.0                  677\n",
       "Name: Performance Tag, dtype: int64"
      ]
     },
     "execution_count": 17,
     "metadata": {},
     "output_type": "execute_result"
    }
   ],
   "source": [
    "#Profession Frequency\n",
    "df_dmg.groupby(['Profession','Performance Tag'])['Performance Tag'].count()"
   ]
  },
  {
   "cell_type": "code",
   "execution_count": 18,
   "metadata": {},
   "outputs": [
    {
     "data": {
      "text/plain": [
       "Type of residence    Performance Tag\n",
       "Company provided     0.0                 1530\n",
       "                     1.0                   73\n",
       "Living with Parents  0.0                 1698\n",
       "                     1.0                   80\n",
       "Others               0.0                  193\n",
       "                     1.0                    5\n",
       "Owned                0.0                13410\n",
       "                     1.0                  593\n",
       "Rented               0.0                50083\n",
       "                     1.0                 2197\n",
       "Name: Performance Tag, dtype: int64"
      ]
     },
     "execution_count": 18,
     "metadata": {},
     "output_type": "execute_result"
    }
   ],
   "source": [
    "#Type of residence frequency\n",
    "df_dmg.groupby(['Type of residence','Performance Tag'])['Performance Tag'].count()"
   ]
  },
  {
   "cell_type": "markdown",
   "metadata": {},
   "source": [
    "#### Data Cleaning demographic data"
   ]
  },
  {
   "cell_type": "code",
   "execution_count": 19,
   "metadata": {},
   "outputs": [],
   "source": [
    "#Age cleansing as negative age is not possible\n",
    "df_dmg['Age']=df_dmg['Age'].map(lambda x:np.nan if x<=0 else x )"
   ]
  },
  {
   "cell_type": "code",
   "execution_count": 20,
   "metadata": {},
   "outputs": [
    {
     "data": {
      "text/plain": [
       "Application ID                          0\n",
       "Age                                    20\n",
       "Gender                                  2\n",
       "Marital_Status                          6\n",
       "No of dependents                        3\n",
       "Income                                  0\n",
       "Education                             119\n",
       "Profession                             14\n",
       "Type of residence                       8\n",
       "No of months in current residence       0\n",
       "No of months in current company         0\n",
       "Performance Tag                      1425\n",
       "dtype: int64"
      ]
     },
     "execution_count": 20,
     "metadata": {},
     "output_type": "execute_result"
    }
   ],
   "source": [
    "df_dmg.isnull().sum()"
   ]
  },
  {
   "cell_type": "code",
   "execution_count": 21,
   "metadata": {},
   "outputs": [
    {
     "data": {
      "text/html": [
       "<div>\n",
       "<style scoped>\n",
       "    .dataframe tbody tr th:only-of-type {\n",
       "        vertical-align: middle;\n",
       "    }\n",
       "\n",
       "    .dataframe tbody tr th {\n",
       "        vertical-align: top;\n",
       "    }\n",
       "\n",
       "    .dataframe thead th {\n",
       "        text-align: right;\n",
       "    }\n",
       "</style>\n",
       "<table border=\"1\" class=\"dataframe\">\n",
       "  <thead>\n",
       "    <tr style=\"text-align: right;\">\n",
       "      <th></th>\n",
       "      <th>Application ID</th>\n",
       "      <th>Age</th>\n",
       "      <th>Gender</th>\n",
       "      <th>Marital_Status</th>\n",
       "      <th>No of dependents</th>\n",
       "      <th>Income</th>\n",
       "      <th>Education</th>\n",
       "      <th>Profession</th>\n",
       "      <th>Type of residence</th>\n",
       "      <th>No of months in current residence</th>\n",
       "      <th>No of months in current company</th>\n",
       "      <th>Performance Tag</th>\n",
       "    </tr>\n",
       "  </thead>\n",
       "  <tbody>\n",
       "    <tr>\n",
       "      <th>6380</th>\n",
       "      <td>109442654</td>\n",
       "      <td>38.0</td>\n",
       "      <td>M</td>\n",
       "      <td>NaN</td>\n",
       "      <td>2.0</td>\n",
       "      <td>24.0</td>\n",
       "      <td>Professional</td>\n",
       "      <td>SAL</td>\n",
       "      <td>Company provided</td>\n",
       "      <td>117</td>\n",
       "      <td>3</td>\n",
       "      <td>0.0</td>\n",
       "    </tr>\n",
       "    <tr>\n",
       "      <th>35519</th>\n",
       "      <td>30223535</td>\n",
       "      <td>43.0</td>\n",
       "      <td>F</td>\n",
       "      <td>NaN</td>\n",
       "      <td>3.0</td>\n",
       "      <td>41.0</td>\n",
       "      <td>Masters</td>\n",
       "      <td>SE_PROF</td>\n",
       "      <td>Rented</td>\n",
       "      <td>6</td>\n",
       "      <td>12</td>\n",
       "      <td>0.0</td>\n",
       "    </tr>\n",
       "    <tr>\n",
       "      <th>48404</th>\n",
       "      <td>930789432</td>\n",
       "      <td>47.0</td>\n",
       "      <td>F</td>\n",
       "      <td>NaN</td>\n",
       "      <td>5.0</td>\n",
       "      <td>8.0</td>\n",
       "      <td>Masters</td>\n",
       "      <td>SAL</td>\n",
       "      <td>Owned</td>\n",
       "      <td>23</td>\n",
       "      <td>59</td>\n",
       "      <td>0.0</td>\n",
       "    </tr>\n",
       "    <tr>\n",
       "      <th>50734</th>\n",
       "      <td>822575718</td>\n",
       "      <td>35.0</td>\n",
       "      <td>M</td>\n",
       "      <td>NaN</td>\n",
       "      <td>4.0</td>\n",
       "      <td>20.0</td>\n",
       "      <td>Bachelor</td>\n",
       "      <td>SAL</td>\n",
       "      <td>Rented</td>\n",
       "      <td>59</td>\n",
       "      <td>20</td>\n",
       "      <td>0.0</td>\n",
       "    </tr>\n",
       "    <tr>\n",
       "      <th>59295</th>\n",
       "      <td>355703957</td>\n",
       "      <td>48.0</td>\n",
       "      <td>M</td>\n",
       "      <td>NaN</td>\n",
       "      <td>1.0</td>\n",
       "      <td>4.5</td>\n",
       "      <td>Bachelor</td>\n",
       "      <td>SAL</td>\n",
       "      <td>Owned</td>\n",
       "      <td>14</td>\n",
       "      <td>26</td>\n",
       "      <td>0.0</td>\n",
       "    </tr>\n",
       "    <tr>\n",
       "      <th>68043</th>\n",
       "      <td>852875477</td>\n",
       "      <td>NaN</td>\n",
       "      <td>M</td>\n",
       "      <td>NaN</td>\n",
       "      <td>1.0</td>\n",
       "      <td>5.0</td>\n",
       "      <td>Phd</td>\n",
       "      <td>NaN</td>\n",
       "      <td>Owned</td>\n",
       "      <td>14</td>\n",
       "      <td>31</td>\n",
       "      <td>0.0</td>\n",
       "    </tr>\n",
       "  </tbody>\n",
       "</table>\n",
       "</div>"
      ],
      "text/plain": [
       "       Application ID   Age Gender Marital_Status  No of dependents  Income  \\\n",
       "6380        109442654  38.0      M            NaN               2.0    24.0   \n",
       "35519        30223535  43.0      F            NaN               3.0    41.0   \n",
       "48404       930789432  47.0      F            NaN               5.0     8.0   \n",
       "50734       822575718  35.0      M            NaN               4.0    20.0   \n",
       "59295       355703957  48.0      M            NaN               1.0     4.5   \n",
       "68043       852875477   NaN      M            NaN               1.0     5.0   \n",
       "\n",
       "          Education Profession Type of residence  \\\n",
       "6380   Professional        SAL  Company provided   \n",
       "35519       Masters    SE_PROF            Rented   \n",
       "48404       Masters        SAL             Owned   \n",
       "50734      Bachelor        SAL            Rented   \n",
       "59295      Bachelor        SAL             Owned   \n",
       "68043           Phd        NaN             Owned   \n",
       "\n",
       "       No of months in current residence  No of months in current company  \\\n",
       "6380                                 117                                3   \n",
       "35519                                  6                               12   \n",
       "48404                                 23                               59   \n",
       "50734                                 59                               20   \n",
       "59295                                 14                               26   \n",
       "68043                                 14                               31   \n",
       "\n",
       "       Performance Tag  \n",
       "6380               0.0  \n",
       "35519              0.0  \n",
       "48404              0.0  \n",
       "50734              0.0  \n",
       "59295              0.0  \n",
       "68043              0.0  "
      ]
     },
     "execution_count": 21,
     "metadata": {},
     "output_type": "execute_result"
    }
   ],
   "source": [
    "df_dmg[df_dmg['Marital_Status'].isnull()]"
   ]
  },
  {
   "cell_type": "code",
   "execution_count": 22,
   "metadata": {},
   "outputs": [],
   "source": [
    "#Filtering the records which have performance tage as null\n",
    "df_dmg=df_dmg[df_dmg['Performance Tag'].notnull()]"
   ]
  },
  {
   "cell_type": "code",
   "execution_count": 23,
   "metadata": {},
   "outputs": [
    {
     "data": {
      "text/plain": [
       "Application ID                         0\n",
       "Age                                   20\n",
       "Gender                                 2\n",
       "Marital_Status                         6\n",
       "No of dependents                       3\n",
       "Income                                 0\n",
       "Education                            118\n",
       "Profession                            13\n",
       "Type of residence                      8\n",
       "No of months in current residence      0\n",
       "No of months in current company        0\n",
       "Performance Tag                        0\n",
       "dtype: int64"
      ]
     },
     "execution_count": 23,
     "metadata": {},
     "output_type": "execute_result"
    }
   ],
   "source": [
    "# Null count column wise\n",
    "df_dmg.isnull().sum()"
   ]
  },
  {
   "cell_type": "code",
   "execution_count": 28,
   "metadata": {},
   "outputs": [
    {
     "data": {
      "text/plain": [
       "<matplotlib.axes._subplots.AxesSubplot at 0x7f7cb5aee860>"
      ]
     },
     "execution_count": 28,
     "metadata": {},
     "output_type": "execute_result"
    },
    {
     "data": {
      "image/png": "[encoded data removed]",
      "text/plain": [
       "<Figure size 432x288 with 1 Axes>"
      ]
     },
     "metadata": {
      "needs_background": "light"
     },
     "output_type": "display_data"
    }
   ],
   "source": [
    "#Hist plot for Age\n",
    "df_dmg['Age'].plot(kind='hist')"
   ]
  },
  {
   "cell_type": "code",
   "execution_count": 24,
   "metadata": {},
   "outputs": [
    {
     "name": "stdout",
     "output_type": "stream",
     "text": [
      "mean 45.00850393700787\n",
      "median 45.0\n"
     ]
    }
   ],
   "source": [
    "#Calculating mean and median for age column\n",
    "print('mean',df_dmg['Age'].mean())\n",
    "print('median',df_dmg['Age'].median())"
   ]
  },
  {
   "cell_type": "code",
   "execution_count": 25,
   "metadata": {},
   "outputs": [],
   "source": [
    "# Substituting nulls with mean for age column\n",
    "df_dmg['Age']=df_dmg['Age'].map(lambda x:45 if (np.isnan(x)) else x )"
   ]
  },
  {
   "cell_type": "code",
   "execution_count": 26,
   "metadata": {},
   "outputs": [
    {
     "name": "stdout",
     "output_type": "stream",
     "text": [
      "mean 2.8595617387321624\n",
      "median 3.0\n"
     ]
    }
   ],
   "source": [
    "#Calculating mean and median for No of dependents column\n",
    "print('mean',df_dmg['No of dependents'].mean())\n",
    "print('median',df_dmg['No of dependents'].median())"
   ]
  },
  {
   "cell_type": "code",
   "execution_count": 27,
   "metadata": {},
   "outputs": [],
   "source": [
    "# Substituting the highest mode value for nulls in gender variable\n",
    "df_dmg['Gender']=df_dmg['Gender'].map(lambda x:'M' if pd.isnull(x) else x )\n",
    "df_dmg['Marital_Status']=df_dmg['Marital_Status'].map(\n",
    "    lambda x:'Married' if pd.isnull(x) else x )"
   ]
  },
  {
   "cell_type": "code",
   "execution_count": 28,
   "metadata": {},
   "outputs": [],
   "source": [
    "## Substituting nulls with mean for No of dependents column\n",
    "df_dmg['No of dependents']=df_dmg['No of dependents'].map(lambda x:3 if (np.isnan(x)) else x )"
   ]
  },
  {
   "cell_type": "code",
   "execution_count": 29,
   "metadata": {},
   "outputs": [],
   "source": [
    "#Creating a new level for nulls in the below variables\n",
    "df_dmg['Education']=df_dmg['Education'].map(lambda x:'Others' if pd.isnull(x) else x )\n",
    "df_dmg['Profession']=df_dmg['Profession'].map(lambda x:'Other' if pd.isnull(x) else x )\n",
    "df_dmg['Type of residence']=df_dmg['Type of residence'].map(lambda x:'Others' if pd.isnull(x) else x )"
   ]
  },
  {
   "cell_type": "code",
   "execution_count": 35,
   "metadata": {},
   "outputs": [
    {
     "data": {
      "text/html": [
       "<div>\n",
       "<style scoped>\n",
       "    .dataframe tbody tr th:only-of-type {\n",
       "        vertical-align: middle;\n",
       "    }\n",
       "\n",
       "    .dataframe tbody tr th {\n",
       "        vertical-align: top;\n",
       "    }\n",
       "\n",
       "    .dataframe thead th {\n",
       "        text-align: right;\n",
       "    }\n",
       "</style>\n",
       "<table border=\"1\" class=\"dataframe\">\n",
       "  <thead>\n",
       "    <tr style=\"text-align: right;\">\n",
       "      <th></th>\n",
       "      <th>Application ID</th>\n",
       "      <th>Age</th>\n",
       "      <th>Gender</th>\n",
       "      <th>Marital_Status</th>\n",
       "      <th>No of dependents</th>\n",
       "      <th>Income</th>\n",
       "      <th>Education</th>\n",
       "      <th>Profession</th>\n",
       "      <th>Type of residence</th>\n",
       "      <th>No of months in current residence</th>\n",
       "      <th>No of months in current company</th>\n",
       "      <th>Performance Tag</th>\n",
       "    </tr>\n",
       "  </thead>\n",
       "  <tbody>\n",
       "    <tr>\n",
       "      <th>0</th>\n",
       "      <td>954457215</td>\n",
       "      <td>48.0</td>\n",
       "      <td>F</td>\n",
       "      <td>Married</td>\n",
       "      <td>2.0</td>\n",
       "      <td>40.0</td>\n",
       "      <td>Bachelor</td>\n",
       "      <td>SAL</td>\n",
       "      <td>Rented</td>\n",
       "      <td>113</td>\n",
       "      <td>56</td>\n",
       "      <td>0.0</td>\n",
       "    </tr>\n",
       "    <tr>\n",
       "      <th>1</th>\n",
       "      <td>432830445</td>\n",
       "      <td>31.0</td>\n",
       "      <td>M</td>\n",
       "      <td>Married</td>\n",
       "      <td>4.0</td>\n",
       "      <td>55.0</td>\n",
       "      <td>Professional</td>\n",
       "      <td>SE_PROF</td>\n",
       "      <td>Rented</td>\n",
       "      <td>112</td>\n",
       "      <td>46</td>\n",
       "      <td>0.0</td>\n",
       "    </tr>\n",
       "    <tr>\n",
       "      <th>2</th>\n",
       "      <td>941387308</td>\n",
       "      <td>32.0</td>\n",
       "      <td>M</td>\n",
       "      <td>Single</td>\n",
       "      <td>2.0</td>\n",
       "      <td>46.0</td>\n",
       "      <td>Bachelor</td>\n",
       "      <td>SE_PROF</td>\n",
       "      <td>Rented</td>\n",
       "      <td>104</td>\n",
       "      <td>49</td>\n",
       "      <td>0.0</td>\n",
       "    </tr>\n",
       "    <tr>\n",
       "      <th>3</th>\n",
       "      <td>392161677</td>\n",
       "      <td>43.0</td>\n",
       "      <td>M</td>\n",
       "      <td>Married</td>\n",
       "      <td>1.0</td>\n",
       "      <td>53.0</td>\n",
       "      <td>Bachelor</td>\n",
       "      <td>SE</td>\n",
       "      <td>Rented</td>\n",
       "      <td>94</td>\n",
       "      <td>53</td>\n",
       "      <td>0.0</td>\n",
       "    </tr>\n",
       "    <tr>\n",
       "      <th>4</th>\n",
       "      <td>182011211</td>\n",
       "      <td>35.0</td>\n",
       "      <td>F</td>\n",
       "      <td>Married</td>\n",
       "      <td>5.0</td>\n",
       "      <td>44.0</td>\n",
       "      <td>Professional</td>\n",
       "      <td>SAL</td>\n",
       "      <td>Rented</td>\n",
       "      <td>112</td>\n",
       "      <td>43</td>\n",
       "      <td>0.0</td>\n",
       "    </tr>\n",
       "  </tbody>\n",
       "</table>\n",
       "</div>"
      ],
      "text/plain": [
       "   Application ID   Age Gender Marital_Status  No of dependents  Income  \\\n",
       "0       954457215  48.0      F        Married               2.0    40.0   \n",
       "1       432830445  31.0      M        Married               4.0    55.0   \n",
       "2       941387308  32.0      M         Single               2.0    46.0   \n",
       "3       392161677  43.0      M        Married               1.0    53.0   \n",
       "4       182011211  35.0      F        Married               5.0    44.0   \n",
       "\n",
       "      Education Profession Type of residence  \\\n",
       "0      Bachelor        SAL            Rented   \n",
       "1  Professional    SE_PROF            Rented   \n",
       "2      Bachelor    SE_PROF            Rented   \n",
       "3      Bachelor         SE            Rented   \n",
       "4  Professional        SAL            Rented   \n",
       "\n",
       "   No of months in current residence  No of months in current company  \\\n",
       "0                                113                               56   \n",
       "1                                112                               46   \n",
       "2                                104                               49   \n",
       "3                                 94                               53   \n",
       "4                                112                               43   \n",
       "\n",
       "   Performance Tag  \n",
       "0              0.0  \n",
       "1              0.0  \n",
       "2              0.0  \n",
       "3              0.0  \n",
       "4              0.0  "
      ]
     },
     "execution_count": 35,
     "metadata": {},
     "output_type": "execute_result"
    }
   ],
   "source": [
    "df_dmg.head()"
   ]
  },
  {
   "cell_type": "markdown",
   "metadata": {},
   "source": [
    "#### Credit Bureau data Analysis"
   ]
  },
  {
   "cell_type": "code",
   "execution_count": 30,
   "metadata": {},
   "outputs": [
    {
     "data": {
      "text/plain": [
       "Application ID                                                        0\n",
       "No of times 90 DPD or worse in last 6 months                          0\n",
       "No of times 60 DPD or worse in last 6 months                          0\n",
       "No of times 30 DPD or worse in last 6 months                          0\n",
       "No of times 90 DPD or worse in last 12 months                         0\n",
       "No of times 60 DPD or worse in last 12 months                         0\n",
       "No of times 30 DPD or worse in last 12 months                         0\n",
       "Avgas CC Utilization in last 12 months                             1058\n",
       "No of trades opened in last 6 months                                  1\n",
       "No of trades opened in last 12 months                                 0\n",
       "No of PL trades opened in last 6 months                               0\n",
       "No of PL trades opened in last 12 months                              0\n",
       "No of Inquiries in last 6 months (excluding home & auto loans)        0\n",
       "No of Inquiries in last 12 months (excluding home & auto loans)       0\n",
       "Presence of open home loan                                          272\n",
       "Outstanding Balance                                                 272\n",
       "Total No of Trades                                                    0\n",
       "Presence of open auto loan                                            0\n",
       "Performance Tag                                                    1425\n",
       "dtype: int64"
      ]
     },
     "execution_count": 30,
     "metadata": {},
     "output_type": "execute_result"
    }
   ],
   "source": [
    "# Calculating null values in each column\n",
    "crt_br.isnull().sum()"
   ]
  },
  {
   "cell_type": "markdown",
   "metadata": {},
   "source": [
    "#### Performing EDA"
   ]
  },
  {
   "cell_type": "markdown",
   "metadata": {},
   "source": [
    "#### Using boxplot and solving the outliers issue"
   ]
  },
  {
   "cell_type": "code",
   "execution_count": 31,
   "metadata": {},
   "outputs": [
    {
     "data": {
      "image/png": "[encoded data removed]",
      "text/plain": [
       "<Figure size 432x288 with 1 Axes>"
      ]
     },
     "metadata": {
      "needs_background": "light"
     },
     "output_type": "display_data"
    }
   ],
   "source": [
    "#Boxplot for Avgas CC Utilization in last 12 months\n",
    "sns.boxplot(x='Avgas CC Utilization in last 12 months', data=crt_br)\n",
    "plt.show()"
   ]
  },
  {
   "cell_type": "code",
   "execution_count": 32,
   "metadata": {},
   "outputs": [],
   "source": [
    "#Suppressing the high values to solve the outlier issue\n",
    "crt_br['Avgas CC Utilization in last 12 months'][crt_br['Avgas CC Utilization in last 12 months']>104]=104"
   ]
  },
  {
   "cell_type": "code",
   "execution_count": 33,
   "metadata": {},
   "outputs": [
    {
     "data": {
      "image/png": "[encoded data removed]",
      "text/plain": [
       "<Figure size 432x288 with 1 Axes>"
      ]
     },
     "metadata": {
      "needs_background": "light"
     },
     "output_type": "display_data"
    }
   ],
   "source": [
    "#Box plot for Outstanding Balance\n",
    "sns.boxplot(x='Outstanding Balance', data=crt_br)\n",
    "plt.show()"
   ]
  },
  {
   "cell_type": "code",
   "execution_count": 34,
   "metadata": {},
   "outputs": [
    {
     "data": {
      "image/png": "[encoded data removed]",
      "text/plain": [
       "<Figure size 432x288 with 1 Axes>"
      ]
     },
     "metadata": {
      "needs_background": "light"
     },
     "output_type": "display_data"
    }
   ],
   "source": [
    "#Total No of Trades\n",
    "sns.boxplot(x='Total No of Trades', data=crt_br)\n",
    "plt.show()"
   ]
  },
  {
   "cell_type": "code",
   "execution_count": 35,
   "metadata": {},
   "outputs": [],
   "source": [
    "#Suppressing the outliers\n",
    "crt_br['Total No of Trades'][crt_br['Total No of Trades']>22]=22"
   ]
  },
  {
   "cell_type": "code",
   "execution_count": 36,
   "metadata": {},
   "outputs": [],
   "source": [
    "# Drop rows where performance tag value is null\n",
    "\n",
    "crd_buro=crt_br[crt_br['Performance Tag'].notnull() ]\n"
   ]
  },
  {
   "cell_type": "code",
   "execution_count": 37,
   "metadata": {},
   "outputs": [
    {
     "data": {
      "text/plain": [
       "Application ID                                                        0\n",
       "No of times 90 DPD or worse in last 6 months                          0\n",
       "No of times 60 DPD or worse in last 6 months                          0\n",
       "No of times 30 DPD or worse in last 6 months                          0\n",
       "No of times 90 DPD or worse in last 12 months                         0\n",
       "No of times 60 DPD or worse in last 12 months                         0\n",
       "No of times 30 DPD or worse in last 12 months                         0\n",
       "Avgas CC Utilization in last 12 months                             1023\n",
       "No of trades opened in last 6 months                                  1\n",
       "No of trades opened in last 12 months                                 0\n",
       "No of PL trades opened in last 6 months                               0\n",
       "No of PL trades opened in last 12 months                              0\n",
       "No of Inquiries in last 6 months (excluding home & auto loans)        0\n",
       "No of Inquiries in last 12 months (excluding home & auto loans)       0\n",
       "Presence of open home loan                                          272\n",
       "Outstanding Balance                                                 272\n",
       "Total No of Trades                                                    0\n",
       "Presence of open auto loan                                            0\n",
       "Performance Tag                                                       0\n",
       "dtype: int64"
      ]
     },
     "execution_count": 37,
     "metadata": {},
     "output_type": "execute_result"
    }
   ],
   "source": [
    "crd_buro.isnull().sum()"
   ]
  },
  {
   "cell_type": "code",
   "execution_count": 38,
   "metadata": {
    "scrolled": true
   },
   "outputs": [
    {
     "data": {
      "text/html": [
       "<div>\n",
       "<style scoped>\n",
       "    .dataframe tbody tr th:only-of-type {\n",
       "        vertical-align: middle;\n",
       "    }\n",
       "\n",
       "    .dataframe tbody tr th {\n",
       "        vertical-align: top;\n",
       "    }\n",
       "\n",
       "    .dataframe thead th {\n",
       "        text-align: right;\n",
       "    }\n",
       "</style>\n",
       "<table border=\"1\" class=\"dataframe\">\n",
       "  <thead>\n",
       "    <tr style=\"text-align: right;\">\n",
       "      <th></th>\n",
       "      <th>Application ID</th>\n",
       "      <th>No of times 90 DPD or worse in last 6 months</th>\n",
       "      <th>No of times 60 DPD or worse in last 6 months</th>\n",
       "      <th>No of times 30 DPD or worse in last 6 months</th>\n",
       "      <th>No of times 90 DPD or worse in last 12 months</th>\n",
       "      <th>No of times 60 DPD or worse in last 12 months</th>\n",
       "      <th>No of times 30 DPD or worse in last 12 months</th>\n",
       "      <th>Avgas CC Utilization in last 12 months</th>\n",
       "      <th>No of trades opened in last 6 months</th>\n",
       "      <th>No of trades opened in last 12 months</th>\n",
       "      <th>No of PL trades opened in last 6 months</th>\n",
       "      <th>No of PL trades opened in last 12 months</th>\n",
       "      <th>No of Inquiries in last 6 months (excluding home &amp; auto loans)</th>\n",
       "      <th>No of Inquiries in last 12 months (excluding home &amp; auto loans)</th>\n",
       "      <th>Presence of open home loan</th>\n",
       "      <th>Outstanding Balance</th>\n",
       "      <th>Total No of Trades</th>\n",
       "      <th>Presence of open auto loan</th>\n",
       "      <th>Performance Tag</th>\n",
       "    </tr>\n",
       "  </thead>\n",
       "  <tbody>\n",
       "    <tr>\n",
       "      <th>0</th>\n",
       "      <td>954457215</td>\n",
       "      <td>0</td>\n",
       "      <td>0</td>\n",
       "      <td>0</td>\n",
       "      <td>0</td>\n",
       "      <td>0</td>\n",
       "      <td>0</td>\n",
       "      <td>4.0</td>\n",
       "      <td>1.0</td>\n",
       "      <td>2</td>\n",
       "      <td>0</td>\n",
       "      <td>0</td>\n",
       "      <td>0</td>\n",
       "      <td>0</td>\n",
       "      <td>1.0</td>\n",
       "      <td>2999395.0</td>\n",
       "      <td>4</td>\n",
       "      <td>0</td>\n",
       "      <td>0.0</td>\n",
       "    </tr>\n",
       "    <tr>\n",
       "      <th>1</th>\n",
       "      <td>432830445</td>\n",
       "      <td>0</td>\n",
       "      <td>0</td>\n",
       "      <td>0</td>\n",
       "      <td>0</td>\n",
       "      <td>0</td>\n",
       "      <td>0</td>\n",
       "      <td>3.0</td>\n",
       "      <td>1.0</td>\n",
       "      <td>2</td>\n",
       "      <td>0</td>\n",
       "      <td>0</td>\n",
       "      <td>0</td>\n",
       "      <td>0</td>\n",
       "      <td>0.0</td>\n",
       "      <td>3078.0</td>\n",
       "      <td>5</td>\n",
       "      <td>0</td>\n",
       "      <td>0.0</td>\n",
       "    </tr>\n",
       "    <tr>\n",
       "      <th>2</th>\n",
       "      <td>941387308</td>\n",
       "      <td>0</td>\n",
       "      <td>0</td>\n",
       "      <td>0</td>\n",
       "      <td>0</td>\n",
       "      <td>0</td>\n",
       "      <td>0</td>\n",
       "      <td>7.0</td>\n",
       "      <td>0.0</td>\n",
       "      <td>0</td>\n",
       "      <td>0</td>\n",
       "      <td>0</td>\n",
       "      <td>0</td>\n",
       "      <td>0</td>\n",
       "      <td>1.0</td>\n",
       "      <td>3004972.0</td>\n",
       "      <td>2</td>\n",
       "      <td>0</td>\n",
       "      <td>0.0</td>\n",
       "    </tr>\n",
       "    <tr>\n",
       "      <th>3</th>\n",
       "      <td>392161677</td>\n",
       "      <td>0</td>\n",
       "      <td>0</td>\n",
       "      <td>0</td>\n",
       "      <td>0</td>\n",
       "      <td>0</td>\n",
       "      <td>0</td>\n",
       "      <td>11.0</td>\n",
       "      <td>1.0</td>\n",
       "      <td>1</td>\n",
       "      <td>0</td>\n",
       "      <td>0</td>\n",
       "      <td>0</td>\n",
       "      <td>0</td>\n",
       "      <td>1.0</td>\n",
       "      <td>3355373.0</td>\n",
       "      <td>4</td>\n",
       "      <td>1</td>\n",
       "      <td>0.0</td>\n",
       "    </tr>\n",
       "    <tr>\n",
       "      <th>4</th>\n",
       "      <td>182011211</td>\n",
       "      <td>0</td>\n",
       "      <td>0</td>\n",
       "      <td>0</td>\n",
       "      <td>0</td>\n",
       "      <td>0</td>\n",
       "      <td>0</td>\n",
       "      <td>12.0</td>\n",
       "      <td>0.0</td>\n",
       "      <td>1</td>\n",
       "      <td>0</td>\n",
       "      <td>0</td>\n",
       "      <td>0</td>\n",
       "      <td>0</td>\n",
       "      <td>1.0</td>\n",
       "      <td>3014283.0</td>\n",
       "      <td>4</td>\n",
       "      <td>0</td>\n",
       "      <td>0.0</td>\n",
       "    </tr>\n",
       "  </tbody>\n",
       "</table>\n",
       "</div>"
      ],
      "text/plain": [
       "   Application ID  No of times 90 DPD or worse in last 6 months  \\\n",
       "0       954457215                                             0   \n",
       "1       432830445                                             0   \n",
       "2       941387308                                             0   \n",
       "3       392161677                                             0   \n",
       "4       182011211                                             0   \n",
       "\n",
       "   No of times 60 DPD or worse in last 6 months  \\\n",
       "0                                             0   \n",
       "1                                             0   \n",
       "2                                             0   \n",
       "3                                             0   \n",
       "4                                             0   \n",
       "\n",
       "   No of times 30 DPD or worse in last 6 months  \\\n",
       "0                                             0   \n",
       "1                                             0   \n",
       "2                                             0   \n",
       "3                                             0   \n",
       "4                                             0   \n",
       "\n",
       "   No of times 90 DPD or worse in last 12 months  \\\n",
       "0                                              0   \n",
       "1                                              0   \n",
       "2                                              0   \n",
       "3                                              0   \n",
       "4                                              0   \n",
       "\n",
       "   No of times 60 DPD or worse in last 12 months  \\\n",
       "0                                              0   \n",
       "1                                              0   \n",
       "2                                              0   \n",
       "3                                              0   \n",
       "4                                              0   \n",
       "\n",
       "   No of times 30 DPD or worse in last 12 months  \\\n",
       "0                                              0   \n",
       "1                                              0   \n",
       "2                                              0   \n",
       "3                                              0   \n",
       "4                                              0   \n",
       "\n",
       "   Avgas CC Utilization in last 12 months  \\\n",
       "0                                     4.0   \n",
       "1                                     3.0   \n",
       "2                                     7.0   \n",
       "3                                    11.0   \n",
       "4                                    12.0   \n",
       "\n",
       "   No of trades opened in last 6 months  \\\n",
       "0                                   1.0   \n",
       "1                                   1.0   \n",
       "2                                   0.0   \n",
       "3                                   1.0   \n",
       "4                                   0.0   \n",
       "\n",
       "   No of trades opened in last 12 months  \\\n",
       "0                                      2   \n",
       "1                                      2   \n",
       "2                                      0   \n",
       "3                                      1   \n",
       "4                                      1   \n",
       "\n",
       "   No of PL trades opened in last 6 months  \\\n",
       "0                                        0   \n",
       "1                                        0   \n",
       "2                                        0   \n",
       "3                                        0   \n",
       "4                                        0   \n",
       "\n",
       "   No of PL trades opened in last 12 months  \\\n",
       "0                                         0   \n",
       "1                                         0   \n",
       "2                                         0   \n",
       "3                                         0   \n",
       "4                                         0   \n",
       "\n",
       "   No of Inquiries in last 6 months (excluding home & auto loans)  \\\n",
       "0                                                  0                \n",
       "1                                                  0                \n",
       "2                                                  0                \n",
       "3                                                  0                \n",
       "4                                                  0                \n",
       "\n",
       "   No of Inquiries in last 12 months (excluding home & auto loans)  \\\n",
       "0                                                  0                 \n",
       "1                                                  0                 \n",
       "2                                                  0                 \n",
       "3                                                  0                 \n",
       "4                                                  0                 \n",
       "\n",
       "   Presence of open home loan  Outstanding Balance  Total No of Trades  \\\n",
       "0                         1.0            2999395.0                   4   \n",
       "1                         0.0               3078.0                   5   \n",
       "2                         1.0            3004972.0                   2   \n",
       "3                         1.0            3355373.0                   4   \n",
       "4                         1.0            3014283.0                   4   \n",
       "\n",
       "   Presence of open auto loan  Performance Tag  \n",
       "0                           0              0.0  \n",
       "1                           0              0.0  \n",
       "2                           0              0.0  \n",
       "3                           1              0.0  \n",
       "4                           0              0.0  "
      ]
     },
     "execution_count": 38,
     "metadata": {},
     "output_type": "execute_result"
    }
   ],
   "source": [
    "crd_buro.head()"
   ]
  },
  {
   "cell_type": "markdown",
   "metadata": {},
   "source": [
    "## Data Modelling with Demographic Data Set"
   ]
  },
  {
   "cell_type": "code",
   "execution_count": 45,
   "metadata": {},
   "outputs": [],
   "source": [
    "import sklearn\n",
    "from sklearn.model_selection import train_test_split\n",
    "import matplotlib.pyplot as plt\n",
    "import statsmodels.api as sm\n",
    "from sklearn.preprocessing import StandardScaler\n",
    "from sklearn.feature_selection import RFE\n",
    "from sklearn.linear_model import LogisticRegression\n",
    "from sklearn import metrics\n",
    "from sklearn.preprocessing import MinMaxScaler\n",
    "from statsmodels.stats.outliers_influence import variance_inflation_factor\n",
    "\n",
    "from xverse.transformer import WOE"
   ]
  },
  {
   "cell_type": "code",
   "execution_count": 46,
   "metadata": {},
   "outputs": [],
   "source": [
    "# Putting feature variable to X\n",
    "X = df_dmg.drop(['Performance Tag'],axis=1)\n",
    "X = X.drop(['Application ID'],axis=1)\n",
    "\n",
    "# Putting response variable to y\n",
    "y = df_dmg['Performance Tag']"
   ]
  },
  {
   "cell_type": "code",
   "execution_count": 47,
   "metadata": {},
   "outputs": [],
   "source": [
    "# Splitting the data into train and test\n",
    "X_train, X_test, y_train, y_test = train_test_split(X[X.columns],y, train_size=0.7,test_size=0.3,random_state=1000)"
   ]
  },
  {
   "cell_type": "code",
   "execution_count": 48,
   "metadata": {
    "scrolled": true
   },
   "outputs": [
    {
     "name": "stdout",
     "output_type": "stream",
     "text": [
      "48909\n",
      "48909\n",
      "20961\n",
      "20961\n"
     ]
    }
   ],
   "source": [
    "print(len(X_train))\n",
    "print(len(y_train))\n",
    "print(len(X_test))\n",
    "print(len(y_test))"
   ]
  },
  {
   "cell_type": "code",
   "execution_count": 49,
   "metadata": {},
   "outputs": [
    {
     "name": "stderr",
     "output_type": "stream",
     "text": [
      "/home/sam/anaconda3/lib/python3.7/site-packages/xverse/transformer/_woe.py:224: RuntimeWarning: divide by zero encountered in log\n",
      "  temp_woe['WOE'] = np.log(temp_woe['Event_Distribution']/temp_woe['Non_Event_Distribution'])\n"
     ]
    },
    {
     "data": {
      "text/plain": [
       "WOE(exclude_features=None, feature_names='all', mono_cardinality_cutoff=5,\n",
       "    mono_custom_binning={'Age': array([15., 40., 50., 65.]),\n",
       "                         'Income': array([-0.5, 18. , 35. , 60. ]),\n",
       "                         'No of dependents': array([1., 2., 3., 4., 5.]),\n",
       "                         'No of months in current company': array([  3.,  23.,  45., 100.]),\n",
       "                         'No of months in current residence': array([  6.,  43., 126.])},\n",
       "    mono_feature_names='all', mono_force_bins=3,...\n",
       "                                                    Interval(43.0, 126.0, closed='right'): 0.07334606788974084},\n",
       "              'Profession': {'Other': 0.0, 'SAL': -0.033904303776385966,\n",
       "                             'SE': 0.11120012505360347,\n",
       "                             'SE_PROF': -0.01838798361491523},\n",
       "              'Type of residence': {'Company provided': 0.05618204542716653,\n",
       "                                    'Living with Parents': 0.027688324639906968,\n",
       "                                    'Others': -0.41523434600315784,\n",
       "                                    'Owned': 0.028430754540902294,\n",
       "                                    'Rented': -0.009179306671475283}},\n",
       "    woe_prefix=None)"
      ]
     },
     "execution_count": 49,
     "metadata": {},
     "output_type": "execute_result"
    }
   ],
   "source": [
    "#Fitting WOE transformation to train data\n",
    "clf = WOE()\n",
    "clf.fit(X_train[X_train.columns], y_train)"
   ]
  },
  {
   "cell_type": "code",
   "execution_count": 50,
   "metadata": {
    "scrolled": true
   },
   "outputs": [
    {
     "data": {
      "text/plain": [
       "{'Age': {Interval(14.999, 40.0, closed='right'): 0.04800196851365128,\n",
       "  Interval(40.0, 50.0, closed='right'): -0.03180495592944252,\n",
       "  Interval(50.0, 65.0, closed='right'): -0.022295497714173728},\n",
       " 'Education': {'Bachelor': 0.032885811852124795,\n",
       "  'Masters': 0.006852110799291663,\n",
       "  'Others': 0.3767586691934203,\n",
       "  'Phd': -0.020076893580083608,\n",
       "  'Professional': -0.03155767101419418},\n",
       " 'Gender': {'F': 0.039355598539336276, 'M': -0.012475043962838986},\n",
       " 'Income': {Interval(-0.501, 18.0, closed='right'): 0.1970947326857041,\n",
       "  Interval(18.0, 35.0, closed='right'): -0.0004132862374339001,\n",
       "  Interval(35.0, 60.0, closed='right'): -0.24191040283246784},\n",
       " 'Marital_Status': {'Married': -0.0009984927471171172,\n",
       "  'Single': 0.005717955452654037},\n",
       " 'No of dependents': {1.0: 0.0675901288172587,\n",
       "  2.0: -0.10528355376000362,\n",
       "  3.0: 0.06859775949644505,\n",
       "  4.0: -0.016431487720409723,\n",
       "  5.0: -0.03983907100676524},\n",
       " 'No of months in current company': {Interval(2.999, 23.0, closed='right'): 0.17084443560171836,\n",
       "  Interval(23.0, 45.0, closed='right'): -0.08239068007939229,\n",
       "  Interval(45.0, 100.0, closed='right'): -0.12264629478252252},\n",
       " 'No of months in current residence': {Interval(5.999, 43.0, closed='right'): -0.03790922730782703,\n",
       "  Interval(43.0, 126.0, closed='right'): 0.07334606788974084},\n",
       " 'Profession': {'Other': 0.0,\n",
       "  'SAL': -0.033904303776385966,\n",
       "  'SE': 0.11120012505360347,\n",
       "  'SE_PROF': -0.01838798361491523},\n",
       " 'Type of residence': {'Company provided': 0.05618204542716653,\n",
       "  'Living with Parents': 0.027688324639906968,\n",
       "  'Others': -0.41523434600315784,\n",
       "  'Owned': 0.028430754540902294,\n",
       "  'Rented': -0.009179306671475283}}"
      ]
     },
     "execution_count": 50,
     "metadata": {},
     "output_type": "execute_result"
    }
   ],
   "source": [
    "clf.woe_bins"
   ]
  },
  {
   "cell_type": "code",
   "execution_count": 51,
   "metadata": {},
   "outputs": [],
   "source": [
    "#Applying WOE tranformation to train and test data\n",
    "df_train_woe=clf.transform(X_train)\n",
    "df_test_woe=clf.transform(X_test)"
   ]
  },
  {
   "cell_type": "code",
   "execution_count": 52,
   "metadata": {
    "scrolled": true
   },
   "outputs": [
    {
     "data": {
      "text/html": [
       "<div>\n",
       "<style scoped>\n",
       "    .dataframe tbody tr th:only-of-type {\n",
       "        vertical-align: middle;\n",
       "    }\n",
       "\n",
       "    .dataframe tbody tr th {\n",
       "        vertical-align: top;\n",
       "    }\n",
       "\n",
       "    .dataframe thead th {\n",
       "        text-align: right;\n",
       "    }\n",
       "</style>\n",
       "<table border=\"1\" class=\"dataframe\">\n",
       "  <thead>\n",
       "    <tr style=\"text-align: right;\">\n",
       "      <th></th>\n",
       "      <th>Variable_Name</th>\n",
       "      <th>Information_Value</th>\n",
       "    </tr>\n",
       "  </thead>\n",
       "  <tbody>\n",
       "    <tr>\n",
       "      <th>3</th>\n",
       "      <td>Income</td>\n",
       "      <td>0.031590</td>\n",
       "    </tr>\n",
       "    <tr>\n",
       "      <th>6</th>\n",
       "      <td>No of months in current company</td>\n",
       "      <td>0.017749</td>\n",
       "    </tr>\n",
       "    <tr>\n",
       "      <th>5</th>\n",
       "      <td>No of dependents</td>\n",
       "      <td>0.004705</td>\n",
       "    </tr>\n",
       "    <tr>\n",
       "      <th>8</th>\n",
       "      <td>Profession</td>\n",
       "      <td>0.003324</td>\n",
       "    </tr>\n",
       "    <tr>\n",
       "      <th>7</th>\n",
       "      <td>No of months in current residence</td>\n",
       "      <td>0.002780</td>\n",
       "    </tr>\n",
       "    <tr>\n",
       "      <th>0</th>\n",
       "      <td>Age</td>\n",
       "      <td>0.001316</td>\n",
       "    </tr>\n",
       "    <tr>\n",
       "      <th>1</th>\n",
       "      <td>Education</td>\n",
       "      <td>0.001224</td>\n",
       "    </tr>\n",
       "    <tr>\n",
       "      <th>9</th>\n",
       "      <td>Type of residence</td>\n",
       "      <td>0.000731</td>\n",
       "    </tr>\n",
       "    <tr>\n",
       "      <th>2</th>\n",
       "      <td>Gender</td>\n",
       "      <td>0.000491</td>\n",
       "    </tr>\n",
       "    <tr>\n",
       "      <th>4</th>\n",
       "      <td>Marital_Status</td>\n",
       "      <td>0.000006</td>\n",
       "    </tr>\n",
       "  </tbody>\n",
       "</table>\n",
       "</div>"
      ],
      "text/plain": [
       "                       Variable_Name  Information_Value\n",
       "3                             Income           0.031590\n",
       "6    No of months in current company           0.017749\n",
       "5                   No of dependents           0.004705\n",
       "8                         Profession           0.003324\n",
       "7  No of months in current residence           0.002780\n",
       "0                                Age           0.001316\n",
       "1                          Education           0.001224\n",
       "9                  Type of residence           0.000731\n",
       "2                             Gender           0.000491\n",
       "4                     Marital_Status           0.000006"
      ]
     },
     "execution_count": 52,
     "metadata": {},
     "output_type": "execute_result"
    }
   ],
   "source": [
    "#looking at the information value matrix of the variable\n",
    "clf.iv_df"
   ]
  },
  {
   "cell_type": "markdown",
   "metadata": {},
   "source": [
    "##### The variable that are least important are age,marital status and type of residance\n",
    "##### now lets look at the model based on these variable see the predictive power of demografic data"
   ]
  },
  {
   "cell_type": "code",
   "execution_count": 53,
   "metadata": {},
   "outputs": [],
   "source": [
    "X_train=df_train_woe"
   ]
  },
  {
   "cell_type": "code",
   "execution_count": 54,
   "metadata": {},
   "outputs": [
    {
     "data": {
      "text/html": [
       "<table class=\"simpletable\">\n",
       "<caption>Generalized Linear Model Regression Results</caption>\n",
       "<tr>\n",
       "  <th>Dep. Variable:</th>   <td>Performance Tag</td> <th>  No. Observations:  </th>  <td> 48909</td>  \n",
       "</tr>\n",
       "<tr>\n",
       "  <th>Model:</th>                 <td>GLM</td>       <th>  Df Residuals:      </th>  <td> 48898</td>  \n",
       "</tr>\n",
       "<tr>\n",
       "  <th>Model Family:</th>       <td>Binomial</td>     <th>  Df Model:          </th>  <td>    10</td>  \n",
       "</tr>\n",
       "<tr>\n",
       "  <th>Link Function:</th>        <td>logit</td>      <th>  Scale:             </th> <td>  1.0000</td> \n",
       "</tr>\n",
       "<tr>\n",
       "  <th>Method:</th>               <td>IRLS</td>       <th>  Log-Likelihood:    </th> <td> -8557.8</td> \n",
       "</tr>\n",
       "<tr>\n",
       "  <th>Date:</th>           <td>Mon, 13 Apr 2020</td> <th>  Deviance:          </th> <td>  17116.</td> \n",
       "</tr>\n",
       "<tr>\n",
       "  <th>Time:</th>               <td>21:23:21</td>     <th>  Pearson chi2:      </th> <td>4.89e+04</td> \n",
       "</tr>\n",
       "<tr>\n",
       "  <th>No. Iterations:</th>         <td>6</td>        <th>  Covariance Type:   </th> <td>nonrobust</td>\n",
       "</tr>\n",
       "</table>\n",
       "<table class=\"simpletable\">\n",
       "<tr>\n",
       "                  <td></td>                     <th>coef</th>     <th>std err</th>      <th>z</th>      <th>P>|z|</th>  <th>[0.025</th>    <th>0.975]</th>  \n",
       "</tr>\n",
       "<tr>\n",
       "  <th>const</th>                             <td>   -3.1113</td> <td>    0.023</td> <td> -137.928</td> <td> 0.000</td> <td>   -3.156</td> <td>   -3.067</td>\n",
       "</tr>\n",
       "<tr>\n",
       "  <th>Age</th>                               <td>    0.4837</td> <td>    0.635</td> <td>    0.761</td> <td> 0.447</td> <td>   -0.762</td> <td>    1.729</td>\n",
       "</tr>\n",
       "<tr>\n",
       "  <th>Gender</th>                            <td>    1.0499</td> <td>    1.005</td> <td>    1.044</td> <td> 0.296</td> <td>   -0.921</td> <td>    3.020</td>\n",
       "</tr>\n",
       "<tr>\n",
       "  <th>Marital_Status</th>                    <td>   -3.2149</td> <td>    9.602</td> <td>   -0.335</td> <td> 0.738</td> <td>  -22.035</td> <td>   15.605</td>\n",
       "</tr>\n",
       "<tr>\n",
       "  <th>No of dependents</th>                  <td>    0.9458</td> <td>    0.328</td> <td>    2.882</td> <td> 0.004</td> <td>    0.303</td> <td>    1.589</td>\n",
       "</tr>\n",
       "<tr>\n",
       "  <th>Income</th>                            <td>    1.0257</td> <td>    0.129</td> <td>    7.955</td> <td> 0.000</td> <td>    0.773</td> <td>    1.278</td>\n",
       "</tr>\n",
       "<tr>\n",
       "  <th>Education</th>                         <td>    0.9821</td> <td>    0.613</td> <td>    1.603</td> <td> 0.109</td> <td>   -0.219</td> <td>    2.183</td>\n",
       "</tr>\n",
       "<tr>\n",
       "  <th>Profession</th>                        <td>    1.0129</td> <td>    0.382</td> <td>    2.651</td> <td> 0.008</td> <td>    0.264</td> <td>    1.762</td>\n",
       "</tr>\n",
       "<tr>\n",
       "  <th>Type of residence</th>                 <td>    0.9616</td> <td>    0.874</td> <td>    1.100</td> <td> 0.271</td> <td>   -0.751</td> <td>    2.674</td>\n",
       "</tr>\n",
       "<tr>\n",
       "  <th>No of months in current residence</th> <td>    0.5128</td> <td>    0.425</td> <td>    1.208</td> <td> 0.227</td> <td>   -0.319</td> <td>    1.345</td>\n",
       "</tr>\n",
       "<tr>\n",
       "  <th>No of months in current company</th>   <td>    1.0836</td> <td>    0.167</td> <td>    6.497</td> <td> 0.000</td> <td>    0.757</td> <td>    1.411</td>\n",
       "</tr>\n",
       "</table>"
      ],
      "text/plain": [
       "<class 'statsmodels.iolib.summary.Summary'>\n",
       "\"\"\"\n",
       "                 Generalized Linear Model Regression Results                  \n",
       "==============================================================================\n",
       "Dep. Variable:        Performance Tag   No. Observations:                48909\n",
       "Model:                            GLM   Df Residuals:                    48898\n",
       "Model Family:                Binomial   Df Model:                           10\n",
       "Link Function:                  logit   Scale:                          1.0000\n",
       "Method:                          IRLS   Log-Likelihood:                -8557.8\n",
       "Date:                Mon, 13 Apr 2020   Deviance:                       17116.\n",
       "Time:                        21:23:21   Pearson chi2:                 4.89e+04\n",
       "No. Iterations:                     6   Covariance Type:             nonrobust\n",
       "=====================================================================================================\n",
       "                                        coef    std err          z      P>|z|      [0.025      0.975]\n",
       "-----------------------------------------------------------------------------------------------------\n",
       "const                                -3.1113      0.023   -137.928      0.000      -3.156      -3.067\n",
       "Age                                   0.4837      0.635      0.761      0.447      -0.762       1.729\n",
       "Gender                                1.0499      1.005      1.044      0.296      -0.921       3.020\n",
       "Marital_Status                       -3.2149      9.602     -0.335      0.738     -22.035      15.605\n",
       "No of dependents                      0.9458      0.328      2.882      0.004       0.303       1.589\n",
       "Income                                1.0257      0.129      7.955      0.000       0.773       1.278\n",
       "Education                             0.9821      0.613      1.603      0.109      -0.219       2.183\n",
       "Profession                            1.0129      0.382      2.651      0.008       0.264       1.762\n",
       "Type of residence                     0.9616      0.874      1.100      0.271      -0.751       2.674\n",
       "No of months in current residence     0.5128      0.425      1.208      0.227      -0.319       1.345\n",
       "No of months in current company       1.0836      0.167      6.497      0.000       0.757       1.411\n",
       "=====================================================================================================\n",
       "\"\"\""
      ]
     },
     "execution_count": 54,
     "metadata": {},
     "output_type": "execute_result"
    }
   ],
   "source": [
    "#looking at the p values of all the features in the model\n",
    "x_train=sm.add_constant(X_train[X_train.columns])\n",
    "reg_mod=sm.GLM(y_train,x_train,family=sm.families.Binomial(),class_weight='balanced')\n",
    "reg_mod.fit().summary()"
   ]
  },
  {
   "cell_type": "code",
   "execution_count": 55,
   "metadata": {},
   "outputs": [],
   "source": [
    "tar_cols=list(X_train.columns)"
   ]
  },
  {
   "cell_type": "code",
   "execution_count": 56,
   "metadata": {},
   "outputs": [
    {
     "data": {
      "text/html": [
       "<div>\n",
       "<style scoped>\n",
       "    .dataframe tbody tr th:only-of-type {\n",
       "        vertical-align: middle;\n",
       "    }\n",
       "\n",
       "    .dataframe tbody tr th {\n",
       "        vertical-align: top;\n",
       "    }\n",
       "\n",
       "    .dataframe thead th {\n",
       "        text-align: right;\n",
       "    }\n",
       "</style>\n",
       "<table border=\"1\" class=\"dataframe\">\n",
       "  <thead>\n",
       "    <tr style=\"text-align: right;\">\n",
       "      <th></th>\n",
       "      <th>Features</th>\n",
       "      <th>VIF</th>\n",
       "    </tr>\n",
       "  </thead>\n",
       "  <tbody>\n",
       "    <tr>\n",
       "      <th>0</th>\n",
       "      <td>Age</td>\n",
       "      <td>1.07</td>\n",
       "    </tr>\n",
       "    <tr>\n",
       "      <th>1</th>\n",
       "      <td>Gender</td>\n",
       "      <td>1.00</td>\n",
       "    </tr>\n",
       "    <tr>\n",
       "      <th>2</th>\n",
       "      <td>Marital_Status</td>\n",
       "      <td>1.05</td>\n",
       "    </tr>\n",
       "    <tr>\n",
       "      <th>3</th>\n",
       "      <td>No of dependents</td>\n",
       "      <td>1.00</td>\n",
       "    </tr>\n",
       "    <tr>\n",
       "      <th>4</th>\n",
       "      <td>Income</td>\n",
       "      <td>1.02</td>\n",
       "    </tr>\n",
       "    <tr>\n",
       "      <th>5</th>\n",
       "      <td>Education</td>\n",
       "      <td>1.00</td>\n",
       "    </tr>\n",
       "    <tr>\n",
       "      <th>6</th>\n",
       "      <td>Profession</td>\n",
       "      <td>1.00</td>\n",
       "    </tr>\n",
       "    <tr>\n",
       "      <th>7</th>\n",
       "      <td>Type of residence</td>\n",
       "      <td>1.00</td>\n",
       "    </tr>\n",
       "    <tr>\n",
       "      <th>8</th>\n",
       "      <td>No of months in current residence</td>\n",
       "      <td>1.01</td>\n",
       "    </tr>\n",
       "    <tr>\n",
       "      <th>9</th>\n",
       "      <td>No of months in current company</td>\n",
       "      <td>1.01</td>\n",
       "    </tr>\n",
       "  </tbody>\n",
       "</table>\n",
       "</div>"
      ],
      "text/plain": [
       "                            Features   VIF\n",
       "0                                Age  1.07\n",
       "1                             Gender  1.00\n",
       "2                     Marital_Status  1.05\n",
       "3                   No of dependents  1.00\n",
       "4                             Income  1.02\n",
       "5                          Education  1.00\n",
       "6                         Profession  1.00\n",
       "7                  Type of residence  1.00\n",
       "8  No of months in current residence  1.01\n",
       "9    No of months in current company  1.01"
      ]
     },
     "execution_count": 56,
     "metadata": {},
     "output_type": "execute_result"
    }
   ],
   "source": [
    "#looking at VIF of model \n",
    "vif=pd.DataFrame()\n",
    "vif['Features']=X_train[tar_cols].columns\n",
    "vif['VIF']=[variance_inflation_factor(X_train[tar_cols].values,i) for i in range(X_train[tar_cols].shape[1])]\n",
    "vif['VIF']=round(vif['VIF'],2)\n",
    "vif"
   ]
  },
  {
   "cell_type": "code",
   "execution_count": 57,
   "metadata": {},
   "outputs": [],
   "source": [
    "#Removing the Marital_Status due to high p value\n",
    "tar_cols=[x for x in tar_cols if x not in ['Marital_Status']]"
   ]
  },
  {
   "cell_type": "code",
   "execution_count": 58,
   "metadata": {},
   "outputs": [
    {
     "data": {
      "text/html": [
       "<div>\n",
       "<style scoped>\n",
       "    .dataframe tbody tr th:only-of-type {\n",
       "        vertical-align: middle;\n",
       "    }\n",
       "\n",
       "    .dataframe tbody tr th {\n",
       "        vertical-align: top;\n",
       "    }\n",
       "\n",
       "    .dataframe thead th {\n",
       "        text-align: right;\n",
       "    }\n",
       "</style>\n",
       "<table border=\"1\" class=\"dataframe\">\n",
       "  <thead>\n",
       "    <tr style=\"text-align: right;\">\n",
       "      <th></th>\n",
       "      <th>Features</th>\n",
       "      <th>VIF</th>\n",
       "    </tr>\n",
       "  </thead>\n",
       "  <tbody>\n",
       "    <tr>\n",
       "      <th>0</th>\n",
       "      <td>Age</td>\n",
       "      <td>1.02</td>\n",
       "    </tr>\n",
       "    <tr>\n",
       "      <th>1</th>\n",
       "      <td>Gender</td>\n",
       "      <td>1.00</td>\n",
       "    </tr>\n",
       "    <tr>\n",
       "      <th>2</th>\n",
       "      <td>No of dependents</td>\n",
       "      <td>1.00</td>\n",
       "    </tr>\n",
       "    <tr>\n",
       "      <th>3</th>\n",
       "      <td>Income</td>\n",
       "      <td>1.02</td>\n",
       "    </tr>\n",
       "    <tr>\n",
       "      <th>4</th>\n",
       "      <td>Education</td>\n",
       "      <td>1.00</td>\n",
       "    </tr>\n",
       "    <tr>\n",
       "      <th>5</th>\n",
       "      <td>Profession</td>\n",
       "      <td>1.00</td>\n",
       "    </tr>\n",
       "    <tr>\n",
       "      <th>6</th>\n",
       "      <td>Type of residence</td>\n",
       "      <td>1.00</td>\n",
       "    </tr>\n",
       "    <tr>\n",
       "      <th>7</th>\n",
       "      <td>No of months in current residence</td>\n",
       "      <td>1.01</td>\n",
       "    </tr>\n",
       "    <tr>\n",
       "      <th>8</th>\n",
       "      <td>No of months in current company</td>\n",
       "      <td>1.01</td>\n",
       "    </tr>\n",
       "  </tbody>\n",
       "</table>\n",
       "</div>"
      ],
      "text/plain": [
       "                            Features   VIF\n",
       "0                                Age  1.02\n",
       "1                             Gender  1.00\n",
       "2                   No of dependents  1.00\n",
       "3                             Income  1.02\n",
       "4                          Education  1.00\n",
       "5                         Profession  1.00\n",
       "6                  Type of residence  1.00\n",
       "7  No of months in current residence  1.01\n",
       "8    No of months in current company  1.01"
      ]
     },
     "execution_count": 58,
     "metadata": {},
     "output_type": "execute_result"
    }
   ],
   "source": [
    "#looking at VIF of model \n",
    "vif=pd.DataFrame()\n",
    "vif['Features']=X_train[tar_cols].columns\n",
    "vif['VIF']=[variance_inflation_factor(X_train[tar_cols].values,i) for i in range(X_train[tar_cols].shape[1])]\n",
    "vif['VIF']=round(vif['VIF'],2)\n",
    "vif"
   ]
  },
  {
   "cell_type": "code",
   "execution_count": 59,
   "metadata": {},
   "outputs": [
    {
     "data": {
      "text/html": [
       "<table class=\"simpletable\">\n",
       "<caption>Generalized Linear Model Regression Results</caption>\n",
       "<tr>\n",
       "  <th>Dep. Variable:</th>   <td>Performance Tag</td> <th>  No. Observations:  </th>  <td> 48909</td>  \n",
       "</tr>\n",
       "<tr>\n",
       "  <th>Model:</th>                 <td>GLM</td>       <th>  Df Residuals:      </th>  <td> 48899</td>  \n",
       "</tr>\n",
       "<tr>\n",
       "  <th>Model Family:</th>       <td>Binomial</td>     <th>  Df Model:          </th>  <td>     9</td>  \n",
       "</tr>\n",
       "<tr>\n",
       "  <th>Link Function:</th>        <td>logit</td>      <th>  Scale:             </th> <td>  1.0000</td> \n",
       "</tr>\n",
       "<tr>\n",
       "  <th>Method:</th>               <td>IRLS</td>       <th>  Log-Likelihood:    </th> <td> -8557.8</td> \n",
       "</tr>\n",
       "<tr>\n",
       "  <th>Date:</th>           <td>Mon, 13 Apr 2020</td> <th>  Deviance:          </th> <td>  17116.</td> \n",
       "</tr>\n",
       "<tr>\n",
       "  <th>Time:</th>               <td>21:23:50</td>     <th>  Pearson chi2:      </th> <td>4.89e+04</td> \n",
       "</tr>\n",
       "<tr>\n",
       "  <th>No. Iterations:</th>         <td>6</td>        <th>  Covariance Type:   </th> <td>nonrobust</td>\n",
       "</tr>\n",
       "</table>\n",
       "<table class=\"simpletable\">\n",
       "<tr>\n",
       "                  <td></td>                     <th>coef</th>     <th>std err</th>      <th>z</th>      <th>P>|z|</th>  <th>[0.025</th>    <th>0.975]</th>  \n",
       "</tr>\n",
       "<tr>\n",
       "  <th>const</th>                             <td>   -3.1113</td> <td>    0.023</td> <td> -137.929</td> <td> 0.000</td> <td>   -3.156</td> <td>   -3.067</td>\n",
       "</tr>\n",
       "<tr>\n",
       "  <th>Age</th>                               <td>    0.4377</td> <td>    0.621</td> <td>    0.705</td> <td> 0.481</td> <td>   -0.779</td> <td>    1.654</td>\n",
       "</tr>\n",
       "<tr>\n",
       "  <th>Gender</th>                            <td>    1.0479</td> <td>    1.005</td> <td>    1.042</td> <td> 0.297</td> <td>   -0.923</td> <td>    3.018</td>\n",
       "</tr>\n",
       "<tr>\n",
       "  <th>No of dependents</th>                  <td>    0.9445</td> <td>    0.328</td> <td>    2.879</td> <td> 0.004</td> <td>    0.301</td> <td>    1.587</td>\n",
       "</tr>\n",
       "<tr>\n",
       "  <th>Income</th>                            <td>    1.0254</td> <td>    0.129</td> <td>    7.953</td> <td> 0.000</td> <td>    0.773</td> <td>    1.278</td>\n",
       "</tr>\n",
       "<tr>\n",
       "  <th>Education</th>                         <td>    0.9827</td> <td>    0.613</td> <td>    1.604</td> <td> 0.109</td> <td>   -0.218</td> <td>    2.183</td>\n",
       "</tr>\n",
       "<tr>\n",
       "  <th>Profession</th>                        <td>    1.0128</td> <td>    0.382</td> <td>    2.650</td> <td> 0.008</td> <td>    0.264</td> <td>    1.762</td>\n",
       "</tr>\n",
       "<tr>\n",
       "  <th>Type of residence</th>                 <td>    0.9567</td> <td>    0.873</td> <td>    1.096</td> <td> 0.273</td> <td>   -0.755</td> <td>    2.668</td>\n",
       "</tr>\n",
       "<tr>\n",
       "  <th>No of months in current residence</th> <td>    0.5133</td> <td>    0.425</td> <td>    1.209</td> <td> 0.227</td> <td>   -0.319</td> <td>    1.345</td>\n",
       "</tr>\n",
       "<tr>\n",
       "  <th>No of months in current company</th>   <td>    1.0838</td> <td>    0.167</td> <td>    6.498</td> <td> 0.000</td> <td>    0.757</td> <td>    1.411</td>\n",
       "</tr>\n",
       "</table>"
      ],
      "text/plain": [
       "<class 'statsmodels.iolib.summary.Summary'>\n",
       "\"\"\"\n",
       "                 Generalized Linear Model Regression Results                  \n",
       "==============================================================================\n",
       "Dep. Variable:        Performance Tag   No. Observations:                48909\n",
       "Model:                            GLM   Df Residuals:                    48899\n",
       "Model Family:                Binomial   Df Model:                            9\n",
       "Link Function:                  logit   Scale:                          1.0000\n",
       "Method:                          IRLS   Log-Likelihood:                -8557.8\n",
       "Date:                Mon, 13 Apr 2020   Deviance:                       17116.\n",
       "Time:                        21:23:50   Pearson chi2:                 4.89e+04\n",
       "No. Iterations:                     6   Covariance Type:             nonrobust\n",
       "=====================================================================================================\n",
       "                                        coef    std err          z      P>|z|      [0.025      0.975]\n",
       "-----------------------------------------------------------------------------------------------------\n",
       "const                                -3.1113      0.023   -137.929      0.000      -3.156      -3.067\n",
       "Age                                   0.4377      0.621      0.705      0.481      -0.779       1.654\n",
       "Gender                                1.0479      1.005      1.042      0.297      -0.923       3.018\n",
       "No of dependents                      0.9445      0.328      2.879      0.004       0.301       1.587\n",
       "Income                                1.0254      0.129      7.953      0.000       0.773       1.278\n",
       "Education                             0.9827      0.613      1.604      0.109      -0.218       2.183\n",
       "Profession                            1.0128      0.382      2.650      0.008       0.264       1.762\n",
       "Type of residence                     0.9567      0.873      1.096      0.273      -0.755       2.668\n",
       "No of months in current residence     0.5133      0.425      1.209      0.227      -0.319       1.345\n",
       "No of months in current company       1.0838      0.167      6.498      0.000       0.757       1.411\n",
       "=====================================================================================================\n",
       "\"\"\""
      ]
     },
     "execution_count": 59,
     "metadata": {},
     "output_type": "execute_result"
    }
   ],
   "source": [
    "#looking at the p values of the remaining features in the model\n",
    "x_train=sm.add_constant(X_train[tar_cols])\n",
    "reg_mod=sm.GLM(y_train,x_train,family=sm.families.Binomial(),class_weigth='balanced')\n",
    "reg_mod.fit().summary()"
   ]
  },
  {
   "cell_type": "code",
   "execution_count": 60,
   "metadata": {},
   "outputs": [],
   "source": [
    "#Removing the Age due to high p value\n",
    "tar_cols=[x for x in tar_cols if x not in ['Age']]"
   ]
  },
  {
   "cell_type": "code",
   "execution_count": 61,
   "metadata": {},
   "outputs": [
    {
     "data": {
      "text/html": [
       "<table class=\"simpletable\">\n",
       "<caption>Generalized Linear Model Regression Results</caption>\n",
       "<tr>\n",
       "  <th>Dep. Variable:</th>   <td>Performance Tag</td> <th>  No. Observations:  </th>  <td> 48909</td>  \n",
       "</tr>\n",
       "<tr>\n",
       "  <th>Model:</th>                 <td>GLM</td>       <th>  Df Residuals:      </th>  <td> 48900</td>  \n",
       "</tr>\n",
       "<tr>\n",
       "  <th>Model Family:</th>       <td>Binomial</td>     <th>  Df Model:          </th>  <td>     8</td>  \n",
       "</tr>\n",
       "<tr>\n",
       "  <th>Link Function:</th>        <td>logit</td>      <th>  Scale:             </th> <td>  1.0000</td> \n",
       "</tr>\n",
       "<tr>\n",
       "  <th>Method:</th>               <td>IRLS</td>       <th>  Log-Likelihood:    </th> <td> -8558.1</td> \n",
       "</tr>\n",
       "<tr>\n",
       "  <th>Date:</th>           <td>Mon, 13 Apr 2020</td> <th>  Deviance:          </th> <td>  17116.</td> \n",
       "</tr>\n",
       "<tr>\n",
       "  <th>Time:</th>               <td>21:24:02</td>     <th>  Pearson chi2:      </th> <td>4.89e+04</td> \n",
       "</tr>\n",
       "<tr>\n",
       "  <th>No. Iterations:</th>         <td>6</td>        <th>  Covariance Type:   </th> <td>nonrobust</td>\n",
       "</tr>\n",
       "</table>\n",
       "<table class=\"simpletable\">\n",
       "<tr>\n",
       "                  <td></td>                     <th>coef</th>     <th>std err</th>      <th>z</th>      <th>P>|z|</th>  <th>[0.025</th>    <th>0.975]</th>  \n",
       "</tr>\n",
       "<tr>\n",
       "  <th>const</th>                             <td>   -3.1113</td> <td>    0.023</td> <td> -137.933</td> <td> 0.000</td> <td>   -3.156</td> <td>   -3.067</td>\n",
       "</tr>\n",
       "<tr>\n",
       "  <th>Gender</th>                            <td>    1.0442</td> <td>    1.005</td> <td>    1.039</td> <td> 0.299</td> <td>   -0.926</td> <td>    3.015</td>\n",
       "</tr>\n",
       "<tr>\n",
       "  <th>No of dependents</th>                  <td>    0.9552</td> <td>    0.328</td> <td>    2.912</td> <td> 0.004</td> <td>    0.312</td> <td>    1.598</td>\n",
       "</tr>\n",
       "<tr>\n",
       "  <th>Income</th>                            <td>    1.0339</td> <td>    0.128</td> <td>    8.057</td> <td> 0.000</td> <td>    0.782</td> <td>    1.285</td>\n",
       "</tr>\n",
       "<tr>\n",
       "  <th>Education</th>                         <td>    0.9878</td> <td>    0.613</td> <td>    1.612</td> <td> 0.107</td> <td>   -0.213</td> <td>    2.189</td>\n",
       "</tr>\n",
       "<tr>\n",
       "  <th>Profession</th>                        <td>    1.0106</td> <td>    0.382</td> <td>    2.645</td> <td> 0.008</td> <td>    0.262</td> <td>    1.760</td>\n",
       "</tr>\n",
       "<tr>\n",
       "  <th>Type of residence</th>                 <td>    0.9878</td> <td>    0.875</td> <td>    1.129</td> <td> 0.259</td> <td>   -0.727</td> <td>    2.702</td>\n",
       "</tr>\n",
       "<tr>\n",
       "  <th>No of months in current residence</th> <td>    0.5246</td> <td>    0.424</td> <td>    1.237</td> <td> 0.216</td> <td>   -0.307</td> <td>    1.356</td>\n",
       "</tr>\n",
       "<tr>\n",
       "  <th>No of months in current company</th>   <td>    1.0815</td> <td>    0.167</td> <td>    6.485</td> <td> 0.000</td> <td>    0.755</td> <td>    1.408</td>\n",
       "</tr>\n",
       "</table>"
      ],
      "text/plain": [
       "<class 'statsmodels.iolib.summary.Summary'>\n",
       "\"\"\"\n",
       "                 Generalized Linear Model Regression Results                  \n",
       "==============================================================================\n",
       "Dep. Variable:        Performance Tag   No. Observations:                48909\n",
       "Model:                            GLM   Df Residuals:                    48900\n",
       "Model Family:                Binomial   Df Model:                            8\n",
       "Link Function:                  logit   Scale:                          1.0000\n",
       "Method:                          IRLS   Log-Likelihood:                -8558.1\n",
       "Date:                Mon, 13 Apr 2020   Deviance:                       17116.\n",
       "Time:                        21:24:02   Pearson chi2:                 4.89e+04\n",
       "No. Iterations:                     6   Covariance Type:             nonrobust\n",
       "=====================================================================================================\n",
       "                                        coef    std err          z      P>|z|      [0.025      0.975]\n",
       "-----------------------------------------------------------------------------------------------------\n",
       "const                                -3.1113      0.023   -137.933      0.000      -3.156      -3.067\n",
       "Gender                                1.0442      1.005      1.039      0.299      -0.926       3.015\n",
       "No of dependents                      0.9552      0.328      2.912      0.004       0.312       1.598\n",
       "Income                                1.0339      0.128      8.057      0.000       0.782       1.285\n",
       "Education                             0.9878      0.613      1.612      0.107      -0.213       2.189\n",
       "Profession                            1.0106      0.382      2.645      0.008       0.262       1.760\n",
       "Type of residence                     0.9878      0.875      1.129      0.259      -0.727       2.702\n",
       "No of months in current residence     0.5246      0.424      1.237      0.216      -0.307       1.356\n",
       "No of months in current company       1.0815      0.167      6.485      0.000       0.755       1.408\n",
       "=====================================================================================================\n",
       "\"\"\""
      ]
     },
     "execution_count": 61,
     "metadata": {},
     "output_type": "execute_result"
    }
   ],
   "source": [
    "#looking at the p values of the remaining features in the model\n",
    "x_train=sm.add_constant(X_train[tar_cols])\n",
    "reg_mod=sm.GLM(y_train,x_train,family=sm.families.Binomial(),class_weigth='balanced')\n",
    "reg_mod.fit().summary()"
   ]
  },
  {
   "cell_type": "code",
   "execution_count": 62,
   "metadata": {},
   "outputs": [
    {
     "data": {
      "text/html": [
       "<div>\n",
       "<style scoped>\n",
       "    .dataframe tbody tr th:only-of-type {\n",
       "        vertical-align: middle;\n",
       "    }\n",
       "\n",
       "    .dataframe tbody tr th {\n",
       "        vertical-align: top;\n",
       "    }\n",
       "\n",
       "    .dataframe thead th {\n",
       "        text-align: right;\n",
       "    }\n",
       "</style>\n",
       "<table border=\"1\" class=\"dataframe\">\n",
       "  <thead>\n",
       "    <tr style=\"text-align: right;\">\n",
       "      <th></th>\n",
       "      <th>Features</th>\n",
       "      <th>VIF</th>\n",
       "    </tr>\n",
       "  </thead>\n",
       "  <tbody>\n",
       "    <tr>\n",
       "      <th>0</th>\n",
       "      <td>Gender</td>\n",
       "      <td>1.00</td>\n",
       "    </tr>\n",
       "    <tr>\n",
       "      <th>1</th>\n",
       "      <td>No of dependents</td>\n",
       "      <td>1.00</td>\n",
       "    </tr>\n",
       "    <tr>\n",
       "      <th>2</th>\n",
       "      <td>Income</td>\n",
       "      <td>1.01</td>\n",
       "    </tr>\n",
       "    <tr>\n",
       "      <th>3</th>\n",
       "      <td>Education</td>\n",
       "      <td>1.00</td>\n",
       "    </tr>\n",
       "    <tr>\n",
       "      <th>4</th>\n",
       "      <td>Profession</td>\n",
       "      <td>1.00</td>\n",
       "    </tr>\n",
       "    <tr>\n",
       "      <th>5</th>\n",
       "      <td>Type of residence</td>\n",
       "      <td>1.00</td>\n",
       "    </tr>\n",
       "    <tr>\n",
       "      <th>6</th>\n",
       "      <td>No of months in current residence</td>\n",
       "      <td>1.01</td>\n",
       "    </tr>\n",
       "    <tr>\n",
       "      <th>7</th>\n",
       "      <td>No of months in current company</td>\n",
       "      <td>1.01</td>\n",
       "    </tr>\n",
       "  </tbody>\n",
       "</table>\n",
       "</div>"
      ],
      "text/plain": [
       "                            Features   VIF\n",
       "0                             Gender  1.00\n",
       "1                   No of dependents  1.00\n",
       "2                             Income  1.01\n",
       "3                          Education  1.00\n",
       "4                         Profession  1.00\n",
       "5                  Type of residence  1.00\n",
       "6  No of months in current residence  1.01\n",
       "7    No of months in current company  1.01"
      ]
     },
     "execution_count": 62,
     "metadata": {},
     "output_type": "execute_result"
    }
   ],
   "source": [
    "#looking at VIF of model \n",
    "vif=pd.DataFrame()\n",
    "vif['Features']=X_train[tar_cols].columns\n",
    "vif['VIF']=[variance_inflation_factor(X_train[tar_cols].values,i) for i in range(X_train[tar_cols].shape[1])]\n",
    "vif['VIF']=round(vif['VIF'],2)\n",
    "vif"
   ]
  },
  {
   "cell_type": "code",
   "execution_count": 63,
   "metadata": {},
   "outputs": [],
   "source": [
    "#Removing the Gender due to high p value\n",
    "tar_cols=[x for x in tar_cols if x not in ['Gender']]"
   ]
  },
  {
   "cell_type": "code",
   "execution_count": 64,
   "metadata": {},
   "outputs": [
    {
     "data": {
      "text/html": [
       "<table class=\"simpletable\">\n",
       "<caption>Generalized Linear Model Regression Results</caption>\n",
       "<tr>\n",
       "  <th>Dep. Variable:</th>   <td>Performance Tag</td> <th>  No. Observations:  </th>  <td> 48909</td>  \n",
       "</tr>\n",
       "<tr>\n",
       "  <th>Model:</th>                 <td>GLM</td>       <th>  Df Residuals:      </th>  <td> 48901</td>  \n",
       "</tr>\n",
       "<tr>\n",
       "  <th>Model Family:</th>       <td>Binomial</td>     <th>  Df Model:          </th>  <td>     7</td>  \n",
       "</tr>\n",
       "<tr>\n",
       "  <th>Link Function:</th>        <td>logit</td>      <th>  Scale:             </th> <td>  1.0000</td> \n",
       "</tr>\n",
       "<tr>\n",
       "  <th>Method:</th>               <td>IRLS</td>       <th>  Log-Likelihood:    </th> <td> -8558.6</td> \n",
       "</tr>\n",
       "<tr>\n",
       "  <th>Date:</th>           <td>Mon, 13 Apr 2020</td> <th>  Deviance:          </th> <td>  17117.</td> \n",
       "</tr>\n",
       "<tr>\n",
       "  <th>Time:</th>               <td>21:24:15</td>     <th>  Pearson chi2:      </th> <td>4.89e+04</td> \n",
       "</tr>\n",
       "<tr>\n",
       "  <th>No. Iterations:</th>         <td>6</td>        <th>  Covariance Type:   </th> <td>nonrobust</td>\n",
       "</tr>\n",
       "</table>\n",
       "<table class=\"simpletable\">\n",
       "<tr>\n",
       "                  <td></td>                     <th>coef</th>     <th>std err</th>      <th>z</th>      <th>P>|z|</th>  <th>[0.025</th>    <th>0.975]</th>  \n",
       "</tr>\n",
       "<tr>\n",
       "  <th>const</th>                             <td>   -3.1113</td> <td>    0.023</td> <td> -137.942</td> <td> 0.000</td> <td>   -3.156</td> <td>   -3.067</td>\n",
       "</tr>\n",
       "<tr>\n",
       "  <th>No of dependents</th>                  <td>    0.9537</td> <td>    0.328</td> <td>    2.908</td> <td> 0.004</td> <td>    0.311</td> <td>    1.597</td>\n",
       "</tr>\n",
       "<tr>\n",
       "  <th>Income</th>                            <td>    1.0336</td> <td>    0.128</td> <td>    8.054</td> <td> 0.000</td> <td>    0.782</td> <td>    1.285</td>\n",
       "</tr>\n",
       "<tr>\n",
       "  <th>Education</th>                         <td>    0.9806</td> <td>    0.612</td> <td>    1.601</td> <td> 0.109</td> <td>   -0.220</td> <td>    2.181</td>\n",
       "</tr>\n",
       "<tr>\n",
       "  <th>Profession</th>                        <td>    1.0142</td> <td>    0.382</td> <td>    2.654</td> <td> 0.008</td> <td>    0.265</td> <td>    1.763</td>\n",
       "</tr>\n",
       "<tr>\n",
       "  <th>Type of residence</th>                 <td>    0.9864</td> <td>    0.875</td> <td>    1.128</td> <td> 0.260</td> <td>   -0.728</td> <td>    2.701</td>\n",
       "</tr>\n",
       "<tr>\n",
       "  <th>No of months in current residence</th> <td>    0.5232</td> <td>    0.424</td> <td>    1.233</td> <td> 0.218</td> <td>   -0.308</td> <td>    1.355</td>\n",
       "</tr>\n",
       "<tr>\n",
       "  <th>No of months in current company</th>   <td>    1.0814</td> <td>    0.167</td> <td>    6.485</td> <td> 0.000</td> <td>    0.755</td> <td>    1.408</td>\n",
       "</tr>\n",
       "</table>"
      ],
      "text/plain": [
       "<class 'statsmodels.iolib.summary.Summary'>\n",
       "\"\"\"\n",
       "                 Generalized Linear Model Regression Results                  \n",
       "==============================================================================\n",
       "Dep. Variable:        Performance Tag   No. Observations:                48909\n",
       "Model:                            GLM   Df Residuals:                    48901\n",
       "Model Family:                Binomial   Df Model:                            7\n",
       "Link Function:                  logit   Scale:                          1.0000\n",
       "Method:                          IRLS   Log-Likelihood:                -8558.6\n",
       "Date:                Mon, 13 Apr 2020   Deviance:                       17117.\n",
       "Time:                        21:24:15   Pearson chi2:                 4.89e+04\n",
       "No. Iterations:                     6   Covariance Type:             nonrobust\n",
       "=====================================================================================================\n",
       "                                        coef    std err          z      P>|z|      [0.025      0.975]\n",
       "-----------------------------------------------------------------------------------------------------\n",
       "const                                -3.1113      0.023   -137.942      0.000      -3.156      -3.067\n",
       "No of dependents                      0.9537      0.328      2.908      0.004       0.311       1.597\n",
       "Income                                1.0336      0.128      8.054      0.000       0.782       1.285\n",
       "Education                             0.9806      0.612      1.601      0.109      -0.220       2.181\n",
       "Profession                            1.0142      0.382      2.654      0.008       0.265       1.763\n",
       "Type of residence                     0.9864      0.875      1.128      0.260      -0.728       2.701\n",
       "No of months in current residence     0.5232      0.424      1.233      0.218      -0.308       1.355\n",
       "No of months in current company       1.0814      0.167      6.485      0.000       0.755       1.408\n",
       "=====================================================================================================\n",
       "\"\"\""
      ]
     },
     "execution_count": 64,
     "metadata": {},
     "output_type": "execute_result"
    }
   ],
   "source": [
    "#looking at the p values of the remaining features in the model\n",
    "x_train=sm.add_constant(X_train[tar_cols])\n",
    "reg_mod=sm.GLM(y_train,x_train,family=sm.families.Binomial(),class_weigth='balanced')\n",
    "reg_mod.fit().summary()"
   ]
  },
  {
   "cell_type": "code",
   "execution_count": 65,
   "metadata": {},
   "outputs": [],
   "source": [
    "#Removing the Type of residence due to high p value\n",
    "tar_cols=[x for x in tar_cols if x not in ['Type of residence']]"
   ]
  },
  {
   "cell_type": "code",
   "execution_count": 66,
   "metadata": {},
   "outputs": [
    {
     "data": {
      "text/html": [
       "<table class=\"simpletable\">\n",
       "<caption>Generalized Linear Model Regression Results</caption>\n",
       "<tr>\n",
       "  <th>Dep. Variable:</th>   <td>Performance Tag</td> <th>  No. Observations:  </th>  <td> 48909</td>  \n",
       "</tr>\n",
       "<tr>\n",
       "  <th>Model:</th>                 <td>GLM</td>       <th>  Df Residuals:      </th>  <td> 48902</td>  \n",
       "</tr>\n",
       "<tr>\n",
       "  <th>Model Family:</th>       <td>Binomial</td>     <th>  Df Model:          </th>  <td>     6</td>  \n",
       "</tr>\n",
       "<tr>\n",
       "  <th>Link Function:</th>        <td>logit</td>      <th>  Scale:             </th> <td>  1.0000</td> \n",
       "</tr>\n",
       "<tr>\n",
       "  <th>Method:</th>               <td>IRLS</td>       <th>  Log-Likelihood:    </th> <td> -8559.3</td> \n",
       "</tr>\n",
       "<tr>\n",
       "  <th>Date:</th>           <td>Mon, 13 Apr 2020</td> <th>  Deviance:          </th> <td>  17119.</td> \n",
       "</tr>\n",
       "<tr>\n",
       "  <th>Time:</th>               <td>21:24:48</td>     <th>  Pearson chi2:      </th> <td>4.89e+04</td> \n",
       "</tr>\n",
       "<tr>\n",
       "  <th>No. Iterations:</th>         <td>6</td>        <th>  Covariance Type:   </th> <td>nonrobust</td>\n",
       "</tr>\n",
       "</table>\n",
       "<table class=\"simpletable\">\n",
       "<tr>\n",
       "                  <td></td>                     <th>coef</th>     <th>std err</th>      <th>z</th>      <th>P>|z|</th>  <th>[0.025</th>    <th>0.975]</th>  \n",
       "</tr>\n",
       "<tr>\n",
       "  <th>const</th>                             <td>   -3.1113</td> <td>    0.023</td> <td> -137.954</td> <td> 0.000</td> <td>   -3.156</td> <td>   -3.067</td>\n",
       "</tr>\n",
       "<tr>\n",
       "  <th>No of dependents</th>                  <td>    0.9545</td> <td>    0.328</td> <td>    2.910</td> <td> 0.004</td> <td>    0.312</td> <td>    1.597</td>\n",
       "</tr>\n",
       "<tr>\n",
       "  <th>Income</th>                            <td>    1.0351</td> <td>    0.128</td> <td>    8.066</td> <td> 0.000</td> <td>    0.784</td> <td>    1.287</td>\n",
       "</tr>\n",
       "<tr>\n",
       "  <th>Education</th>                         <td>    0.9810</td> <td>    0.612</td> <td>    1.602</td> <td> 0.109</td> <td>   -0.219</td> <td>    2.181</td>\n",
       "</tr>\n",
       "<tr>\n",
       "  <th>Profession</th>                        <td>    0.9999</td> <td>    0.382</td> <td>    2.618</td> <td> 0.009</td> <td>    0.251</td> <td>    1.749</td>\n",
       "</tr>\n",
       "<tr>\n",
       "  <th>No of months in current residence</th> <td>    0.5229</td> <td>    0.424</td> <td>    1.232</td> <td> 0.218</td> <td>   -0.309</td> <td>    1.354</td>\n",
       "</tr>\n",
       "<tr>\n",
       "  <th>No of months in current company</th>   <td>    1.0823</td> <td>    0.167</td> <td>    6.490</td> <td> 0.000</td> <td>    0.755</td> <td>    1.409</td>\n",
       "</tr>\n",
       "</table>"
      ],
      "text/plain": [
       "<class 'statsmodels.iolib.summary.Summary'>\n",
       "\"\"\"\n",
       "                 Generalized Linear Model Regression Results                  \n",
       "==============================================================================\n",
       "Dep. Variable:        Performance Tag   No. Observations:                48909\n",
       "Model:                            GLM   Df Residuals:                    48902\n",
       "Model Family:                Binomial   Df Model:                            6\n",
       "Link Function:                  logit   Scale:                          1.0000\n",
       "Method:                          IRLS   Log-Likelihood:                -8559.3\n",
       "Date:                Mon, 13 Apr 2020   Deviance:                       17119.\n",
       "Time:                        21:24:48   Pearson chi2:                 4.89e+04\n",
       "No. Iterations:                     6   Covariance Type:             nonrobust\n",
       "=====================================================================================================\n",
       "                                        coef    std err          z      P>|z|      [0.025      0.975]\n",
       "-----------------------------------------------------------------------------------------------------\n",
       "const                                -3.1113      0.023   -137.954      0.000      -3.156      -3.067\n",
       "No of dependents                      0.9545      0.328      2.910      0.004       0.312       1.597\n",
       "Income                                1.0351      0.128      8.066      0.000       0.784       1.287\n",
       "Education                             0.9810      0.612      1.602      0.109      -0.219       2.181\n",
       "Profession                            0.9999      0.382      2.618      0.009       0.251       1.749\n",
       "No of months in current residence     0.5229      0.424      1.232      0.218      -0.309       1.354\n",
       "No of months in current company       1.0823      0.167      6.490      0.000       0.755       1.409\n",
       "=====================================================================================================\n",
       "\"\"\""
      ]
     },
     "execution_count": 66,
     "metadata": {},
     "output_type": "execute_result"
    }
   ],
   "source": [
    "#looking at the p values of the remaining features in the model\n",
    "x_train=sm.add_constant(X_train[tar_cols])\n",
    "reg_mod=sm.GLM(y_train,x_train,family=sm.families.Binomial(),class_weigth='balanced')\n",
    "rm=reg_mod.fit()\n",
    "rm.summary()"
   ]
  },
  {
   "cell_type": "code",
   "execution_count": 70,
   "metadata": {},
   "outputs": [],
   "source": [
    "#Removing the No of months in current residence due to high p value\n",
    "tar_cols=[x for x in tar_cols if x not in ['No of months in current residence']]"
   ]
  },
  {
   "cell_type": "code",
   "execution_count": 71,
   "metadata": {},
   "outputs": [
    {
     "data": {
      "text/html": [
       "<table class=\"simpletable\">\n",
       "<caption>Generalized Linear Model Regression Results</caption>\n",
       "<tr>\n",
       "  <th>Dep. Variable:</th>   <td>Performance Tag</td> <th>  No. Observations:  </th>  <td> 48909</td>  \n",
       "</tr>\n",
       "<tr>\n",
       "  <th>Model:</th>                 <td>GLM</td>       <th>  Df Residuals:      </th>  <td> 48903</td>  \n",
       "</tr>\n",
       "<tr>\n",
       "  <th>Model Family:</th>       <td>Binomial</td>     <th>  Df Model:          </th>  <td>     5</td>  \n",
       "</tr>\n",
       "<tr>\n",
       "  <th>Link Function:</th>        <td>logit</td>      <th>  Scale:             </th> <td>  1.0000</td> \n",
       "</tr>\n",
       "<tr>\n",
       "  <th>Method:</th>               <td>IRLS</td>       <th>  Log-Likelihood:    </th> <td> -8560.0</td> \n",
       "</tr>\n",
       "<tr>\n",
       "  <th>Date:</th>           <td>Mon, 13 Apr 2020</td> <th>  Deviance:          </th> <td>  17120.</td> \n",
       "</tr>\n",
       "<tr>\n",
       "  <th>Time:</th>               <td>21:26:20</td>     <th>  Pearson chi2:      </th> <td>4.89e+04</td> \n",
       "</tr>\n",
       "<tr>\n",
       "  <th>No. Iterations:</th>         <td>6</td>        <th>  Covariance Type:   </th> <td>nonrobust</td>\n",
       "</tr>\n",
       "</table>\n",
       "<table class=\"simpletable\">\n",
       "<tr>\n",
       "                 <td></td>                    <th>coef</th>     <th>std err</th>      <th>z</th>      <th>P>|z|</th>  <th>[0.025</th>    <th>0.975]</th>  \n",
       "</tr>\n",
       "<tr>\n",
       "  <th>const</th>                           <td>   -3.1113</td> <td>    0.023</td> <td> -137.965</td> <td> 0.000</td> <td>   -3.156</td> <td>   -3.067</td>\n",
       "</tr>\n",
       "<tr>\n",
       "  <th>No of dependents</th>                <td>    0.9581</td> <td>    0.328</td> <td>    2.921</td> <td> 0.003</td> <td>    0.315</td> <td>    1.601</td>\n",
       "</tr>\n",
       "<tr>\n",
       "  <th>Income</th>                          <td>    1.0485</td> <td>    0.128</td> <td>    8.199</td> <td> 0.000</td> <td>    0.798</td> <td>    1.299</td>\n",
       "</tr>\n",
       "<tr>\n",
       "  <th>Education</th>                       <td>    0.9874</td> <td>    0.613</td> <td>    1.611</td> <td> 0.107</td> <td>   -0.214</td> <td>    2.189</td>\n",
       "</tr>\n",
       "<tr>\n",
       "  <th>Profession</th>                      <td>    1.0069</td> <td>    0.382</td> <td>    2.637</td> <td> 0.008</td> <td>    0.258</td> <td>    1.755</td>\n",
       "</tr>\n",
       "<tr>\n",
       "  <th>No of months in current company</th> <td>    1.0974</td> <td>    0.166</td> <td>    6.599</td> <td> 0.000</td> <td>    0.771</td> <td>    1.423</td>\n",
       "</tr>\n",
       "</table>"
      ],
      "text/plain": [
       "<class 'statsmodels.iolib.summary.Summary'>\n",
       "\"\"\"\n",
       "                 Generalized Linear Model Regression Results                  \n",
       "==============================================================================\n",
       "Dep. Variable:        Performance Tag   No. Observations:                48909\n",
       "Model:                            GLM   Df Residuals:                    48903\n",
       "Model Family:                Binomial   Df Model:                            5\n",
       "Link Function:                  logit   Scale:                          1.0000\n",
       "Method:                          IRLS   Log-Likelihood:                -8560.0\n",
       "Date:                Mon, 13 Apr 2020   Deviance:                       17120.\n",
       "Time:                        21:26:20   Pearson chi2:                 4.89e+04\n",
       "No. Iterations:                     6   Covariance Type:             nonrobust\n",
       "===================================================================================================\n",
       "                                      coef    std err          z      P>|z|      [0.025      0.975]\n",
       "---------------------------------------------------------------------------------------------------\n",
       "const                              -3.1113      0.023   -137.965      0.000      -3.156      -3.067\n",
       "No of dependents                    0.9581      0.328      2.921      0.003       0.315       1.601\n",
       "Income                              1.0485      0.128      8.199      0.000       0.798       1.299\n",
       "Education                           0.9874      0.613      1.611      0.107      -0.214       2.189\n",
       "Profession                          1.0069      0.382      2.637      0.008       0.258       1.755\n",
       "No of months in current company     1.0974      0.166      6.599      0.000       0.771       1.423\n",
       "===================================================================================================\n",
       "\"\"\""
      ]
     },
     "execution_count": 71,
     "metadata": {},
     "output_type": "execute_result"
    }
   ],
   "source": [
    "#looking at the p values of the remaining features in the model\n",
    "x_train=sm.add_constant(X_train[tar_cols])\n",
    "reg_mod=sm.GLM(y_train,x_train,family=sm.families.Binomial(),class_weigth='balanced')\n",
    "rm=reg_mod.fit()\n",
    "rm.summary()"
   ]
  },
  {
   "cell_type": "code",
   "execution_count": 72,
   "metadata": {},
   "outputs": [],
   "source": [
    "# Predicting the probability of the train data\n",
    "y_prob=rm.predict(x_train)"
   ]
  },
  {
   "cell_type": "code",
   "execution_count": 73,
   "metadata": {},
   "outputs": [],
   "source": [
    "#Function for ROC curve\n",
    "def draw_roc( actual, probs ):\n",
    "    fpr, tpr, thresholds = metrics.roc_curve( actual, probs,\n",
    "                                              drop_intermediate = False )\n",
    "    auc_score = metrics.roc_auc_score( actual, probs )\n",
    "    plt.figure(figsize=(5, 5))\n",
    "    plt.plot( fpr, tpr, label='ROC curve (area = %0.2f)' % auc_score )\n",
    "    plt.plot([0, 1], [0, 1], 'k--')\n",
    "    plt.xlim([0.0, 1.0])\n",
    "    plt.ylim([0.0, 1.05])\n",
    "    plt.xlabel('False Positive Rate or [1 - True Negative Rate]')\n",
    "    plt.ylabel('True Positive Rate')\n",
    "    plt.title('Receiver operating characteristic example')\n",
    "    plt.legend(loc=\"lower right\")\n",
    "    plt.show()\n",
    "\n",
    "    return None"
   ]
  },
  {
   "cell_type": "code",
   "execution_count": 74,
   "metadata": {},
   "outputs": [
    {
     "data": {
      "image/png": "[encoded data removed]",
      "text/plain": [
       "<Figure size 360x360 with 1 Axes>"
      ]
     },
     "metadata": {
      "needs_background": "light"
     },
     "output_type": "display_data"
    }
   ],
   "source": [
    "# Roc curve which is desirable and occupying maximum area possible\n",
    "draw_roc(y_train, y_prob)"
   ]
  },
  {
   "cell_type": "code",
   "execution_count": 75,
   "metadata": {},
   "outputs": [],
   "source": [
    "mat=pd.DataFrame()"
   ]
  },
  {
   "cell_type": "code",
   "execution_count": 76,
   "metadata": {},
   "outputs": [
    {
     "data": {
      "text/html": [
       "<div>\n",
       "<style scoped>\n",
       "    .dataframe tbody tr th:only-of-type {\n",
       "        vertical-align: middle;\n",
       "    }\n",
       "\n",
       "    .dataframe tbody tr th {\n",
       "        vertical-align: top;\n",
       "    }\n",
       "\n",
       "    .dataframe thead th {\n",
       "        text-align: right;\n",
       "    }\n",
       "</style>\n",
       "<table border=\"1\" class=\"dataframe\">\n",
       "  <thead>\n",
       "    <tr style=\"text-align: right;\">\n",
       "      <th></th>\n",
       "      <th>0.0</th>\n",
       "      <th>0.1</th>\n",
       "      <th>0.2</th>\n",
       "      <th>0.3</th>\n",
       "      <th>0.4</th>\n",
       "      <th>0.5</th>\n",
       "      <th>0.6</th>\n",
       "      <th>0.7</th>\n",
       "      <th>0.8</th>\n",
       "      <th>0.9</th>\n",
       "    </tr>\n",
       "  </thead>\n",
       "  <tbody>\n",
       "    <tr>\n",
       "      <th>0</th>\n",
       "      <td>1</td>\n",
       "      <td>0</td>\n",
       "      <td>0</td>\n",
       "      <td>0</td>\n",
       "      <td>0</td>\n",
       "      <td>0</td>\n",
       "      <td>0</td>\n",
       "      <td>0</td>\n",
       "      <td>0</td>\n",
       "      <td>0</td>\n",
       "    </tr>\n",
       "    <tr>\n",
       "      <th>1</th>\n",
       "      <td>1</td>\n",
       "      <td>0</td>\n",
       "      <td>0</td>\n",
       "      <td>0</td>\n",
       "      <td>0</td>\n",
       "      <td>0</td>\n",
       "      <td>0</td>\n",
       "      <td>0</td>\n",
       "      <td>0</td>\n",
       "      <td>0</td>\n",
       "    </tr>\n",
       "    <tr>\n",
       "      <th>2</th>\n",
       "      <td>1</td>\n",
       "      <td>0</td>\n",
       "      <td>0</td>\n",
       "      <td>0</td>\n",
       "      <td>0</td>\n",
       "      <td>0</td>\n",
       "      <td>0</td>\n",
       "      <td>0</td>\n",
       "      <td>0</td>\n",
       "      <td>0</td>\n",
       "    </tr>\n",
       "    <tr>\n",
       "      <th>3</th>\n",
       "      <td>1</td>\n",
       "      <td>0</td>\n",
       "      <td>0</td>\n",
       "      <td>0</td>\n",
       "      <td>0</td>\n",
       "      <td>0</td>\n",
       "      <td>0</td>\n",
       "      <td>0</td>\n",
       "      <td>0</td>\n",
       "      <td>0</td>\n",
       "    </tr>\n",
       "    <tr>\n",
       "      <th>4</th>\n",
       "      <td>1</td>\n",
       "      <td>0</td>\n",
       "      <td>0</td>\n",
       "      <td>0</td>\n",
       "      <td>0</td>\n",
       "      <td>0</td>\n",
       "      <td>0</td>\n",
       "      <td>0</td>\n",
       "      <td>0</td>\n",
       "      <td>0</td>\n",
       "    </tr>\n",
       "  </tbody>\n",
       "</table>\n",
       "</div>"
      ],
      "text/plain": [
       "   0.0  0.1  0.2  0.3  0.4  0.5  0.6  0.7  0.8  0.9\n",
       "0    1    0    0    0    0    0    0    0    0    0\n",
       "1    1    0    0    0    0    0    0    0    0    0\n",
       "2    1    0    0    0    0    0    0    0    0    0\n",
       "3    1    0    0    0    0    0    0    0    0    0\n",
       "4    1    0    0    0    0    0    0    0    0    0"
      ]
     },
     "execution_count": 76,
     "metadata": {},
     "output_type": "execute_result"
    }
   ],
   "source": [
    "#predicting the target values by using different cut offs\n",
    "numbers=[float(x)/10 for x in range(10)]\n",
    "for i in numbers:\n",
    "    mat[i]=list(map(lambda x: 1 if x> i else 0,y_prob))\n",
    "mat.head()"
   ]
  },
  {
   "cell_type": "code",
   "execution_count": 77,
   "metadata": {},
   "outputs": [
    {
     "data": {
      "text/plain": [
       "[0.0, 0.1, 0.2, 0.3, 0.4, 0.5, 0.6, 0.7, 0.8, 0.9]"
      ]
     },
     "execution_count": 77,
     "metadata": {},
     "output_type": "execute_result"
    }
   ],
   "source": [
    "numbers=[float(x)/10 for x in range(10)]\n",
    "numbers"
   ]
  },
  {
   "cell_type": "code",
   "execution_count": 79,
   "metadata": {},
   "outputs": [
    {
     "name": "stdout",
     "output_type": "stream",
     "text": [
      "     prob  accuracy  sensi     speci\n",
      "0.0   0.0  0.042651    1.0  0.000000\n",
      "0.1   0.1  0.957268    0.0  0.999915\n",
      "0.2   0.2  0.957349    0.0  1.000000\n",
      "0.3   0.3  0.957349    0.0  1.000000\n",
      "0.4   0.4  0.957349    0.0  1.000000\n",
      "0.5   0.5  0.957349    0.0  1.000000\n",
      "0.6   0.6  0.957349    0.0  1.000000\n",
      "0.7   0.7  0.957349    0.0  1.000000\n",
      "0.8   0.8  0.957349    0.0  1.000000\n",
      "0.9   0.9  0.957349    0.0  1.000000\n"
     ]
    }
   ],
   "source": [
    "#For different cut offs calculating the metrics\n",
    "cutoff_df = pd.DataFrame( columns = ['prob','accuracy','sensi','speci'])\n",
    "from sklearn.metrics import confusion_matrix\n",
    "\n",
    "# TP = confusion[1,1] # true positive \n",
    "# TN = confusion[0,0] # true negatives\n",
    "# FP = confusion[0,1] # false positives\n",
    "# FN = confusion[1,0] # false negatives\n",
    "\n",
    "num = [0.0,0.1, 0.2, 0.3, 0.4, 0.5, 0.6, 0.7, 0.8, 0.9]\n",
    "for i in num:\n",
    "    cm1 = metrics.confusion_matrix(y_train, mat[i] )\n",
    "    total1=sum(sum(cm1))\n",
    "    accuracy = (cm1[0,0]+cm1[1,1])/total1\n",
    "    \n",
    "    speci = cm1[0,0]/(cm1[0,0]+cm1[0,1])\n",
    "    sensi = cm1[1,1]/(cm1[1,0]+cm1[1,1])\n",
    "    cutoff_df.loc[i] =[ i ,accuracy,sensi,speci]\n",
    "print(cutoff_df)"
   ]
  },
  {
   "cell_type": "markdown",
   "metadata": {},
   "source": [
    "we fail to capture the optimum cutoff value for this model lets go ahead with another model see how it goes."
   ]
  },
  {
   "cell_type": "markdown",
   "metadata": {},
   "source": [
    "## Modelling: Random Forest"
   ]
  },
  {
   "cell_type": "code",
   "execution_count": 80,
   "metadata": {},
   "outputs": [],
   "source": [
    "from sklearn import preprocessing\n",
    "from sklearn.linear_model import LinearRegression\n",
    "from sklearn.metrics import r2_score\n",
    "import statsmodels.api as sm\n",
    "from sklearn.feature_selection import RFE\n",
    "from statsmodels.stats.outliers_influence import variance_inflation_factor\n",
    "from sklearn.model_selection import GridSearchCV\n",
    "from sklearn import tree\n",
    "import sklearn\n",
    "from sklearn.ensemble import RandomForestClassifier"
   ]
  },
  {
   "cell_type": "code",
   "execution_count": 81,
   "metadata": {},
   "outputs": [
    {
     "data": {
      "text/plain": [
       "Index(['Age', 'Gender', 'Marital_Status', 'No of dependents', 'Income',\n",
       "       'Education', 'Profession', 'Type of residence',\n",
       "       'No of months in current residence', 'No of months in current company'],\n",
       "      dtype='object')"
      ]
     },
     "execution_count": 81,
     "metadata": {},
     "output_type": "execute_result"
    }
   ],
   "source": [
    "cols=X_train.columns\n",
    "cols"
   ]
  },
  {
   "cell_type": "code",
   "execution_count": 82,
   "metadata": {},
   "outputs": [
    {
     "data": {
      "text/plain": [
       "GridSearchCV(cv=5, error_score=nan,\n",
       "             estimator=RandomForestClassifier(bootstrap=True, ccp_alpha=0.0,\n",
       "                                              class_weight='balanced',\n",
       "                                              criterion='gini', max_depth=None,\n",
       "                                              max_features='auto',\n",
       "                                              max_leaf_nodes=None,\n",
       "                                              max_samples=None,\n",
       "                                              min_impurity_decrease=0.0,\n",
       "                                              min_impurity_split=None,\n",
       "                                              min_samples_leaf=1,\n",
       "                                              min_samples_split=2,\n",
       "                                              min_weight_fraction_leaf=0.0,\n",
       "                                              n_estimators=100, n_jobs=None,\n",
       "                                              oob_score=False,\n",
       "                                              random_state=None, verbose=0,\n",
       "                                              warm_start=False),\n",
       "             iid='deprecated', n_jobs=None,\n",
       "             param_grid={'max_depth': range(10, 20, 2)},\n",
       "             pre_dispatch='2*n_jobs', refit=True, return_train_score=True,\n",
       "             scoring='accuracy', verbose=0)"
      ]
     },
     "execution_count": 82,
     "metadata": {},
     "output_type": "execute_result"
    }
   ],
   "source": [
    "# GridSearchCV to find optimal n_estimators\n",
    "from sklearn.model_selection import KFold\n",
    "from sklearn.model_selection import GridSearchCV\n",
    "from sklearn import tree\n",
    "\n",
    "# specify number of folds for k-fold CV\n",
    "n_folds = 5\n",
    "\n",
    "# parameters to build the model on\n",
    "parameters = {'max_depth': range(10,20,2)}\n",
    "\n",
    "# instantiate the model\n",
    "rf = RandomForestClassifier(class_weight='balanced')\n",
    "\n",
    "\n",
    "# fit tree on training data\n",
    "rf = GridSearchCV(rf, parameters, \n",
    "                    cv=n_folds, \n",
    "                   scoring='accuracy',return_train_score=True)\n",
    "rf.fit(X_train[cols], y_train)"
   ]
  },
  {
   "cell_type": "code",
   "execution_count": null,
   "metadata": {},
   "outputs": [],
   "source": [
    "sklearn.metrics.SCORERS.keys()"
   ]
  },
  {
   "cell_type": "code",
   "execution_count": 83,
   "metadata": {},
   "outputs": [
    {
     "data": {
      "text/html": [
       "<div>\n",
       "<style scoped>\n",
       "    .dataframe tbody tr th:only-of-type {\n",
       "        vertical-align: middle;\n",
       "    }\n",
       "\n",
       "    .dataframe tbody tr th {\n",
       "        vertical-align: top;\n",
       "    }\n",
       "\n",
       "    .dataframe thead th {\n",
       "        text-align: right;\n",
       "    }\n",
       "</style>\n",
       "<table border=\"1\" class=\"dataframe\">\n",
       "  <thead>\n",
       "    <tr style=\"text-align: right;\">\n",
       "      <th></th>\n",
       "      <th>mean_fit_time</th>\n",
       "      <th>std_fit_time</th>\n",
       "      <th>mean_score_time</th>\n",
       "      <th>std_score_time</th>\n",
       "      <th>param_max_depth</th>\n",
       "      <th>params</th>\n",
       "      <th>split0_test_score</th>\n",
       "      <th>split1_test_score</th>\n",
       "      <th>split2_test_score</th>\n",
       "      <th>split3_test_score</th>\n",
       "      <th>...</th>\n",
       "      <th>mean_test_score</th>\n",
       "      <th>std_test_score</th>\n",
       "      <th>rank_test_score</th>\n",
       "      <th>split0_train_score</th>\n",
       "      <th>split1_train_score</th>\n",
       "      <th>split2_train_score</th>\n",
       "      <th>split3_train_score</th>\n",
       "      <th>split4_train_score</th>\n",
       "      <th>mean_train_score</th>\n",
       "      <th>std_train_score</th>\n",
       "    </tr>\n",
       "  </thead>\n",
       "  <tbody>\n",
       "    <tr>\n",
       "      <th>2</th>\n",
       "      <td>1.974978</td>\n",
       "      <td>0.057615</td>\n",
       "      <td>0.192952</td>\n",
       "      <td>0.015883</td>\n",
       "      <td>14</td>\n",
       "      <td>{'max_depth': 14}</td>\n",
       "      <td>0.859027</td>\n",
       "      <td>0.8624</td>\n",
       "      <td>0.85596</td>\n",
       "      <td>0.867716</td>\n",
       "      <td>...</td>\n",
       "      <td>0.862152</td>\n",
       "      <td>0.004276</td>\n",
       "      <td>1</td>\n",
       "      <td>0.90081</td>\n",
       "      <td>0.898331</td>\n",
       "      <td>0.895648</td>\n",
       "      <td>0.904133</td>\n",
       "      <td>0.900378</td>\n",
       "      <td>0.89986</td>\n",
       "      <td>0.002811</td>\n",
       "    </tr>\n",
       "  </tbody>\n",
       "</table>\n",
       "<p>1 rows × 21 columns</p>\n",
       "</div>"
      ],
      "text/plain": [
       "   mean_fit_time  std_fit_time  mean_score_time  std_score_time  \\\n",
       "2       1.974978      0.057615         0.192952        0.015883   \n",
       "\n",
       "  param_max_depth             params  split0_test_score  split1_test_score  \\\n",
       "2              14  {'max_depth': 14}           0.859027             0.8624   \n",
       "\n",
       "   split2_test_score  split3_test_score       ...         mean_test_score  \\\n",
       "2            0.85596           0.867716       ...                0.862152   \n",
       "\n",
       "   std_test_score  rank_test_score  split0_train_score  split1_train_score  \\\n",
       "2        0.004276                1             0.90081            0.898331   \n",
       "\n",
       "   split2_train_score  split3_train_score  split4_train_score  \\\n",
       "2            0.895648            0.904133            0.900378   \n",
       "\n",
       "   mean_train_score  std_train_score  \n",
       "2           0.89986         0.002811  \n",
       "\n",
       "[1 rows x 21 columns]"
      ]
     },
     "execution_count": 83,
     "metadata": {},
     "output_type": "execute_result"
    }
   ],
   "source": [
    "# scores of GridSearch CV\n",
    "scores = rf.cv_results_\n",
    "sc=pd.DataFrame(scores)\n",
    "sc.head()\n",
    "\n",
    "sc[sc['rank_test_score']==1]"
   ]
  },
  {
   "cell_type": "code",
   "execution_count": 84,
   "metadata": {},
   "outputs": [
    {
     "data": {
      "image/png": "[encoded data removed]",
      "text/plain": [
       "<Figure size 432x288 with 1 Axes>"
      ]
     },
     "metadata": {
      "needs_background": "light"
     },
     "output_type": "display_data"
    }
   ],
   "source": [
    "# plotting accuracies with max_depth\n",
    "plt.figure()\n",
    "plt.plot(scores[\"param_max_depth\"], \n",
    "         scores[\"mean_train_score\"], \n",
    "         label=\"training accuracy\")\n",
    "plt.plot(scores[\"param_max_depth\"], \n",
    "         scores[\"mean_test_score\"], \n",
    "         label=\"test accuracy\")\n",
    "plt.xlabel(\"max_depth\")\n",
    "plt.ylabel(\"Accuracy\")\n",
    "plt.legend()\n",
    "plt.show()"
   ]
  },
  {
   "cell_type": "code",
   "execution_count": 89,
   "metadata": {},
   "outputs": [
    {
     "data": {
      "text/plain": [
       "GridSearchCV(cv=5, error_score=nan,\n",
       "             estimator=RandomForestClassifier(bootstrap=True, ccp_alpha=0.0,\n",
       "                                              class_weight='balanced',\n",
       "                                              criterion='gini', max_depth=None,\n",
       "                                              max_features='auto',\n",
       "                                              max_leaf_nodes=None,\n",
       "                                              max_samples=None,\n",
       "                                              min_impurity_decrease=0.0,\n",
       "                                              min_impurity_split=None,\n",
       "                                              min_samples_leaf=1,\n",
       "                                              min_samples_split=2,\n",
       "                                              min_weight_fraction_leaf=0.0,\n",
       "                                              n_estimators=100, n_jobs=None,\n",
       "                                              oob_score=False,\n",
       "                                              random_state=None, verbose=0,\n",
       "                                              warm_start=False),\n",
       "             iid='deprecated', n_jobs=None,\n",
       "             param_grid={'n_estimators': range(1, 100, 10)},\n",
       "             pre_dispatch='2*n_jobs', refit=True, return_train_score=True,\n",
       "             scoring='accuracy', verbose=0)"
      ]
     },
     "execution_count": 89,
     "metadata": {},
     "output_type": "execute_result"
    }
   ],
   "source": [
    "# GridSearchCV to find optimal n_estimators\n",
    "from sklearn.model_selection import KFold\n",
    "from sklearn.model_selection import GridSearchCV\n",
    "\n",
    "\n",
    "# specify number of folds for k-fold CV\n",
    "n_folds = 5\n",
    "\n",
    "# parameters to build the model on\n",
    "parameters = {'n_estimators': range(1,100,10)}\n",
    "\n",
    "# instantiate the model\n",
    "rf = RandomForestClassifier(class_weight='balanced')\n",
    "\n",
    "\n",
    "# fit tree on training data\n",
    "rf = GridSearchCV(rf, parameters, \n",
    "                    cv=n_folds, \n",
    "                   scoring='accuracy',return_train_score=True)\n",
    "rf.fit(X_train[cols], y_train)"
   ]
  },
  {
   "cell_type": "code",
   "execution_count": 90,
   "metadata": {},
   "outputs": [
    {
     "data": {
      "text/html": [
       "<div>\n",
       "<style scoped>\n",
       "    .dataframe tbody tr th:only-of-type {\n",
       "        vertical-align: middle;\n",
       "    }\n",
       "\n",
       "    .dataframe tbody tr th {\n",
       "        vertical-align: top;\n",
       "    }\n",
       "\n",
       "    .dataframe thead th {\n",
       "        text-align: right;\n",
       "    }\n",
       "</style>\n",
       "<table border=\"1\" class=\"dataframe\">\n",
       "  <thead>\n",
       "    <tr style=\"text-align: right;\">\n",
       "      <th></th>\n",
       "      <th>mean_fit_time</th>\n",
       "      <th>std_fit_time</th>\n",
       "      <th>mean_score_time</th>\n",
       "      <th>std_score_time</th>\n",
       "      <th>param_n_estimators</th>\n",
       "      <th>params</th>\n",
       "      <th>split0_test_score</th>\n",
       "      <th>split1_test_score</th>\n",
       "      <th>split2_test_score</th>\n",
       "      <th>split3_test_score</th>\n",
       "      <th>...</th>\n",
       "      <th>mean_test_score</th>\n",
       "      <th>std_test_score</th>\n",
       "      <th>rank_test_score</th>\n",
       "      <th>split0_train_score</th>\n",
       "      <th>split1_train_score</th>\n",
       "      <th>split2_train_score</th>\n",
       "      <th>split3_train_score</th>\n",
       "      <th>split4_train_score</th>\n",
       "      <th>mean_train_score</th>\n",
       "      <th>std_train_score</th>\n",
       "    </tr>\n",
       "  </thead>\n",
       "  <tbody>\n",
       "    <tr>\n",
       "      <th>5</th>\n",
       "      <td>1.068527</td>\n",
       "      <td>0.008603</td>\n",
       "      <td>0.108146</td>\n",
       "      <td>0.002075</td>\n",
       "      <td>51</td>\n",
       "      <td>{'n_estimators': 51}</td>\n",
       "      <td>0.853711</td>\n",
       "      <td>0.859027</td>\n",
       "      <td>0.854835</td>\n",
       "      <td>0.85504</td>\n",
       "      <td>...</td>\n",
       "      <td>0.855405</td>\n",
       "      <td>0.001867</td>\n",
       "      <td>1</td>\n",
       "      <td>0.895111</td>\n",
       "      <td>0.890664</td>\n",
       "      <td>0.892044</td>\n",
       "      <td>0.890715</td>\n",
       "      <td>0.891459</td>\n",
       "      <td>0.891998</td>\n",
       "      <td>0.001638</td>\n",
       "    </tr>\n",
       "  </tbody>\n",
       "</table>\n",
       "<p>1 rows × 21 columns</p>\n",
       "</div>"
      ],
      "text/plain": [
       "   mean_fit_time  std_fit_time  mean_score_time  std_score_time  \\\n",
       "5       1.068527      0.008603         0.108146        0.002075   \n",
       "\n",
       "  param_n_estimators                params  split0_test_score  \\\n",
       "5                 51  {'n_estimators': 51}           0.853711   \n",
       "\n",
       "   split1_test_score  split2_test_score  split3_test_score       ...         \\\n",
       "5           0.859027           0.854835            0.85504       ...          \n",
       "\n",
       "   mean_test_score  std_test_score  rank_test_score  split0_train_score  \\\n",
       "5         0.855405        0.001867                1            0.895111   \n",
       "\n",
       "   split1_train_score  split2_train_score  split3_train_score  \\\n",
       "5            0.890664            0.892044            0.890715   \n",
       "\n",
       "   split4_train_score  mean_train_score  std_train_score  \n",
       "5            0.891459          0.891998         0.001638  \n",
       "\n",
       "[1 rows x 21 columns]"
      ]
     },
     "execution_count": 90,
     "metadata": {},
     "output_type": "execute_result"
    }
   ],
   "source": [
    "# scores of GridSearch CV\n",
    "scores = rf.cv_results_\n",
    "sc=pd.DataFrame(scores)\n",
    "sc.head()\n",
    "\n",
    "sc[sc['rank_test_score']==1]"
   ]
  },
  {
   "cell_type": "code",
   "execution_count": 91,
   "metadata": {},
   "outputs": [
    {
     "data": {
      "image/png": "[encoded data removed]",
      "text/plain": [
       "<Figure size 432x288 with 1 Axes>"
      ]
     },
     "metadata": {
      "needs_background": "light"
     },
     "output_type": "display_data"
    }
   ],
   "source": [
    "# plotting accuracies with estimators\n",
    "plt.figure()\n",
    "plt.plot(scores[\"param_n_estimators\"], \n",
    "         scores[\"mean_train_score\"], \n",
    "         label=\"training accuracy\")\n",
    "plt.plot(scores[\"param_n_estimators\"], \n",
    "         scores[\"mean_test_score\"], \n",
    "         label=\"test accuracy\")\n",
    "plt.xlabel(\"max_depth\")\n",
    "plt.ylabel(\"Accuracy\")\n",
    "plt.legend()\n",
    "plt.show()"
   ]
  },
  {
   "cell_type": "code",
   "execution_count": 92,
   "metadata": {},
   "outputs": [
    {
     "data": {
      "text/plain": [
       "GridSearchCV(cv=5, error_score=nan,\n",
       "             estimator=RandomForestClassifier(bootstrap=True, ccp_alpha=0.0,\n",
       "                                              class_weight='balanced',\n",
       "                                              criterion='gini', max_depth=None,\n",
       "                                              max_features='auto',\n",
       "                                              max_leaf_nodes=None,\n",
       "                                              max_samples=None,\n",
       "                                              min_impurity_decrease=0.0,\n",
       "                                              min_impurity_split=None,\n",
       "                                              min_samples_leaf=1,\n",
       "                                              min_samples_split=2,\n",
       "                                              min_weight_fraction_leaf=0.0,\n",
       "                                              n_estimators=100, n_jobs=None,\n",
       "                                              oob_score=False,\n",
       "                                              random_state=None, verbose=0,\n",
       "                                              warm_start=False),\n",
       "             iid='deprecated', n_jobs=None,\n",
       "             param_grid={'max_features': range(1, 10)}, pre_dispatch='2*n_jobs',\n",
       "             refit=True, return_train_score=True, scoring='accuracy',\n",
       "             verbose=0)"
      ]
     },
     "execution_count": 92,
     "metadata": {},
     "output_type": "execute_result"
    }
   ],
   "source": [
    "# GridSearchCV to find optimal max_features\n",
    "from sklearn.model_selection import KFold\n",
    "from sklearn.model_selection import GridSearchCV\n",
    "\n",
    "\n",
    "# specify number of folds for k-fold CV\n",
    "n_folds = 5\n",
    "\n",
    "# parameters to build the model on\n",
    "parameters = {'max_features': range(1,10)}\n",
    "\n",
    "# instantiate the model\n",
    "rf = RandomForestClassifier(class_weight='balanced')\n",
    "\n",
    "\n",
    "# fit tree on training data\n",
    "rf = GridSearchCV(rf, parameters, \n",
    "                    cv=n_folds, \n",
    "                   scoring='accuracy',return_train_score=True)\n",
    "rf.fit(X_train[cols], y_train)"
   ]
  },
  {
   "cell_type": "code",
   "execution_count": 93,
   "metadata": {},
   "outputs": [
    {
     "data": {
      "text/html": [
       "<div>\n",
       "<style scoped>\n",
       "    .dataframe tbody tr th:only-of-type {\n",
       "        vertical-align: middle;\n",
       "    }\n",
       "\n",
       "    .dataframe tbody tr th {\n",
       "        vertical-align: top;\n",
       "    }\n",
       "\n",
       "    .dataframe thead th {\n",
       "        text-align: right;\n",
       "    }\n",
       "</style>\n",
       "<table border=\"1\" class=\"dataframe\">\n",
       "  <thead>\n",
       "    <tr style=\"text-align: right;\">\n",
       "      <th></th>\n",
       "      <th>mean_fit_time</th>\n",
       "      <th>std_fit_time</th>\n",
       "      <th>mean_score_time</th>\n",
       "      <th>std_score_time</th>\n",
       "      <th>param_max_features</th>\n",
       "      <th>params</th>\n",
       "      <th>split0_test_score</th>\n",
       "      <th>split1_test_score</th>\n",
       "      <th>split2_test_score</th>\n",
       "      <th>split3_test_score</th>\n",
       "      <th>...</th>\n",
       "      <th>mean_test_score</th>\n",
       "      <th>std_test_score</th>\n",
       "      <th>rank_test_score</th>\n",
       "      <th>split0_train_score</th>\n",
       "      <th>split1_train_score</th>\n",
       "      <th>split2_train_score</th>\n",
       "      <th>split3_train_score</th>\n",
       "      <th>split4_train_score</th>\n",
       "      <th>mean_train_score</th>\n",
       "      <th>std_train_score</th>\n",
       "    </tr>\n",
       "  </thead>\n",
       "  <tbody>\n",
       "    <tr>\n",
       "      <th>5</th>\n",
       "      <td>2.970511</td>\n",
       "      <td>0.036165</td>\n",
       "      <td>0.199739</td>\n",
       "      <td>0.000832</td>\n",
       "      <td>6</td>\n",
       "      <td>{'max_features': 6}</td>\n",
       "      <td>0.850337</td>\n",
       "      <td>0.85044</td>\n",
       "      <td>0.847986</td>\n",
       "      <td>0.857493</td>\n",
       "      <td>...</td>\n",
       "      <td>0.851704</td>\n",
       "      <td>0.003198</td>\n",
       "      <td>1</td>\n",
       "      <td>0.893654</td>\n",
       "      <td>0.887367</td>\n",
       "      <td>0.889693</td>\n",
       "      <td>0.895852</td>\n",
       "      <td>0.889874</td>\n",
       "      <td>0.891288</td>\n",
       "      <td>0.003045</td>\n",
       "    </tr>\n",
       "  </tbody>\n",
       "</table>\n",
       "<p>1 rows × 21 columns</p>\n",
       "</div>"
      ],
      "text/plain": [
       "   mean_fit_time  std_fit_time  mean_score_time  std_score_time  \\\n",
       "5       2.970511      0.036165         0.199739        0.000832   \n",
       "\n",
       "  param_max_features               params  split0_test_score  \\\n",
       "5                  6  {'max_features': 6}           0.850337   \n",
       "\n",
       "   split1_test_score  split2_test_score  split3_test_score       ...         \\\n",
       "5            0.85044           0.847986           0.857493       ...          \n",
       "\n",
       "   mean_test_score  std_test_score  rank_test_score  split0_train_score  \\\n",
       "5         0.851704        0.003198                1            0.893654   \n",
       "\n",
       "   split1_train_score  split2_train_score  split3_train_score  \\\n",
       "5            0.887367            0.889693            0.895852   \n",
       "\n",
       "   split4_train_score  mean_train_score  std_train_score  \n",
       "5            0.889874          0.891288         0.003045  \n",
       "\n",
       "[1 rows x 21 columns]"
      ]
     },
     "execution_count": 93,
     "metadata": {},
     "output_type": "execute_result"
    }
   ],
   "source": [
    "# scores of GridSearch CV\n",
    "scores = rf.cv_results_\n",
    "sc=pd.DataFrame(scores)\n",
    "sc.head()\n",
    "\n",
    "sc[sc['rank_test_score']==1]"
   ]
  },
  {
   "cell_type": "code",
   "execution_count": 94,
   "metadata": {},
   "outputs": [
    {
     "data": {
      "image/png": "[encoded data removed]",
      "text/plain": [
       "<Figure size 432x288 with 1 Axes>"
      ]
     },
     "metadata": {
      "needs_background": "light"
     },
     "output_type": "display_data"
    }
   ],
   "source": [
    "# plotting accuracies with max_features\n",
    "plt.figure()\n",
    "plt.plot(scores[\"param_max_features\"], \n",
    "         scores[\"mean_train_score\"], \n",
    "         label=\"training accuracy\")\n",
    "plt.plot(scores[\"param_max_features\"], \n",
    "         scores[\"mean_test_score\"], \n",
    "         label=\"test accuracy\")\n",
    "plt.xlabel(\"max_features\")\n",
    "plt.ylabel(\"Accuracy\")\n",
    "plt.legend()\n",
    "plt.show()"
   ]
  },
  {
   "cell_type": "code",
   "execution_count": 98,
   "metadata": {},
   "outputs": [
    {
     "data": {
      "text/plain": [
       "GridSearchCV(cv=5, error_score=nan,\n",
       "             estimator=RandomForestClassifier(bootstrap=True, ccp_alpha=0.0,\n",
       "                                              class_weight='balanced',\n",
       "                                              criterion='gini', max_depth=None,\n",
       "                                              max_features='auto',\n",
       "                                              max_leaf_nodes=None,\n",
       "                                              max_samples=None,\n",
       "                                              min_impurity_decrease=0.0,\n",
       "                                              min_impurity_split=None,\n",
       "                                              min_samples_leaf=1,\n",
       "                                              min_samples_split=2,\n",
       "                                              min_weight_fraction_leaf=0.0,\n",
       "                                              n_estimators=100, n_jobs=None,\n",
       "                                              oob_score=False,\n",
       "                                              random_state=None, verbose=0,\n",
       "                                              warm_start=False),\n",
       "             iid='deprecated', n_jobs=None,\n",
       "             param_grid={'min_samples_leaf': range(1, 10)},\n",
       "             pre_dispatch='2*n_jobs', refit=True, return_train_score=True,\n",
       "             scoring='accuracy', verbose=0)"
      ]
     },
     "execution_count": 98,
     "metadata": {},
     "output_type": "execute_result"
    }
   ],
   "source": [
    "# GridSearchCV to find optimal min_samples_leaf\n",
    "from sklearn.model_selection import KFold\n",
    "from sklearn.model_selection import GridSearchCV\n",
    "\n",
    "\n",
    "# specify number of folds for k-fold CV\n",
    "n_folds = 5\n",
    "\n",
    "# parameters to build the model on\n",
    "parameters = {'min_samples_leaf': range(1,10)}\n",
    "\n",
    "# instantiate the model\n",
    "rf = RandomForestClassifier(class_weight='balanced')\n",
    "\n",
    "\n",
    "# fit tree on training data\n",
    "rf = GridSearchCV(rf, parameters, \n",
    "                    cv=n_folds, \n",
    "                   scoring='accuracy',return_train_score=True)\n",
    "rf.fit(X_train[cols], y_train)"
   ]
  },
  {
   "cell_type": "code",
   "execution_count": 99,
   "metadata": {},
   "outputs": [
    {
     "data": {
      "text/html": [
       "<div>\n",
       "<style scoped>\n",
       "    .dataframe tbody tr th:only-of-type {\n",
       "        vertical-align: middle;\n",
       "    }\n",
       "\n",
       "    .dataframe tbody tr th {\n",
       "        vertical-align: top;\n",
       "    }\n",
       "\n",
       "    .dataframe thead th {\n",
       "        text-align: right;\n",
       "    }\n",
       "</style>\n",
       "<table border=\"1\" class=\"dataframe\">\n",
       "  <thead>\n",
       "    <tr style=\"text-align: right;\">\n",
       "      <th></th>\n",
       "      <th>mean_fit_time</th>\n",
       "      <th>std_fit_time</th>\n",
       "      <th>mean_score_time</th>\n",
       "      <th>std_score_time</th>\n",
       "      <th>param_min_samples_leaf</th>\n",
       "      <th>params</th>\n",
       "      <th>split0_test_score</th>\n",
       "      <th>split1_test_score</th>\n",
       "      <th>split2_test_score</th>\n",
       "      <th>split3_test_score</th>\n",
       "      <th>...</th>\n",
       "      <th>mean_test_score</th>\n",
       "      <th>std_test_score</th>\n",
       "      <th>rank_test_score</th>\n",
       "      <th>split0_train_score</th>\n",
       "      <th>split1_train_score</th>\n",
       "      <th>split2_train_score</th>\n",
       "      <th>split3_train_score</th>\n",
       "      <th>split4_train_score</th>\n",
       "      <th>mean_train_score</th>\n",
       "      <th>std_train_score</th>\n",
       "    </tr>\n",
       "  </thead>\n",
       "  <tbody>\n",
       "    <tr>\n",
       "      <th>3</th>\n",
       "      <td>1.882478</td>\n",
       "      <td>0.023443</td>\n",
       "      <td>0.182949</td>\n",
       "      <td>0.001369</td>\n",
       "      <td>4</td>\n",
       "      <td>{'min_samples_leaf': 4}</td>\n",
       "      <td>0.852075</td>\n",
       "      <td>0.858618</td>\n",
       "      <td>0.851973</td>\n",
       "      <td>0.861276</td>\n",
       "      <td>...</td>\n",
       "      <td>0.856877</td>\n",
       "      <td>0.004055</td>\n",
       "      <td>1</td>\n",
       "      <td>0.892938</td>\n",
       "      <td>0.891354</td>\n",
       "      <td>0.892095</td>\n",
       "      <td>0.897411</td>\n",
       "      <td>0.894372</td>\n",
       "      <td>0.893634</td>\n",
       "      <td>0.002138</td>\n",
       "    </tr>\n",
       "  </tbody>\n",
       "</table>\n",
       "<p>1 rows × 21 columns</p>\n",
       "</div>"
      ],
      "text/plain": [
       "   mean_fit_time  std_fit_time  mean_score_time  std_score_time  \\\n",
       "3       1.882478      0.023443         0.182949        0.001369   \n",
       "\n",
       "  param_min_samples_leaf                   params  split0_test_score  \\\n",
       "3                      4  {'min_samples_leaf': 4}           0.852075   \n",
       "\n",
       "   split1_test_score  split2_test_score  split3_test_score       ...         \\\n",
       "3           0.858618           0.851973           0.861276       ...          \n",
       "\n",
       "   mean_test_score  std_test_score  rank_test_score  split0_train_score  \\\n",
       "3         0.856877        0.004055                1            0.892938   \n",
       "\n",
       "   split1_train_score  split2_train_score  split3_train_score  \\\n",
       "3            0.891354            0.892095            0.897411   \n",
       "\n",
       "   split4_train_score  mean_train_score  std_train_score  \n",
       "3            0.894372          0.893634         0.002138  \n",
       "\n",
       "[1 rows x 21 columns]"
      ]
     },
     "execution_count": 99,
     "metadata": {},
     "output_type": "execute_result"
    }
   ],
   "source": [
    "# scores of GridSearch CV\n",
    "scores = rf.cv_results_\n",
    "sc=pd.DataFrame(scores)\n",
    "sc[sc['rank_test_score']==1]"
   ]
  },
  {
   "cell_type": "code",
   "execution_count": 100,
   "metadata": {},
   "outputs": [
    {
     "data": {
      "image/png": "[encoded data removed]",
      "text/plain": [
       "<Figure size 432x288 with 1 Axes>"
      ]
     },
     "metadata": {
      "needs_background": "light"
     },
     "output_type": "display_data"
    }
   ],
   "source": [
    "# plotting accuracies with min_samples_leaf\n",
    "plt.figure()\n",
    "plt.plot(scores[\"param_min_samples_leaf\"], \n",
    "         scores[\"mean_train_score\"], \n",
    "         label=\"training accuracy\")\n",
    "plt.plot(scores[\"param_min_samples_leaf\"], \n",
    "         scores[\"mean_test_score\"], \n",
    "         label=\"test accuracy\")\n",
    "plt.xlabel(\"min_samples_leaf\")\n",
    "plt.ylabel(\"Accuracy\")\n",
    "plt.legend()\n",
    "plt.show()"
   ]
  },
  {
   "cell_type": "code",
   "execution_count": 104,
   "metadata": {},
   "outputs": [
    {
     "data": {
      "text/plain": [
       "GridSearchCV(cv=5, error_score=nan,\n",
       "             estimator=RandomForestClassifier(bootstrap=True, ccp_alpha=0.0,\n",
       "                                              class_weight='balanced',\n",
       "                                              criterion='gini', max_depth=None,\n",
       "                                              max_features='auto',\n",
       "                                              max_leaf_nodes=None,\n",
       "                                              max_samples=None,\n",
       "                                              min_impurity_decrease=0.0,\n",
       "                                              min_impurity_split=None,\n",
       "                                              min_samples_leaf=1,\n",
       "                                              min_samples_split=2,\n",
       "                                              min_weight_fraction_leaf=0.0,\n",
       "                                              n_estimators=100, n_jobs=None,\n",
       "                                              oob_score=False,\n",
       "                                              random_state=None, verbose=0,\n",
       "                                              warm_start=False),\n",
       "             iid='deprecated', n_jobs=None,\n",
       "             param_grid={'min_samples_split': range(10, 20)},\n",
       "             pre_dispatch='2*n_jobs', refit=True, return_train_score=True,\n",
       "             scoring='accuracy', verbose=0)"
      ]
     },
     "execution_count": 104,
     "metadata": {},
     "output_type": "execute_result"
    }
   ],
   "source": [
    "# GridSearchCV to find optimal min_samples_split\n",
    "from sklearn.model_selection import KFold\n",
    "from sklearn.model_selection import GridSearchCV\n",
    "\n",
    "\n",
    "# specify number of folds for k-fold CV\n",
    "n_folds = 5\n",
    "\n",
    "# parameters to build the model on\n",
    "parameters = {'min_samples_split': range(10,20)}\n",
    "\n",
    "# instantiate the model\n",
    "rf = RandomForestClassifier(class_weight='balanced')\n",
    "\n",
    "\n",
    "# fit tree on training data\n",
    "rf = GridSearchCV(rf, parameters, \n",
    "                    cv=n_folds, \n",
    "                   scoring='accuracy',return_train_score=True)\n",
    "rf.fit(X_train[cols], y_train)"
   ]
  },
  {
   "cell_type": "code",
   "execution_count": 105,
   "metadata": {},
   "outputs": [
    {
     "data": {
      "text/html": [
       "<div>\n",
       "<style scoped>\n",
       "    .dataframe tbody tr th:only-of-type {\n",
       "        vertical-align: middle;\n",
       "    }\n",
       "\n",
       "    .dataframe tbody tr th {\n",
       "        vertical-align: top;\n",
       "    }\n",
       "\n",
       "    .dataframe thead th {\n",
       "        text-align: right;\n",
       "    }\n",
       "</style>\n",
       "<table border=\"1\" class=\"dataframe\">\n",
       "  <thead>\n",
       "    <tr style=\"text-align: right;\">\n",
       "      <th></th>\n",
       "      <th>mean_fit_time</th>\n",
       "      <th>std_fit_time</th>\n",
       "      <th>mean_score_time</th>\n",
       "      <th>std_score_time</th>\n",
       "      <th>param_min_samples_split</th>\n",
       "      <th>params</th>\n",
       "      <th>split0_test_score</th>\n",
       "      <th>split1_test_score</th>\n",
       "      <th>split2_test_score</th>\n",
       "      <th>split3_test_score</th>\n",
       "      <th>...</th>\n",
       "      <th>mean_test_score</th>\n",
       "      <th>std_test_score</th>\n",
       "      <th>rank_test_score</th>\n",
       "      <th>split0_train_score</th>\n",
       "      <th>split1_train_score</th>\n",
       "      <th>split2_train_score</th>\n",
       "      <th>split3_train_score</th>\n",
       "      <th>split4_train_score</th>\n",
       "      <th>mean_train_score</th>\n",
       "      <th>std_train_score</th>\n",
       "    </tr>\n",
       "  </thead>\n",
       "  <tbody>\n",
       "    <tr>\n",
       "      <th>5</th>\n",
       "      <td>1.90454</td>\n",
       "      <td>0.01772</td>\n",
       "      <td>0.186689</td>\n",
       "      <td>0.000433</td>\n",
       "      <td>15</td>\n",
       "      <td>{'min_samples_split': 15}</td>\n",
       "      <td>0.85504</td>\n",
       "      <td>0.858925</td>\n",
       "      <td>0.851666</td>\n",
       "      <td>0.861889</td>\n",
       "      <td>...</td>\n",
       "      <td>0.858104</td>\n",
       "      <td>0.004238</td>\n",
       "      <td>1</td>\n",
       "      <td>0.896312</td>\n",
       "      <td>0.890613</td>\n",
       "      <td>0.892018</td>\n",
       "      <td>0.896516</td>\n",
       "      <td>0.897848</td>\n",
       "      <td>0.894661</td>\n",
       "      <td>0.002818</td>\n",
       "    </tr>\n",
       "  </tbody>\n",
       "</table>\n",
       "<p>1 rows × 21 columns</p>\n",
       "</div>"
      ],
      "text/plain": [
       "   mean_fit_time  std_fit_time  mean_score_time  std_score_time  \\\n",
       "5        1.90454       0.01772         0.186689        0.000433   \n",
       "\n",
       "  param_min_samples_split                     params  split0_test_score  \\\n",
       "5                      15  {'min_samples_split': 15}            0.85504   \n",
       "\n",
       "   split1_test_score  split2_test_score  split3_test_score       ...         \\\n",
       "5           0.858925           0.851666           0.861889       ...          \n",
       "\n",
       "   mean_test_score  std_test_score  rank_test_score  split0_train_score  \\\n",
       "5         0.858104        0.004238                1            0.896312   \n",
       "\n",
       "   split1_train_score  split2_train_score  split3_train_score  \\\n",
       "5            0.890613            0.892018            0.896516   \n",
       "\n",
       "   split4_train_score  mean_train_score  std_train_score  \n",
       "5            0.897848          0.894661         0.002818  \n",
       "\n",
       "[1 rows x 21 columns]"
      ]
     },
     "execution_count": 105,
     "metadata": {},
     "output_type": "execute_result"
    }
   ],
   "source": [
    "# scores of GridSearch CV\n",
    "scores = rf.cv_results_\n",
    "sc=pd.DataFrame(scores)\n",
    "sc[sc['rank_test_score']==1]"
   ]
  },
  {
   "cell_type": "code",
   "execution_count": 106,
   "metadata": {},
   "outputs": [
    {
     "data": {
      "image/png": "[encoded data removed]",
      "text/plain": [
       "<Figure size 432x288 with 1 Axes>"
      ]
     },
     "metadata": {
      "needs_background": "light"
     },
     "output_type": "display_data"
    }
   ],
   "source": [
    "# plotting accuracies with min_samples_split\n",
    "plt.figure()\n",
    "plt.plot(scores[\"param_min_samples_split\"], \n",
    "         scores[\"mean_train_score\"], \n",
    "         label=\"training accuracy\")\n",
    "plt.plot(scores[\"param_min_samples_split\"], \n",
    "         scores[\"mean_test_score\"], \n",
    "         label=\"test accuracy\")\n",
    "plt.xlabel(\"min_samples_split\")\n",
    "plt.ylabel(\"Accuracy\")\n",
    "plt.legend()\n",
    "plt.show()\n",
    "#5,45"
   ]
  },
  {
   "cell_type": "code",
   "execution_count": 107,
   "metadata": {},
   "outputs": [],
   "source": [
    "# Create the parameter grid based on the results of random search \n",
    "param_grid = {\n",
    "    'max_depth': [12,14],\n",
    "    'min_samples_leaf': [4,7],\n",
    "    'min_samples_split': [15],\n",
    "    'n_estimators': [51], \n",
    "    'max_features': [4,6]\n",
    "}\n",
    "# Create a based m3\n",
    "rf = RandomForestClassifier(class_weight='balanced')\n",
    "# Instantiate the grid search model\n",
    "grid_search = GridSearchCV(estimator = rf, param_grid = param_grid, \n",
    "                          cv = 5, n_jobs = -1,verbose = 1)"
   ]
  },
  {
   "cell_type": "code",
   "execution_count": 108,
   "metadata": {},
   "outputs": [
    {
     "name": "stdout",
     "output_type": "stream",
     "text": [
      "Fitting 5 folds for each of 8 candidates, totalling 40 fits\n"
     ]
    },
    {
     "name": "stderr",
     "output_type": "stream",
     "text": [
      "[Parallel(n_jobs=-1)]: Using backend LokyBackend with 4 concurrent workers.\n",
      "[Parallel(n_jobs=-1)]: Done  40 out of  40 | elapsed:   50.7s finished\n"
     ]
    },
    {
     "data": {
      "text/plain": [
       "GridSearchCV(cv=5, error_score=nan,\n",
       "             estimator=RandomForestClassifier(bootstrap=True, ccp_alpha=0.0,\n",
       "                                              class_weight='balanced',\n",
       "                                              criterion='gini', max_depth=None,\n",
       "                                              max_features='auto',\n",
       "                                              max_leaf_nodes=None,\n",
       "                                              max_samples=None,\n",
       "                                              min_impurity_decrease=0.0,\n",
       "                                              min_impurity_split=None,\n",
       "                                              min_samples_leaf=1,\n",
       "                                              min_samples_split=2,\n",
       "                                              min_weight_fraction_leaf=0.0,\n",
       "                                              n_estimators=100, n_jobs=None,\n",
       "                                              oob_score=False,\n",
       "                                              random_state=None, verbose=0,\n",
       "                                              warm_start=False),\n",
       "             iid='deprecated', n_jobs=-1,\n",
       "             param_grid={'max_depth': [12, 14], 'max_features': [4, 6],\n",
       "                         'min_samples_leaf': [4, 7], 'min_samples_split': [15],\n",
       "                         'n_estimators': [51]},\n",
       "             pre_dispatch='2*n_jobs', refit=True, return_train_score=False,\n",
       "             scoring=None, verbose=1)"
      ]
     },
     "execution_count": 108,
     "metadata": {},
     "output_type": "execute_result"
    }
   ],
   "source": [
    "# Fit the grid search to the data\n",
    "grid_search.fit(X_train[cols], y_train)"
   ]
  },
  {
   "cell_type": "code",
   "execution_count": 109,
   "metadata": {},
   "outputs": [
    {
     "name": "stdout",
     "output_type": "stream",
     "text": [
      "We can get accuracy of 0.8576948899985538 using {'max_depth': 14, 'max_features': 4, 'min_samples_leaf': 4, 'min_samples_split': 15, 'n_estimators': 51}\n"
     ]
    }
   ],
   "source": [
    "# printing the optimal accuracy score and hyperparameters\n",
    "print('We can get accuracy of',grid_search.best_score_,'using',grid_search.best_params_)\n"
   ]
  },
  {
   "cell_type": "code",
   "execution_count": 110,
   "metadata": {},
   "outputs": [
    {
     "data": {
      "text/plain": [
       "RandomForestClassifier(bootstrap=True, ccp_alpha=0.0, class_weight='balanced',\n",
       "                       criterion='gini', max_depth=14, max_features=4,\n",
       "                       max_leaf_nodes=None, max_samples=None,\n",
       "                       min_impurity_decrease=0.0, min_impurity_split=None,\n",
       "                       min_samples_leaf=4, min_samples_split=14,\n",
       "                       min_weight_fraction_leaf=0.0, n_estimators=51,\n",
       "                       n_jobs=None, oob_score=False, random_state=None,\n",
       "                       verbose=0, warm_start=False)"
      ]
     },
     "execution_count": 110,
     "metadata": {},
     "output_type": "execute_result"
    }
   ],
   "source": [
    "rfc = RandomForestClassifier(\n",
    "                             max_depth=14,\n",
    "                             min_samples_leaf=4, \n",
    "                             min_samples_split=14,\n",
    "                             max_features=4,\n",
    "                             n_estimators=51,\n",
    "                             class_weight='balanced'\n",
    "                           )\n",
    "rfc.fit(X_train[cols], y_train)"
   ]
  },
  {
   "cell_type": "code",
   "execution_count": 111,
   "metadata": {},
   "outputs": [],
   "source": [
    "y_train_pred_rf=rfc.predict(X_train[cols])"
   ]
  },
  {
   "cell_type": "code",
   "execution_count": 112,
   "metadata": {},
   "outputs": [
    {
     "data": {
      "text/plain": [
       "88.47"
      ]
     },
     "execution_count": 112,
     "metadata": {},
     "output_type": "execute_result"
    }
   ],
   "source": [
    "#Accuracy for the train set with default cuttoff=0.5\n",
    "round(metrics.accuracy_score(y_train, y_train_pred_rf)*100,2)"
   ]
  },
  {
   "cell_type": "code",
   "execution_count": 113,
   "metadata": {},
   "outputs": [],
   "source": [
    "y_prob_rf=rfc.predict_proba(X_train[cols])[:,1]"
   ]
  },
  {
   "cell_type": "code",
   "execution_count": 114,
   "metadata": {
    "scrolled": true
   },
   "outputs": [
    {
     "data": {
      "image/png": "[encoded data removed]",
      "text/plain": [
       "<Figure size 360x360 with 1 Axes>"
      ]
     },
     "metadata": {
      "needs_background": "light"
     },
     "output_type": "display_data"
    }
   ],
   "source": [
    "# Roc curve which is desirable and occupying maximum area possible\n",
    "draw_roc(y_train, y_prob_rf)"
   ]
  },
  {
   "cell_type": "markdown",
   "metadata": {},
   "source": [
    "##### Here ROC curve looks better than previous model so we can go ahead with this model as final model"
   ]
  },
  {
   "cell_type": "code",
   "execution_count": 115,
   "metadata": {},
   "outputs": [],
   "source": [
    "mat=pd.DataFrame()"
   ]
  },
  {
   "cell_type": "code",
   "execution_count": 116,
   "metadata": {},
   "outputs": [
    {
     "data": {
      "text/html": [
       "<div>\n",
       "<style scoped>\n",
       "    .dataframe tbody tr th:only-of-type {\n",
       "        vertical-align: middle;\n",
       "    }\n",
       "\n",
       "    .dataframe tbody tr th {\n",
       "        vertical-align: top;\n",
       "    }\n",
       "\n",
       "    .dataframe thead th {\n",
       "        text-align: right;\n",
       "    }\n",
       "</style>\n",
       "<table border=\"1\" class=\"dataframe\">\n",
       "  <thead>\n",
       "    <tr style=\"text-align: right;\">\n",
       "      <th></th>\n",
       "      <th>0.0</th>\n",
       "      <th>0.1</th>\n",
       "      <th>0.2</th>\n",
       "      <th>0.3</th>\n",
       "      <th>0.4</th>\n",
       "      <th>0.5</th>\n",
       "      <th>0.6</th>\n",
       "      <th>0.7</th>\n",
       "      <th>0.8</th>\n",
       "      <th>0.9</th>\n",
       "    </tr>\n",
       "  </thead>\n",
       "  <tbody>\n",
       "    <tr>\n",
       "      <th>0</th>\n",
       "      <td>1</td>\n",
       "      <td>1</td>\n",
       "      <td>1</td>\n",
       "      <td>0</td>\n",
       "      <td>0</td>\n",
       "      <td>0</td>\n",
       "      <td>0</td>\n",
       "      <td>0</td>\n",
       "      <td>0</td>\n",
       "      <td>0</td>\n",
       "    </tr>\n",
       "    <tr>\n",
       "      <th>1</th>\n",
       "      <td>1</td>\n",
       "      <td>1</td>\n",
       "      <td>0</td>\n",
       "      <td>0</td>\n",
       "      <td>0</td>\n",
       "      <td>0</td>\n",
       "      <td>0</td>\n",
       "      <td>0</td>\n",
       "      <td>0</td>\n",
       "      <td>0</td>\n",
       "    </tr>\n",
       "    <tr>\n",
       "      <th>2</th>\n",
       "      <td>1</td>\n",
       "      <td>1</td>\n",
       "      <td>1</td>\n",
       "      <td>1</td>\n",
       "      <td>1</td>\n",
       "      <td>1</td>\n",
       "      <td>0</td>\n",
       "      <td>0</td>\n",
       "      <td>0</td>\n",
       "      <td>0</td>\n",
       "    </tr>\n",
       "    <tr>\n",
       "      <th>3</th>\n",
       "      <td>1</td>\n",
       "      <td>1</td>\n",
       "      <td>1</td>\n",
       "      <td>1</td>\n",
       "      <td>0</td>\n",
       "      <td>0</td>\n",
       "      <td>0</td>\n",
       "      <td>0</td>\n",
       "      <td>0</td>\n",
       "      <td>0</td>\n",
       "    </tr>\n",
       "    <tr>\n",
       "      <th>4</th>\n",
       "      <td>1</td>\n",
       "      <td>0</td>\n",
       "      <td>0</td>\n",
       "      <td>0</td>\n",
       "      <td>0</td>\n",
       "      <td>0</td>\n",
       "      <td>0</td>\n",
       "      <td>0</td>\n",
       "      <td>0</td>\n",
       "      <td>0</td>\n",
       "    </tr>\n",
       "  </tbody>\n",
       "</table>\n",
       "</div>"
      ],
      "text/plain": [
       "   0.0  0.1  0.2  0.3  0.4  0.5  0.6  0.7  0.8  0.9\n",
       "0    1    1    1    0    0    0    0    0    0    0\n",
       "1    1    1    0    0    0    0    0    0    0    0\n",
       "2    1    1    1    1    1    1    0    0    0    0\n",
       "3    1    1    1    1    0    0    0    0    0    0\n",
       "4    1    0    0    0    0    0    0    0    0    0"
      ]
     },
     "execution_count": 116,
     "metadata": {},
     "output_type": "execute_result"
    }
   ],
   "source": [
    "#predicting the target values by using different cut offs\n",
    "numbers=[float(x)/10 for x in range(10)]\n",
    "for i in numbers:\n",
    "    mat[i]=list(map(lambda x: 1 if x> i else 0,y_prob_rf))\n",
    "mat.head()"
   ]
  },
  {
   "cell_type": "code",
   "execution_count": 117,
   "metadata": {},
   "outputs": [
    {
     "name": "stdout",
     "output_type": "stream",
     "text": [
      "     prob  accuracy     sensi     speci\n",
      "0.0   0.0  0.042876  1.000000  0.000235\n",
      "0.1   0.1  0.145617  1.000000  0.107554\n",
      "0.2   0.2  0.406183  1.000000  0.379728\n",
      "0.3   0.3  0.634260  0.995206  0.618179\n",
      "0.4   0.4  0.774704  0.934324  0.767593\n",
      "0.5   0.5  0.884684  0.676414  0.893962\n",
      "0.6   0.6  0.938846  0.296740  0.967452\n",
      "0.7   0.7  0.954528  0.077661  0.993593\n",
      "0.8   0.8  0.957308  0.006711  0.999658\n",
      "0.9   0.9  0.957349  0.000000  1.000000\n"
     ]
    }
   ],
   "source": [
    "#For different cut offs calculating the metrics\n",
    "cutoff_df = pd.DataFrame( columns = ['prob','accuracy','sensi','speci'])\n",
    "from sklearn.metrics import confusion_matrix\n",
    "\n",
    "# TP = confusion[1,1] # true positive \n",
    "# TN = confusion[0,0] # true negatives\n",
    "# FP = confusion[0,1] # false positives\n",
    "# FN = confusion[1,0] # false negatives\n",
    "\n",
    "num = [0.0,0.1,0.2,0.3,0.4,0.5,0.6,0.7,0.8,0.9]\n",
    "for i in num:\n",
    "    cm1 = metrics.confusion_matrix(y_train, mat[i] )\n",
    "    total1=sum(sum(cm1))\n",
    "    accuracy = (cm1[0,0]+cm1[1,1])/total1\n",
    "    \n",
    "    speci = cm1[0,0]/(cm1[0,0]+cm1[0,1])\n",
    "    sensi = cm1[1,1]/(cm1[1,0]+cm1[1,1])\n",
    "    cutoff_df.loc[i] =[ i ,accuracy,sensi,speci]\n",
    "print(cutoff_df)"
   ]
  },
  {
   "cell_type": "code",
   "execution_count": 120,
   "metadata": {},
   "outputs": [],
   "source": [
    "#looking at the matrix we can consider the cuttoff to be 0.45\n",
    "mat[0.45]=list(map(lambda x: 1 if x> 0.45 else 0,y_prob_rf))"
   ]
  },
  {
   "cell_type": "code",
   "execution_count": 121,
   "metadata": {},
   "outputs": [
    {
     "name": "stdout",
     "output_type": "stream",
     "text": [
      "      prob  accuracy     sensi     speci\n",
      "0.00  0.00  0.042876  1.000000  0.000235\n",
      "0.10  0.10  0.145617  1.000000  0.107554\n",
      "0.20  0.20  0.406183  1.000000  0.379728\n",
      "0.30  0.30  0.634260  0.995206  0.618179\n",
      "0.40  0.40  0.774704  0.934324  0.767593\n",
      "0.50  0.50  0.884684  0.676414  0.893962\n",
      "0.60  0.60  0.938846  0.296740  0.967452\n",
      "0.70  0.70  0.954528  0.077661  0.993593\n",
      "0.80  0.80  0.957308  0.006711  0.999658\n",
      "0.90  0.90  0.957349  0.000000  1.000000\n",
      "0.45  0.45  0.835020  0.830297  0.835231\n"
     ]
    }
   ],
   "source": [
    "cm1 = metrics.confusion_matrix(y_train, mat[0.45] )\n",
    "total1=sum(sum(cm1))\n",
    "accuracy = (cm1[0,0]+cm1[1,1])/total1\n",
    "    \n",
    "speci = cm1[0,0]/(cm1[0,0]+cm1[0,1])\n",
    "sensi = cm1[1,1]/(cm1[1,0]+cm1[1,1])\n",
    "cutoff_df.loc[0.45] =[ 0.45 ,accuracy,sensi,speci]\n",
    "print(cutoff_df)"
   ]
  },
  {
   "cell_type": "code",
   "execution_count": 122,
   "metadata": {},
   "outputs": [
    {
     "data": {
      "text/html": [
       "<div>\n",
       "<style scoped>\n",
       "    .dataframe tbody tr th:only-of-type {\n",
       "        vertical-align: middle;\n",
       "    }\n",
       "\n",
       "    .dataframe tbody tr th {\n",
       "        vertical-align: top;\n",
       "    }\n",
       "\n",
       "    .dataframe thead th {\n",
       "        text-align: right;\n",
       "    }\n",
       "</style>\n",
       "<table border=\"1\" class=\"dataframe\">\n",
       "  <thead>\n",
       "    <tr style=\"text-align: right;\">\n",
       "      <th></th>\n",
       "      <th>0.0</th>\n",
       "      <th>0.1</th>\n",
       "      <th>0.2</th>\n",
       "      <th>0.3</th>\n",
       "      <th>0.4</th>\n",
       "      <th>0.5</th>\n",
       "      <th>0.6</th>\n",
       "      <th>0.7</th>\n",
       "      <th>0.8</th>\n",
       "      <th>0.9</th>\n",
       "      <th>0.55</th>\n",
       "      <th>0.45</th>\n",
       "      <th>0.41</th>\n",
       "      <th>0.42</th>\n",
       "      <th>0.43</th>\n",
       "      <th>0.44</th>\n",
       "      <th>0.46</th>\n",
       "      <th>0.47</th>\n",
       "      <th>0.48</th>\n",
       "      <th>0.49</th>\n",
       "    </tr>\n",
       "  </thead>\n",
       "  <tbody>\n",
       "    <tr>\n",
       "      <th>0</th>\n",
       "      <td>1</td>\n",
       "      <td>1</td>\n",
       "      <td>1</td>\n",
       "      <td>0</td>\n",
       "      <td>0</td>\n",
       "      <td>0</td>\n",
       "      <td>0</td>\n",
       "      <td>0</td>\n",
       "      <td>0</td>\n",
       "      <td>0</td>\n",
       "      <td>0</td>\n",
       "      <td>0</td>\n",
       "      <td>0</td>\n",
       "      <td>0</td>\n",
       "      <td>0</td>\n",
       "      <td>0</td>\n",
       "      <td>0</td>\n",
       "      <td>0</td>\n",
       "      <td>0</td>\n",
       "      <td>0</td>\n",
       "    </tr>\n",
       "    <tr>\n",
       "      <th>1</th>\n",
       "      <td>1</td>\n",
       "      <td>1</td>\n",
       "      <td>0</td>\n",
       "      <td>0</td>\n",
       "      <td>0</td>\n",
       "      <td>0</td>\n",
       "      <td>0</td>\n",
       "      <td>0</td>\n",
       "      <td>0</td>\n",
       "      <td>0</td>\n",
       "      <td>0</td>\n",
       "      <td>0</td>\n",
       "      <td>0</td>\n",
       "      <td>0</td>\n",
       "      <td>0</td>\n",
       "      <td>0</td>\n",
       "      <td>0</td>\n",
       "      <td>0</td>\n",
       "      <td>0</td>\n",
       "      <td>0</td>\n",
       "    </tr>\n",
       "    <tr>\n",
       "      <th>2</th>\n",
       "      <td>1</td>\n",
       "      <td>1</td>\n",
       "      <td>1</td>\n",
       "      <td>1</td>\n",
       "      <td>1</td>\n",
       "      <td>1</td>\n",
       "      <td>0</td>\n",
       "      <td>0</td>\n",
       "      <td>0</td>\n",
       "      <td>0</td>\n",
       "      <td>1</td>\n",
       "      <td>1</td>\n",
       "      <td>1</td>\n",
       "      <td>1</td>\n",
       "      <td>1</td>\n",
       "      <td>1</td>\n",
       "      <td>1</td>\n",
       "      <td>1</td>\n",
       "      <td>1</td>\n",
       "      <td>1</td>\n",
       "    </tr>\n",
       "    <tr>\n",
       "      <th>3</th>\n",
       "      <td>1</td>\n",
       "      <td>1</td>\n",
       "      <td>1</td>\n",
       "      <td>1</td>\n",
       "      <td>0</td>\n",
       "      <td>0</td>\n",
       "      <td>0</td>\n",
       "      <td>0</td>\n",
       "      <td>0</td>\n",
       "      <td>0</td>\n",
       "      <td>0</td>\n",
       "      <td>0</td>\n",
       "      <td>0</td>\n",
       "      <td>0</td>\n",
       "      <td>0</td>\n",
       "      <td>0</td>\n",
       "      <td>0</td>\n",
       "      <td>0</td>\n",
       "      <td>0</td>\n",
       "      <td>0</td>\n",
       "    </tr>\n",
       "    <tr>\n",
       "      <th>4</th>\n",
       "      <td>1</td>\n",
       "      <td>0</td>\n",
       "      <td>0</td>\n",
       "      <td>0</td>\n",
       "      <td>0</td>\n",
       "      <td>0</td>\n",
       "      <td>0</td>\n",
       "      <td>0</td>\n",
       "      <td>0</td>\n",
       "      <td>0</td>\n",
       "      <td>0</td>\n",
       "      <td>0</td>\n",
       "      <td>0</td>\n",
       "      <td>0</td>\n",
       "      <td>0</td>\n",
       "      <td>0</td>\n",
       "      <td>0</td>\n",
       "      <td>0</td>\n",
       "      <td>0</td>\n",
       "      <td>0</td>\n",
       "    </tr>\n",
       "  </tbody>\n",
       "</table>\n",
       "</div>"
      ],
      "text/plain": [
       "   0.00  0.10  0.20  0.30  0.40  0.50  0.60  0.70  0.80  0.90  0.55  0.45  \\\n",
       "0     1     1     1     0     0     0     0     0     0     0     0     0   \n",
       "1     1     1     0     0     0     0     0     0     0     0     0     0   \n",
       "2     1     1     1     1     1     1     0     0     0     0     1     1   \n",
       "3     1     1     1     1     0     0     0     0     0     0     0     0   \n",
       "4     1     0     0     0     0     0     0     0     0     0     0     0   \n",
       "\n",
       "   0.41  0.42  0.43  0.44  0.46  0.47  0.48  0.49  \n",
       "0     0     0     0     0     0     0     0     0  \n",
       "1     0     0     0     0     0     0     0     0  \n",
       "2     1     1     1     1     1     1     1     1  \n",
       "3     0     0     0     0     0     0     0     0  \n",
       "4     0     0     0     0     0     0     0     0  "
      ]
     },
     "execution_count": 122,
     "metadata": {},
     "output_type": "execute_result"
    }
   ],
   "source": [
    "#predicting the target values by using different cut offs\n",
    "numbers=[float(x)/100 for x in range(40,50)]\n",
    "for i in numbers:\n",
    "    mat[i]=list(map(lambda x: 1 if x> i else 0,y_prob_rf))\n",
    "mat.head()"
   ]
  },
  {
   "cell_type": "code",
   "execution_count": 124,
   "metadata": {},
   "outputs": [
    {
     "data": {
      "text/plain": [
       "[0.4, 0.41, 0.42, 0.43, 0.44, 0.45, 0.46, 0.47, 0.48, 0.49]"
      ]
     },
     "execution_count": 124,
     "metadata": {},
     "output_type": "execute_result"
    }
   ],
   "source": [
    "numbers=[float(x)/100 for x in range(40,50)]\n",
    "numbers"
   ]
  },
  {
   "cell_type": "code",
   "execution_count": 125,
   "metadata": {},
   "outputs": [
    {
     "name": "stdout",
     "output_type": "stream",
     "text": [
      "      prob  accuracy     sensi     speci\n",
      "0.40  0.40  0.774704  0.934324  0.767593\n",
      "0.41  0.41  0.786992  0.921860  0.780984\n",
      "0.42  0.42  0.800814  0.899808  0.796403\n",
      "0.43  0.43  0.812488  0.882071  0.809389\n",
      "0.44  0.44  0.822446  0.864334  0.820580\n",
      "0.45  0.45  0.835020  0.830297  0.835231\n",
      "0.46  0.46  0.847145  0.800575  0.849219\n",
      "0.47  0.47  0.855773  0.772771  0.859471\n",
      "0.48  0.48  0.862541  0.749281  0.867586\n",
      "0.49  0.49  0.872825  0.717641  0.879739\n"
     ]
    }
   ],
   "source": [
    "#For different cut offs calculating the metrics\n",
    "cutoff_df = pd.DataFrame( columns = ['prob','accuracy','sensi','speci'])\n",
    "from sklearn.metrics import confusion_matrix\n",
    "\n",
    "# TP = confusion[1,1] # true positive \n",
    "# TN = confusion[0,0] # true negatives\n",
    "# FP = confusion[0,1] # false positives\n",
    "# FN = confusion[1,0] # false negatives\n",
    "\n",
    "num = [0.4, 0.41, 0.42, 0.43, 0.44, 0.45, 0.46, 0.47, 0.48, 0.49]\n",
    "for i in num:\n",
    "    cm1 = metrics.confusion_matrix(y_train, mat[i] )\n",
    "    total1=sum(sum(cm1))\n",
    "    accuracy = (cm1[0,0]+cm1[1,1])/total1\n",
    "    \n",
    "    speci = cm1[0,0]/(cm1[0,0]+cm1[0,1])\n",
    "    sensi = cm1[1,1]/(cm1[1,0]+cm1[1,1])\n",
    "    cutoff_df.loc[i] =[ i ,accuracy,sensi,speci]\n",
    "print(cutoff_df)"
   ]
  },
  {
   "cell_type": "code",
   "execution_count": 126,
   "metadata": {},
   "outputs": [],
   "source": [
    "X_test=df_test_woe"
   ]
  },
  {
   "cell_type": "code",
   "execution_count": 127,
   "metadata": {},
   "outputs": [],
   "source": [
    "#predicting the target variable with test set\n",
    "y_test_proba=rfc.predict_proba(X_test[cols])[:,1]"
   ]
  },
  {
   "cell_type": "code",
   "execution_count": 137,
   "metadata": {},
   "outputs": [],
   "source": [
    "y_test_pred=pd.Series(map(lambda x: 1 if x> 0.45 else 0,y_test_proba))"
   ]
  },
  {
   "cell_type": "code",
   "execution_count": 138,
   "metadata": {},
   "outputs": [],
   "source": [
    "cm1 = metrics.confusion_matrix(y_test, y_test_pred )\n",
    "total1=sum(sum(cm1))\n",
    "accuracy = (cm1[0,0]+cm1[1,1])/total1\n",
    "    \n",
    "speci = cm1[0,0]/(cm1[0,0]+cm1[0,1])\n",
    "sensi = cm1[1,1]/(cm1[1,0]+cm1[1,1])\n",
    "\n",
    "print('Test set confusion matrix')\n",
    "print(accuracy,sensi,speci)\n"
   ]
  },
  {
   "cell_type": "markdown",
   "metadata": {},
   "source": [
    "Five important predictors impacting the performace tag variable when only demographic data is used are Income,Profession,No of dependents,No of months in current company.\n",
    "Model based on demographic data worked better at predicting good customers with 80% accuracy rather than predicting defaulters."
   ]
  },
  {
   "cell_type": "markdown",
   "metadata": {},
   "source": [
    "#### Joining the demographic data and credit bureau data to form master data table"
   ]
  },
  {
   "cell_type": "code",
   "execution_count": 39,
   "metadata": {},
   "outputs": [],
   "source": [
    "#Joing the data\n",
    "demo_crd=pd.merge(df_dmg,crd_buro,how='left',on=['Application ID'])"
   ]
  },
  {
   "cell_type": "code",
   "execution_count": 40,
   "metadata": {},
   "outputs": [],
   "source": [
    "#Removing duplicate columns\n",
    "demo_crd.drop(['Performance Tag_y'],axis=1,inplace=True)"
   ]
  },
  {
   "cell_type": "code",
   "execution_count": 41,
   "metadata": {},
   "outputs": [],
   "source": [
    "#Rename the columns\n",
    "demo_crd.rename(columns={'Performance Tag_x':'Performance Tag'},inplace=True)"
   ]
  },
  {
   "cell_type": "code",
   "execution_count": 42,
   "metadata": {},
   "outputs": [],
   "source": [
    "# Putting feature variable to X\n",
    "X = demo_crd.drop(['Performance Tag','Application ID'],axis=1)\n",
    "\n",
    "\n",
    "# Putting response variable to y\n",
    "y = demo_crd['Performance Tag']\n"
   ]
  },
  {
   "cell_type": "code",
   "execution_count": 43,
   "metadata": {},
   "outputs": [],
   "source": [
    "#Storing the columns in a variable\n",
    "demo_crd_col=X.columns"
   ]
  },
  {
   "cell_type": "code",
   "execution_count": 44,
   "metadata": {},
   "outputs": [],
   "source": [
    "# Train test split of the data\n",
    "X_train, X_test, y_train, y_test = train_test_split(X,y, train_size=0.7,test_size=0.3,random_state=2000)"
   ]
  },
  {
   "cell_type": "code",
   "execution_count": 45,
   "metadata": {},
   "outputs": [
    {
     "data": {
      "text/plain": [
       "WOE(exclude_features=None, feature_names='all', mono_cardinality_cutoff=5,\n",
       "    mono_custom_binning={'Age': array([15., 40., 50., 65.]),\n",
       "                         'Avgas CC Utilization in last 12 months': array([  0.,  10.,  32., 104.]),\n",
       "                         'Income': array([-0.5, 18. , 35. , 60. ]),\n",
       "                         'No of Inquiries in last 12 months (excluding home & auto loans)': array([ 0.,  1.,  4., 20.]),\n",
       "                         'No of Inquiries in last 6 months (excluding home & auto loans)':...\n",
       "              'Total No of Trades': {Interval(-0.001, 4.0, closed='right'): -0.6777316071427391,\n",
       "                                     Interval(4.0, 8.0, closed='right'): 0.21567820692439132,\n",
       "                                     Interval(8.0, 22.0, closed='right'): 0.32583983580062},\n",
       "              'Type of residence': {'Company provided': 0.10131635813407336,\n",
       "                                    'Living with Parents': 0.134167317828836,\n",
       "                                    'Others': -0.45616495727271666,\n",
       "                                    'Owned': 1.8750912618295826e-05,\n",
       "                                    'Rented': -0.006601509873854111}},\n",
       "    woe_prefix=None)"
      ]
     },
     "execution_count": 45,
     "metadata": {},
     "output_type": "execute_result"
    }
   ],
   "source": [
    "#Using Weight of evidence technique to create monotonic bins and alos filling the null values\n",
    "clf1 = WOE()\n",
    "clf1.fit(X_train, y_train.astype(float))\n"
   ]
  },
  {
   "cell_type": "code",
   "execution_count": 46,
   "metadata": {},
   "outputs": [],
   "source": [
    "#Copying the woe transformed train data into new data frame\n",
    "X_train_w=clf1.transform(X_train)"
   ]
  },
  {
   "cell_type": "code",
   "execution_count": 47,
   "metadata": {},
   "outputs": [],
   "source": [
    "#Copying the woe transformed train data into new data frame\n",
    "X_test_w=clf1.transform(X_test)\n",
    "#Changing the datatypes to float\n",
    "X_test_w=X_test_w.astype(float)"
   ]
  },
  {
   "cell_type": "markdown",
   "metadata": {},
   "source": [
    "#### Using Voting selector for identifying important variables"
   ]
  },
  {
   "cell_type": "code",
   "execution_count": 48,
   "metadata": {},
   "outputs": [
    {
     "data": {
      "text/plain": [
       "VotingSelector(exclude_features=None, feature_names='all',\n",
       "               handle_category='woe', minimum_votes=0, no_of_features=13,\n",
       "               numerical_missing_values='median',\n",
       "               selection_techniques=['WOE', 'RF', 'RFE', 'ETC', 'CS', 'L_ONE'])"
      ]
     },
     "execution_count": 48,
     "metadata": {},
     "output_type": "execute_result"
    }
   ],
   "source": [
    "#Traing the data with voting selector model\n",
    "from xverse.ensemble import VotingSelector\n",
    "\n",
    "clf2 = VotingSelector()\n",
    "clf2.fit(X_train_w[demo_crd_col], y_train)"
   ]
  },
  {
   "cell_type": "code",
   "execution_count": 49,
   "metadata": {},
   "outputs": [],
   "source": [
    "#Feature importance by each seelection technique\n",
    "vb_prob_sel=clf2.feature_importances_"
   ]
  },
  {
   "cell_type": "code",
   "execution_count": 50,
   "metadata": {},
   "outputs": [
    {
     "name": "stdout",
     "output_type": "stream",
     "text": [
      "Medium PREDICTORS  0               Avgas CC Utilization in last 12 months\n",
      "1                No of trades opened in last 12 months\n",
      "2    No of Inquiries in last 12 months (excluding h...\n",
      "3        No of times 30 DPD or worse in last 12 months\n",
      "4                                   Total No of Trades\n",
      "5         No of times 90 DPD or worse in last 6 months\n",
      "6                 No of trades opened in last 6 months\n",
      "7         No of times 30 DPD or worse in last 6 months\n",
      "8        No of times 60 DPD or worse in last 12 months\n",
      "9                                  Outstanding Balance\n",
      "Name: Variable_Name, dtype: object\n"
     ]
    }
   ],
   "source": [
    "#Using information value identifying the strong predictors but from \n",
    "#below code it is evident that there are no strong predictors which is iv value greater that 0.3\n",
    "vb_prob_sel[['Variable_Name','Information_Value']]\n",
    "print('Medium PREDICTORS ', vb_prob_sel[vb_prob_sel['Information_Value']>0.1]['Variable_Name'])"
   ]
  },
  {
   "cell_type": "code",
   "execution_count": 51,
   "metadata": {},
   "outputs": [],
   "source": [
    "#Copy the votes of the features into a new datframe\n",
    "vb_sel=clf2.feature_votes_[['Variable_Name','Information_Value','Recursive_Feature_Elimination']]"
   ]
  },
  {
   "cell_type": "code",
   "execution_count": 52,
   "metadata": {},
   "outputs": [],
   "source": [
    "#Considering the variables favoured by rfe selection technique\n",
    "col_dc=vb_sel[(vb_sel['Recursive_Feature_Elimination']==1)]['Variable_Name']"
   ]
  },
  {
   "cell_type": "code",
   "execution_count": 53,
   "metadata": {},
   "outputs": [
    {
     "data": {
      "text/html": [
       "<div>\n",
       "<style scoped>\n",
       "    .dataframe tbody tr th:only-of-type {\n",
       "        vertical-align: middle;\n",
       "    }\n",
       "\n",
       "    .dataframe tbody tr th {\n",
       "        vertical-align: top;\n",
       "    }\n",
       "\n",
       "    .dataframe thead th {\n",
       "        text-align: right;\n",
       "    }\n",
       "</style>\n",
       "<table border=\"1\" class=\"dataframe\">\n",
       "  <thead>\n",
       "    <tr style=\"text-align: right;\">\n",
       "      <th></th>\n",
       "      <th>Features</th>\n",
       "      <th>VIF</th>\n",
       "    </tr>\n",
       "  </thead>\n",
       "  <tbody>\n",
       "    <tr>\n",
       "      <th>4</th>\n",
       "      <td>No of trades opened in last 12 months</td>\n",
       "      <td>2.97</td>\n",
       "    </tr>\n",
       "    <tr>\n",
       "      <th>1</th>\n",
       "      <td>No of Inquiries in last 12 months (excluding h...</td>\n",
       "      <td>2.71</td>\n",
       "    </tr>\n",
       "    <tr>\n",
       "      <th>3</th>\n",
       "      <td>No of times 90 DPD or worse in last 6 months</td>\n",
       "      <td>2.20</td>\n",
       "    </tr>\n",
       "    <tr>\n",
       "      <th>2</th>\n",
       "      <td>No of times 30 DPD or worse in last 12 months</td>\n",
       "      <td>2.15</td>\n",
       "    </tr>\n",
       "    <tr>\n",
       "      <th>0</th>\n",
       "      <td>Avgas CC Utilization in last 12 months</td>\n",
       "      <td>1.81</td>\n",
       "    </tr>\n",
       "    <tr>\n",
       "      <th>9</th>\n",
       "      <td>No of months in current residence</td>\n",
       "      <td>1.08</td>\n",
       "    </tr>\n",
       "    <tr>\n",
       "      <th>10</th>\n",
       "      <td>No of months in current company</td>\n",
       "      <td>1.03</td>\n",
       "    </tr>\n",
       "    <tr>\n",
       "      <th>7</th>\n",
       "      <td>Age</td>\n",
       "      <td>1.02</td>\n",
       "    </tr>\n",
       "    <tr>\n",
       "      <th>11</th>\n",
       "      <td>Type of residence</td>\n",
       "      <td>1.02</td>\n",
       "    </tr>\n",
       "    <tr>\n",
       "      <th>5</th>\n",
       "      <td>Gender</td>\n",
       "      <td>1.00</td>\n",
       "    </tr>\n",
       "    <tr>\n",
       "      <th>6</th>\n",
       "      <td>Education</td>\n",
       "      <td>1.00</td>\n",
       "    </tr>\n",
       "    <tr>\n",
       "      <th>8</th>\n",
       "      <td>No of dependents</td>\n",
       "      <td>1.00</td>\n",
       "    </tr>\n",
       "    <tr>\n",
       "      <th>12</th>\n",
       "      <td>Profession</td>\n",
       "      <td>1.00</td>\n",
       "    </tr>\n",
       "  </tbody>\n",
       "</table>\n",
       "</div>"
      ],
      "text/plain": [
       "                                             Features   VIF\n",
       "4               No of trades opened in last 12 months  2.97\n",
       "1   No of Inquiries in last 12 months (excluding h...  2.71\n",
       "3        No of times 90 DPD or worse in last 6 months  2.20\n",
       "2       No of times 30 DPD or worse in last 12 months  2.15\n",
       "0              Avgas CC Utilization in last 12 months  1.81\n",
       "9                   No of months in current residence  1.08\n",
       "10                    No of months in current company  1.03\n",
       "7                                                 Age  1.02\n",
       "11                                  Type of residence  1.02\n",
       "5                                              Gender  1.00\n",
       "6                                           Education  1.00\n",
       "8                                    No of dependents  1.00\n",
       "12                                         Profession  1.00"
      ]
     },
     "execution_count": 53,
     "metadata": {},
     "output_type": "execute_result"
    }
   ],
   "source": [
    "#Calculating VIF sequenctially and removing high vif variables\n",
    "col=col_dc\n",
    "c=0\n",
    "while c==0:\n",
    "    vif = pd.DataFrame()\n",
    "    vif['Features'] = X_train_w[col].columns\n",
    "    vif['VIF'] = [variance_inflation_factor(X_train_w[col].values, i) for i in range(X_train_w[col].shape[1])]\n",
    "    vif['VIF'] = round(vif['VIF'], 2)\n",
    "    vif = vif.sort_values(by = \"VIF\", ascending = False)\n",
    "    col=[i for i in col if i not in vif[vif['VIF']==vif['VIF'].max()]['Features'].values]\n",
    "    #if vif['VIF'].max()<10:\n",
    "    c=1\n",
    "vif"
   ]
  },
  {
   "cell_type": "code",
   "execution_count": 54,
   "metadata": {},
   "outputs": [],
   "source": [
    "# Logistic regression model with new columns and removing columns whose p value is greater than 0.01\n",
    "logm1 = sm.GLM(y_train,(sm.add_constant(X_train_w[col_dc])), family = sm.families.Binomial())\n",
    "df=logm1.fit().summary().tables[1]\n",
    "dfs=pd.read_html(df.as_html())\n",
    "dfs=dfs[0]\n",
    "dfs.columns=dfs.loc[0,:]\n",
    "dfs.drop(0,axis=0,inplace=True)\n",
    "# filtered column list is stored in col variable\n",
    "col=dfs[dfs['P>|z|'].astype(float)<0.1][dfs.columns[0]].values\n"
   ]
  },
  {
   "cell_type": "code",
   "execution_count": 55,
   "metadata": {},
   "outputs": [],
   "source": [
    "#Removing the const column as we are uing sklearn logisticg model further\n",
    "col=[i for i in col if i !='const']"
   ]
  },
  {
   "cell_type": "code",
   "execution_count": 56,
   "metadata": {},
   "outputs": [
    {
     "data": {
      "text/plain": [
       "LogisticRegression(C=1.0, class_weight='balanced', dual=False,\n",
       "                   fit_intercept=True, intercept_scaling=1, l1_ratio=None,\n",
       "                   max_iter=100, multi_class='auto', n_jobs=None, penalty='l2',\n",
       "                   random_state=None, solver='lbfgs', tol=0.0001, verbose=0,\n",
       "                   warm_start=False)"
      ]
     },
     "execution_count": 56,
     "metadata": {},
     "output_type": "execute_result"
    }
   ],
   "source": [
    "#Training the logist model\n",
    "logreg = LogisticRegression(class_weight='balanced')\n",
    "logreg.fit(X_train_w[col], y_train)"
   ]
  },
  {
   "cell_type": "code",
   "execution_count": 57,
   "metadata": {},
   "outputs": [],
   "source": [
    "# Using grid search to find best parameters \n",
    "\n",
    "# logistic regression - the class weight is used to handle class imbalance - it adjusts the cost function\n",
    "logistic = LogisticRegression(class_weight='balanced')\n",
    "\n",
    "# hyperparameter space\n",
    "params = {'C': [0.1, 0.5, 1, 2, 3, 4, 5, 10], 'penalty': ['l1', 'l2']}\n",
    "\n",
    "# create 5 folds\n",
    "folds = StratifiedKFold(n_splits = 5, shuffle = True, random_state = 4)\n",
    "\n",
    "# create gridsearch object\n",
    "model = GridSearchCV(estimator=logistic, cv=folds, param_grid=params, scoring='roc_auc')"
   ]
  },
  {
   "cell_type": "code",
   "execution_count": 58,
   "metadata": {},
   "outputs": [
    {
     "data": {
      "text/plain": [
       "GridSearchCV(cv=StratifiedKFold(n_splits=5, random_state=4, shuffle=True),\n",
       "             error_score=nan,\n",
       "             estimator=LogisticRegression(C=1.0, class_weight='balanced',\n",
       "                                          dual=False, fit_intercept=True,\n",
       "                                          intercept_scaling=1, l1_ratio=None,\n",
       "                                          max_iter=100, multi_class='auto',\n",
       "                                          n_jobs=None, penalty='l2',\n",
       "                                          random_state=None, solver='lbfgs',\n",
       "                                          tol=0.0001, verbose=0,\n",
       "                                          warm_start=False),\n",
       "             iid='deprecated', n_jobs=None,\n",
       "             param_grid={'C': [0.1, 0.5, 1, 2, 3, 4, 5, 10],\n",
       "                         'penalty': ['l1', 'l2']},\n",
       "             pre_dispatch='2*n_jobs', refit=True, return_train_score=False,\n",
       "             scoring='roc_auc', verbose=0)"
      ]
     },
     "execution_count": 58,
     "metadata": {},
     "output_type": "execute_result"
    }
   ],
   "source": [
    "# fit model\n",
    "model.fit(X_train_w[col], y_train)"
   ]
  },
  {
   "cell_type": "code",
   "execution_count": 59,
   "metadata": {},
   "outputs": [
    {
     "name": "stdout",
     "output_type": "stream",
     "text": [
      "Best AUC:  0.6743448878090413\n",
      "Best hyperparameters:  {'C': 0.1, 'penalty': 'l2'}\n"
     ]
    }
   ],
   "source": [
    "# print best hyperparameters\n",
    "print(\"Best AUC: \", model.best_score_)\n",
    "print(\"Best hyperparameters: \", model.best_params_)"
   ]
  },
  {
   "cell_type": "code",
   "execution_count": 60,
   "metadata": {},
   "outputs": [
    {
     "data": {
      "text/plain": [
       "LogisticRegression(C=0.1, class_weight='balanced', dual=False,\n",
       "                   fit_intercept=True, intercept_scaling=1, l1_ratio=None,\n",
       "                   max_iter=100, multi_class='auto', n_jobs=None, penalty='l2',\n",
       "                   random_state=None, solver='lbfgs', tol=0.0001, verbose=0,\n",
       "                   warm_start=False)"
      ]
     },
     "execution_count": 60,
     "metadata": {},
     "output_type": "execute_result"
    }
   ],
   "source": [
    "# logistic regression - the class weight is used to handle class imbalance - it adjusts the cost function\n",
    "logistic = LogisticRegression(class_weight='balanced',C=0.1,penalty='l2')\n",
    "logistic.fit(X_train_w[col], y_train)\n"
   ]
  },
  {
   "cell_type": "code",
   "execution_count": 61,
   "metadata": {
    "colab": {
     "base_uri": "https://localhost:8080/",
     "height": 166
    },
    "colab_type": "code",
    "executionInfo": {
     "elapsed": 103030,
     "status": "error",
     "timestamp": 1586009717865,
     "user": {
      "displayName": "Vinaykumar Uppala",
      "photoUrl": "",
      "userId": "04118229899259509988"
     },
     "user_tz": -330
    },
    "id": "ceQIMmzfuN0i",
    "outputId": "caa3dbad-be9c-477b-b7d9-70cd9e30a6f3"
   },
   "outputs": [
    {
     "data": {
      "text/html": [
       "<div>\n",
       "<style scoped>\n",
       "    .dataframe tbody tr th:only-of-type {\n",
       "        vertical-align: middle;\n",
       "    }\n",
       "\n",
       "    .dataframe tbody tr th {\n",
       "        vertical-align: top;\n",
       "    }\n",
       "\n",
       "    .dataframe thead th {\n",
       "        text-align: right;\n",
       "    }\n",
       "</style>\n",
       "<table border=\"1\" class=\"dataframe\">\n",
       "  <thead>\n",
       "    <tr style=\"text-align: right;\">\n",
       "      <th></th>\n",
       "      <th>Age</th>\n",
       "      <th>Gender</th>\n",
       "      <th>Marital_Status</th>\n",
       "      <th>No of dependents</th>\n",
       "      <th>Income</th>\n",
       "      <th>Education</th>\n",
       "      <th>Profession</th>\n",
       "      <th>Type of residence</th>\n",
       "      <th>No of months in current residence</th>\n",
       "      <th>No of months in current company</th>\n",
       "      <th>...</th>\n",
       "      <th>0.5</th>\n",
       "      <th>0.55</th>\n",
       "      <th>0.6</th>\n",
       "      <th>0.65</th>\n",
       "      <th>0.7</th>\n",
       "      <th>0.75</th>\n",
       "      <th>0.8</th>\n",
       "      <th>0.85</th>\n",
       "      <th>0.9</th>\n",
       "      <th>0.95</th>\n",
       "    </tr>\n",
       "  </thead>\n",
       "  <tbody>\n",
       "    <tr>\n",
       "      <th>50868</th>\n",
       "      <td>0.065178</td>\n",
       "      <td>-0.043852</td>\n",
       "      <td>0.025120</td>\n",
       "      <td>0.020100</td>\n",
       "      <td>0.193278</td>\n",
       "      <td>-0.046634</td>\n",
       "      <td>-0.016491</td>\n",
       "      <td>-0.006602</td>\n",
       "      <td>0.086179</td>\n",
       "      <td>-0.065391</td>\n",
       "      <td>...</td>\n",
       "      <td>0</td>\n",
       "      <td>0</td>\n",
       "      <td>0</td>\n",
       "      <td>0</td>\n",
       "      <td>0</td>\n",
       "      <td>0</td>\n",
       "      <td>0</td>\n",
       "      <td>0</td>\n",
       "      <td>0</td>\n",
       "      <td>0</td>\n",
       "    </tr>\n",
       "    <tr>\n",
       "      <th>45205</th>\n",
       "      <td>-0.035977</td>\n",
       "      <td>0.013168</td>\n",
       "      <td>-0.004417</td>\n",
       "      <td>0.031983</td>\n",
       "      <td>-0.005080</td>\n",
       "      <td>-0.046634</td>\n",
       "      <td>0.071213</td>\n",
       "      <td>-0.006602</td>\n",
       "      <td>-0.045546</td>\n",
       "      <td>-0.106814</td>\n",
       "      <td>...</td>\n",
       "      <td>1</td>\n",
       "      <td>0</td>\n",
       "      <td>0</td>\n",
       "      <td>0</td>\n",
       "      <td>0</td>\n",
       "      <td>0</td>\n",
       "      <td>0</td>\n",
       "      <td>0</td>\n",
       "      <td>0</td>\n",
       "      <td>0</td>\n",
       "    </tr>\n",
       "    <tr>\n",
       "      <th>22506</th>\n",
       "      <td>0.065178</td>\n",
       "      <td>0.013168</td>\n",
       "      <td>-0.004417</td>\n",
       "      <td>0.031983</td>\n",
       "      <td>-0.005080</td>\n",
       "      <td>-0.046634</td>\n",
       "      <td>-0.016491</td>\n",
       "      <td>0.000019</td>\n",
       "      <td>-0.045546</td>\n",
       "      <td>-0.106814</td>\n",
       "      <td>...</td>\n",
       "      <td>0</td>\n",
       "      <td>0</td>\n",
       "      <td>0</td>\n",
       "      <td>0</td>\n",
       "      <td>0</td>\n",
       "      <td>0</td>\n",
       "      <td>0</td>\n",
       "      <td>0</td>\n",
       "      <td>0</td>\n",
       "      <td>0</td>\n",
       "    </tr>\n",
       "    <tr>\n",
       "      <th>46195</th>\n",
       "      <td>-0.035977</td>\n",
       "      <td>0.013168</td>\n",
       "      <td>-0.004417</td>\n",
       "      <td>0.020100</td>\n",
       "      <td>0.193278</td>\n",
       "      <td>-0.066288</td>\n",
       "      <td>-0.016491</td>\n",
       "      <td>-0.006602</td>\n",
       "      <td>0.086179</td>\n",
       "      <td>-0.065391</td>\n",
       "      <td>...</td>\n",
       "      <td>1</td>\n",
       "      <td>0</td>\n",
       "      <td>0</td>\n",
       "      <td>0</td>\n",
       "      <td>0</td>\n",
       "      <td>0</td>\n",
       "      <td>0</td>\n",
       "      <td>0</td>\n",
       "      <td>0</td>\n",
       "      <td>0</td>\n",
       "    </tr>\n",
       "    <tr>\n",
       "      <th>7133</th>\n",
       "      <td>0.065178</td>\n",
       "      <td>0.013168</td>\n",
       "      <td>-0.004417</td>\n",
       "      <td>-0.026905</td>\n",
       "      <td>-0.005080</td>\n",
       "      <td>0.010343</td>\n",
       "      <td>-0.022009</td>\n",
       "      <td>-0.006602</td>\n",
       "      <td>0.086179</td>\n",
       "      <td>0.145639</td>\n",
       "      <td>...</td>\n",
       "      <td>0</td>\n",
       "      <td>0</td>\n",
       "      <td>0</td>\n",
       "      <td>0</td>\n",
       "      <td>0</td>\n",
       "      <td>0</td>\n",
       "      <td>0</td>\n",
       "      <td>0</td>\n",
       "      <td>0</td>\n",
       "      <td>0</td>\n",
       "    </tr>\n",
       "  </tbody>\n",
       "</table>\n",
       "<p>5 rows × 48 columns</p>\n",
       "</div>"
      ],
      "text/plain": [
       "            Age    Gender  Marital_Status  No of dependents    Income  \\\n",
       "50868  0.065178 -0.043852        0.025120          0.020100  0.193278   \n",
       "45205 -0.035977  0.013168       -0.004417          0.031983 -0.005080   \n",
       "22506  0.065178  0.013168       -0.004417          0.031983 -0.005080   \n",
       "46195 -0.035977  0.013168       -0.004417          0.020100  0.193278   \n",
       "7133   0.065178  0.013168       -0.004417         -0.026905 -0.005080   \n",
       "\n",
       "       Education  Profession  Type of residence  \\\n",
       "50868  -0.046634   -0.016491          -0.006602   \n",
       "45205  -0.046634    0.071213          -0.006602   \n",
       "22506  -0.046634   -0.016491           0.000019   \n",
       "46195  -0.066288   -0.016491          -0.006602   \n",
       "7133    0.010343   -0.022009          -0.006602   \n",
       "\n",
       "       No of months in current residence  No of months in current company  \\\n",
       "50868                           0.086179                        -0.065391   \n",
       "45205                          -0.045546                        -0.106814   \n",
       "22506                          -0.045546                        -0.106814   \n",
       "46195                           0.086179                        -0.065391   \n",
       "7133                            0.086179                         0.145639   \n",
       "\n",
       "       ...  0.5  0.55  0.6  0.65  0.7  0.75  0.8  0.85  0.9  0.95  \n",
       "50868  ...    0     0    0     0    0     0    0     0    0     0  \n",
       "45205  ...    1     0    0     0    0     0    0     0    0     0  \n",
       "22506  ...    0     0    0     0    0     0    0     0    0     0  \n",
       "46195  ...    1     0    0     0    0     0    0     0    0     0  \n",
       "7133   ...    0     0    0     0    0     0    0     0    0     0  \n",
       "\n",
       "[5 rows x 48 columns]"
      ]
     },
     "execution_count": 61,
     "metadata": {},
     "output_type": "execute_result"
    }
   ],
   "source": [
    "#predicting the target values by using different cut offs\n",
    "X_train_w['proba']=logistic.predict_proba(X_train_w[col])[:, 1]\n",
    "numbers=[float(x)/20 for x in range(20)]\n",
    "for i in numbers:\n",
    "    X_train_w[i]=X_train_w.proba.map(lambda x: 1 if x> i else 0)\n",
    "X_train_w.head()"
   ]
  },
  {
   "cell_type": "code",
   "execution_count": 62,
   "metadata": {},
   "outputs": [
    {
     "name": "stdout",
     "output_type": "stream",
     "text": [
      "      prob  accuracy     sensi     speci\n",
      "0.00  0.00  0.041993  1.000000  0.000000\n",
      "0.05  0.05  0.041993  1.000000  0.000000\n",
      "0.10  0.10  0.041993  1.000000  0.000000\n",
      "0.15  0.15  0.041993  1.000000  0.000000\n",
      "0.20  0.20  0.041993  1.000000  0.000000\n",
      "0.25  0.25  0.184900  0.955696  0.151113\n",
      "0.30  0.30  0.275673  0.924537  0.247231\n",
      "0.35  0.35  0.360579  0.885102  0.337587\n",
      "0.40  0.40  0.409216  0.844206  0.390149\n",
      "0.45  0.45  0.480077  0.783836  0.466762\n",
      "0.50  0.50  0.569624  0.693281  0.564203\n",
      "0.55  0.55  0.690021  0.551120  0.696110\n",
      "0.60  0.60  0.787050  0.391431  0.804392\n",
      "0.65  0.65  0.838264  0.295034  0.862076\n",
      "0.70  0.70  0.904013  0.129990  0.937941\n",
      "0.75  0.75  0.957987  0.000000  0.999979\n",
      "0.80  0.80  0.958007  0.000000  1.000000\n",
      "0.85  0.85  0.958007  0.000000  1.000000\n",
      "0.90  0.90  0.958007  0.000000  1.000000\n",
      "0.95  0.95  0.958007  0.000000  1.000000\n"
     ]
    }
   ],
   "source": [
    "#For different cut offs calculating the metrics\n",
    "cutoff_df = pd.DataFrame( columns = ['prob','accuracy','sensi','speci'])\n",
    "from sklearn.metrics import confusion_matrix\n",
    "\n",
    "# TP = confusion[1,1] # true positive \n",
    "# TN = confusion[0,0] # true negatives\n",
    "# FP = confusion[0,1] # false positives\n",
    "# FN = confusion[1,0] # false negatives\n",
    "\n",
    "num = [float(x)/20 for x in range(20)]\n",
    "for i in num:\n",
    "    cm1 = metrics.confusion_matrix(y_train, X_train_w[i] )\n",
    "    total1=sum(sum(cm1))\n",
    "    accuracy = (cm1[0,0]+cm1[1,1])/total1\n",
    "    \n",
    "    speci = cm1[0,0]/(cm1[0,0]+cm1[0,1])\n",
    "    sensi = cm1[1,1]/(cm1[1,0]+cm1[1,1])\n",
    "    cutoff_df.loc[i] =[ i ,accuracy,sensi,speci]\n",
    "print(cutoff_df)"
   ]
  },
  {
   "cell_type": "markdown",
   "metadata": {},
   "source": [
    "#### As we can see the AUC of the logistic model is very less that is 67 percent so moving to random forest"
   ]
  },
  {
   "cell_type": "code",
   "execution_count": 63,
   "metadata": {},
   "outputs": [],
   "source": [
    "# Importing random forest classifier from sklearn library\n",
    "from sklearn.ensemble import RandomForestClassifier\n",
    "from sklearn.metrics import classification_report,confusion_matrix, accuracy_score\n"
   ]
  },
  {
   "cell_type": "code",
   "execution_count": 64,
   "metadata": {},
   "outputs": [],
   "source": [
    "# Create the parameter grid based on the results of random search \n",
    "param_grid = {\n",
    "    'max_depth': [4,8,10],\n",
    "    'min_samples_leaf': range(2, 10, 50),\n",
    "    'min_samples_split': range(2, 10, 50),\n",
    "    'n_estimators': [5,10,20], \n",
    "    'max_features': [4,5, 10]\n",
    "}\n",
    "# Create a based model\n",
    "rf = RandomForestClassifier(class_weight='balanced',random_state=4)\n",
    "folds = StratifiedKFold(n_splits = 5, shuffle = True, random_state = 4)\n",
    "# Instantiate the grid search model\n",
    "grid_search = GridSearchCV(estimator = rf, param_grid = param_grid, \n",
    "                          cv = folds, n_jobs = -1,verbose = 1)"
   ]
  },
  {
   "cell_type": "code",
   "execution_count": 65,
   "metadata": {},
   "outputs": [
    {
     "name": "stdout",
     "output_type": "stream",
     "text": [
      "Fitting 5 folds for each of 27 candidates, totalling 135 fits\n"
     ]
    },
    {
     "name": "stderr",
     "output_type": "stream",
     "text": [
      "[Parallel(n_jobs=-1)]: Using backend LokyBackend with 4 concurrent workers.\n",
      "[Parallel(n_jobs=-1)]: Done  42 tasks      | elapsed:   14.2s\n",
      "[Parallel(n_jobs=-1)]: Done 135 out of 135 | elapsed:   42.2s finished\n"
     ]
    },
    {
     "data": {
      "text/plain": [
       "GridSearchCV(cv=StratifiedKFold(n_splits=5, random_state=4, shuffle=True),\n",
       "             error_score=nan,\n",
       "             estimator=RandomForestClassifier(bootstrap=True, ccp_alpha=0.0,\n",
       "                                              class_weight='balanced',\n",
       "                                              criterion='gini', max_depth=None,\n",
       "                                              max_features='auto',\n",
       "                                              max_leaf_nodes=None,\n",
       "                                              max_samples=None,\n",
       "                                              min_impurity_decrease=0.0,\n",
       "                                              min_impurity_split=None,\n",
       "                                              min_samples_leaf=1,\n",
       "                                              min_samples_split=...\n",
       "                                              n_estimators=100, n_jobs=None,\n",
       "                                              oob_score=False, random_state=4,\n",
       "                                              verbose=0, warm_start=False),\n",
       "             iid='deprecated', n_jobs=-1,\n",
       "             param_grid={'max_depth': [4, 8, 10], 'max_features': [4, 5, 10],\n",
       "                         'min_samples_leaf': range(2, 10, 50),\n",
       "                         'min_samples_split': range(2, 10, 50),\n",
       "                         'n_estimators': [5, 10, 20]},\n",
       "             pre_dispatch='2*n_jobs', refit=True, return_train_score=False,\n",
       "             scoring=None, verbose=1)"
      ]
     },
     "execution_count": 65,
     "metadata": {},
     "output_type": "execute_result"
    }
   ],
   "source": [
    "#Model Fit\n",
    "grid_search.fit(X_train_w[demo_crd_col], y_train)\n"
   ]
  },
  {
   "cell_type": "code",
   "execution_count": 66,
   "metadata": {},
   "outputs": [
    {
     "name": "stdout",
     "output_type": "stream",
     "text": [
      "Best AUC:  0.805205592725881\n",
      "Best hyperparameters:  {'max_depth': 10, 'max_features': 10, 'min_samples_leaf': 2, 'min_samples_split': 2, 'n_estimators': 20}\n"
     ]
    }
   ],
   "source": [
    "# print best hyperparameters\n",
    "print(\"Best AUC: \", grid_search.best_score_)\n",
    "print(\"Best hyperparameters: \", grid_search.best_params_)"
   ]
  },
  {
   "cell_type": "markdown",
   "metadata": {},
   "source": [
    "#### AUC of the model using random forest is about 80%"
   ]
  },
  {
   "cell_type": "code",
   "execution_count": 67,
   "metadata": {},
   "outputs": [],
   "source": [
    "# Running the random forest with best parameters.\n",
    "rfc = RandomForestClassifier(class_weight='balanced',random_state=4,\n",
    "                             max_depth= 10, max_features= 10, min_samples_leaf= 2, \n",
    "                             min_samples_split= 2, n_estimators= 20)\n",
    "rfc.fit(X_train_w[demo_crd_col], y_train)\n",
    "y_pred = rfc.predict(X_train_w[demo_crd_col])"
   ]
  },
  {
   "cell_type": "code",
   "execution_count": 68,
   "metadata": {},
   "outputs": [],
   "source": [
    "# Calculating the predicted values of xtrain and saving them\n",
    "y_pred_proba = rfc.predict_proba(X_train_w[demo_crd_col])\n",
    "X_train_w['pred_proba']=y_pred_proba[:,1]\n",
    "y_pred=X_train_w.pred_proba.map(lambda x : 1 if x>=0.52 else 0)"
   ]
  },
  {
   "cell_type": "code",
   "execution_count": 69,
   "metadata": {},
   "outputs": [
    {
     "name": "stdout",
     "output_type": "stream",
     "text": [
      "[[39551  7308]\n",
      " [  671  1383]]\n",
      "0.8368736327765625\n"
     ]
    }
   ],
   "source": [
    "# Accuracy of train sub set\n",
    "print(confusion_matrix(y_train,y_pred))\n",
    "print(accuracy_score(y_train,y_pred))"
   ]
  },
  {
   "cell_type": "code",
   "execution_count": 70,
   "metadata": {
    "colab": {
     "base_uri": "https://localhost:8080/",
     "height": 166
    },
    "colab_type": "code",
    "executionInfo": {
     "elapsed": 103030,
     "status": "error",
     "timestamp": 1586009717865,
     "user": {
      "displayName": "Vinaykumar Uppala",
      "photoUrl": "",
      "userId": "04118229899259509988"
     },
     "user_tz": -330
    },
    "id": "ceQIMmzfuN0i",
    "outputId": "caa3dbad-be9c-477b-b7d9-70cd9e30a6f3"
   },
   "outputs": [
    {
     "data": {
      "text/html": [
       "<div>\n",
       "<style scoped>\n",
       "    .dataframe tbody tr th:only-of-type {\n",
       "        vertical-align: middle;\n",
       "    }\n",
       "\n",
       "    .dataframe tbody tr th {\n",
       "        vertical-align: top;\n",
       "    }\n",
       "\n",
       "    .dataframe thead th {\n",
       "        text-align: right;\n",
       "    }\n",
       "</style>\n",
       "<table border=\"1\" class=\"dataframe\">\n",
       "  <thead>\n",
       "    <tr style=\"text-align: right;\">\n",
       "      <th></th>\n",
       "      <th>Age</th>\n",
       "      <th>Gender</th>\n",
       "      <th>Marital_Status</th>\n",
       "      <th>No of dependents</th>\n",
       "      <th>Income</th>\n",
       "      <th>Education</th>\n",
       "      <th>Profession</th>\n",
       "      <th>Type of residence</th>\n",
       "      <th>No of months in current residence</th>\n",
       "      <th>No of months in current company</th>\n",
       "      <th>...</th>\n",
       "      <th>0.55</th>\n",
       "      <th>0.6</th>\n",
       "      <th>0.65</th>\n",
       "      <th>0.7</th>\n",
       "      <th>0.75</th>\n",
       "      <th>0.8</th>\n",
       "      <th>0.85</th>\n",
       "      <th>0.9</th>\n",
       "      <th>0.95</th>\n",
       "      <th>pred_proba</th>\n",
       "    </tr>\n",
       "  </thead>\n",
       "  <tbody>\n",
       "    <tr>\n",
       "      <th>50868</th>\n",
       "      <td>0.065178</td>\n",
       "      <td>-0.043852</td>\n",
       "      <td>0.025120</td>\n",
       "      <td>0.020100</td>\n",
       "      <td>0.193278</td>\n",
       "      <td>-0.046634</td>\n",
       "      <td>-0.016491</td>\n",
       "      <td>-0.006602</td>\n",
       "      <td>0.086179</td>\n",
       "      <td>-0.065391</td>\n",
       "      <td>...</td>\n",
       "      <td>0</td>\n",
       "      <td>0</td>\n",
       "      <td>0</td>\n",
       "      <td>0</td>\n",
       "      <td>0</td>\n",
       "      <td>0</td>\n",
       "      <td>0</td>\n",
       "      <td>0</td>\n",
       "      <td>0</td>\n",
       "      <td>0.542490</td>\n",
       "    </tr>\n",
       "    <tr>\n",
       "      <th>45205</th>\n",
       "      <td>-0.035977</td>\n",
       "      <td>0.013168</td>\n",
       "      <td>-0.004417</td>\n",
       "      <td>0.031983</td>\n",
       "      <td>-0.005080</td>\n",
       "      <td>-0.046634</td>\n",
       "      <td>0.071213</td>\n",
       "      <td>-0.006602</td>\n",
       "      <td>-0.045546</td>\n",
       "      <td>-0.106814</td>\n",
       "      <td>...</td>\n",
       "      <td>0</td>\n",
       "      <td>0</td>\n",
       "      <td>0</td>\n",
       "      <td>0</td>\n",
       "      <td>0</td>\n",
       "      <td>0</td>\n",
       "      <td>0</td>\n",
       "      <td>0</td>\n",
       "      <td>0</td>\n",
       "      <td>0.517615</td>\n",
       "    </tr>\n",
       "    <tr>\n",
       "      <th>22506</th>\n",
       "      <td>0.065178</td>\n",
       "      <td>0.013168</td>\n",
       "      <td>-0.004417</td>\n",
       "      <td>0.031983</td>\n",
       "      <td>-0.005080</td>\n",
       "      <td>-0.046634</td>\n",
       "      <td>-0.016491</td>\n",
       "      <td>0.000019</td>\n",
       "      <td>-0.045546</td>\n",
       "      <td>-0.106814</td>\n",
       "      <td>...</td>\n",
       "      <td>0</td>\n",
       "      <td>0</td>\n",
       "      <td>0</td>\n",
       "      <td>0</td>\n",
       "      <td>0</td>\n",
       "      <td>0</td>\n",
       "      <td>0</td>\n",
       "      <td>0</td>\n",
       "      <td>0</td>\n",
       "      <td>0.262158</td>\n",
       "    </tr>\n",
       "    <tr>\n",
       "      <th>46195</th>\n",
       "      <td>-0.035977</td>\n",
       "      <td>0.013168</td>\n",
       "      <td>-0.004417</td>\n",
       "      <td>0.020100</td>\n",
       "      <td>0.193278</td>\n",
       "      <td>-0.066288</td>\n",
       "      <td>-0.016491</td>\n",
       "      <td>-0.006602</td>\n",
       "      <td>0.086179</td>\n",
       "      <td>-0.065391</td>\n",
       "      <td>...</td>\n",
       "      <td>0</td>\n",
       "      <td>0</td>\n",
       "      <td>0</td>\n",
       "      <td>0</td>\n",
       "      <td>0</td>\n",
       "      <td>0</td>\n",
       "      <td>0</td>\n",
       "      <td>0</td>\n",
       "      <td>0</td>\n",
       "      <td>0.473294</td>\n",
       "    </tr>\n",
       "    <tr>\n",
       "      <th>7133</th>\n",
       "      <td>0.065178</td>\n",
       "      <td>0.013168</td>\n",
       "      <td>-0.004417</td>\n",
       "      <td>-0.026905</td>\n",
       "      <td>-0.005080</td>\n",
       "      <td>0.010343</td>\n",
       "      <td>-0.022009</td>\n",
       "      <td>-0.006602</td>\n",
       "      <td>0.086179</td>\n",
       "      <td>0.145639</td>\n",
       "      <td>...</td>\n",
       "      <td>0</td>\n",
       "      <td>0</td>\n",
       "      <td>0</td>\n",
       "      <td>0</td>\n",
       "      <td>0</td>\n",
       "      <td>0</td>\n",
       "      <td>0</td>\n",
       "      <td>0</td>\n",
       "      <td>0</td>\n",
       "      <td>0.165408</td>\n",
       "    </tr>\n",
       "  </tbody>\n",
       "</table>\n",
       "<p>5 rows × 49 columns</p>\n",
       "</div>"
      ],
      "text/plain": [
       "            Age    Gender  Marital_Status  No of dependents    Income  \\\n",
       "50868  0.065178 -0.043852        0.025120          0.020100  0.193278   \n",
       "45205 -0.035977  0.013168       -0.004417          0.031983 -0.005080   \n",
       "22506  0.065178  0.013168       -0.004417          0.031983 -0.005080   \n",
       "46195 -0.035977  0.013168       -0.004417          0.020100  0.193278   \n",
       "7133   0.065178  0.013168       -0.004417         -0.026905 -0.005080   \n",
       "\n",
       "       Education  Profession  Type of residence  \\\n",
       "50868  -0.046634   -0.016491          -0.006602   \n",
       "45205  -0.046634    0.071213          -0.006602   \n",
       "22506  -0.046634   -0.016491           0.000019   \n",
       "46195  -0.066288   -0.016491          -0.006602   \n",
       "7133    0.010343   -0.022009          -0.006602   \n",
       "\n",
       "       No of months in current residence  No of months in current company  \\\n",
       "50868                           0.086179                        -0.065391   \n",
       "45205                          -0.045546                        -0.106814   \n",
       "22506                          -0.045546                        -0.106814   \n",
       "46195                           0.086179                        -0.065391   \n",
       "7133                            0.086179                         0.145639   \n",
       "\n",
       "       ...  0.55  0.6  0.65  0.7  0.75  0.8  0.85  0.9  0.95  pred_proba  \n",
       "50868  ...     0    0     0    0     0    0     0    0     0    0.542490  \n",
       "45205  ...     0    0     0    0     0    0     0    0     0    0.517615  \n",
       "22506  ...     0    0     0    0     0    0     0    0     0    0.262158  \n",
       "46195  ...     0    0     0    0     0    0     0    0     0    0.473294  \n",
       "7133   ...     0    0     0    0     0    0     0    0     0    0.165408  \n",
       "\n",
       "[5 rows x 49 columns]"
      ]
     },
     "execution_count": 70,
     "metadata": {},
     "output_type": "execute_result"
    }
   ],
   "source": [
    "#predicting the target values by using different cut offs\n",
    "numbers=[float(x)/20 for x in range(20)] \n",
    "for i in numbers:\n",
    "    X_train_w[i]=X_train_w.pred_proba.map(lambda x: 1 if x> i else 0)\n",
    "X_train_w.head()"
   ]
  },
  {
   "cell_type": "code",
   "execution_count": 71,
   "metadata": {},
   "outputs": [
    {
     "name": "stdout",
     "output_type": "stream",
     "text": [
      "      prob  accuracy     sensi     speci\n",
      "0.00  0.00  0.041993  1.000000  0.000000\n",
      "0.05  0.05  0.045877  1.000000  0.004055\n",
      "0.10  0.10  0.075420  1.000000  0.034892\n",
      "0.15  0.15  0.138143  0.999026  0.100408\n",
      "0.20  0.20  0.225175  0.995618  0.191404\n",
      "0.25  0.25  0.332815  0.981013  0.304403\n",
      "0.30  0.30  0.415861  0.946933  0.392582\n",
      "0.35  0.35  0.498988  0.920156  0.480527\n",
      "0.40  0.40  0.598246  0.885589  0.585651\n",
      "0.45  0.45  0.708401  0.811587  0.703878\n",
      "0.50  0.50  0.803202  0.724440  0.806654\n",
      "0.55  0.55  0.881872  0.606621  0.893937\n",
      "0.60  0.60  0.933821  0.436222  0.955633\n",
      "0.65  0.65  0.955308  0.255599  0.985979\n",
      "0.70  0.70  0.960665  0.111490  0.997887\n",
      "0.75  0.75  0.959234  0.030672  0.999936\n",
      "0.80  0.80  0.958109  0.002434  1.000000\n",
      "0.85  0.85  0.958007  0.000000  1.000000\n",
      "0.90  0.90  0.958007  0.000000  1.000000\n",
      "0.95  0.95  0.958007  0.000000  1.000000\n"
     ]
    }
   ],
   "source": [
    "#For different cut offs calculating the metrics\n",
    "cutoff_df = pd.DataFrame( columns = ['prob','accuracy','sensi','speci'])\n",
    "from sklearn.metrics import confusion_matrix\n",
    "\n",
    "# TP = confusion[1,1] # true positive \n",
    "# TN = confusion[0,0] # true negatives\n",
    "# FP = confusion[0,1] # false positives\n",
    "# FN = confusion[1,0] # false negatives\n",
    "\n",
    "num = [float(x)/20 for x in range(20)]\n",
    "for i in num:\n",
    "    cm1 = metrics.confusion_matrix(y_train, X_train_w[i] )\n",
    "    total1=sum(sum(cm1))\n",
    "    accuracy = (cm1[0,0]+cm1[1,1])/total1\n",
    "    \n",
    "    speci = cm1[0,0]/(cm1[0,0]+cm1[0,1])\n",
    "    sensi = cm1[1,1]/(cm1[1,0]+cm1[1,1])\n",
    "    cutoff_df.loc[i] =[ i ,accuracy,sensi,speci]\n",
    "print(cutoff_df)"
   ]
  },
  {
   "cell_type": "markdown",
   "metadata": {},
   "source": [
    "#### By considering the above cut off data frame we chose 0.52 as the desirable cutoff"
   ]
  },
  {
   "cell_type": "code",
   "execution_count": 72,
   "metadata": {},
   "outputs": [],
   "source": [
    "# Calculating the predicted values of xtrain and saving them\n",
    "y_pred_proba_tst = rfc.predict_proba(X_test_w[demo_crd_col])\n",
    "X_test_w['pred_proba']=y_pred_proba_tst[:,1]\n",
    "y_pred=X_test_w.pred_proba.map(lambda x : 1 if x>=0.52 else 0)"
   ]
  },
  {
   "cell_type": "code",
   "execution_count": 73,
   "metadata": {},
   "outputs": [
    {
     "name": "stdout",
     "output_type": "stream",
     "text": [
      "[[16600  3468]\n",
      " [  623   272]]\n",
      "0.8048466345465821\n"
     ]
    }
   ],
   "source": [
    "# Accuracy of train sub set\n",
    "print(confusion_matrix(y_test,y_pred))\n",
    "print(accuracy_score(y_test,y_pred))"
   ]
  },
  {
   "cell_type": "code",
   "execution_count": 74,
   "metadata": {},
   "outputs": [
    {
     "name": "stdout",
     "output_type": "stream",
     "text": [
      "0.8048466345465821 0.3039106145251397 0.8271875622882201\n"
     ]
    }
   ],
   "source": [
    "#Accuracy,sensitivity,specificty of the test data\n",
    "cm=confusion_matrix(y_test,y_pred)\n",
    "total=sum(sum(cm))\n",
    "accuracy = (cm[0,0]+cm[1,1])/total\n",
    "    \n",
    "speci = cm[0,0]/(cm[0,0]+cm[0,1])\n",
    "sensi = cm[1,1]/(cm[1,0]+cm[1,1])\n",
    "print(accuracy,sensi,speci)"
   ]
  },
  {
   "cell_type": "markdown",
   "metadata": {},
   "source": [
    "#### As per the business requirement we need to identify customers having no default so preferred specificity over sensitivty"
   ]
  },
  {
   "cell_type": "markdown",
   "metadata": {},
   "source": [
    "### Application score card"
   ]
  },
  {
   "cell_type": "code",
   "execution_count": 75,
   "metadata": {},
   "outputs": [],
   "source": [
    "# Calculating application score for train data\n",
    "#To accomadate the high value of score card to non defaulters modifed the log odd formulae accordingly\n",
    "X_train_w['app_score']=400+20*(np.log((1-X_train_w['pred_proba'])/X_train_w['pred_proba']))/np.log(2)"
   ]
  },
  {
   "cell_type": "code",
   "execution_count": 76,
   "metadata": {},
   "outputs": [],
   "source": [
    "#Creating train score card with nexessary columns\n",
    "score_card_train=pd.merge(demo_crd['Application ID'],X_train_w[['app_score','pred_proba']],how='inner',left_index=True,right_index=True)\n",
    "score_card_train=pd.merge(score_card_train,y_train,left_index=True,right_index=True)"
   ]
  },
  {
   "cell_type": "code",
   "execution_count": 77,
   "metadata": {},
   "outputs": [
    {
     "data": {
      "text/html": [
       "<div>\n",
       "<style scoped>\n",
       "    .dataframe tbody tr th:only-of-type {\n",
       "        vertical-align: middle;\n",
       "    }\n",
       "\n",
       "    .dataframe tbody tr th {\n",
       "        vertical-align: top;\n",
       "    }\n",
       "\n",
       "    .dataframe thead th {\n",
       "        text-align: right;\n",
       "    }\n",
       "</style>\n",
       "<table border=\"1\" class=\"dataframe\">\n",
       "  <thead>\n",
       "    <tr style=\"text-align: right;\">\n",
       "      <th></th>\n",
       "      <th>Application ID</th>\n",
       "      <th>app_score</th>\n",
       "      <th>pred_proba</th>\n",
       "      <th>Performance Tag</th>\n",
       "    </tr>\n",
       "  </thead>\n",
       "  <tbody>\n",
       "    <tr>\n",
       "      <th>0</th>\n",
       "      <td>954457215</td>\n",
       "      <td>483.394160</td>\n",
       "      <td>0.052639</td>\n",
       "      <td>0.0</td>\n",
       "    </tr>\n",
       "    <tr>\n",
       "      <th>1</th>\n",
       "      <td>432830445</td>\n",
       "      <td>469.612254</td>\n",
       "      <td>0.082219</td>\n",
       "      <td>0.0</td>\n",
       "    </tr>\n",
       "    <tr>\n",
       "      <th>3</th>\n",
       "      <td>392161677</td>\n",
       "      <td>476.162476</td>\n",
       "      <td>0.066634</td>\n",
       "      <td>0.0</td>\n",
       "    </tr>\n",
       "    <tr>\n",
       "      <th>4</th>\n",
       "      <td>182011211</td>\n",
       "      <td>461.299852</td>\n",
       "      <td>0.106739</td>\n",
       "      <td>0.0</td>\n",
       "    </tr>\n",
       "    <tr>\n",
       "      <th>5</th>\n",
       "      <td>312196805</td>\n",
       "      <td>449.973208</td>\n",
       "      <td>0.150340</td>\n",
       "      <td>0.0</td>\n",
       "    </tr>\n",
       "  </tbody>\n",
       "</table>\n",
       "</div>"
      ],
      "text/plain": [
       "   Application ID   app_score  pred_proba  Performance Tag\n",
       "0       954457215  483.394160    0.052639              0.0\n",
       "1       432830445  469.612254    0.082219              0.0\n",
       "3       392161677  476.162476    0.066634              0.0\n",
       "4       182011211  461.299852    0.106739              0.0\n",
       "5       312196805  449.973208    0.150340              0.0"
      ]
     },
     "execution_count": 77,
     "metadata": {},
     "output_type": "execute_result"
    }
   ],
   "source": [
    "score_card_train.head()"
   ]
  },
  {
   "cell_type": "code",
   "execution_count": 78,
   "metadata": {
    "scrolled": true
   },
   "outputs": [
    {
     "data": {
      "text/plain": [
       "<matplotlib.axes._subplots.AxesSubplot at 0x1cb6ac16ef0>"
      ]
     },
     "execution_count": 78,
     "metadata": {},
     "output_type": "execute_result"
    },
    {
     "data": {
      "image/png": "[encoded data removed]",
      "text/plain": [
       "<Figure size 432x288 with 1 Axes>"
      ]
     },
     "metadata": {
      "needs_background": "light"
     },
     "output_type": "display_data"
    }
   ],
   "source": [
    "#Scatter plot for train score card\n",
    "sns.scatterplot(x=\"Application ID\", y=\"app_score\",\n",
    "                     hue=\"Performance Tag\", data=score_card_train)"
   ]
  },
  {
   "cell_type": "markdown",
   "metadata": {},
   "source": [
    "#### Inference: As defaulters are below 375 and very good customers are above 450"
   ]
  },
  {
   "cell_type": "code",
   "execution_count": 79,
   "metadata": {},
   "outputs": [],
   "source": [
    "## Calculating application score for test data\n",
    "X_test_w['app_score']=400+20*(np.log((1-X_test_w['pred_proba'])/X_test_w['pred_proba']))/np.log(2)"
   ]
  },
  {
   "cell_type": "code",
   "execution_count": 80,
   "metadata": {},
   "outputs": [],
   "source": [
    "#Creating test score card with nexessary columns\n",
    "score_card_test=pd.merge(demo_crd['Application ID'],X_test_w[['app_score','pred_proba']],how='inner',left_index=True,right_index=True)\n",
    "score_card_test=pd.merge(score_card_test,y_test,left_index=True,right_index=True)"
   ]
  },
  {
   "cell_type": "code",
   "execution_count": 81,
   "metadata": {},
   "outputs": [
    {
     "data": {
      "text/plain": [
       "<matplotlib.axes._subplots.AxesSubplot at 0x1cb68fb3c18>"
      ]
     },
     "execution_count": 81,
     "metadata": {},
     "output_type": "execute_result"
    },
    {
     "data": {
      "image/png": "[encoded data removed]",
      "text/plain": [
       "<Figure size 432x288 with 1 Axes>"
      ]
     },
     "metadata": {
      "needs_background": "light"
     },
     "output_type": "display_data"
    }
   ],
   "source": [
    "#Scatter plot for train score card\n",
    "\n",
    "sns.scatterplot(x=\"Application ID\", y=\"app_score\",\n",
    "                     hue=\"Performance Tag\", data=score_card_test)"
   ]
  },
  {
   "cell_type": "code",
   "execution_count": 82,
   "metadata": {},
   "outputs": [
    {
     "name": "stdout",
     "output_type": "stream",
     "text": [
      "credit card score of the cutoff  397.69045565160127\n"
     ]
    }
   ],
   "source": [
    "#Credit score at the cutoff value 0.52\n",
    "print('credit card score of the cutoff ',400+20*np.log(0.48/0.52)/np.log(2))"
   ]
  }
 ],
 "metadata": {
  "kernelspec": {
   "display_name": "Python 3",
   "language": "python",
   "name": "python3"
  },
  "language_info": {
   "codemirror_mode": {
    "name": "ipython",
    "version": 3
   },
   "file_extension": ".py",
   "mimetype": "text/x-python",
   "name": "python",
   "nbconvert_exporter": "python",
   "pygments_lexer": "ipython3",
   "version": "3.7.1"
  }
 },
 "nbformat": 4,
 "nbformat_minor": 2
}
