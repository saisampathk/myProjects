{
 "cells": [
  {
   "cell_type": "code",
   "execution_count": 3,
   "metadata": {},
   "outputs": [],
   "source": [
    "import pandas as pd\n",
    "import matplotlib.pyplot as plt\n",
    "import numpy as np\n",
    "from scipy import stats\n",
    "from sklearn.preprocessing import PowerTransformer\n",
    "from sklearn.model_selection import train_test_split\n",
    "import matplotlib.pyplot as plt\n",
    "import statsmodels.api as sm\n",
    "from sklearn.preprocessing import StandardScaler\n",
    "from sklearn.feature_selection import RFE\n",
    "from sklearn.linear_model import LogisticRegression\n",
    "from sklearn import metrics\n",
    "from sklearn.preprocessing import MinMaxScaler\n",
    "from statsmodels.stats.outliers_influence import variance_inflation_factor\n",
    "from sklearn.decomposition import PCA\n",
    "from sklearn.model_selection import KFold\n",
    "from sklearn.model_selection import GridSearchCV\n",
    "from sklearn.model_selection import cross_val_score\n",
    "from sklearn.preprocessing import LabelEncoder\n",
    "from sklearn.tree import DecisionTreeClassifier\n",
    "from sklearn.ensemble import AdaBoostClassifier\n",
    "from sklearn.ensemble import GradientBoostingClassifier\n",
    "from sklearn import metrics\n",
    "\n",
    "import fancyimpute\n",
    "from fancyimpute import IterativeImputer as MICE\n",
    "from sklearn.preprocessing import StandardScaler\n",
    "\n",
    "import xgboost as xgb\n",
    "from xgboost import XGBClassifier\n",
    "from xgboost import plot_importance\n",
    "#hide warnings\n",
    "import warnings\n",
    "warnings.filterwarnings('ignore')"
   ]
  },
  {
   "cell_type": "code",
   "execution_count": 77,
   "metadata": {},
   "outputs": [],
   "source": [
    "from sklearn.cluster import KMeans\n",
    "from sklearn.neighbors import NearestNeighbors\n",
    "from random import sample\n",
    "from numpy.random import uniform\n",
    "from math import isnan\n",
    "import seaborn as sns"
   ]
  },
  {
   "cell_type": "markdown",
   "metadata": {},
   "source": [
    "#### Data Understanding"
   ]
  },
  {
   "cell_type": "code",
   "execution_count": 3,
   "metadata": {
    "colab": {},
    "colab_type": "code",
    "id": "TpeQlpHymTM5"
   },
   "outputs": [],
   "source": [
    "#Reading the data set\n",
    "df=pd.read_csv('telecom_churn_data.csv')"
   ]
  },
  {
   "cell_type": "code",
   "execution_count": 4,
   "metadata": {},
   "outputs": [
    {
     "name": "stdout",
     "output_type": "stream",
     "text": [
      "<class 'pandas.core.frame.DataFrame'>\n",
      "RangeIndex: 99999 entries, 0 to 99998\n",
      "Columns: 226 entries, mobile_number to sep_vbc_3g\n",
      "dtypes: float64(179), int64(35), object(12)\n",
      "memory usage: 172.4+ MB\n"
     ]
    },
    {
     "data": {
      "text/plain": [
       "(99999, 226)"
      ]
     },
     "execution_count": 4,
     "metadata": {},
     "output_type": "execute_result"
    }
   ],
   "source": [
    "#Looking at data types of variables\n",
    "df.info()\n",
    "df.shape\n"
   ]
  },
  {
   "cell_type": "markdown",
   "metadata": {},
   "source": [
    "#### Treating nulls in the given data"
   ]
  },
  {
   "cell_type": "code",
   "execution_count": 6,
   "metadata": {
    "colab": {},
    "colab_type": "code",
    "id": "e7TjZZGumTM-"
   },
   "outputs": [],
   "source": [
    "# There are 20 columns for whcih the nan values can be replaced as zeroes based on data understanding\n",
    "k=round((df.isnull().sum()/len(df.index))*100,2)\n",
    "col_70=k[k>10].index\n",
    "col_miss=col_70[4:24]"
   ]
  },
  {
   "cell_type": "code",
   "execution_count": 7,
   "metadata": {
    "colab": {},
    "colab_type": "code",
    "id": "KOIdr8g1mTNe"
   },
   "outputs": [],
   "source": [
    "#Based on 2g and 3g recharges done by users replacing nan with 0 \n",
    "for i in col_miss:\n",
    "    df.loc[(df['monthly_2g_6']+df['monthly_3g_6']+df['sachet_2g_6']+df['sachet_3g_6']==0)&df[i]\n",
    "           .isnull(),i]=0"
   ]
  },
  {
   "cell_type": "code",
   "execution_count": 9,
   "metadata": {
    "colab": {},
    "colab_type": "code",
    "id": "86OvGa8lmTNk"
   },
   "outputs": [],
   "source": [
    "# checking for columns which have nulls greater than 70% again after inputing and dropping them\n",
    "r=round((df.isnull().sum()/len(df.index))*100,2)\n",
    "r[r>10]\n",
    "df_70=df[[i for i in df.columns if i not in r[r>10] and  i not in 'mobile_number']]"
   ]
  },
  {
   "cell_type": "code",
   "execution_count": 0,
   "metadata": {
    "colab": {},
    "colab_type": "code",
    "id": "zzcrv74jo7H-"
   },
   "outputs": [],
   "source": [
    "train_cols=df_70.columns"
   ]
  },
  {
   "cell_type": "code",
   "execution_count": 10,
   "metadata": {
    "colab": {},
    "colab_type": "code",
    "id": "KeoTBbcsq512"
   },
   "outputs": [],
   "source": [
    "#Checking the columns which are categorical and have minimum variance with target and removing the columns\n",
    "col_imp=df[r[(r<10) & (r>0)].index].dtypes\n",
    "col_imp=col_imp[col_imp=='object']\n",
    "col_imp.index\n",
    "df_10=df_70[[i for i in df_70.columns if i not in col_imp.index and i!='last_date_of_month_6']]"
   ]
  },
  {
   "cell_type": "code",
   "execution_count": 13,
   "metadata": {
    "colab": {},
    "colab_type": "code",
    "id": "aPgvTkTWsopE"
   },
   "outputs": [
    {
     "data": {
      "text/plain": [
       "197"
      ]
     },
     "execution_count": 13,
     "metadata": {},
     "output_type": "execute_result"
    }
   ],
   "source": [
    "train_cols=df_10.columns\n",
    "len(train_cols)"
   ]
  },
  {
   "cell_type": "markdown",
   "metadata": {},
   "source": [
    "#### Using Iterative imputer imputing continous varaibles on standardized data "
   ]
  },
  {
   "cell_type": "code",
   "execution_count": 198,
   "metadata": {
    "colab": {},
    "colab_type": "code",
    "collapsed": true,
    "id": "bf-zqOsjpAtP"
   },
   "outputs": [
    {
     "ename": "NameError",
     "evalue": "name 'MICE' is not defined",
     "output_type": "error",
     "traceback": [
      "\u001b[1;31m---------------------------------------------------------------------------\u001b[0m",
      "\u001b[1;31mNameError\u001b[0m                                 Traceback (most recent call last)",
      "\u001b[1;32m<ipython-input-198-c5d0592dadd2>\u001b[0m in \u001b[0;36m<module>\u001b[1;34m\u001b[0m\n\u001b[0;32m      1\u001b[0m \u001b[1;31m#Excecution time for iterative imputer is about 65 mins\u001b[0m\u001b[1;33m\u001b[0m\u001b[1;33m\u001b[0m\u001b[1;33m\u001b[0m\u001b[0m\n\u001b[1;32m----> 2\u001b[1;33m \u001b[0mdf_10\u001b[0m\u001b[1;33m=\u001b[0m\u001b[0mpd\u001b[0m\u001b[1;33m.\u001b[0m\u001b[0mDataFrame\u001b[0m\u001b[1;33m(\u001b[0m\u001b[0mMICE\u001b[0m\u001b[1;33m(\u001b[0m\u001b[0mrandom_state\u001b[0m\u001b[1;33m=\u001b[0m\u001b[1;36m0\u001b[0m\u001b[1;33m,\u001b[0m\u001b[0mverbose\u001b[0m\u001b[1;33m=\u001b[0m\u001b[1;36m0\u001b[0m\u001b[1;33m)\u001b[0m\u001b[1;33m.\u001b[0m\u001b[0mfit_transform\u001b[0m\u001b[1;33m(\u001b[0m\u001b[0mStandardScaler\u001b[0m\u001b[1;33m(\u001b[0m\u001b[1;33m)\u001b[0m\u001b[1;33m.\u001b[0m\u001b[0mfit_transform\u001b[0m\u001b[1;33m(\u001b[0m\u001b[0mdf_10\u001b[0m\u001b[1;33m)\u001b[0m\u001b[1;33m)\u001b[0m\u001b[1;33m)\u001b[0m\u001b[1;33m\u001b[0m\u001b[1;33m\u001b[0m\u001b[0m\n\u001b[0m\u001b[0;32m      3\u001b[0m \u001b[0mdf_10\u001b[0m\u001b[1;33m.\u001b[0m\u001b[0mcolumns\u001b[0m\u001b[1;33m=\u001b[0m\u001b[0mtrain_cols\u001b[0m\u001b[1;33m\u001b[0m\u001b[1;33m\u001b[0m\u001b[0m\n\u001b[0;32m      4\u001b[0m \u001b[0mdf_final\u001b[0m\u001b[1;33m=\u001b[0m\u001b[0mpd\u001b[0m\u001b[1;33m.\u001b[0m\u001b[0mconcat\u001b[0m\u001b[1;33m(\u001b[0m\u001b[1;33m[\u001b[0m\u001b[0mdf_70\u001b[0m\u001b[1;33m[\u001b[0m\u001b[1;33m[\u001b[0m\u001b[0mi\u001b[0m \u001b[1;32mfor\u001b[0m \u001b[0mi\u001b[0m \u001b[1;32min\u001b[0m \u001b[0mdf_70\u001b[0m\u001b[1;33m.\u001b[0m\u001b[0mcolumns\u001b[0m \u001b[1;32mif\u001b[0m \u001b[0mi\u001b[0m \u001b[1;32mnot\u001b[0m \u001b[1;32min\u001b[0m \u001b[0mtrain_cols\u001b[0m\u001b[1;33m]\u001b[0m\u001b[1;33m]\u001b[0m\u001b[1;33m,\u001b[0m\u001b[0mdf_10\u001b[0m\u001b[1;33m[\u001b[0m\u001b[0mtrain_cols\u001b[0m\u001b[1;33m]\u001b[0m\u001b[1;33m]\u001b[0m\u001b[1;33m,\u001b[0m\u001b[0maxis\u001b[0m\u001b[1;33m=\u001b[0m\u001b[1;36m1\u001b[0m\u001b[1;33m,\u001b[0m\u001b[0msort\u001b[0m\u001b[1;33m=\u001b[0m\u001b[1;32mFalse\u001b[0m\u001b[1;33m)\u001b[0m\u001b[1;33m\u001b[0m\u001b[1;33m\u001b[0m\u001b[0m\n",
      "\u001b[1;31mNameError\u001b[0m: name 'MICE' is not defined"
     ]
    }
   ],
   "source": [
    "#Excecution time for iterative imputer is about 65 mins\n",
    "df_10=pd.DataFrame(MICE(random_state=0,verbose=0).fit_transform(StandardScaler().fit_transform(df_10)))\n",
    "df_10.columns=train_cols\n",
    "df_final=pd.concat([df_70[[i for i in df_70.columns if i not in train_cols]],df_10[train_cols]],axis=1,sort=False)"
   ]
  },
  {
   "cell_type": "markdown",
   "metadata": {},
   "source": [
    "#### Filtering for high value customers"
   ]
  },
  {
   "cell_type": "code",
   "execution_count": 5,
   "metadata": {
    "colab": {},
    "colab_type": "code",
    "id": "dqoJ2jWrQupk"
   },
   "outputs": [],
   "source": [
    "#Calculating reveue generated by each customer for filtering high value customers\n",
    "df_final['high_rev']=(df_final['total_rech_amt_6']+df_final['av_rech_amt_data_6']+df_final['total_rech_amt_7']+df_final['av_rech_amt_data_7'])/2"
   ]
  },
  {
   "cell_type": "code",
   "execution_count": 6,
   "metadata": {
    "colab": {},
    "colab_type": "code",
    "id": "w-BsrFb3Ss-r"
   },
   "outputs": [
    {
     "data": {
      "text/plain": [
       "30000"
      ]
     },
     "execution_count": 6,
     "metadata": {},
     "output_type": "execute_result"
    }
   ],
   "source": [
    "#calculating value at 70 percentile and applying filter\n",
    "ctf=df_final.high_rev.quantile(0.7)\n",
    "dff=df_final[df_final['high_rev']>=ctf]\n",
    "len(dff.index)"
   ]
  },
  {
   "cell_type": "markdown",
   "metadata": {},
   "source": [
    "#### Creating target variable using month-9 data"
   ]
  },
  {
   "cell_type": "code",
   "execution_count": 7,
   "metadata": {
    "colab": {},
    "colab_type": "code",
    "id": "dW5hT0yEG_-k"
   },
   "outputs": [],
   "source": [
    "# Calculate total usage based on four columns\n",
    "col_tgt=['total_ic_mou_9','total_og_mou_9','vol_3g_mb_9','vol_2g_mb_9']\n",
    "dff['total_usage']=dff[col_tgt].sum(axis=1)"
   ]
  },
  {
   "cell_type": "code",
   "execution_count": 8,
   "metadata": {
    "colab": {},
    "colab_type": "code",
    "id": "mBAoActSfRH-"
   },
   "outputs": [
    {
     "data": {
      "text/plain": [
       "0    27596\n",
       "1     2404\n",
       "Name: Churn, dtype: int64"
      ]
     },
     "execution_count": 8,
     "metadata": {},
     "output_type": "execute_result"
    }
   ],
   "source": [
    "#Churn target valibale creation\n",
    "min_val=dff[col_tgt].sum(axis=1).min()\n",
    "dff['Churn']=(dff['total_usage']==min_val).astype(int)\n",
    "dff['Churn'].value_counts()"
   ]
  },
  {
   "cell_type": "code",
   "execution_count": 9,
   "metadata": {},
   "outputs": [],
   "source": [
    "#Dropping 9 month colummns\n",
    "col_9_d=dff.columns[dff.columns.str.contains('9')]\n",
    "dff.drop(col_9_d,axis=1,inplace=True)\n"
   ]
  },
  {
   "cell_type": "code",
   "execution_count": 10,
   "metadata": {},
   "outputs": [],
   "source": [
    "col_uni=dff.columns[(dff.columns.str.contains('mou'))|(dff.columns.str.contains('arpu'))|(dff.columns.str.contains('amt'))]"
   ]
  },
  {
   "cell_type": "markdown",
   "metadata": {},
   "source": [
    "#### Data Analysis"
   ]
  },
  {
   "cell_type": "code",
   "execution_count": 20,
   "metadata": {},
   "outputs": [
    {
     "data": {
      "text/plain": [
       "Text(0.5, 0, 'total_og_mou_6')"
      ]
     },
     "execution_count": 20,
     "metadata": {},
     "output_type": "execute_result"
    },
    {
     "data": {
      "image/png": "[encoded data removed]",
      "text/plain": [
       "<Figure size 576x576 with 4 Axes>"
      ]
     },
     "metadata": {
      "needs_background": "light"
     },
     "output_type": "display_data"
    }
   ],
   "source": [
    "# Univariate analysis for features:'arpu_6','av_rech_amt_data_6','total_rech_amt_6','total_og_mou_6'\n",
    "plt.figure(figsize=(8,8))\n",
    "plt.subplot(2,2,1)\n",
    "dff['arpu_6'].plot(kind='hist')\n",
    "plt.yscale('log')\n",
    "plt.xlabel('arpu_6')\n",
    "plt.subplot(2,2,2)\n",
    "dff['av_rech_amt_data_6'].plot(kind='hist')\n",
    "plt.yscale('log')\n",
    "plt.xlabel('av_rech_amt_data_6')\n",
    "plt.subplot(2,2,3)\n",
    "dff['total_rech_amt_6'].plot(kind='hist')\n",
    "plt.yscale('log')\n",
    "plt.xlabel('total_rech_amt_6')\n",
    "plt.subplot(2,2,4)\n",
    "dff['total_og_mou_6'].plot(kind='hist')\n",
    "plt.yscale('log')\n",
    "plt.xlabel('total_og_mou_6')"
   ]
  },
  {
   "cell_type": "code",
   "execution_count": 21,
   "metadata": {},
   "outputs": [],
   "source": [
    "#Since numerical variables are lacking gaussian distribution, we apply Power Transformations\n",
    "#to make the distribution uniform\n",
    "pt=PowerTransformer(standardize=False)\n",
    "dff[col_uni]=pt.fit_transform(dff[col_uni])"
   ]
  },
  {
   "cell_type": "code",
   "execution_count": 23,
   "metadata": {},
   "outputs": [
    {
     "data": {
      "text/plain": [
       "Text(0.5, 0, 'total_og_mou_6')"
      ]
     },
     "execution_count": 23,
     "metadata": {},
     "output_type": "execute_result"
    },
    {
     "data": {
      "image/png": "[encoded data removed]",
      "text/plain": [
       "<Figure size 576x576 with 4 Axes>"
      ]
     },
     "metadata": {
      "needs_background": "light"
     },
     "output_type": "display_data"
    }
   ],
   "source": [
    "#Now we can see that the distribuition of these feauture is close to gaussian distribution\n",
    "plt.figure(figsize=(8,8))\n",
    "plt.subplot(2,2,1)\n",
    "dff['arpu_6'].plot(kind='hist')\n",
    "#plt.yscale('log')\n",
    "plt.xlabel('arpu_6')\n",
    "plt.subplot(2,2,2)\n",
    "dff['av_rech_amt_data_6'].plot(kind='hist')\n",
    "#plt.yscale('log')\n",
    "plt.xlabel('av_rech_amt_data_6')\n",
    "plt.subplot(2,2,3)\n",
    "dff['total_rech_amt_6'].plot(kind='hist')\n",
    "#plt.yscale('log')\n",
    "plt.xlabel('total_rech_amt_6')\n",
    "plt.subplot(2,2,4)\n",
    "dff['total_og_mou_6'].plot(kind='hist')\n",
    "#plt.yscale('log')\n",
    "plt.xlabel('total_og_mou_6')"
   ]
  },
  {
   "cell_type": "code",
   "execution_count": 24,
   "metadata": {},
   "outputs": [
    {
     "data": {
      "text/html": [
       "<div>\n",
       "<style scoped>\n",
       "    .dataframe tbody tr th:only-of-type {\n",
       "        vertical-align: middle;\n",
       "    }\n",
       "\n",
       "    .dataframe tbody tr th {\n",
       "        vertical-align: top;\n",
       "    }\n",
       "\n",
       "    .dataframe thead th {\n",
       "        text-align: right;\n",
       "    }\n",
       "</style>\n",
       "<table border=\"1\" class=\"dataframe\">\n",
       "  <thead>\n",
       "    <tr style=\"text-align: right;\">\n",
       "      <th></th>\n",
       "      <th>loc_og_t2o_mou</th>\n",
       "      <th>std_og_t2o_mou</th>\n",
       "      <th>loc_ic_t2o_mou</th>\n",
       "      <th>arpu_6</th>\n",
       "      <th>arpu_7</th>\n",
       "      <th>arpu_8</th>\n",
       "      <th>onnet_mou_6</th>\n",
       "      <th>onnet_mou_7</th>\n",
       "      <th>onnet_mou_8</th>\n",
       "      <th>offnet_mou_6</th>\n",
       "      <th>...</th>\n",
       "      <th>total_rech_amt_8</th>\n",
       "      <th>max_rech_amt_6</th>\n",
       "      <th>max_rech_amt_7</th>\n",
       "      <th>max_rech_amt_8</th>\n",
       "      <th>last_day_rch_amt_6</th>\n",
       "      <th>last_day_rch_amt_7</th>\n",
       "      <th>last_day_rch_amt_8</th>\n",
       "      <th>av_rech_amt_data_6</th>\n",
       "      <th>av_rech_amt_data_7</th>\n",
       "      <th>av_rech_amt_data_8</th>\n",
       "    </tr>\n",
       "  </thead>\n",
       "  <tbody>\n",
       "    <tr>\n",
       "      <th>count</th>\n",
       "      <td>30000.0</td>\n",
       "      <td>30000.0</td>\n",
       "      <td>30000.0</td>\n",
       "      <td>30000.000000</td>\n",
       "      <td>30000.000000</td>\n",
       "      <td>30000.000000</td>\n",
       "      <td>30000.000000</td>\n",
       "      <td>30000.000000</td>\n",
       "      <td>30000.000000</td>\n",
       "      <td>30000.000000</td>\n",
       "      <td>...</td>\n",
       "      <td>30000.000000</td>\n",
       "      <td>30000.000000</td>\n",
       "      <td>30000.000000</td>\n",
       "      <td>30000.000000</td>\n",
       "      <td>30000.000000</td>\n",
       "      <td>30000.000000</td>\n",
       "      <td>30000.000000</td>\n",
       "      <td>30000.000000</td>\n",
       "      <td>30000.000000</td>\n",
       "      <td>30000.000000</td>\n",
       "    </tr>\n",
       "    <tr>\n",
       "      <th>mean</th>\n",
       "      <td>0.0</td>\n",
       "      <td>0.0</td>\n",
       "      <td>0.0</td>\n",
       "      <td>0.467929</td>\n",
       "      <td>0.449325</td>\n",
       "      <td>0.275019</td>\n",
       "      <td>-0.122388</td>\n",
       "      <td>-0.121343</td>\n",
       "      <td>-0.160326</td>\n",
       "      <td>0.015128</td>\n",
       "      <td>...</td>\n",
       "      <td>0.240113</td>\n",
       "      <td>0.220484</td>\n",
       "      <td>0.216811</td>\n",
       "      <td>0.141541</td>\n",
       "      <td>0.031975</td>\n",
       "      <td>0.031043</td>\n",
       "      <td>-0.085099</td>\n",
       "      <td>0.251822</td>\n",
       "      <td>0.260516</td>\n",
       "      <td>0.143611</td>\n",
       "    </tr>\n",
       "    <tr>\n",
       "      <th>std</th>\n",
       "      <td>0.0</td>\n",
       "      <td>0.0</td>\n",
       "      <td>0.0</td>\n",
       "      <td>0.746778</td>\n",
       "      <td>0.717691</td>\n",
       "      <td>0.725611</td>\n",
       "      <td>0.485379</td>\n",
       "      <td>0.474683</td>\n",
       "      <td>0.454227</td>\n",
       "      <td>0.643343</td>\n",
       "      <td>...</td>\n",
       "      <td>0.724468</td>\n",
       "      <td>0.597142</td>\n",
       "      <td>0.610814</td>\n",
       "      <td>0.707979</td>\n",
       "      <td>0.663203</td>\n",
       "      <td>0.672231</td>\n",
       "      <td>0.658199</td>\n",
       "      <td>0.643366</td>\n",
       "      <td>0.636439</td>\n",
       "      <td>0.625521</td>\n",
       "    </tr>\n",
       "    <tr>\n",
       "      <th>min</th>\n",
       "      <td>0.0</td>\n",
       "      <td>0.0</td>\n",
       "      <td>0.0</td>\n",
       "      <td>-23.672478</td>\n",
       "      <td>-20.649119</td>\n",
       "      <td>-8.926220</td>\n",
       "      <td>-0.687120</td>\n",
       "      <td>-0.665967</td>\n",
       "      <td>-0.677149</td>\n",
       "      <td>-0.926493</td>\n",
       "      <td>...</td>\n",
       "      <td>-1.056283</td>\n",
       "      <td>-1.301564</td>\n",
       "      <td>-1.240505</td>\n",
       "      <td>-1.185017</td>\n",
       "      <td>-0.916460</td>\n",
       "      <td>-0.868552</td>\n",
       "      <td>-0.862529</td>\n",
       "      <td>-0.469097</td>\n",
       "      <td>-3.374111</td>\n",
       "      <td>-5.951661</td>\n",
       "    </tr>\n",
       "    <tr>\n",
       "      <th>25%</th>\n",
       "      <td>0.0</td>\n",
       "      <td>0.0</td>\n",
       "      <td>0.0</td>\n",
       "      <td>-0.045913</td>\n",
       "      <td>-0.037438</td>\n",
       "      <td>-0.214275</td>\n",
       "      <td>-0.584053</td>\n",
       "      <td>-0.573437</td>\n",
       "      <td>-0.594539</td>\n",
       "      <td>-0.565611</td>\n",
       "      <td>...</td>\n",
       "      <td>-0.264326</td>\n",
       "      <td>0.043387</td>\n",
       "      <td>0.041191</td>\n",
       "      <td>-0.389966</td>\n",
       "      <td>-0.488167</td>\n",
       "      <td>-0.518826</td>\n",
       "      <td>-0.862529</td>\n",
       "      <td>-0.469097</td>\n",
       "      <td>-0.501731</td>\n",
       "      <td>-0.533131</td>\n",
       "    </tr>\n",
       "    <tr>\n",
       "      <th>50%</th>\n",
       "      <td>0.0</td>\n",
       "      <td>0.0</td>\n",
       "      <td>0.0</td>\n",
       "      <td>0.468254</td>\n",
       "      <td>0.457349</td>\n",
       "      <td>0.318864</td>\n",
       "      <td>-0.224016</td>\n",
       "      <td>-0.226994</td>\n",
       "      <td>-0.262603</td>\n",
       "      <td>0.017682</td>\n",
       "      <td>...</td>\n",
       "      <td>0.284059</td>\n",
       "      <td>0.175185</td>\n",
       "      <td>0.182893</td>\n",
       "      <td>0.253146</td>\n",
       "      <td>0.244692</td>\n",
       "      <td>-0.103861</td>\n",
       "      <td>-0.131220</td>\n",
       "      <td>0.446308</td>\n",
       "      <td>0.454481</td>\n",
       "      <td>0.137761</td>\n",
       "    </tr>\n",
       "    <tr>\n",
       "      <th>75%</th>\n",
       "      <td>0.0</td>\n",
       "      <td>0.0</td>\n",
       "      <td>0.0</td>\n",
       "      <td>0.913821</td>\n",
       "      <td>0.881527</td>\n",
       "      <td>0.761866</td>\n",
       "      <td>0.286484</td>\n",
       "      <td>0.277658</td>\n",
       "      <td>0.196674</td>\n",
       "      <td>0.525808</td>\n",
       "      <td>...</td>\n",
       "      <td>0.738667</td>\n",
       "      <td>0.562653</td>\n",
       "      <td>0.552006</td>\n",
       "      <td>0.545298</td>\n",
       "      <td>0.437340</td>\n",
       "      <td>0.516120</td>\n",
       "      <td>0.454850</td>\n",
       "      <td>0.771450</td>\n",
       "      <td>0.780771</td>\n",
       "      <td>0.641319</td>\n",
       "    </tr>\n",
       "    <tr>\n",
       "      <th>max</th>\n",
       "      <td>0.0</td>\n",
       "      <td>0.0</td>\n",
       "      <td>0.0</td>\n",
       "      <td>8.766994</td>\n",
       "      <td>8.392317</td>\n",
       "      <td>5.714518</td>\n",
       "      <td>0.888453</td>\n",
       "      <td>0.860904</td>\n",
       "      <td>0.791993</td>\n",
       "      <td>1.762614</td>\n",
       "      <td>...</td>\n",
       "      <td>5.525080</td>\n",
       "      <td>2.862471</td>\n",
       "      <td>2.929106</td>\n",
       "      <td>3.933912</td>\n",
       "      <td>2.541763</td>\n",
       "      <td>2.451904</td>\n",
       "      <td>2.037502</td>\n",
       "      <td>2.705415</td>\n",
       "      <td>2.558191</td>\n",
       "      <td>2.107224</td>\n",
       "    </tr>\n",
       "  </tbody>\n",
       "</table>\n",
       "<p>8 rows × 105 columns</p>\n",
       "</div>"
      ],
      "text/plain": [
       "       loc_og_t2o_mou  std_og_t2o_mou  loc_ic_t2o_mou        arpu_6  \\\n",
       "count         30000.0         30000.0         30000.0  30000.000000   \n",
       "mean              0.0             0.0             0.0      0.467929   \n",
       "std               0.0             0.0             0.0      0.746778   \n",
       "min               0.0             0.0             0.0    -23.672478   \n",
       "25%               0.0             0.0             0.0     -0.045913   \n",
       "50%               0.0             0.0             0.0      0.468254   \n",
       "75%               0.0             0.0             0.0      0.913821   \n",
       "max               0.0             0.0             0.0      8.766994   \n",
       "\n",
       "             arpu_7        arpu_8   onnet_mou_6   onnet_mou_7   onnet_mou_8  \\\n",
       "count  30000.000000  30000.000000  30000.000000  30000.000000  30000.000000   \n",
       "mean       0.449325      0.275019     -0.122388     -0.121343     -0.160326   \n",
       "std        0.717691      0.725611      0.485379      0.474683      0.454227   \n",
       "min      -20.649119     -8.926220     -0.687120     -0.665967     -0.677149   \n",
       "25%       -0.037438     -0.214275     -0.584053     -0.573437     -0.594539   \n",
       "50%        0.457349      0.318864     -0.224016     -0.226994     -0.262603   \n",
       "75%        0.881527      0.761866      0.286484      0.277658      0.196674   \n",
       "max        8.392317      5.714518      0.888453      0.860904      0.791993   \n",
       "\n",
       "       offnet_mou_6  ...  total_rech_amt_8  max_rech_amt_6  max_rech_amt_7  \\\n",
       "count  30000.000000  ...      30000.000000    30000.000000    30000.000000   \n",
       "mean       0.015128  ...          0.240113        0.220484        0.216811   \n",
       "std        0.643343  ...          0.724468        0.597142        0.610814   \n",
       "min       -0.926493  ...         -1.056283       -1.301564       -1.240505   \n",
       "25%       -0.565611  ...         -0.264326        0.043387        0.041191   \n",
       "50%        0.017682  ...          0.284059        0.175185        0.182893   \n",
       "75%        0.525808  ...          0.738667        0.562653        0.552006   \n",
       "max        1.762614  ...          5.525080        2.862471        2.929106   \n",
       "\n",
       "       max_rech_amt_8  last_day_rch_amt_6  last_day_rch_amt_7  \\\n",
       "count    30000.000000        30000.000000        30000.000000   \n",
       "mean         0.141541            0.031975            0.031043   \n",
       "std          0.707979            0.663203            0.672231   \n",
       "min         -1.185017           -0.916460           -0.868552   \n",
       "25%         -0.389966           -0.488167           -0.518826   \n",
       "50%          0.253146            0.244692           -0.103861   \n",
       "75%          0.545298            0.437340            0.516120   \n",
       "max          3.933912            2.541763            2.451904   \n",
       "\n",
       "       last_day_rch_amt_8  av_rech_amt_data_6  av_rech_amt_data_7  \\\n",
       "count        30000.000000        30000.000000        30000.000000   \n",
       "mean            -0.085099            0.251822            0.260516   \n",
       "std              0.658199            0.643366            0.636439   \n",
       "min             -0.862529           -0.469097           -3.374111   \n",
       "25%             -0.862529           -0.469097           -0.501731   \n",
       "50%             -0.131220            0.446308            0.454481   \n",
       "75%              0.454850            0.771450            0.780771   \n",
       "max              2.037502            2.705415            2.558191   \n",
       "\n",
       "       av_rech_amt_data_8  \n",
       "count        30000.000000  \n",
       "mean             0.143611  \n",
       "std              0.625521  \n",
       "min             -5.951661  \n",
       "25%             -0.533131  \n",
       "50%              0.137761  \n",
       "75%              0.641319  \n",
       "max              2.107224  \n",
       "\n",
       "[8 rows x 105 columns]"
      ]
     },
     "execution_count": 24,
     "metadata": {},
     "output_type": "execute_result"
    }
   ],
   "source": [
    "#We are considering outliers in the data set as there is a high class imbalance and by removing outliers \n",
    "#it may further increase the imbalance ratio\n",
    "dff[col_uni].describe()"
   ]
  },
  {
   "cell_type": "markdown",
   "metadata": {},
   "source": [
    "#### Data Cleaning and preparation"
   ]
  },
  {
   "cell_type": "code",
   "execution_count": 25,
   "metadata": {
    "scrolled": true
   },
   "outputs": [],
   "source": [
    "#Dropping the unwanted collumns\n",
    "dff.drop('Unnamed: 0',axis=1,inplace=True)\n",
    "#Dropping the variables related to 9th month before modelling\n",
    "dff.drop('high_rev',axis=1,inplace=True)\n",
    "dff.drop('total_usage',axis=1,inplace=True)"
   ]
  },
  {
   "cell_type": "code",
   "execution_count": 26,
   "metadata": {},
   "outputs": [],
   "source": [
    "#Separating target variable and performimg train test split\n",
    "var_cols=dff.columns[dff.columns!='Churn']\n",
    "df_train,df_test = train_test_split( dff, test_size=0.33, random_state=0)"
   ]
  },
  {
   "cell_type": "code",
   "execution_count": 27,
   "metadata": {},
   "outputs": [
    {
     "data": {
      "text/plain": [
       "PCA(copy=True, iterated_power='auto', n_components=None, random_state=0,\n",
       "  svd_solver='auto', tol=0.0, whiten=False)"
      ]
     },
     "execution_count": 27,
     "metadata": {},
     "output_type": "execute_result"
    }
   ],
   "source": [
    "#creating Prinicple Components\n",
    "pca=PCA(random_state=0)\n",
    "pca.fit(df_train[var_cols])"
   ]
  },
  {
   "cell_type": "code",
   "execution_count": 29,
   "metadata": {},
   "outputs": [
    {
     "data": {
      "image/png": "[encoded data removed]",
      "text/plain": [
       "<Figure size 360x360 with 1 Axes>"
      ]
     },
     "metadata": {
      "needs_background": "light"
     },
     "output_type": "display_data"
    }
   ],
   "source": [
    "#plotting Scree graph\n",
    "var_ratio=pca.explained_variance_ratio_[0:20]\n",
    "var_cum=np.cumsum(var_ratio)\n",
    "plt.figure(figsize=(5,5))\n",
    "plt.title('Scree Plot')\n",
    "plt.xlabel('Number of PCA components')\n",
    "plt.ylabel('Cummulative Explained Variation Ratio')\n",
    "plt.yscale('log')\n",
    "plt.plot(var_cum)\n",
    "plt.show()"
   ]
  },
  {
   "cell_type": "code",
   "execution_count": 30,
   "metadata": {},
   "outputs": [],
   "source": [
    "#by looking at the graph we can see 98% of the variance in the data\n",
    "#is explained by 15 PCAs\n",
    "\n",
    "#transforming data to PCAs\n",
    "pca2=PCA(n_components=15,random_state=0)\n",
    "pc_data=pca2.fit_transform(df_train[var_cols])"
   ]
  },
  {
   "cell_type": "code",
   "execution_count": 31,
   "metadata": {},
   "outputs": [
    {
     "data": {
      "text/html": [
       "<div>\n",
       "<style scoped>\n",
       "    .dataframe tbody tr th:only-of-type {\n",
       "        vertical-align: middle;\n",
       "    }\n",
       "\n",
       "    .dataframe tbody tr th {\n",
       "        vertical-align: top;\n",
       "    }\n",
       "\n",
       "    .dataframe thead th {\n",
       "        text-align: right;\n",
       "    }\n",
       "</style>\n",
       "<table border=\"1\" class=\"dataframe\">\n",
       "  <thead>\n",
       "    <tr style=\"text-align: right;\">\n",
       "      <th></th>\n",
       "      <th>PC1</th>\n",
       "      <th>PC2</th>\n",
       "      <th>PC3</th>\n",
       "      <th>PC4</th>\n",
       "      <th>PC5</th>\n",
       "      <th>PC6</th>\n",
       "      <th>PC7</th>\n",
       "      <th>PC8</th>\n",
       "      <th>PC9</th>\n",
       "      <th>PC10</th>\n",
       "      <th>PC11</th>\n",
       "      <th>PC12</th>\n",
       "      <th>PC13</th>\n",
       "      <th>PC14</th>\n",
       "      <th>PC15</th>\n",
       "    </tr>\n",
       "  </thead>\n",
       "  <tbody>\n",
       "    <tr>\n",
       "      <th>0</th>\n",
       "      <td>-7.358361</td>\n",
       "      <td>0.711630</td>\n",
       "      <td>-0.034873</td>\n",
       "      <td>6.358601</td>\n",
       "      <td>-5.157109</td>\n",
       "      <td>-6.378951</td>\n",
       "      <td>-1.189432</td>\n",
       "      <td>-0.114757</td>\n",
       "      <td>-5.379622</td>\n",
       "      <td>-4.729070</td>\n",
       "      <td>-3.359352</td>\n",
       "      <td>0.774519</td>\n",
       "      <td>0.410011</td>\n",
       "      <td>3.063350</td>\n",
       "      <td>4.054472</td>\n",
       "    </tr>\n",
       "    <tr>\n",
       "      <th>1</th>\n",
       "      <td>-7.450730</td>\n",
       "      <td>0.511059</td>\n",
       "      <td>-0.235167</td>\n",
       "      <td>4.096034</td>\n",
       "      <td>11.770319</td>\n",
       "      <td>-7.789121</td>\n",
       "      <td>-0.807383</td>\n",
       "      <td>-1.897541</td>\n",
       "      <td>1.295460</td>\n",
       "      <td>1.543242</td>\n",
       "      <td>-2.969962</td>\n",
       "      <td>0.317673</td>\n",
       "      <td>-2.147852</td>\n",
       "      <td>-1.377007</td>\n",
       "      <td>-5.006303</td>\n",
       "    </tr>\n",
       "    <tr>\n",
       "      <th>2</th>\n",
       "      <td>-7.484300</td>\n",
       "      <td>0.527472</td>\n",
       "      <td>-0.222282</td>\n",
       "      <td>-2.290198</td>\n",
       "      <td>1.494853</td>\n",
       "      <td>0.524566</td>\n",
       "      <td>-0.667988</td>\n",
       "      <td>-0.651347</td>\n",
       "      <td>-1.287711</td>\n",
       "      <td>2.388209</td>\n",
       "      <td>2.065049</td>\n",
       "      <td>-0.374258</td>\n",
       "      <td>-1.097105</td>\n",
       "      <td>0.866754</td>\n",
       "      <td>1.652435</td>\n",
       "    </tr>\n",
       "    <tr>\n",
       "      <th>3</th>\n",
       "      <td>101.217346</td>\n",
       "      <td>-85.200508</td>\n",
       "      <td>-7.792799</td>\n",
       "      <td>-3.183738</td>\n",
       "      <td>-0.720975</td>\n",
       "      <td>2.381513</td>\n",
       "      <td>-1.485275</td>\n",
       "      <td>1.982553</td>\n",
       "      <td>-0.577705</td>\n",
       "      <td>0.462189</td>\n",
       "      <td>0.194830</td>\n",
       "      <td>-0.529956</td>\n",
       "      <td>-0.376198</td>\n",
       "      <td>0.038639</td>\n",
       "      <td>-0.275943</td>\n",
       "    </tr>\n",
       "    <tr>\n",
       "      <th>4</th>\n",
       "      <td>-7.645278</td>\n",
       "      <td>0.478027</td>\n",
       "      <td>-0.828525</td>\n",
       "      <td>0.999491</td>\n",
       "      <td>0.829570</td>\n",
       "      <td>4.186361</td>\n",
       "      <td>-1.970948</td>\n",
       "      <td>2.797099</td>\n",
       "      <td>-0.191627</td>\n",
       "      <td>1.822254</td>\n",
       "      <td>0.971004</td>\n",
       "      <td>-0.944985</td>\n",
       "      <td>1.010820</td>\n",
       "      <td>-1.178450</td>\n",
       "      <td>0.847535</td>\n",
       "    </tr>\n",
       "  </tbody>\n",
       "</table>\n",
       "</div>"
      ],
      "text/plain": [
       "          PC1        PC2       PC3       PC4        PC5       PC6       PC7  \\\n",
       "0   -7.358361   0.711630 -0.034873  6.358601  -5.157109 -6.378951 -1.189432   \n",
       "1   -7.450730   0.511059 -0.235167  4.096034  11.770319 -7.789121 -0.807383   \n",
       "2   -7.484300   0.527472 -0.222282 -2.290198   1.494853  0.524566 -0.667988   \n",
       "3  101.217346 -85.200508 -7.792799 -3.183738  -0.720975  2.381513 -1.485275   \n",
       "4   -7.645278   0.478027 -0.828525  0.999491   0.829570  4.186361 -1.970948   \n",
       "\n",
       "        PC8       PC9      PC10      PC11      PC12      PC13      PC14  \\\n",
       "0 -0.114757 -5.379622 -4.729070 -3.359352  0.774519  0.410011  3.063350   \n",
       "1 -1.897541  1.295460  1.543242 -2.969962  0.317673 -2.147852 -1.377007   \n",
       "2 -0.651347 -1.287711  2.388209  2.065049 -0.374258 -1.097105  0.866754   \n",
       "3  1.982553 -0.577705  0.462189  0.194830 -0.529956 -0.376198  0.038639   \n",
       "4  2.797099 -0.191627  1.822254  0.971004 -0.944985  1.010820 -1.178450   \n",
       "\n",
       "       PC15  \n",
       "0  4.054472  \n",
       "1 -5.006303  \n",
       "2  1.652435  \n",
       "3 -0.275943  \n",
       "4  0.847535  "
      ]
     },
     "execution_count": 31,
     "metadata": {},
     "output_type": "execute_result"
    }
   ],
   "source": [
    "#creating Df for PCAs\n",
    "df_pc=pd.DataFrame(pc_data,columns=['PC1','PC2','PC3','PC4','PC5','PC6','PC7','PC8','PC9','PC10','PC11','PC12',\n",
    "                                    'PC13','PC14','PC15'])\n",
    "df_pc.head()"
   ]
  },
  {
   "cell_type": "code",
   "execution_count": 32,
   "metadata": {},
   "outputs": [],
   "source": [
    "df_pc['Churn']=list(df_train['Churn'])\n",
    "pc_col=['PC1','PC2','PC3','PC4','PC5','PC6','PC7','PC8','PC9','PC10','PC11','PC12',\n",
    "                                    'PC13','PC14','PC15']"
   ]
  },
  {
   "cell_type": "code",
   "execution_count": 33,
   "metadata": {},
   "outputs": [
    {
     "data": {
      "text/plain": [
       "0    18497\n",
       "1     1603\n",
       "Name: Churn, dtype: int64"
      ]
     },
     "execution_count": 33,
     "metadata": {},
     "output_type": "execute_result"
    }
   ],
   "source": [
    "df_pc['Churn'].value_counts()"
   ]
  },
  {
   "cell_type": "markdown",
   "metadata": {},
   "source": [
    "#### Data Modeling"
   ]
  },
  {
   "cell_type": "code",
   "execution_count": 34,
   "metadata": {},
   "outputs": [
    {
     "data": {
      "text/plain": [
       "LogisticRegression(C=1.0, class_weight='balanced', dual=False,\n",
       "          fit_intercept=True, intercept_scaling=1, max_iter=100,\n",
       "          multi_class='warn', n_jobs=None, penalty='l2', random_state=None,\n",
       "          solver='warn', tol=0.0001, verbose=0, warm_start=False)"
      ]
     },
     "execution_count": 34,
     "metadata": {},
     "output_type": "execute_result"
    }
   ],
   "source": [
    "#Training the model with LR\n",
    "#using sklearn model for building the logistic regression model\n",
    "lr=LogisticRegression(class_weight='balanced')\n",
    "lr.fit(df_pc[pc_col],df_pc['Churn'])"
   ]
  },
  {
   "cell_type": "code",
   "execution_count": 35,
   "metadata": {},
   "outputs": [],
   "source": [
    "df_train['prob']=list(lr.predict_proba(df_pc[pc_col])[:,1])"
   ]
  },
  {
   "cell_type": "code",
   "execution_count": 36,
   "metadata": {},
   "outputs": [],
   "source": [
    "#Function for ROC curve\n",
    "def draw_roc( actual, probs ):\n",
    "    fpr, tpr, thresholds = metrics.roc_curve( actual, probs,\n",
    "                                              drop_intermediate = False )\n",
    "    auc_score = metrics.roc_auc_score( actual, probs )\n",
    "    plt.figure(figsize=(5, 5))\n",
    "    plt.plot( fpr, tpr, label='ROC curve (area = %0.2f)' % auc_score )\n",
    "    plt.plot([0, 1], [0, 1], 'k--')\n",
    "    plt.xlim([0.0, 1.0])\n",
    "    plt.ylim([0.0, 1.05])\n",
    "    plt.xlabel('False Positive Rate or [1 - True Negative Rate]')\n",
    "    plt.ylabel('True Positive Rate')\n",
    "    plt.title('Receiver operating characteristic example')\n",
    "    plt.legend(loc=\"lower right\")\n",
    "    plt.show()\n",
    "\n",
    "    return None"
   ]
  },
  {
   "cell_type": "code",
   "execution_count": 37,
   "metadata": {},
   "outputs": [
    {
     "data": {
      "image/png": "[encoded data removed]",
      "text/plain": [
       "<Figure size 360x360 with 1 Axes>"
      ]
     },
     "metadata": {
      "needs_background": "light"
     },
     "output_type": "display_data"
    }
   ],
   "source": [
    "# Roc curve which is desirable and occupying maximum area possible\n",
    "draw_roc(df_train['Churn'], df_train['prob'])"
   ]
  },
  {
   "cell_type": "code",
   "execution_count": 38,
   "metadata": {},
   "outputs": [
    {
     "data": {
      "text/html": [
       "<div>\n",
       "<style scoped>\n",
       "    .dataframe tbody tr th:only-of-type {\n",
       "        vertical-align: middle;\n",
       "    }\n",
       "\n",
       "    .dataframe tbody tr th {\n",
       "        vertical-align: top;\n",
       "    }\n",
       "\n",
       "    .dataframe thead th {\n",
       "        text-align: right;\n",
       "    }\n",
       "</style>\n",
       "<table border=\"1\" class=\"dataframe\">\n",
       "  <thead>\n",
       "    <tr style=\"text-align: right;\">\n",
       "      <th></th>\n",
       "      <th>circle_id</th>\n",
       "      <th>loc_og_t2o_mou</th>\n",
       "      <th>std_og_t2o_mou</th>\n",
       "      <th>loc_ic_t2o_mou</th>\n",
       "      <th>arpu_6</th>\n",
       "      <th>arpu_7</th>\n",
       "      <th>arpu_8</th>\n",
       "      <th>onnet_mou_6</th>\n",
       "      <th>onnet_mou_7</th>\n",
       "      <th>onnet_mou_8</th>\n",
       "      <th>...</th>\n",
       "      <th>0.0</th>\n",
       "      <th>0.1</th>\n",
       "      <th>0.2</th>\n",
       "      <th>0.3</th>\n",
       "      <th>0.4</th>\n",
       "      <th>0.5</th>\n",
       "      <th>0.6</th>\n",
       "      <th>0.7</th>\n",
       "      <th>0.8</th>\n",
       "      <th>0.9</th>\n",
       "    </tr>\n",
       "  </thead>\n",
       "  <tbody>\n",
       "    <tr>\n",
       "      <th>49099</th>\n",
       "      <td>0.0</td>\n",
       "      <td>0.0</td>\n",
       "      <td>0.0</td>\n",
       "      <td>0.0</td>\n",
       "      <td>-0.092448</td>\n",
       "      <td>0.115523</td>\n",
       "      <td>-0.189854</td>\n",
       "      <td>-0.651970</td>\n",
       "      <td>-0.566411</td>\n",
       "      <td>-0.661957</td>\n",
       "      <td>...</td>\n",
       "      <td>1</td>\n",
       "      <td>1</td>\n",
       "      <td>1</td>\n",
       "      <td>0</td>\n",
       "      <td>0</td>\n",
       "      <td>0</td>\n",
       "      <td>0</td>\n",
       "      <td>0</td>\n",
       "      <td>0</td>\n",
       "      <td>0</td>\n",
       "    </tr>\n",
       "    <tr>\n",
       "      <th>43916</th>\n",
       "      <td>0.0</td>\n",
       "      <td>0.0</td>\n",
       "      <td>0.0</td>\n",
       "      <td>0.0</td>\n",
       "      <td>-0.376268</td>\n",
       "      <td>-0.064777</td>\n",
       "      <td>-1.027289</td>\n",
       "      <td>-0.687120</td>\n",
       "      <td>-0.665967</td>\n",
       "      <td>-0.677149</td>\n",
       "      <td>...</td>\n",
       "      <td>1</td>\n",
       "      <td>1</td>\n",
       "      <td>1</td>\n",
       "      <td>1</td>\n",
       "      <td>1</td>\n",
       "      <td>0</td>\n",
       "      <td>0</td>\n",
       "      <td>0</td>\n",
       "      <td>0</td>\n",
       "      <td>0</td>\n",
       "    </tr>\n",
       "    <tr>\n",
       "      <th>87157</th>\n",
       "      <td>0.0</td>\n",
       "      <td>0.0</td>\n",
       "      <td>0.0</td>\n",
       "      <td>0.0</td>\n",
       "      <td>0.286789</td>\n",
       "      <td>-0.326941</td>\n",
       "      <td>0.316463</td>\n",
       "      <td>-0.445329</td>\n",
       "      <td>-0.447693</td>\n",
       "      <td>-0.471585</td>\n",
       "      <td>...</td>\n",
       "      <td>1</td>\n",
       "      <td>1</td>\n",
       "      <td>0</td>\n",
       "      <td>0</td>\n",
       "      <td>0</td>\n",
       "      <td>0</td>\n",
       "      <td>0</td>\n",
       "      <td>0</td>\n",
       "      <td>0</td>\n",
       "      <td>0</td>\n",
       "    </tr>\n",
       "    <tr>\n",
       "      <th>19640</th>\n",
       "      <td>0.0</td>\n",
       "      <td>0.0</td>\n",
       "      <td>0.0</td>\n",
       "      <td>0.0</td>\n",
       "      <td>2.233138</td>\n",
       "      <td>0.859130</td>\n",
       "      <td>-1.101875</td>\n",
       "      <td>0.112914</td>\n",
       "      <td>-0.482091</td>\n",
       "      <td>0.042097</td>\n",
       "      <td>...</td>\n",
       "      <td>1</td>\n",
       "      <td>1</td>\n",
       "      <td>1</td>\n",
       "      <td>1</td>\n",
       "      <td>1</td>\n",
       "      <td>1</td>\n",
       "      <td>1</td>\n",
       "      <td>1</td>\n",
       "      <td>1</td>\n",
       "      <td>1</td>\n",
       "    </tr>\n",
       "    <tr>\n",
       "      <th>21306</th>\n",
       "      <td>0.0</td>\n",
       "      <td>0.0</td>\n",
       "      <td>0.0</td>\n",
       "      <td>0.0</td>\n",
       "      <td>1.630246</td>\n",
       "      <td>1.460190</td>\n",
       "      <td>1.909555</td>\n",
       "      <td>0.490775</td>\n",
       "      <td>0.057618</td>\n",
       "      <td>0.478606</td>\n",
       "      <td>...</td>\n",
       "      <td>1</td>\n",
       "      <td>0</td>\n",
       "      <td>0</td>\n",
       "      <td>0</td>\n",
       "      <td>0</td>\n",
       "      <td>0</td>\n",
       "      <td>0</td>\n",
       "      <td>0</td>\n",
       "      <td>0</td>\n",
       "      <td>0</td>\n",
       "    </tr>\n",
       "  </tbody>\n",
       "</table>\n",
       "<p>5 rows × 162 columns</p>\n",
       "</div>"
      ],
      "text/plain": [
       "       circle_id  loc_og_t2o_mou  std_og_t2o_mou  loc_ic_t2o_mou    arpu_6  \\\n",
       "49099        0.0             0.0             0.0             0.0 -0.092448   \n",
       "43916        0.0             0.0             0.0             0.0 -0.376268   \n",
       "87157        0.0             0.0             0.0             0.0  0.286789   \n",
       "19640        0.0             0.0             0.0             0.0  2.233138   \n",
       "21306        0.0             0.0             0.0             0.0  1.630246   \n",
       "\n",
       "         arpu_7    arpu_8  onnet_mou_6  onnet_mou_7  onnet_mou_8  ...  0.0  \\\n",
       "49099  0.115523 -0.189854    -0.651970    -0.566411    -0.661957  ...    1   \n",
       "43916 -0.064777 -1.027289    -0.687120    -0.665967    -0.677149  ...    1   \n",
       "87157 -0.326941  0.316463    -0.445329    -0.447693    -0.471585  ...    1   \n",
       "19640  0.859130 -1.101875     0.112914    -0.482091     0.042097  ...    1   \n",
       "21306  1.460190  1.909555     0.490775     0.057618     0.478606  ...    1   \n",
       "\n",
       "       0.1  0.2  0.3  0.4  0.5  0.6  0.7  0.8  0.9  \n",
       "49099    1    1    0    0    0    0    0    0    0  \n",
       "43916    1    1    1    1    0    0    0    0    0  \n",
       "87157    1    0    0    0    0    0    0    0    0  \n",
       "19640    1    1    1    1    1    1    1    1    1  \n",
       "21306    0    0    0    0    0    0    0    0    0  \n",
       "\n",
       "[5 rows x 162 columns]"
      ]
     },
     "execution_count": 38,
     "metadata": {},
     "output_type": "execute_result"
    }
   ],
   "source": [
    "#predicting the target values by using different cut offs\n",
    "numbers=[float(x)/10 for x in range(10)]\n",
    "for i in numbers:\n",
    "    df_train[i]=df_train.prob.map(lambda x: 1 if x> i else 0)\n",
    "df_train.head()"
   ]
  },
  {
   "cell_type": "code",
   "execution_count": 39,
   "metadata": {},
   "outputs": [
    {
     "name": "stdout",
     "output_type": "stream",
     "text": [
      "     prob  accuracy     sensi     speci\n",
      "0.0   0.0  0.079751  1.000000  0.000000\n",
      "0.1   0.1  0.322388  0.981909  0.265232\n",
      "0.2   0.2  0.486766  0.952589  0.446397\n",
      "0.3   0.3  0.617164  0.909545  0.591826\n",
      "0.4   0.4  0.712438  0.857143  0.699897\n",
      "0.5   0.5  0.790249  0.791641  0.790128\n",
      "0.6   0.6  0.855622  0.696195  0.869438\n",
      "0.7   0.7  0.904030  0.563943  0.933503\n",
      "0.8   0.8  0.927662  0.421085  0.971563\n",
      "0.9   0.9  0.934428  0.336245  0.986268\n"
     ]
    }
   ],
   "source": [
    "#For different cut offs calculating the metrics\n",
    "cutoff_df = pd.DataFrame( columns = ['prob','accuracy','sensi','speci'])\n",
    "from sklearn.metrics import confusion_matrix\n",
    "\n",
    "# TP = confusion[1,1] # true positive \n",
    "# TN = confusion[0,0] # true negatives\n",
    "# FP = confusion[0,1] # false positives\n",
    "# FN = confusion[1,0] # false negatives\n",
    "\n",
    "num = [0.0,0.1,0.2,0.3,0.4,0.5,0.6,0.7,0.8,0.9]\n",
    "for i in num:\n",
    "    cm1 = metrics.confusion_matrix(df_train['Churn'], df_train[i] )\n",
    "    total1=sum(sum(cm1))\n",
    "    accuracy = (cm1[0,0]+cm1[1,1])/total1\n",
    "    \n",
    "    speci = cm1[0,0]/(cm1[0,0]+cm1[0,1])\n",
    "    sensi = cm1[1,1]/(cm1[1,0]+cm1[1,1])\n",
    "    cutoff_df.loc[i] =[ i ,accuracy,sensi,speci]\n",
    "print(cutoff_df)"
   ]
  },
  {
   "cell_type": "code",
   "execution_count": 40,
   "metadata": {},
   "outputs": [
    {
     "data": {
      "image/png": "[encoded data removed]",
      "text/plain": [
       "<Figure size 432x288 with 1 Axes>"
      ]
     },
     "metadata": {
      "needs_background": "light"
     },
     "output_type": "display_data"
    }
   ],
   "source": [
    "#Plotting the metrics accuracy,sensitivity,specificity as the intersection is at 0.5 we take cutoff as 0.5\n",
    "plt.plot(cutoff_df['accuracy'])\n",
    "plt.plot(cutoff_df['sensi'])\n",
    "plt.plot(cutoff_df['speci'])\n",
    "plt.show()"
   ]
  },
  {
   "cell_type": "code",
   "execution_count": 48,
   "metadata": {},
   "outputs": [],
   "source": [
    "df_train['prob_pred']=df_train.prob.map(lambda x: 1 if x> 0.48 else 0)"
   ]
  },
  {
   "cell_type": "code",
   "execution_count": 50,
   "metadata": {},
   "outputs": [
    {
     "data": {
      "text/plain": [
       "0.7759701492537313"
      ]
     },
     "execution_count": 50,
     "metadata": {},
     "output_type": "execute_result"
    }
   ],
   "source": [
    "#Accuracy for the train set\n",
    "metrics.accuracy_score(df_train['Churn'],df_train['prob_pred'])"
   ]
  },
  {
   "cell_type": "code",
   "execution_count": 51,
   "metadata": {},
   "outputs": [
    {
     "name": "stdout",
     "output_type": "stream",
     "text": [
      "0.7759701492537313 0.7733686543763854 0.8059887710542732\n"
     ]
    }
   ],
   "source": [
    "#statistically 0.5 is idela cut-off since we are dealing with churn rate we chose 0.48 as cutoff which is giving \n",
    "#high sensitivity\n",
    "cm1 = metrics.confusion_matrix(df_train['Churn'], df_train['prob_pred'] )\n",
    "total1=sum(sum(cm1))\n",
    "accuracy = (cm1[0,0]+cm1[1,1])/total1\n",
    "speci = cm1[0,0]/(cm1[0,0]+cm1[0,1])\n",
    "sensi = cm1[1,1]/(cm1[1,0]+cm1[1,1])\n",
    "print(accuracy,speci,sensi)"
   ]
  },
  {
   "cell_type": "code",
   "execution_count": 52,
   "metadata": {},
   "outputs": [],
   "source": [
    "df_pc_test=pca2.transform(df_test[var_cols])"
   ]
  },
  {
   "cell_type": "code",
   "execution_count": 53,
   "metadata": {},
   "outputs": [
    {
     "data": {
      "text/html": [
       "<div>\n",
       "<style scoped>\n",
       "    .dataframe tbody tr th:only-of-type {\n",
       "        vertical-align: middle;\n",
       "    }\n",
       "\n",
       "    .dataframe tbody tr th {\n",
       "        vertical-align: top;\n",
       "    }\n",
       "\n",
       "    .dataframe thead th {\n",
       "        text-align: right;\n",
       "    }\n",
       "</style>\n",
       "<table border=\"1\" class=\"dataframe\">\n",
       "  <thead>\n",
       "    <tr style=\"text-align: right;\">\n",
       "      <th></th>\n",
       "      <th>PC1</th>\n",
       "      <th>PC2</th>\n",
       "      <th>PC3</th>\n",
       "      <th>PC4</th>\n",
       "      <th>PC5</th>\n",
       "      <th>PC6</th>\n",
       "      <th>PC7</th>\n",
       "      <th>PC8</th>\n",
       "      <th>PC9</th>\n",
       "      <th>PC10</th>\n",
       "      <th>PC11</th>\n",
       "      <th>PC12</th>\n",
       "      <th>PC13</th>\n",
       "      <th>PC14</th>\n",
       "      <th>PC15</th>\n",
       "    </tr>\n",
       "  </thead>\n",
       "  <tbody>\n",
       "    <tr>\n",
       "      <th>0</th>\n",
       "      <td>-7.439858</td>\n",
       "      <td>0.520743</td>\n",
       "      <td>-0.271317</td>\n",
       "      <td>-4.153850</td>\n",
       "      <td>-0.490711</td>\n",
       "      <td>1.888264</td>\n",
       "      <td>0.553709</td>\n",
       "      <td>-1.003833</td>\n",
       "      <td>0.880077</td>\n",
       "      <td>-1.693610</td>\n",
       "      <td>-0.103667</td>\n",
       "      <td>0.116093</td>\n",
       "      <td>0.055833</td>\n",
       "      <td>0.359306</td>\n",
       "      <td>0.244946</td>\n",
       "    </tr>\n",
       "    <tr>\n",
       "      <th>1</th>\n",
       "      <td>-7.559070</td>\n",
       "      <td>0.443915</td>\n",
       "      <td>-0.618529</td>\n",
       "      <td>1.047235</td>\n",
       "      <td>6.792277</td>\n",
       "      <td>-0.365760</td>\n",
       "      <td>-2.044602</td>\n",
       "      <td>-3.061691</td>\n",
       "      <td>-1.039168</td>\n",
       "      <td>-0.564276</td>\n",
       "      <td>0.757203</td>\n",
       "      <td>-0.011353</td>\n",
       "      <td>-1.299552</td>\n",
       "      <td>-0.932722</td>\n",
       "      <td>0.366342</td>\n",
       "    </tr>\n",
       "    <tr>\n",
       "      <th>2</th>\n",
       "      <td>-7.530614</td>\n",
       "      <td>0.482023</td>\n",
       "      <td>-0.633307</td>\n",
       "      <td>-0.800626</td>\n",
       "      <td>0.805188</td>\n",
       "      <td>0.812020</td>\n",
       "      <td>-0.861362</td>\n",
       "      <td>-1.103940</td>\n",
       "      <td>0.463050</td>\n",
       "      <td>1.730165</td>\n",
       "      <td>-0.672917</td>\n",
       "      <td>-0.226083</td>\n",
       "      <td>0.502772</td>\n",
       "      <td>-0.513271</td>\n",
       "      <td>1.354754</td>\n",
       "    </tr>\n",
       "    <tr>\n",
       "      <th>3</th>\n",
       "      <td>-7.435278</td>\n",
       "      <td>0.531301</td>\n",
       "      <td>-0.250472</td>\n",
       "      <td>-3.954746</td>\n",
       "      <td>-1.153716</td>\n",
       "      <td>1.249974</td>\n",
       "      <td>0.383195</td>\n",
       "      <td>-0.363336</td>\n",
       "      <td>-0.763269</td>\n",
       "      <td>1.609516</td>\n",
       "      <td>0.686501</td>\n",
       "      <td>-0.509296</td>\n",
       "      <td>-0.665380</td>\n",
       "      <td>1.004629</td>\n",
       "      <td>0.207763</td>\n",
       "    </tr>\n",
       "    <tr>\n",
       "      <th>4</th>\n",
       "      <td>-7.632100</td>\n",
       "      <td>0.270804</td>\n",
       "      <td>-0.166316</td>\n",
       "      <td>-3.997030</td>\n",
       "      <td>-0.583944</td>\n",
       "      <td>1.654917</td>\n",
       "      <td>0.437546</td>\n",
       "      <td>-0.660510</td>\n",
       "      <td>0.158895</td>\n",
       "      <td>-0.306416</td>\n",
       "      <td>0.297560</td>\n",
       "      <td>2.085072</td>\n",
       "      <td>0.177860</td>\n",
       "      <td>0.446368</td>\n",
       "      <td>0.116215</td>\n",
       "    </tr>\n",
       "  </tbody>\n",
       "</table>\n",
       "</div>"
      ],
      "text/plain": [
       "        PC1       PC2       PC3       PC4       PC5       PC6       PC7  \\\n",
       "0 -7.439858  0.520743 -0.271317 -4.153850 -0.490711  1.888264  0.553709   \n",
       "1 -7.559070  0.443915 -0.618529  1.047235  6.792277 -0.365760 -2.044602   \n",
       "2 -7.530614  0.482023 -0.633307 -0.800626  0.805188  0.812020 -0.861362   \n",
       "3 -7.435278  0.531301 -0.250472 -3.954746 -1.153716  1.249974  0.383195   \n",
       "4 -7.632100  0.270804 -0.166316 -3.997030 -0.583944  1.654917  0.437546   \n",
       "\n",
       "        PC8       PC9      PC10      PC11      PC12      PC13      PC14  \\\n",
       "0 -1.003833  0.880077 -1.693610 -0.103667  0.116093  0.055833  0.359306   \n",
       "1 -3.061691 -1.039168 -0.564276  0.757203 -0.011353 -1.299552 -0.932722   \n",
       "2 -1.103940  0.463050  1.730165 -0.672917 -0.226083  0.502772 -0.513271   \n",
       "3 -0.363336 -0.763269  1.609516  0.686501 -0.509296 -0.665380  1.004629   \n",
       "4 -0.660510  0.158895 -0.306416  0.297560  2.085072  0.177860  0.446368   \n",
       "\n",
       "       PC15  \n",
       "0  0.244946  \n",
       "1  0.366342  \n",
       "2  1.354754  \n",
       "3  0.207763  \n",
       "4  0.116215  "
      ]
     },
     "execution_count": 53,
     "metadata": {},
     "output_type": "execute_result"
    }
   ],
   "source": [
    "df_pc_test=pd.DataFrame(df_pc_test,columns=['PC1','PC2','PC3','PC4','PC5','PC6','PC7','PC8','PC9','PC10','PC11','PC12',\n",
    "                                    'PC13','PC14','PC15'])\n",
    "df_pc_test.head()"
   ]
  },
  {
   "cell_type": "code",
   "execution_count": 54,
   "metadata": {},
   "outputs": [],
   "source": [
    "df_pc_test['Churn']=list(df_test['Churn'])"
   ]
  },
  {
   "cell_type": "code",
   "execution_count": 55,
   "metadata": {},
   "outputs": [],
   "source": [
    "#Predicting the prob for test data\n",
    "df_test['prob']=list(lr.predict_proba(df_pc_test[pc_col])[:,1])"
   ]
  },
  {
   "cell_type": "code",
   "execution_count": 57,
   "metadata": {},
   "outputs": [],
   "source": [
    "#assigning the conversion predicted with the cutoff 0.5\n",
    "df_test['prob_pred']=df_test.prob.map(lambda x: 1 if x> 0.48 else 0)"
   ]
  },
  {
   "cell_type": "code",
   "execution_count": 58,
   "metadata": {},
   "outputs": [
    {
     "data": {
      "text/plain": [
       "0.7688888888888888"
      ]
     },
     "execution_count": 58,
     "metadata": {},
     "output_type": "execute_result"
    }
   ],
   "source": [
    "#Accuracy of the test data\n",
    "metrics.accuracy_score(df_test['Churn'],df_test['prob_pred'])"
   ]
  },
  {
   "cell_type": "code",
   "execution_count": 60,
   "metadata": {},
   "outputs": [
    {
     "name": "stdout",
     "output_type": "stream",
     "text": [
      "0.7688888888888888 0.766677656885372 0.7940074906367042\n"
     ]
    }
   ],
   "source": [
    "#test data accuarcy nad sensitvity \n",
    "cm1 = metrics.confusion_matrix(df_test['Churn'], df_test['prob_pred'] )\n",
    "total1=sum(sum(cm1))\n",
    "accuracy = (cm1[0,0]+cm1[1,1])/total1\n",
    "speci = cm1[0,0]/(cm1[0,0]+cm1[0,1])\n",
    "sensi = cm1[1,1]/(cm1[1,0]+cm1[1,1])\n",
    "print(accuracy,speci,sensi)"
   ]
  },
  {
   "cell_type": "code",
   "execution_count": 61,
   "metadata": {},
   "outputs": [
    {
     "data": {
      "text/plain": [
       "PCA(copy=True, iterated_power='auto', n_components=None, random_state=0,\n",
       "  svd_solver='auto', tol=0.0, whiten=False)"
      ]
     },
     "execution_count": 61,
     "metadata": {},
     "output_type": "execute_result"
    }
   ],
   "source": [
    "#Clustering\n",
    "#creating Prinicple Components\n",
    "pca_clus=PCA(random_state=0)\n",
    "pca_clus.fit(dff[var_cols])"
   ]
  },
  {
   "cell_type": "code",
   "execution_count": 63,
   "metadata": {},
   "outputs": [
    {
     "data": {
      "image/png": "[encoded data removed]",
      "text/plain": [
       "<Figure size 360x360 with 1 Axes>"
      ]
     },
     "metadata": {
      "needs_background": "light"
     },
     "output_type": "display_data"
    }
   ],
   "source": [
    "#plotting Scree graph\n",
    "var_ratio=pca_clus.explained_variance_ratio_[0:20]\n",
    "var_cum=np.cumsum(var_ratio)\n",
    "plt.figure(figsize=(5,5))\n",
    "plt.title('Scree Plot')\n",
    "plt.xlabel('Number of PCA components')\n",
    "plt.ylabel('Cummulative Explained Variation Ratio')\n",
    "plt.yscale('log')\n",
    "plt.plot(var_cum)\n",
    "plt.show()"
   ]
  },
  {
   "cell_type": "code",
   "execution_count": 64,
   "metadata": {},
   "outputs": [],
   "source": [
    "#transforming data to PCAs\n",
    "pca2_clus=PCA(n_components=15,random_state=0)\n",
    "pc_data_clus=pca2_clus.fit_transform(dff[var_cols])"
   ]
  },
  {
   "cell_type": "code",
   "execution_count": 65,
   "metadata": {},
   "outputs": [
    {
     "data": {
      "text/html": [
       "<div>\n",
       "<style scoped>\n",
       "    .dataframe tbody tr th:only-of-type {\n",
       "        vertical-align: middle;\n",
       "    }\n",
       "\n",
       "    .dataframe tbody tr th {\n",
       "        vertical-align: top;\n",
       "    }\n",
       "\n",
       "    .dataframe thead th {\n",
       "        text-align: right;\n",
       "    }\n",
       "</style>\n",
       "<table border=\"1\" class=\"dataframe\">\n",
       "  <thead>\n",
       "    <tr style=\"text-align: right;\">\n",
       "      <th></th>\n",
       "      <th>PC1</th>\n",
       "      <th>PC2</th>\n",
       "      <th>PC3</th>\n",
       "      <th>PC4</th>\n",
       "      <th>PC5</th>\n",
       "      <th>PC6</th>\n",
       "      <th>PC7</th>\n",
       "      <th>PC8</th>\n",
       "      <th>PC9</th>\n",
       "      <th>PC10</th>\n",
       "      <th>PC11</th>\n",
       "      <th>PC12</th>\n",
       "      <th>PC13</th>\n",
       "      <th>PC14</th>\n",
       "      <th>PC15</th>\n",
       "    </tr>\n",
       "  </thead>\n",
       "  <tbody>\n",
       "    <tr>\n",
       "      <th>0</th>\n",
       "      <td>-95.461200</td>\n",
       "      <td>133.647912</td>\n",
       "      <td>26.198861</td>\n",
       "      <td>-2.435483</td>\n",
       "      <td>0.305259</td>\n",
       "      <td>0.317798</td>\n",
       "      <td>0.703569</td>\n",
       "      <td>-2.060604</td>\n",
       "      <td>1.245278</td>\n",
       "      <td>1.367365</td>\n",
       "      <td>-0.531208</td>\n",
       "      <td>-0.239132</td>\n",
       "      <td>0.495646</td>\n",
       "      <td>0.372991</td>\n",
       "      <td>-0.394647</td>\n",
       "    </tr>\n",
       "    <tr>\n",
       "      <th>1</th>\n",
       "      <td>7.590385</td>\n",
       "      <td>0.443704</td>\n",
       "      <td>-0.571851</td>\n",
       "      <td>-3.993648</td>\n",
       "      <td>-1.413964</td>\n",
       "      <td>2.349378</td>\n",
       "      <td>-1.042454</td>\n",
       "      <td>1.662044</td>\n",
       "      <td>-0.750310</td>\n",
       "      <td>2.395717</td>\n",
       "      <td>0.657327</td>\n",
       "      <td>0.986426</td>\n",
       "      <td>0.572193</td>\n",
       "      <td>0.118851</td>\n",
       "      <td>0.474742</td>\n",
       "    </tr>\n",
       "    <tr>\n",
       "      <th>2</th>\n",
       "      <td>7.283470</td>\n",
       "      <td>0.536253</td>\n",
       "      <td>-0.200509</td>\n",
       "      <td>-0.816921</td>\n",
       "      <td>1.173052</td>\n",
       "      <td>-0.715726</td>\n",
       "      <td>-0.243347</td>\n",
       "      <td>-0.340883</td>\n",
       "      <td>-0.038965</td>\n",
       "      <td>-3.261497</td>\n",
       "      <td>0.791630</td>\n",
       "      <td>0.642404</td>\n",
       "      <td>0.421529</td>\n",
       "      <td>-1.433215</td>\n",
       "      <td>1.453777</td>\n",
       "    </tr>\n",
       "    <tr>\n",
       "      <th>3</th>\n",
       "      <td>7.233929</td>\n",
       "      <td>0.638984</td>\n",
       "      <td>-0.100194</td>\n",
       "      <td>0.369487</td>\n",
       "      <td>-1.383280</td>\n",
       "      <td>-6.159605</td>\n",
       "      <td>2.804549</td>\n",
       "      <td>0.838625</td>\n",
       "      <td>-0.435372</td>\n",
       "      <td>-0.826146</td>\n",
       "      <td>0.952066</td>\n",
       "      <td>-0.086244</td>\n",
       "      <td>-0.162540</td>\n",
       "      <td>-0.002475</td>\n",
       "      <td>-0.619929</td>\n",
       "    </tr>\n",
       "    <tr>\n",
       "      <th>4</th>\n",
       "      <td>7.318540</td>\n",
       "      <td>0.485597</td>\n",
       "      <td>-0.337290</td>\n",
       "      <td>-4.229684</td>\n",
       "      <td>0.565458</td>\n",
       "      <td>3.120700</td>\n",
       "      <td>-0.733651</td>\n",
       "      <td>0.359863</td>\n",
       "      <td>0.907979</td>\n",
       "      <td>-2.628041</td>\n",
       "      <td>-0.722799</td>\n",
       "      <td>0.685346</td>\n",
       "      <td>-0.631771</td>\n",
       "      <td>0.092407</td>\n",
       "      <td>-0.282913</td>\n",
       "    </tr>\n",
       "  </tbody>\n",
       "</table>\n",
       "</div>"
      ],
      "text/plain": [
       "         PC1         PC2        PC3       PC4       PC5       PC6       PC7  \\\n",
       "0 -95.461200  133.647912  26.198861 -2.435483  0.305259  0.317798  0.703569   \n",
       "1   7.590385    0.443704  -0.571851 -3.993648 -1.413964  2.349378 -1.042454   \n",
       "2   7.283470    0.536253  -0.200509 -0.816921  1.173052 -0.715726 -0.243347   \n",
       "3   7.233929    0.638984  -0.100194  0.369487 -1.383280 -6.159605  2.804549   \n",
       "4   7.318540    0.485597  -0.337290 -4.229684  0.565458  3.120700 -0.733651   \n",
       "\n",
       "        PC8       PC9      PC10      PC11      PC12      PC13      PC14  \\\n",
       "0 -2.060604  1.245278  1.367365 -0.531208 -0.239132  0.495646  0.372991   \n",
       "1  1.662044 -0.750310  2.395717  0.657327  0.986426  0.572193  0.118851   \n",
       "2 -0.340883 -0.038965 -3.261497  0.791630  0.642404  0.421529 -1.433215   \n",
       "3  0.838625 -0.435372 -0.826146  0.952066 -0.086244 -0.162540 -0.002475   \n",
       "4  0.359863  0.907979 -2.628041 -0.722799  0.685346 -0.631771  0.092407   \n",
       "\n",
       "       PC15  \n",
       "0 -0.394647  \n",
       "1  0.474742  \n",
       "2  1.453777  \n",
       "3 -0.619929  \n",
       "4 -0.282913  "
      ]
     },
     "execution_count": 65,
     "metadata": {},
     "output_type": "execute_result"
    }
   ],
   "source": [
    "#creating Df for PCAs\n",
    "df_pc_clus=pd.DataFrame(pc_data_clus,columns=['PC1','PC2','PC3','PC4','PC5','PC6','PC7','PC8','PC9','PC10','PC11','PC12',\n",
    "                                    'PC13','PC14','PC15'])\n",
    "df_pc_clus.head()"
   ]
  },
  {
   "cell_type": "code",
   "execution_count": 66,
   "metadata": {},
   "outputs": [],
   "source": [
    "df_pc_clus['Churn']=list(dff['Churn'])"
   ]
  },
  {
   "cell_type": "code",
   "execution_count": 70,
   "metadata": {},
   "outputs": [],
   "source": [
    "#looking at hopkins stat to see if the data is good for clustering\n",
    "def hopkins(X):\n",
    "    d = X.shape[1]\n",
    "    #d = len(vars) # columns\n",
    "    n = len(X) # rows\n",
    "    m = int(0.1 * n) \n",
    "    nbrs = NearestNeighbors(n_neighbors=1).fit(X.values)\n",
    " \n",
    "    rand_X = sample(range(0, n, 1), m)\n",
    " \n",
    "    ujd = []\n",
    "    wjd = []\n",
    "    for j in range(0, m):\n",
    "        u_dist, _ = nbrs.kneighbors(uniform(np.amin(X,axis=0),np.amax(X,axis=0),d).reshape(1, -1), 2, return_distance=True)\n",
    "        ujd.append(u_dist[0][1])\n",
    "        w_dist, _ = nbrs.kneighbors(X.iloc[rand_X[j]].values.reshape(1, -1), 2, return_distance=True)\n",
    "        wjd.append(w_dist[0][1])\n",
    " \n",
    "    H = sum(ujd) / (sum(ujd) + sum(wjd))\n",
    "    if isnan(H):\n",
    "        print(ujd, wjd)\n",
    "        H = 0\n",
    " \n",
    "    return H"
   ]
  },
  {
   "cell_type": "code",
   "execution_count": 71,
   "metadata": {},
   "outputs": [
    {
     "data": {
      "text/plain": [
       "0.9864660541797543"
      ]
     },
     "execution_count": 71,
     "metadata": {},
     "output_type": "execute_result"
    }
   ],
   "source": [
    "hopkins(df_pc_clus)\n",
    "#hopiks score looks good, so we are good to cluster the data"
   ]
  },
  {
   "cell_type": "code",
   "execution_count": 72,
   "metadata": {},
   "outputs": [
    {
     "data": {
      "text/plain": [
       "KMeans(algorithm='auto', copy_x=True, init='k-means++', max_iter=50,\n",
       "    n_clusters=2, n_init=10, n_jobs=None, precompute_distances='auto',\n",
       "    random_state=0, tol=0.0001, verbose=0)"
      ]
     },
     "execution_count": 72,
     "metadata": {},
     "output_type": "execute_result"
    }
   ],
   "source": [
    "# we will be clustering the data into 3 clusters as we know we have two classes\n",
    "y=df_pc_clus.Churn.map(lambda x: 1 if x==0 else 11.82)\n",
    "kmean=KMeans(n_clusters=2,max_iter=50,random_state=0)\n",
    "kmean.fit(df_pc_clus[pc_col],sample_weight=y)"
   ]
  },
  {
   "cell_type": "code",
   "execution_count": 73,
   "metadata": {},
   "outputs": [],
   "source": [
    "df_pc_clus['Cluster_ID']=kmean.labels_"
   ]
  },
  {
   "cell_type": "code",
   "execution_count": 74,
   "metadata": {},
   "outputs": [
    {
     "data": {
      "text/plain": [
       "0.9318333333333333"
      ]
     },
     "execution_count": 74,
     "metadata": {},
     "output_type": "execute_result"
    }
   ],
   "source": [
    "#Accuracy of the data\n",
    "metrics.accuracy_score(df_pc_clus['Churn'],df_pc_clus['Cluster_ID'])"
   ]
  },
  {
   "cell_type": "code",
   "execution_count": 75,
   "metadata": {},
   "outputs": [],
   "source": [
    "dff['Cluster_ID']=kmean.labels_"
   ]
  },
  {
   "cell_type": "code",
   "execution_count": 78,
   "metadata": {},
   "outputs": [
    {
     "data": {
      "image/png": "[encoded data removed]",
      "text/plain": [
       "<Figure size 720x576 with 1 Axes>"
      ]
     },
     "metadata": {
      "needs_background": "light"
     },
     "output_type": "display_data"
    }
   ],
   "source": [
    "#looking at the distribution of each PCA across clusters\n",
    "plt.figure(figsize=(10,8))\n",
    "#y=PC1,PC2,PC3\n",
    "sns.boxplot(x='Cluster_ID',y='arpu_7',data=dff)\n",
    "plt.show()"
   ]
  },
  {
   "cell_type": "code",
   "execution_count": 80,
   "metadata": {},
   "outputs": [
    {
     "data": {
      "image/png": "[encoded data removed]",
      "text/plain": [
       "<Figure size 360x360 with 1 Axes>"
      ]
     },
     "metadata": {
      "needs_background": "light"
     },
     "output_type": "display_data"
    }
   ],
   "source": [
    "#Scatter plot between total_ic_mou_8 and vol_2g_mb_8 across the clusters\n",
    "plt.figure(figsize=(5,5))\n",
    "plt.scatter(dff[dff['Cluster_ID']==0]['total_ic_mou_8'],dff[dff['Cluster_ID']==0]['vol_2g_mb_8'])\n",
    "plt.scatter(dff[dff['Cluster_ID']==1]['total_ic_mou_8'],dff[dff['Cluster_ID']==1]['vol_2g_mb_8'])\n",
    "plt.legend(['0','1'])\n",
    "plt.show()"
   ]
  },
  {
   "cell_type": "code",
   "execution_count": 81,
   "metadata": {},
   "outputs": [
    {
     "data": {
      "image/png": "[encoded data removed]",
      "text/plain": [
       "<Figure size 360x360 with 1 Axes>"
      ]
     },
     "metadata": {
      "needs_background": "light"
     },
     "output_type": "display_data"
    }
   ],
   "source": [
    "plt.figure(figsize=(5,5))\n",
    "plt.scatter(df_pc_clus[df_pc_clus['Cluster_ID']==0]['PC1'],df_pc_clus[df_pc_clus['Cluster_ID']==0]['PC2'])\n",
    "plt.scatter(df_pc_clus[df_pc_clus['Cluster_ID']==1]['PC1'],df_pc_clus[df_pc_clus['Cluster_ID']==1]['PC2'])\n",
    "plt.legend(['0','1'])\n",
    "plt.show()"
   ]
  },
  {
   "cell_type": "code",
   "execution_count": 82,
   "metadata": {},
   "outputs": [
    {
     "name": "stdout",
     "output_type": "stream",
     "text": [
      "0.9318333333333333 0.9825337005363096 0.3498336106489185\n"
     ]
    }
   ],
   "source": [
    "cm1 = metrics.confusion_matrix(df_pc_clus['Churn'], df_pc_clus['Cluster_ID'] )\n",
    "total1=sum(sum(cm1))\n",
    "accuracy = (cm1[0,0]+cm1[1,1])/total1\n",
    "speci = cm1[0,0]/(cm1[0,0]+cm1[0,1])\n",
    "sensi = cm1[1,1]/(cm1[1,0]+cm1[1,1])\n",
    "print(accuracy,speci,sensi)"
   ]
  },
  {
   "cell_type": "markdown",
   "metadata": {},
   "source": [
    "Here we see that during cluster analysis we are not able to differentiate between the two cluster. There is no much difference in the box plot of any two variables.Here we can see a huge dip in sensitivity\n",
    "\n",
    "So we now move to build XGboost Random Forest Tree model."
   ]
  },
  {
   "cell_type": "code",
   "execution_count": 83,
   "metadata": {},
   "outputs": [],
   "source": [
    "# hyperparameter tuning with XGBoost\n",
    "\n",
    "# creating a KFold object \n",
    "folds = 3\n",
    "\n",
    "# specify range of hyperparameters\n",
    "param_grid = {'learning_rate': [0.2, 0.6], \n",
    "             'subsample': [0.3, 0.6, 0.9]}          \n",
    "\n",
    "\n",
    "# specify model\n",
    "xgb_model = XGBClassifier(max_depth=3, n_estimators=10,label=[0,1],weight=[1,11.82])\n",
    "\n",
    "# set up GridSearchCV()\n",
    "model_cv = GridSearchCV(estimator = xgb_model, \n",
    "                        param_grid = param_grid, \n",
    "                        scoring= 'roc_auc', \n",
    "                        cv = folds, \n",
    "                        verbose = 1,\n",
    "                        return_train_score=True)      \n"
   ]
  },
  {
   "cell_type": "code",
   "execution_count": 84,
   "metadata": {},
   "outputs": [
    {
     "name": "stdout",
     "output_type": "stream",
     "text": [
      "Fitting 3 folds for each of 6 candidates, totalling 18 fits\n"
     ]
    },
    {
     "name": "stderr",
     "output_type": "stream",
     "text": [
      "[Parallel(n_jobs=1)]: Using backend SequentialBackend with 1 concurrent workers.\n",
      "[Parallel(n_jobs=1)]: Done  18 out of  18 | elapsed:    6.3s finished\n"
     ]
    },
    {
     "data": {
      "text/plain": [
       "GridSearchCV(cv=3, error_score='raise-deprecating',\n",
       "       estimator=XGBClassifier(base_score=0.5, booster='gbtree', colsample_bylevel=1,\n",
       "       colsample_bynode=1, colsample_bytree=1, gamma=0, label=[0, 1],\n",
       "       learning_rate=0.1, max_delta_step=0, max_depth=3,\n",
       "       min_child_weight=1, missing=None, n_estimators=10, n_jobs=1,\n",
       "       nthread=None, objective='binary:logistic', random_state=0,\n",
       "       reg_alpha=0, reg_lambda=1, scale_pos_weight=1, seed=None,\n",
       "       silent=None, subsample=1, verbosity=1, weight=[1, 11.82]),\n",
       "       fit_params=None, iid='warn', n_jobs=None,\n",
       "       param_grid={'learning_rate': [0.2, 0.6], 'subsample': [0.3, 0.6, 0.9]},\n",
       "       pre_dispatch='2*n_jobs', refit=True, return_train_score=True,\n",
       "       scoring='roc_auc', verbose=1)"
      ]
     },
     "execution_count": 84,
     "metadata": {},
     "output_type": "execute_result"
    }
   ],
   "source": [
    "model_cv.fit(df_pc[pc_col],df_pc['Churn'])"
   ]
  },
  {
   "cell_type": "code",
   "execution_count": 85,
   "metadata": {},
   "outputs": [
    {
     "data": {
      "text/html": [
       "<div>\n",
       "<style scoped>\n",
       "    .dataframe tbody tr th:only-of-type {\n",
       "        vertical-align: middle;\n",
       "    }\n",
       "\n",
       "    .dataframe tbody tr th {\n",
       "        vertical-align: top;\n",
       "    }\n",
       "\n",
       "    .dataframe thead th {\n",
       "        text-align: right;\n",
       "    }\n",
       "</style>\n",
       "<table border=\"1\" class=\"dataframe\">\n",
       "  <thead>\n",
       "    <tr style=\"text-align: right;\">\n",
       "      <th></th>\n",
       "      <th>mean_fit_time</th>\n",
       "      <th>std_fit_time</th>\n",
       "      <th>mean_score_time</th>\n",
       "      <th>std_score_time</th>\n",
       "      <th>param_learning_rate</th>\n",
       "      <th>param_subsample</th>\n",
       "      <th>params</th>\n",
       "      <th>split0_test_score</th>\n",
       "      <th>split1_test_score</th>\n",
       "      <th>split2_test_score</th>\n",
       "      <th>mean_test_score</th>\n",
       "      <th>std_test_score</th>\n",
       "      <th>rank_test_score</th>\n",
       "      <th>split0_train_score</th>\n",
       "      <th>split1_train_score</th>\n",
       "      <th>split2_train_score</th>\n",
       "      <th>mean_train_score</th>\n",
       "      <th>std_train_score</th>\n",
       "    </tr>\n",
       "  </thead>\n",
       "  <tbody>\n",
       "    <tr>\n",
       "      <th>0</th>\n",
       "      <td>0.362885</td>\n",
       "      <td>0.168407</td>\n",
       "      <td>0.013211</td>\n",
       "      <td>0.001896</td>\n",
       "      <td>0.2</td>\n",
       "      <td>0.3</td>\n",
       "      <td>{'learning_rate': 0.2, 'subsample': 0.3}</td>\n",
       "      <td>0.844590</td>\n",
       "      <td>0.861296</td>\n",
       "      <td>0.846884</td>\n",
       "      <td>0.850923</td>\n",
       "      <td>0.007394</td>\n",
       "      <td>6</td>\n",
       "      <td>0.864641</td>\n",
       "      <td>0.859165</td>\n",
       "      <td>0.863171</td>\n",
       "      <td>0.862325</td>\n",
       "      <td>0.002314</td>\n",
       "    </tr>\n",
       "    <tr>\n",
       "      <th>1</th>\n",
       "      <td>0.316192</td>\n",
       "      <td>0.006797</td>\n",
       "      <td>0.009206</td>\n",
       "      <td>0.006676</td>\n",
       "      <td>0.2</td>\n",
       "      <td>0.6</td>\n",
       "      <td>{'learning_rate': 0.2, 'subsample': 0.6}</td>\n",
       "      <td>0.844198</td>\n",
       "      <td>0.864337</td>\n",
       "      <td>0.844413</td>\n",
       "      <td>0.850983</td>\n",
       "      <td>0.009443</td>\n",
       "      <td>5</td>\n",
       "      <td>0.866166</td>\n",
       "      <td>0.862786</td>\n",
       "      <td>0.864005</td>\n",
       "      <td>0.864319</td>\n",
       "      <td>0.001398</td>\n",
       "    </tr>\n",
       "    <tr>\n",
       "      <th>2</th>\n",
       "      <td>0.342646</td>\n",
       "      <td>0.010495</td>\n",
       "      <td>0.012872</td>\n",
       "      <td>0.001993</td>\n",
       "      <td>0.2</td>\n",
       "      <td>0.9</td>\n",
       "      <td>{'learning_rate': 0.2, 'subsample': 0.9}</td>\n",
       "      <td>0.842444</td>\n",
       "      <td>0.862227</td>\n",
       "      <td>0.851405</td>\n",
       "      <td>0.852025</td>\n",
       "      <td>0.008088</td>\n",
       "      <td>4</td>\n",
       "      <td>0.865549</td>\n",
       "      <td>0.862396</td>\n",
       "      <td>0.867568</td>\n",
       "      <td>0.865171</td>\n",
       "      <td>0.002128</td>\n",
       "    </tr>\n",
       "    <tr>\n",
       "      <th>3</th>\n",
       "      <td>0.244784</td>\n",
       "      <td>0.007364</td>\n",
       "      <td>0.010419</td>\n",
       "      <td>0.007367</td>\n",
       "      <td>0.6</td>\n",
       "      <td>0.3</td>\n",
       "      <td>{'learning_rate': 0.6, 'subsample': 0.3}</td>\n",
       "      <td>0.855229</td>\n",
       "      <td>0.867002</td>\n",
       "      <td>0.857649</td>\n",
       "      <td>0.859960</td>\n",
       "      <td>0.005076</td>\n",
       "      <td>3</td>\n",
       "      <td>0.884474</td>\n",
       "      <td>0.875633</td>\n",
       "      <td>0.881512</td>\n",
       "      <td>0.880540</td>\n",
       "      <td>0.003674</td>\n",
       "    </tr>\n",
       "    <tr>\n",
       "      <th>4</th>\n",
       "      <td>0.317698</td>\n",
       "      <td>0.007367</td>\n",
       "      <td>0.010420</td>\n",
       "      <td>0.007368</td>\n",
       "      <td>0.6</td>\n",
       "      <td>0.6</td>\n",
       "      <td>{'learning_rate': 0.6, 'subsample': 0.6}</td>\n",
       "      <td>0.859386</td>\n",
       "      <td>0.879596</td>\n",
       "      <td>0.863975</td>\n",
       "      <td>0.867652</td>\n",
       "      <td>0.008651</td>\n",
       "      <td>2</td>\n",
       "      <td>0.893810</td>\n",
       "      <td>0.894935</td>\n",
       "      <td>0.894324</td>\n",
       "      <td>0.894356</td>\n",
       "      <td>0.000460</td>\n",
       "    </tr>\n",
       "    <tr>\n",
       "      <th>5</th>\n",
       "      <td>0.354156</td>\n",
       "      <td>0.007365</td>\n",
       "      <td>0.010420</td>\n",
       "      <td>0.007368</td>\n",
       "      <td>0.6</td>\n",
       "      <td>0.9</td>\n",
       "      <td>{'learning_rate': 0.6, 'subsample': 0.9}</td>\n",
       "      <td>0.866918</td>\n",
       "      <td>0.874416</td>\n",
       "      <td>0.867443</td>\n",
       "      <td>0.869592</td>\n",
       "      <td>0.003418</td>\n",
       "      <td>1</td>\n",
       "      <td>0.901279</td>\n",
       "      <td>0.896486</td>\n",
       "      <td>0.898803</td>\n",
       "      <td>0.898856</td>\n",
       "      <td>0.001957</td>\n",
       "    </tr>\n",
       "  </tbody>\n",
       "</table>\n",
       "</div>"
      ],
      "text/plain": [
       "   mean_fit_time  std_fit_time  mean_score_time  std_score_time  \\\n",
       "0       0.362885      0.168407         0.013211        0.001896   \n",
       "1       0.316192      0.006797         0.009206        0.006676   \n",
       "2       0.342646      0.010495         0.012872        0.001993   \n",
       "3       0.244784      0.007364         0.010419        0.007367   \n",
       "4       0.317698      0.007367         0.010420        0.007368   \n",
       "5       0.354156      0.007365         0.010420        0.007368   \n",
       "\n",
       "  param_learning_rate param_subsample  \\\n",
       "0                 0.2             0.3   \n",
       "1                 0.2             0.6   \n",
       "2                 0.2             0.9   \n",
       "3                 0.6             0.3   \n",
       "4                 0.6             0.6   \n",
       "5                 0.6             0.9   \n",
       "\n",
       "                                     params  split0_test_score  \\\n",
       "0  {'learning_rate': 0.2, 'subsample': 0.3}           0.844590   \n",
       "1  {'learning_rate': 0.2, 'subsample': 0.6}           0.844198   \n",
       "2  {'learning_rate': 0.2, 'subsample': 0.9}           0.842444   \n",
       "3  {'learning_rate': 0.6, 'subsample': 0.3}           0.855229   \n",
       "4  {'learning_rate': 0.6, 'subsample': 0.6}           0.859386   \n",
       "5  {'learning_rate': 0.6, 'subsample': 0.9}           0.866918   \n",
       "\n",
       "   split1_test_score  split2_test_score  mean_test_score  std_test_score  \\\n",
       "0           0.861296           0.846884         0.850923        0.007394   \n",
       "1           0.864337           0.844413         0.850983        0.009443   \n",
       "2           0.862227           0.851405         0.852025        0.008088   \n",
       "3           0.867002           0.857649         0.859960        0.005076   \n",
       "4           0.879596           0.863975         0.867652        0.008651   \n",
       "5           0.874416           0.867443         0.869592        0.003418   \n",
       "\n",
       "   rank_test_score  split0_train_score  split1_train_score  \\\n",
       "0                6            0.864641            0.859165   \n",
       "1                5            0.866166            0.862786   \n",
       "2                4            0.865549            0.862396   \n",
       "3                3            0.884474            0.875633   \n",
       "4                2            0.893810            0.894935   \n",
       "5                1            0.901279            0.896486   \n",
       "\n",
       "   split2_train_score  mean_train_score  std_train_score  \n",
       "0            0.863171          0.862325         0.002314  \n",
       "1            0.864005          0.864319         0.001398  \n",
       "2            0.867568          0.865171         0.002128  \n",
       "3            0.881512          0.880540         0.003674  \n",
       "4            0.894324          0.894356         0.000460  \n",
       "5            0.898803          0.898856         0.001957  "
      ]
     },
     "execution_count": 85,
     "metadata": {},
     "output_type": "execute_result"
    }
   ],
   "source": [
    "# cv results\n",
    "cv_results = pd.DataFrame(model_cv.cv_results_)\n",
    "cv_results"
   ]
  },
  {
   "cell_type": "code",
   "execution_count": 86,
   "metadata": {},
   "outputs": [
    {
     "data": {
      "text/html": [
       "<div>\n",
       "<style scoped>\n",
       "    .dataframe tbody tr th:only-of-type {\n",
       "        vertical-align: middle;\n",
       "    }\n",
       "\n",
       "    .dataframe tbody tr th {\n",
       "        vertical-align: top;\n",
       "    }\n",
       "\n",
       "    .dataframe thead th {\n",
       "        text-align: right;\n",
       "    }\n",
       "</style>\n",
       "<table border=\"1\" class=\"dataframe\">\n",
       "  <thead>\n",
       "    <tr style=\"text-align: right;\">\n",
       "      <th></th>\n",
       "      <th>mean_fit_time</th>\n",
       "      <th>std_fit_time</th>\n",
       "      <th>mean_score_time</th>\n",
       "      <th>std_score_time</th>\n",
       "      <th>param_learning_rate</th>\n",
       "      <th>param_subsample</th>\n",
       "      <th>params</th>\n",
       "      <th>split0_test_score</th>\n",
       "      <th>split1_test_score</th>\n",
       "      <th>split2_test_score</th>\n",
       "      <th>mean_test_score</th>\n",
       "      <th>std_test_score</th>\n",
       "      <th>rank_test_score</th>\n",
       "      <th>split0_train_score</th>\n",
       "      <th>split1_train_score</th>\n",
       "      <th>split2_train_score</th>\n",
       "      <th>mean_train_score</th>\n",
       "      <th>std_train_score</th>\n",
       "    </tr>\n",
       "  </thead>\n",
       "  <tbody>\n",
       "    <tr>\n",
       "      <th>0</th>\n",
       "      <td>0.362885</td>\n",
       "      <td>0.168407</td>\n",
       "      <td>0.013211</td>\n",
       "      <td>0.001896</td>\n",
       "      <td>0.2</td>\n",
       "      <td>0.3</td>\n",
       "      <td>{'learning_rate': 0.2, 'subsample': 0.3}</td>\n",
       "      <td>0.844590</td>\n",
       "      <td>0.861296</td>\n",
       "      <td>0.846884</td>\n",
       "      <td>0.850923</td>\n",
       "      <td>0.007394</td>\n",
       "      <td>6</td>\n",
       "      <td>0.864641</td>\n",
       "      <td>0.859165</td>\n",
       "      <td>0.863171</td>\n",
       "      <td>0.862325</td>\n",
       "      <td>0.002314</td>\n",
       "    </tr>\n",
       "    <tr>\n",
       "      <th>1</th>\n",
       "      <td>0.316192</td>\n",
       "      <td>0.006797</td>\n",
       "      <td>0.009206</td>\n",
       "      <td>0.006676</td>\n",
       "      <td>0.2</td>\n",
       "      <td>0.6</td>\n",
       "      <td>{'learning_rate': 0.2, 'subsample': 0.6}</td>\n",
       "      <td>0.844198</td>\n",
       "      <td>0.864337</td>\n",
       "      <td>0.844413</td>\n",
       "      <td>0.850983</td>\n",
       "      <td>0.009443</td>\n",
       "      <td>5</td>\n",
       "      <td>0.866166</td>\n",
       "      <td>0.862786</td>\n",
       "      <td>0.864005</td>\n",
       "      <td>0.864319</td>\n",
       "      <td>0.001398</td>\n",
       "    </tr>\n",
       "    <tr>\n",
       "      <th>2</th>\n",
       "      <td>0.342646</td>\n",
       "      <td>0.010495</td>\n",
       "      <td>0.012872</td>\n",
       "      <td>0.001993</td>\n",
       "      <td>0.2</td>\n",
       "      <td>0.9</td>\n",
       "      <td>{'learning_rate': 0.2, 'subsample': 0.9}</td>\n",
       "      <td>0.842444</td>\n",
       "      <td>0.862227</td>\n",
       "      <td>0.851405</td>\n",
       "      <td>0.852025</td>\n",
       "      <td>0.008088</td>\n",
       "      <td>4</td>\n",
       "      <td>0.865549</td>\n",
       "      <td>0.862396</td>\n",
       "      <td>0.867568</td>\n",
       "      <td>0.865171</td>\n",
       "      <td>0.002128</td>\n",
       "    </tr>\n",
       "    <tr>\n",
       "      <th>3</th>\n",
       "      <td>0.244784</td>\n",
       "      <td>0.007364</td>\n",
       "      <td>0.010419</td>\n",
       "      <td>0.007367</td>\n",
       "      <td>0.6</td>\n",
       "      <td>0.3</td>\n",
       "      <td>{'learning_rate': 0.6, 'subsample': 0.3}</td>\n",
       "      <td>0.855229</td>\n",
       "      <td>0.867002</td>\n",
       "      <td>0.857649</td>\n",
       "      <td>0.859960</td>\n",
       "      <td>0.005076</td>\n",
       "      <td>3</td>\n",
       "      <td>0.884474</td>\n",
       "      <td>0.875633</td>\n",
       "      <td>0.881512</td>\n",
       "      <td>0.880540</td>\n",
       "      <td>0.003674</td>\n",
       "    </tr>\n",
       "    <tr>\n",
       "      <th>4</th>\n",
       "      <td>0.317698</td>\n",
       "      <td>0.007367</td>\n",
       "      <td>0.010420</td>\n",
       "      <td>0.007368</td>\n",
       "      <td>0.6</td>\n",
       "      <td>0.6</td>\n",
       "      <td>{'learning_rate': 0.6, 'subsample': 0.6}</td>\n",
       "      <td>0.859386</td>\n",
       "      <td>0.879596</td>\n",
       "      <td>0.863975</td>\n",
       "      <td>0.867652</td>\n",
       "      <td>0.008651</td>\n",
       "      <td>2</td>\n",
       "      <td>0.893810</td>\n",
       "      <td>0.894935</td>\n",
       "      <td>0.894324</td>\n",
       "      <td>0.894356</td>\n",
       "      <td>0.000460</td>\n",
       "    </tr>\n",
       "  </tbody>\n",
       "</table>\n",
       "</div>"
      ],
      "text/plain": [
       "   mean_fit_time  std_fit_time  mean_score_time  std_score_time  \\\n",
       "0       0.362885      0.168407         0.013211        0.001896   \n",
       "1       0.316192      0.006797         0.009206        0.006676   \n",
       "2       0.342646      0.010495         0.012872        0.001993   \n",
       "3       0.244784      0.007364         0.010419        0.007367   \n",
       "4       0.317698      0.007367         0.010420        0.007368   \n",
       "\n",
       "   param_learning_rate param_subsample  \\\n",
       "0                  0.2             0.3   \n",
       "1                  0.2             0.6   \n",
       "2                  0.2             0.9   \n",
       "3                  0.6             0.3   \n",
       "4                  0.6             0.6   \n",
       "\n",
       "                                     params  split0_test_score  \\\n",
       "0  {'learning_rate': 0.2, 'subsample': 0.3}           0.844590   \n",
       "1  {'learning_rate': 0.2, 'subsample': 0.6}           0.844198   \n",
       "2  {'learning_rate': 0.2, 'subsample': 0.9}           0.842444   \n",
       "3  {'learning_rate': 0.6, 'subsample': 0.3}           0.855229   \n",
       "4  {'learning_rate': 0.6, 'subsample': 0.6}           0.859386   \n",
       "\n",
       "   split1_test_score  split2_test_score  mean_test_score  std_test_score  \\\n",
       "0           0.861296           0.846884         0.850923        0.007394   \n",
       "1           0.864337           0.844413         0.850983        0.009443   \n",
       "2           0.862227           0.851405         0.852025        0.008088   \n",
       "3           0.867002           0.857649         0.859960        0.005076   \n",
       "4           0.879596           0.863975         0.867652        0.008651   \n",
       "\n",
       "   rank_test_score  split0_train_score  split1_train_score  \\\n",
       "0                6            0.864641            0.859165   \n",
       "1                5            0.866166            0.862786   \n",
       "2                4            0.865549            0.862396   \n",
       "3                3            0.884474            0.875633   \n",
       "4                2            0.893810            0.894935   \n",
       "\n",
       "   split2_train_score  mean_train_score  std_train_score  \n",
       "0            0.863171          0.862325         0.002314  \n",
       "1            0.864005          0.864319         0.001398  \n",
       "2            0.867568          0.865171         0.002128  \n",
       "3            0.881512          0.880540         0.003674  \n",
       "4            0.894324          0.894356         0.000460  "
      ]
     },
     "execution_count": 86,
     "metadata": {},
     "output_type": "execute_result"
    }
   ],
   "source": [
    "cv_results['param_learning_rate'] = cv_results['param_learning_rate'].astype('float')\n",
    "#cv_results['param_max_depth'] = cv_results['param_max_depth'].astype('float')\n",
    "cv_results.head()"
   ]
  },
  {
   "cell_type": "code",
   "execution_count": 87,
   "metadata": {},
   "outputs": [
    {
     "data": {
      "image/png": "[encoded data removed]",
      "text/plain": [
       "<Figure size 1152x432 with 3 Axes>"
      ]
     },
     "metadata": {
      "needs_background": "light"
     },
     "output_type": "display_data"
    }
   ],
   "source": [
    "# # plotting\n",
    "plt.figure(figsize=(16,6))\n",
    "\n",
    "param_grid = {'learning_rate': [0.2, 0.6,0.8], \n",
    "             'subsample': [0.3, 0.6, 0.9]} \n",
    "\n",
    "\n",
    "for n, subsample in enumerate(param_grid['subsample']):\n",
    "    \n",
    "\n",
    "    # subplot 1/n\n",
    "    plt.subplot(1,len(param_grid['subsample']), n+1)\n",
    "    df = cv_results[cv_results['param_subsample']==subsample]\n",
    "\n",
    "    plt.plot(df[\"param_learning_rate\"], df[\"mean_test_score\"])\n",
    "    plt.plot(df[\"param_learning_rate\"], df[\"mean_train_score\"])\n",
    "    plt.xlabel('learning_rate')\n",
    "    plt.ylabel('AUC')\n",
    "    plt.title(\"subsample={0}\".format(subsample))\n",
    "    plt.ylim([0.60, 1])\n",
    "    plt.legend(['test score', 'train score'], loc='upper left')\n",
    "    plt.xscale('log')"
   ]
  },
  {
   "cell_type": "code",
   "execution_count": 88,
   "metadata": {},
   "outputs": [
    {
     "data": {
      "text/plain": [
       "XGBClassifier(base_score=0.5, booster='gbtree', colsample_bylevel=1,\n",
       "       colsample_bynode=1, colsample_bytree=1, gamma=0, label=[0, 1],\n",
       "       learning_rate=0.2, max_delta_step=0, max_depth=4,\n",
       "       min_child_weight=1, missing=None, n_estimators=10, n_jobs=1,\n",
       "       nthread=None, objective='binary:logistic', random_state=0,\n",
       "       reg_alpha=0, reg_lambda=1, scale_pos_weight=1, seed=None,\n",
       "       silent=None, subsample=0.9, verbosity=1, weight=[1, 11.82])"
      ]
     },
     "execution_count": 88,
     "metadata": {},
     "output_type": "execute_result"
    }
   ],
   "source": [
    "# chosen hyperparameters\n",
    "# 'objective':'binary:logistic' outputs probability rather than label, which we need for auc\n",
    "prams = {'learning_rate': 0.2,\n",
    "          'max_depth': 2, \n",
    "          'n_estimators':10,\n",
    "          'subsample':0.9,\n",
    "         'objective':'binary:logistic'}\n",
    "\n",
    "# fit model on training data\n",
    "model1 = XGBClassifier(learning_rate= 0.2,max_depth=4, n_estimators=10,label=[0,1],weight=[1,11.82],subsample=0.6,\n",
    "                       objective='binary:logistic')\n",
    "model1.fit(df_pc[pc_col],df_pc['Churn'])"
   ]
  },
  {
   "cell_type": "code",
   "execution_count": 89,
   "metadata": {},
   "outputs": [],
   "source": [
    "y_pred = model1.predict_proba(df_pc[pc_col])\n"
   ]
  },
  {
   "cell_type": "code",
   "execution_count": 90,
   "metadata": {
    "scrolled": true
   },
   "outputs": [
    {
     "name": "stdout",
     "output_type": "stream",
     "text": [
      "AUC: 87.48%\n"
     ]
    }
   ],
   "source": [
    "roc = metrics.roc_auc_score(df_pc['Churn'], y_pred[:, 1])\n",
    "print(\"AUC: %.2f%%\" % (roc * 100.0))"
   ]
  },
  {
   "cell_type": "code",
   "execution_count": 107,
   "metadata": {},
   "outputs": [],
   "source": [
    "y_pred_test = model1.predict_proba(df_pc_test[pc_col])"
   ]
  },
  {
   "cell_type": "code",
   "execution_count": 92,
   "metadata": {
    "scrolled": true
   },
   "outputs": [],
   "source": [
    "df_train['xg_prob']=list(y_pred[:, 1])"
   ]
  },
  {
   "cell_type": "code",
   "execution_count": 93,
   "metadata": {},
   "outputs": [
    {
     "data": {
      "image/png": "[encoded data removed]",
      "text/plain": [
       "<Figure size 360x360 with 1 Axes>"
      ]
     },
     "metadata": {
      "needs_background": "light"
     },
     "output_type": "display_data"
    }
   ],
   "source": [
    "# Roc curve which is desirable and occupying maximum area possible\n",
    "draw_roc(df_train['Churn'], df_train['xg_prob'])"
   ]
  },
  {
   "cell_type": "code",
   "execution_count": 94,
   "metadata": {},
   "outputs": [
    {
     "data": {
      "text/html": [
       "<div>\n",
       "<style scoped>\n",
       "    .dataframe tbody tr th:only-of-type {\n",
       "        vertical-align: middle;\n",
       "    }\n",
       "\n",
       "    .dataframe tbody tr th {\n",
       "        vertical-align: top;\n",
       "    }\n",
       "\n",
       "    .dataframe thead th {\n",
       "        text-align: right;\n",
       "    }\n",
       "</style>\n",
       "<table border=\"1\" class=\"dataframe\">\n",
       "  <thead>\n",
       "    <tr style=\"text-align: right;\">\n",
       "      <th></th>\n",
       "      <th>circle_id</th>\n",
       "      <th>loc_og_t2o_mou</th>\n",
       "      <th>std_og_t2o_mou</th>\n",
       "      <th>loc_ic_t2o_mou</th>\n",
       "      <th>arpu_6</th>\n",
       "      <th>arpu_7</th>\n",
       "      <th>arpu_8</th>\n",
       "      <th>onnet_mou_6</th>\n",
       "      <th>onnet_mou_7</th>\n",
       "      <th>onnet_mou_8</th>\n",
       "      <th>...</th>\n",
       "      <th>0.2</th>\n",
       "      <th>0.3</th>\n",
       "      <th>0.4</th>\n",
       "      <th>0.5</th>\n",
       "      <th>0.6</th>\n",
       "      <th>0.7</th>\n",
       "      <th>0.8</th>\n",
       "      <th>0.9</th>\n",
       "      <th>prob_pred</th>\n",
       "      <th>xg_prob</th>\n",
       "    </tr>\n",
       "  </thead>\n",
       "  <tbody>\n",
       "    <tr>\n",
       "      <th>49099</th>\n",
       "      <td>0.0</td>\n",
       "      <td>0.0</td>\n",
       "      <td>0.0</td>\n",
       "      <td>0.0</td>\n",
       "      <td>-0.092448</td>\n",
       "      <td>0.115523</td>\n",
       "      <td>-0.189854</td>\n",
       "      <td>-0.651970</td>\n",
       "      <td>-0.566411</td>\n",
       "      <td>-0.661957</td>\n",
       "      <td>...</td>\n",
       "      <td>0</td>\n",
       "      <td>0</td>\n",
       "      <td>0</td>\n",
       "      <td>0</td>\n",
       "      <td>0</td>\n",
       "      <td>0</td>\n",
       "      <td>0</td>\n",
       "      <td>0</td>\n",
       "      <td>0</td>\n",
       "      <td>0.122096</td>\n",
       "    </tr>\n",
       "    <tr>\n",
       "      <th>43916</th>\n",
       "      <td>0.0</td>\n",
       "      <td>0.0</td>\n",
       "      <td>0.0</td>\n",
       "      <td>0.0</td>\n",
       "      <td>-0.376268</td>\n",
       "      <td>-0.064777</td>\n",
       "      <td>-1.027289</td>\n",
       "      <td>-0.687120</td>\n",
       "      <td>-0.665967</td>\n",
       "      <td>-0.677149</td>\n",
       "      <td>...</td>\n",
       "      <td>0</td>\n",
       "      <td>0</td>\n",
       "      <td>0</td>\n",
       "      <td>0</td>\n",
       "      <td>0</td>\n",
       "      <td>0</td>\n",
       "      <td>0</td>\n",
       "      <td>0</td>\n",
       "      <td>0</td>\n",
       "      <td>0.172577</td>\n",
       "    </tr>\n",
       "    <tr>\n",
       "      <th>87157</th>\n",
       "      <td>0.0</td>\n",
       "      <td>0.0</td>\n",
       "      <td>0.0</td>\n",
       "      <td>0.0</td>\n",
       "      <td>0.286789</td>\n",
       "      <td>-0.326941</td>\n",
       "      <td>0.316463</td>\n",
       "      <td>-0.445329</td>\n",
       "      <td>-0.447693</td>\n",
       "      <td>-0.471585</td>\n",
       "      <td>...</td>\n",
       "      <td>0</td>\n",
       "      <td>0</td>\n",
       "      <td>0</td>\n",
       "      <td>0</td>\n",
       "      <td>0</td>\n",
       "      <td>0</td>\n",
       "      <td>0</td>\n",
       "      <td>0</td>\n",
       "      <td>0</td>\n",
       "      <td>0.078834</td>\n",
       "    </tr>\n",
       "    <tr>\n",
       "      <th>19640</th>\n",
       "      <td>0.0</td>\n",
       "      <td>0.0</td>\n",
       "      <td>0.0</td>\n",
       "      <td>0.0</td>\n",
       "      <td>2.233138</td>\n",
       "      <td>0.859130</td>\n",
       "      <td>-1.101875</td>\n",
       "      <td>0.112914</td>\n",
       "      <td>-0.482091</td>\n",
       "      <td>0.042097</td>\n",
       "      <td>...</td>\n",
       "      <td>1</td>\n",
       "      <td>1</td>\n",
       "      <td>1</td>\n",
       "      <td>1</td>\n",
       "      <td>1</td>\n",
       "      <td>1</td>\n",
       "      <td>1</td>\n",
       "      <td>0</td>\n",
       "      <td>1</td>\n",
       "      <td>0.845797</td>\n",
       "    </tr>\n",
       "    <tr>\n",
       "      <th>21306</th>\n",
       "      <td>0.0</td>\n",
       "      <td>0.0</td>\n",
       "      <td>0.0</td>\n",
       "      <td>0.0</td>\n",
       "      <td>1.630246</td>\n",
       "      <td>1.460190</td>\n",
       "      <td>1.909555</td>\n",
       "      <td>0.490775</td>\n",
       "      <td>0.057618</td>\n",
       "      <td>0.478606</td>\n",
       "      <td>...</td>\n",
       "      <td>0</td>\n",
       "      <td>0</td>\n",
       "      <td>0</td>\n",
       "      <td>0</td>\n",
       "      <td>0</td>\n",
       "      <td>0</td>\n",
       "      <td>0</td>\n",
       "      <td>0</td>\n",
       "      <td>0</td>\n",
       "      <td>0.072206</td>\n",
       "    </tr>\n",
       "  </tbody>\n",
       "</table>\n",
       "<p>5 rows × 164 columns</p>\n",
       "</div>"
      ],
      "text/plain": [
       "       circle_id  loc_og_t2o_mou  std_og_t2o_mou  loc_ic_t2o_mou    arpu_6  \\\n",
       "49099        0.0             0.0             0.0             0.0 -0.092448   \n",
       "43916        0.0             0.0             0.0             0.0 -0.376268   \n",
       "87157        0.0             0.0             0.0             0.0  0.286789   \n",
       "19640        0.0             0.0             0.0             0.0  2.233138   \n",
       "21306        0.0             0.0             0.0             0.0  1.630246   \n",
       "\n",
       "         arpu_7    arpu_8  onnet_mou_6  onnet_mou_7  onnet_mou_8  ...  0.2  \\\n",
       "49099  0.115523 -0.189854    -0.651970    -0.566411    -0.661957  ...    0   \n",
       "43916 -0.064777 -1.027289    -0.687120    -0.665967    -0.677149  ...    0   \n",
       "87157 -0.326941  0.316463    -0.445329    -0.447693    -0.471585  ...    0   \n",
       "19640  0.859130 -1.101875     0.112914    -0.482091     0.042097  ...    1   \n",
       "21306  1.460190  1.909555     0.490775     0.057618     0.478606  ...    0   \n",
       "\n",
       "       0.3  0.4  0.5  0.6  0.7  0.8  0.9  prob_pred   xg_prob  \n",
       "49099    0    0    0    0    0    0    0          0  0.122096  \n",
       "43916    0    0    0    0    0    0    0          0  0.172577  \n",
       "87157    0    0    0    0    0    0    0          0  0.078834  \n",
       "19640    1    1    1    1    1    1    0          1  0.845797  \n",
       "21306    0    0    0    0    0    0    0          0  0.072206  \n",
       "\n",
       "[5 rows x 164 columns]"
      ]
     },
     "execution_count": 94,
     "metadata": {},
     "output_type": "execute_result"
    }
   ],
   "source": [
    "#predicting the target values by using different cut offs\n",
    "numbers=[float(x)/10 for x in range(10)]\n",
    "for i in numbers:\n",
    "    df_train[i]=df_train.xg_prob.map(lambda x: 1 if x> i else 0)\n",
    "df_train.head()"
   ]
  },
  {
   "cell_type": "code",
   "execution_count": 95,
   "metadata": {},
   "outputs": [
    {
     "name": "stdout",
     "output_type": "stream",
     "text": [
      "     xg_prob  accuracy     sensi     speci\n",
      "0.0      0.0  0.079751  1.000000  0.000000\n",
      "0.1      0.1  0.619353  0.898316  0.595178\n",
      "0.2      0.2  0.909652  0.596382  0.936801\n",
      "0.3      0.3  0.939303  0.438553  0.982700\n",
      "0.4      0.4  0.943632  0.343107  0.995675\n",
      "0.5      0.5  0.944229  0.331254  0.997351\n",
      "0.6      0.6  0.942935  0.302558  0.998432\n",
      "0.7      0.7  0.941144  0.269495  0.999351\n",
      "0.8      0.8  0.938209  0.228322  0.999730\n",
      "0.9      0.9  0.920249  0.000000  1.000000\n"
     ]
    }
   ],
   "source": [
    "#For different cut offs calculating the metrics\n",
    "cutoff_df = pd.DataFrame( columns = ['xg_prob','accuracy','sensi','speci'])\n",
    "from sklearn.metrics import confusion_matrix\n",
    "\n",
    "# TP = confusion[1,1] # true positive \n",
    "# TN = confusion[0,0] # true negatives\n",
    "# FP = confusion[0,1] # false positives\n",
    "# FN = confusion[1,0] # false negatives\n",
    "\n",
    "num = [0.0,0.1,0.2,0.3,0.4,0.5,0.6,0.7,0.8,0.9]\n",
    "for i in num:\n",
    "    cm1 = metrics.confusion_matrix(df_train['Churn'], df_train[i] )\n",
    "    total1=sum(sum(cm1))\n",
    "    accuracy = (cm1[0,0]+cm1[1,1])/total1\n",
    "    \n",
    "    speci = cm1[0,0]/(cm1[0,0]+cm1[0,1])\n",
    "    sensi = cm1[1,1]/(cm1[1,0]+cm1[1,1])\n",
    "    cutoff_df.loc[i] =[ i ,accuracy,sensi,speci]\n",
    "print(cutoff_df)"
   ]
  },
  {
   "cell_type": "code",
   "execution_count": 96,
   "metadata": {},
   "outputs": [
    {
     "data": {
      "image/png": "[encoded data removed]",
      "text/plain": [
       "<Figure size 432x288 with 1 Axes>"
      ]
     },
     "metadata": {
      "needs_background": "light"
     },
     "output_type": "display_data"
    }
   ],
   "source": [
    "#Plotting the metrics accuracy,sensitivity,specificity as the intersection is at 0.16 we take cutoff as 0.16\n",
    "plt.plot(cutoff_df['accuracy'])\n",
    "plt.plot(cutoff_df['sensi'])\n",
    "plt.plot(cutoff_df['speci'])\n",
    "plt.show()"
   ]
  },
  {
   "cell_type": "code",
   "execution_count": 101,
   "metadata": {},
   "outputs": [],
   "source": [
    "#statistically 0.16 is idela cut-off since we are dealing with churn rate we chose 0.12 as cutoff which is giving \n",
    "#high sensitivity\n",
    "df_train['xg_prob_pred']=df_train.xg_prob.map(lambda x: 1 if x> 0.12 else 0)\n",
    "metrics.accuracy_score(df_train['Churn'],df_train['xg_prob_pred'])\n",
    "cm1 = metrics.confusion_matrix(df_train['Churn'], df_train['xg_prob_pred'] )\n",
    "accuracy = (cm1[0,0]+cm1[1,1])/total1\n",
    "speci = cm1[0,0]/(cm1[0,0]+cm1[0,1])\n",
    "sensi = cm1[1,1]/(cm1[1,0]+cm1[1,1])"
   ]
  },
  {
   "cell_type": "code",
   "execution_count": 102,
   "metadata": {},
   "outputs": [
    {
     "name": "stdout",
     "output_type": "stream",
     "text": [
      "0.7756218905472637 0.7730983402713953 0.8047411104179664\n"
     ]
    }
   ],
   "source": [
    "print(accuracy,speci,sensi)"
   ]
  },
  {
   "cell_type": "code",
   "execution_count": 111,
   "metadata": {
    "scrolled": true
   },
   "outputs": [
    {
     "name": "stdout",
     "output_type": "stream",
     "text": [
      "AUC: 85.11%\n"
     ]
    }
   ],
   "source": [
    "roc = metrics.roc_auc_score(df_pc_test['Churn'], y_pred_test[:, 1])\n",
    "print(\"AUC: %.2f%%\" % (roc * 100.0))"
   ]
  },
  {
   "cell_type": "markdown",
   "metadata": {},
   "source": [
    "#### By comparing three models we choosed linear regression model which has better sensitivty over other models "
   ]
  },
  {
   "cell_type": "code",
   "execution_count": 118,
   "metadata": {},
   "outputs": [
    {
     "data": {
      "text/plain": [
       "LogisticRegression(C=1.0, class_weight='balanced', dual=False,\n",
       "          fit_intercept=True, intercept_scaling=1, max_iter=100,\n",
       "          multi_class='warn', n_jobs=None, penalty='l2', random_state=None,\n",
       "          solver='warn', tol=0.0001, verbose=0, warm_start=False)"
      ]
     },
     "execution_count": 118,
     "metadata": {},
     "output_type": "execute_result"
    }
   ],
   "source": [
    "#LR with RFE to list the top 20 features\n",
    "lr_rfe=LogisticRegression(class_weight='balanced')\n",
    "lr_rfe.fit(df_train[var_cols],df_train['Churn'])"
   ]
  },
  {
   "cell_type": "code",
   "execution_count": 119,
   "metadata": {},
   "outputs": [],
   "source": [
    "#Selecting Top 20 variable using RFE\n",
    "rfe_tt=RFE(lr_rfe,20)\n",
    "rfe_tt=rfe_tt.fit(df_train[var_cols],df_train['Churn'])"
   ]
  },
  {
   "cell_type": "code",
   "execution_count": 120,
   "metadata": {},
   "outputs": [
    {
     "data": {
      "text/plain": [
       "[('circle_id', False, 131),\n",
       " ('loc_og_t2o_mou', False, 130),\n",
       " ('std_og_t2o_mou', False, 129),\n",
       " ('loc_ic_t2o_mou', False, 128),\n",
       " ('arpu_6', False, 86),\n",
       " ('arpu_7', False, 20),\n",
       " ('arpu_8', False, 39),\n",
       " ('onnet_mou_6', False, 25),\n",
       " ('onnet_mou_7', True, 1),\n",
       " ('onnet_mou_8', True, 1),\n",
       " ('offnet_mou_6', False, 95),\n",
       " ('offnet_mou_7', False, 2),\n",
       " ('offnet_mou_8', False, 4),\n",
       " ('roam_ic_mou_6', False, 23),\n",
       " ('roam_ic_mou_7', False, 18),\n",
       " ('roam_ic_mou_8', False, 92),\n",
       " ('roam_og_mou_6', False, 49),\n",
       " ('roam_og_mou_7', False, 83),\n",
       " ('roam_og_mou_8', True, 1),\n",
       " ('loc_og_t2t_mou_6', False, 72),\n",
       " ('loc_og_t2t_mou_7', False, 91),\n",
       " ('loc_og_t2t_mou_8', False, 11),\n",
       " ('loc_og_t2m_mou_6', False, 81),\n",
       " ('loc_og_t2m_mou_7', False, 105),\n",
       " ('loc_og_t2m_mou_8', False, 33),\n",
       " ('loc_og_t2f_mou_6', False, 64),\n",
       " ('loc_og_t2f_mou_7', False, 43),\n",
       " ('loc_og_t2f_mou_8', False, 103),\n",
       " ('loc_og_t2c_mou_6', False, 111),\n",
       " ('loc_og_t2c_mou_7', False, 47),\n",
       " ('loc_og_t2c_mou_8', False, 46),\n",
       " ('loc_og_mou_6', False, 60),\n",
       " ('loc_og_mou_7', False, 7),\n",
       " ('loc_og_mou_8', False, 6),\n",
       " ('std_og_t2t_mou_6', False, 71),\n",
       " ('std_og_t2t_mou_7', False, 10),\n",
       " ('std_og_t2t_mou_8', False, 37),\n",
       " ('std_og_t2m_mou_6', False, 26),\n",
       " ('std_og_t2m_mou_7', False, 3),\n",
       " ('std_og_t2m_mou_8', False, 5),\n",
       " ('std_og_t2f_mou_6', False, 22),\n",
       " ('std_og_t2f_mou_7', False, 14),\n",
       " ('std_og_t2f_mou_8', True, 1),\n",
       " ('std_og_t2c_mou_6', False, 125),\n",
       " ('std_og_t2c_mou_7', False, 126),\n",
       " ('std_og_t2c_mou_8', False, 127),\n",
       " ('std_og_mou_6', False, 59),\n",
       " ('std_og_mou_7', False, 19),\n",
       " ('std_og_mou_8', True, 1),\n",
       " ('isd_og_mou_6', True, 1),\n",
       " ('isd_og_mou_7', True, 1),\n",
       " ('isd_og_mou_8', True, 1),\n",
       " ('spl_og_mou_6', False, 112),\n",
       " ('spl_og_mou_7', False, 45),\n",
       " ('spl_og_mou_8', False, 84),\n",
       " ('og_others_6', False, 120),\n",
       " ('og_others_7', False, 110),\n",
       " ('og_others_8', False, 106),\n",
       " ('total_og_mou_6', False, 52),\n",
       " ('total_og_mou_7', False, 115),\n",
       " ('total_og_mou_8', True, 1),\n",
       " ('loc_ic_t2t_mou_6', True, 1),\n",
       " ('loc_ic_t2t_mou_7', False, 13),\n",
       " ('loc_ic_t2t_mou_8', True, 1),\n",
       " ('loc_ic_t2m_mou_6', False, 27),\n",
       " ('loc_ic_t2m_mou_7', False, 8),\n",
       " ('loc_ic_t2m_mou_8', True, 1),\n",
       " ('loc_ic_t2f_mou_6', False, 90),\n",
       " ('loc_ic_t2f_mou_7', False, 58),\n",
       " ('loc_ic_t2f_mou_8', False, 65),\n",
       " ('loc_ic_mou_6', False, 28),\n",
       " ('loc_ic_mou_7', False, 54),\n",
       " ('loc_ic_mou_8', False, 114),\n",
       " ('std_ic_t2t_mou_6', False, 29),\n",
       " ('std_ic_t2t_mou_7', False, 31),\n",
       " ('std_ic_t2t_mou_8', False, 9),\n",
       " ('std_ic_t2m_mou_6', False, 51),\n",
       " ('std_ic_t2m_mou_7', False, 50),\n",
       " ('std_ic_t2m_mou_8', False, 30),\n",
       " ('std_ic_t2f_mou_6', False, 34),\n",
       " ('std_ic_t2f_mou_7', True, 1),\n",
       " ('std_ic_t2f_mou_8', False, 15),\n",
       " ('std_ic_t2o_mou_6', False, 122),\n",
       " ('std_ic_t2o_mou_7', False, 124),\n",
       " ('std_ic_t2o_mou_8', False, 123),\n",
       " ('std_ic_mou_6', False, 61),\n",
       " ('std_ic_mou_7', False, 12),\n",
       " ('std_ic_mou_8', True, 1),\n",
       " ('total_ic_mou_6', False, 35),\n",
       " ('total_ic_mou_7', False, 36),\n",
       " ('total_ic_mou_8', False, 82),\n",
       " ('spl_ic_mou_6', False, 62),\n",
       " ('spl_ic_mou_7', False, 24),\n",
       " ('spl_ic_mou_8', True, 1),\n",
       " ('isd_ic_mou_6', False, 16),\n",
       " ('isd_ic_mou_7', False, 17),\n",
       " ('isd_ic_mou_8', True, 1),\n",
       " ('ic_others_6', False, 63),\n",
       " ('ic_others_7', False, 108),\n",
       " ('ic_others_8', False, 79),\n",
       " ('total_rech_num_6', False, 89),\n",
       " ('total_rech_num_7', False, 88),\n",
       " ('total_rech_num_8', False, 41),\n",
       " ('total_rech_amt_6', False, 104),\n",
       " ('total_rech_amt_7', False, 87),\n",
       " ('total_rech_amt_8', False, 38),\n",
       " ('max_rech_amt_6', False, 78),\n",
       " ('max_rech_amt_7', False, 40),\n",
       " ('max_rech_amt_8', False, 55),\n",
       " ('last_day_rch_amt_6', False, 85),\n",
       " ('last_day_rch_amt_7', False, 107),\n",
       " ('last_day_rch_amt_8', True, 1),\n",
       " ('total_rech_data_6', False, 118),\n",
       " ('total_rech_data_7', False, 53),\n",
       " ('total_rech_data_8', False, 44),\n",
       " ('max_rech_data_6', False, 98),\n",
       " ('max_rech_data_7', False, 69),\n",
       " ('max_rech_data_8', False, 48),\n",
       " ('count_rech_2g_6', False, 119),\n",
       " ('count_rech_2g_7', False, 109),\n",
       " ('count_rech_2g_8', True, 1),\n",
       " ('count_rech_3g_6', False, 66),\n",
       " ('count_rech_3g_7', False, 96),\n",
       " ('count_rech_3g_8', False, 76),\n",
       " ('av_rech_amt_data_6', False, 21),\n",
       " ('av_rech_amt_data_7', False, 116),\n",
       " ('av_rech_amt_data_8', True, 1),\n",
       " ('vol_2g_mb_6', False, 113),\n",
       " ('vol_2g_mb_7', False, 74),\n",
       " ('vol_2g_mb_8', False, 67),\n",
       " ('vol_3g_mb_6', False, 94),\n",
       " ('vol_3g_mb_7', False, 68),\n",
       " ('vol_3g_mb_8', False, 117),\n",
       " ('monthly_2g_6', False, 100),\n",
       " ('monthly_2g_7', False, 70),\n",
       " ('monthly_2g_8', False, 77),\n",
       " ('sachet_2g_6', False, 121),\n",
       " ('sachet_2g_7', False, 99),\n",
       " ('sachet_2g_8', True, 1),\n",
       " ('monthly_3g_6', False, 102),\n",
       " ('monthly_3g_7', False, 97),\n",
       " ('monthly_3g_8', False, 73),\n",
       " ('sachet_3g_6', False, 101),\n",
       " ('sachet_3g_7', False, 80),\n",
       " ('sachet_3g_8', False, 75),\n",
       " ('aon', False, 32),\n",
       " ('aug_vbc_3g', False, 56),\n",
       " ('jul_vbc_3g', False, 57),\n",
       " ('jun_vbc_3g', False, 93),\n",
       " ('sep_vbc_3g', False, 42)]"
      ]
     },
     "execution_count": 120,
     "metadata": {},
     "output_type": "execute_result"
    }
   ],
   "source": [
    "#Significance of each feature in the model\n",
    "list(zip(df_train[var_cols].columns,rfe_tt.support_,rfe_tt.ranking_))"
   ]
  },
  {
   "cell_type": "code",
   "execution_count": 121,
   "metadata": {},
   "outputs": [
    {
     "data": {
      "text/plain": [
       "Index(['onnet_mou_7', 'onnet_mou_8', 'roam_og_mou_8', 'std_og_t2f_mou_8',\n",
       "       'std_og_mou_8', 'isd_og_mou_6', 'isd_og_mou_7', 'isd_og_mou_8',\n",
       "       'total_og_mou_8', 'loc_ic_t2t_mou_6', 'loc_ic_t2t_mou_8',\n",
       "       'loc_ic_t2m_mou_8', 'std_ic_t2f_mou_7', 'std_ic_mou_8', 'spl_ic_mou_8',\n",
       "       'isd_ic_mou_8', 'last_day_rch_amt_8', 'count_rech_2g_8',\n",
       "       'av_rech_amt_data_8', 'sachet_2g_8'],\n",
       "      dtype='object')"
      ]
     },
     "execution_count": 121,
     "metadata": {},
     "output_type": "execute_result"
    }
   ],
   "source": [
    "tar_cols=df_train[var_cols].columns[rfe_tt.support_]\n",
    "tar_cols"
   ]
  },
  {
   "cell_type": "code",
   "execution_count": 135,
   "metadata": {},
   "outputs": [
    {
     "data": {
      "text/plain": [
       "LogisticRegression(C=1.0, class_weight='balanced', dual=False,\n",
       "          fit_intercept=True, intercept_scaling=1, max_iter=100,\n",
       "          multi_class='warn', n_jobs=None, penalty='l2', random_state=None,\n",
       "          solver='warn', tol=0.0001, verbose=0, warm_start=False)"
      ]
     },
     "execution_count": 135,
     "metadata": {},
     "output_type": "execute_result"
    }
   ],
   "source": [
    "#Training the model with LR using rfe features\n",
    "#using sklearn model for building the logistic regression model\n",
    "lr_nw=LogisticRegression(class_weight='balanced')\n",
    "lr_nw.fit(df_train[tar_cols],df_train['Churn'])"
   ]
  },
  {
   "cell_type": "code",
   "execution_count": 136,
   "metadata": {},
   "outputs": [],
   "source": [
    "df_train['prob']=list(lr_nw.predict_proba(df_train[tar_cols])[:,1])"
   ]
  },
  {
   "cell_type": "code",
   "execution_count": 137,
   "metadata": {},
   "outputs": [
    {
     "data": {
      "image/png": "[encoded data removed]",
      "text/plain": [
       "<Figure size 360x360 with 1 Axes>"
      ]
     },
     "metadata": {
      "needs_background": "light"
     },
     "output_type": "display_data"
    }
   ],
   "source": [
    "# Roc curve which is desirable and occupying maximum area possible\n",
    "draw_roc(df_train['Churn'], df_train['prob'])"
   ]
  },
  {
   "cell_type": "code",
   "execution_count": 138,
   "metadata": {},
   "outputs": [
    {
     "data": {
      "text/html": [
       "<div>\n",
       "<style scoped>\n",
       "    .dataframe tbody tr th:only-of-type {\n",
       "        vertical-align: middle;\n",
       "    }\n",
       "\n",
       "    .dataframe tbody tr th {\n",
       "        vertical-align: top;\n",
       "    }\n",
       "\n",
       "    .dataframe thead th {\n",
       "        text-align: right;\n",
       "    }\n",
       "</style>\n",
       "<table border=\"1\" class=\"dataframe\">\n",
       "  <thead>\n",
       "    <tr style=\"text-align: right;\">\n",
       "      <th></th>\n",
       "      <th>circle_id</th>\n",
       "      <th>loc_og_t2o_mou</th>\n",
       "      <th>std_og_t2o_mou</th>\n",
       "      <th>loc_ic_t2o_mou</th>\n",
       "      <th>arpu_6</th>\n",
       "      <th>arpu_7</th>\n",
       "      <th>arpu_8</th>\n",
       "      <th>onnet_mou_6</th>\n",
       "      <th>onnet_mou_7</th>\n",
       "      <th>onnet_mou_8</th>\n",
       "      <th>...</th>\n",
       "      <th>0.4</th>\n",
       "      <th>0.5</th>\n",
       "      <th>0.6</th>\n",
       "      <th>0.7</th>\n",
       "      <th>0.8</th>\n",
       "      <th>0.9</th>\n",
       "      <th>prob_pred</th>\n",
       "      <th>xg_prob</th>\n",
       "      <th>xg_prob_pred</th>\n",
       "      <th>XG_prob</th>\n",
       "    </tr>\n",
       "  </thead>\n",
       "  <tbody>\n",
       "    <tr>\n",
       "      <th>49099</th>\n",
       "      <td>0.0</td>\n",
       "      <td>0.0</td>\n",
       "      <td>0.0</td>\n",
       "      <td>0.0</td>\n",
       "      <td>-0.092448</td>\n",
       "      <td>0.115523</td>\n",
       "      <td>-0.189854</td>\n",
       "      <td>-0.651970</td>\n",
       "      <td>-0.566411</td>\n",
       "      <td>-0.661957</td>\n",
       "      <td>...</td>\n",
       "      <td>0</td>\n",
       "      <td>0</td>\n",
       "      <td>0</td>\n",
       "      <td>0</td>\n",
       "      <td>0</td>\n",
       "      <td>0</td>\n",
       "      <td>0</td>\n",
       "      <td>0.070440</td>\n",
       "      <td>0</td>\n",
       "      <td>0.070440</td>\n",
       "    </tr>\n",
       "    <tr>\n",
       "      <th>43916</th>\n",
       "      <td>0.0</td>\n",
       "      <td>0.0</td>\n",
       "      <td>0.0</td>\n",
       "      <td>0.0</td>\n",
       "      <td>-0.376268</td>\n",
       "      <td>-0.064777</td>\n",
       "      <td>-1.027289</td>\n",
       "      <td>-0.687120</td>\n",
       "      <td>-0.665967</td>\n",
       "      <td>-0.677149</td>\n",
       "      <td>...</td>\n",
       "      <td>0</td>\n",
       "      <td>0</td>\n",
       "      <td>0</td>\n",
       "      <td>0</td>\n",
       "      <td>0</td>\n",
       "      <td>0</td>\n",
       "      <td>0</td>\n",
       "      <td>0.094468</td>\n",
       "      <td>0</td>\n",
       "      <td>0.094468</td>\n",
       "    </tr>\n",
       "    <tr>\n",
       "      <th>87157</th>\n",
       "      <td>0.0</td>\n",
       "      <td>0.0</td>\n",
       "      <td>0.0</td>\n",
       "      <td>0.0</td>\n",
       "      <td>0.286789</td>\n",
       "      <td>-0.326941</td>\n",
       "      <td>0.316463</td>\n",
       "      <td>-0.445329</td>\n",
       "      <td>-0.447693</td>\n",
       "      <td>-0.471585</td>\n",
       "      <td>...</td>\n",
       "      <td>0</td>\n",
       "      <td>0</td>\n",
       "      <td>0</td>\n",
       "      <td>0</td>\n",
       "      <td>0</td>\n",
       "      <td>0</td>\n",
       "      <td>0</td>\n",
       "      <td>0.099353</td>\n",
       "      <td>0</td>\n",
       "      <td>0.099353</td>\n",
       "    </tr>\n",
       "    <tr>\n",
       "      <th>19640</th>\n",
       "      <td>0.0</td>\n",
       "      <td>0.0</td>\n",
       "      <td>0.0</td>\n",
       "      <td>0.0</td>\n",
       "      <td>2.233138</td>\n",
       "      <td>0.859130</td>\n",
       "      <td>-1.101875</td>\n",
       "      <td>0.112914</td>\n",
       "      <td>-0.482091</td>\n",
       "      <td>0.042097</td>\n",
       "      <td>...</td>\n",
       "      <td>1</td>\n",
       "      <td>1</td>\n",
       "      <td>1</td>\n",
       "      <td>1</td>\n",
       "      <td>1</td>\n",
       "      <td>1</td>\n",
       "      <td>1</td>\n",
       "      <td>0.879300</td>\n",
       "      <td>1</td>\n",
       "      <td>0.879300</td>\n",
       "    </tr>\n",
       "    <tr>\n",
       "      <th>21306</th>\n",
       "      <td>0.0</td>\n",
       "      <td>0.0</td>\n",
       "      <td>0.0</td>\n",
       "      <td>0.0</td>\n",
       "      <td>1.630246</td>\n",
       "      <td>1.460190</td>\n",
       "      <td>1.909555</td>\n",
       "      <td>0.490775</td>\n",
       "      <td>0.057618</td>\n",
       "      <td>0.478606</td>\n",
       "      <td>...</td>\n",
       "      <td>0</td>\n",
       "      <td>0</td>\n",
       "      <td>0</td>\n",
       "      <td>0</td>\n",
       "      <td>0</td>\n",
       "      <td>0</td>\n",
       "      <td>0</td>\n",
       "      <td>0.070440</td>\n",
       "      <td>0</td>\n",
       "      <td>0.070440</td>\n",
       "    </tr>\n",
       "  </tbody>\n",
       "</table>\n",
       "<p>5 rows × 166 columns</p>\n",
       "</div>"
      ],
      "text/plain": [
       "       circle_id  loc_og_t2o_mou  std_og_t2o_mou  loc_ic_t2o_mou    arpu_6  \\\n",
       "49099        0.0             0.0             0.0             0.0 -0.092448   \n",
       "43916        0.0             0.0             0.0             0.0 -0.376268   \n",
       "87157        0.0             0.0             0.0             0.0  0.286789   \n",
       "19640        0.0             0.0             0.0             0.0  2.233138   \n",
       "21306        0.0             0.0             0.0             0.0  1.630246   \n",
       "\n",
       "         arpu_7    arpu_8  onnet_mou_6  onnet_mou_7  onnet_mou_8  ...  0.4  \\\n",
       "49099  0.115523 -0.189854    -0.651970    -0.566411    -0.661957  ...    0   \n",
       "43916 -0.064777 -1.027289    -0.687120    -0.665967    -0.677149  ...    0   \n",
       "87157 -0.326941  0.316463    -0.445329    -0.447693    -0.471585  ...    0   \n",
       "19640  0.859130 -1.101875     0.112914    -0.482091     0.042097  ...    1   \n",
       "21306  1.460190  1.909555     0.490775     0.057618     0.478606  ...    0   \n",
       "\n",
       "       0.5  0.6  0.7  0.8  0.9  prob_pred   xg_prob  xg_prob_pred   XG_prob  \n",
       "49099    0    0    0    0    0          0  0.070440             0  0.070440  \n",
       "43916    0    0    0    0    0          0  0.094468             0  0.094468  \n",
       "87157    0    0    0    0    0          0  0.099353             0  0.099353  \n",
       "19640    1    1    1    1    1          1  0.879300             1  0.879300  \n",
       "21306    0    0    0    0    0          0  0.070440             0  0.070440  \n",
       "\n",
       "[5 rows x 166 columns]"
      ]
     },
     "execution_count": 138,
     "metadata": {},
     "output_type": "execute_result"
    }
   ],
   "source": [
    "#predicting the target values by using different cut offs\n",
    "numbers=[float(x)/10 for x in range(10)]\n",
    "for i in numbers:\n",
    "    df_train[i]=df_train.prob.map(lambda x: 1 if x> i else 0)\n",
    "df_train.head()"
   ]
  },
  {
   "cell_type": "code",
   "execution_count": 139,
   "metadata": {},
   "outputs": [
    {
     "name": "stdout",
     "output_type": "stream",
     "text": [
      "     prob  accuracy     sensi     speci\n",
      "0.0   0.0  0.079751  1.000000  0.000000\n",
      "0.1   0.1  0.436816  0.980037  0.389739\n",
      "0.2   0.2  0.627065  0.942608  0.599719\n",
      "0.3   0.3  0.734080  0.912040  0.718657\n",
      "0.4   0.4  0.812040  0.876482  0.806455\n",
      "0.5   0.5  0.862985  0.831566  0.865708\n",
      "0.6   0.6  0.895423  0.778540  0.905552\n",
      "0.7   0.7  0.918756  0.711167  0.936746\n",
      "0.8   0.8  0.931990  0.615097  0.959453\n",
      "0.9   0.9  0.939005  0.477230  0.979024\n"
     ]
    }
   ],
   "source": [
    "#For different cut offs calculating the metrics\n",
    "cutoff_df = pd.DataFrame( columns = ['prob','accuracy','sensi','speci'])\n",
    "from sklearn.metrics import confusion_matrix\n",
    "\n",
    "# TP = confusion[1,1] # true positive \n",
    "# TN = confusion[0,0] # true negatives\n",
    "# FP = confusion[0,1] # false positives\n",
    "# FN = confusion[1,0] # false negatives\n",
    "\n",
    "num = [0.0,0.1,0.2,0.3,0.4,0.5,0.6,0.7,0.8,0.9]\n",
    "for i in num:\n",
    "    cm1 = metrics.confusion_matrix(df_train['Churn'], df_train[i] )\n",
    "    total1=sum(sum(cm1))\n",
    "    accuracy = (cm1[0,0]+cm1[1,1])/total1\n",
    "    \n",
    "    speci = cm1[0,0]/(cm1[0,0]+cm1[0,1])\n",
    "    sensi = cm1[1,1]/(cm1[1,0]+cm1[1,1])\n",
    "    cutoff_df.loc[i] =[ i ,accuracy,sensi,speci]\n",
    "print(cutoff_df)"
   ]
  },
  {
   "cell_type": "code",
   "execution_count": 140,
   "metadata": {},
   "outputs": [
    {
     "data": {
      "image/png": "[encoded data removed]",
      "text/plain": [
       "<Figure size 432x288 with 1 Axes>"
      ]
     },
     "metadata": {
      "needs_background": "light"
     },
     "output_type": "display_data"
    }
   ],
   "source": [
    "#Plotting the metrics accuracy,sensitivity,specificity as the intersection is at 0.5 we take cutoff as 0.5\n",
    "plt.plot(cutoff_df['accuracy'])\n",
    "plt.plot(cutoff_df['sensi'])\n",
    "plt.plot(cutoff_df['speci'])\n",
    "plt.show()"
   ]
  },
  {
   "cell_type": "code",
   "execution_count": 141,
   "metadata": {},
   "outputs": [],
   "source": [
    "# Cutoff is chosen giving importance to sensitivity\n",
    "df_train['lr_prob_pred']=df_train.prob.map(lambda x: 1 if x> 0.43 else 0)"
   ]
  },
  {
   "cell_type": "code",
   "execution_count": 142,
   "metadata": {},
   "outputs": [
    {
     "data": {
      "text/plain": [
       "0.8296019900497512"
      ]
     },
     "execution_count": 142,
     "metadata": {},
     "output_type": "execute_result"
    }
   ],
   "source": [
    "#Accuracy for the train set\n",
    "metrics.accuracy_score(df_train['Churn'],df_train['lr_prob_pred'])"
   ]
  },
  {
   "cell_type": "code",
   "execution_count": 143,
   "metadata": {},
   "outputs": [
    {
     "name": "stdout",
     "output_type": "stream",
     "text": [
      "0.8296019900497512 0.826512407417419 0.8652526512788522\n"
     ]
    }
   ],
   "source": [
    "#Metrics of test set\n",
    "cm1 = metrics.confusion_matrix(df_train['Churn'], df_train['lr_prob_pred'] )\n",
    "total1=sum(sum(cm1))\n",
    "accuracy = (cm1[0,0]+cm1[1,1])/total1\n",
    "speci = cm1[0,0]/(cm1[0,0]+cm1[0,1])\n",
    "sensi = cm1[1,1]/(cm1[1,0]+cm1[1,1])\n",
    "print(accuracy,speci,sensi)"
   ]
  },
  {
   "cell_type": "code",
   "execution_count": 144,
   "metadata": {},
   "outputs": [],
   "source": [
    "df_test['prob']=list(lr_nw.predict_proba(df_test[tar_cols])[:,1])"
   ]
  },
  {
   "cell_type": "code",
   "execution_count": 145,
   "metadata": {},
   "outputs": [],
   "source": [
    "df_test['lr_prob_pred']=df_test.prob.map(lambda x: 1 if x> 0.43 else 0)"
   ]
  },
  {
   "cell_type": "code",
   "execution_count": 146,
   "metadata": {},
   "outputs": [
    {
     "name": "stdout",
     "output_type": "stream",
     "text": [
      "0.8192929292929293 0.8166831519947247 0.8489388264669163\n"
     ]
    }
   ],
   "source": [
    "cm1 = metrics.confusion_matrix(df_test['Churn'], df_test['lr_prob_pred'] )\n",
    "total1=sum(sum(cm1))\n",
    "accuracy = (cm1[0,0]+cm1[1,1])/total1\n",
    "speci = cm1[0,0]/(cm1[0,0]+cm1[0,1])\n",
    "sensi = cm1[1,1]/(cm1[1,0]+cm1[1,1])\n",
    "print(accuracy,speci,sensi)"
   ]
  },
  {
   "cell_type": "markdown",
   "metadata": {},
   "source": [
    "#### Considering VIF factor for the top 20columns generated"
   ]
  },
  {
   "cell_type": "code",
   "execution_count": 152,
   "metadata": {},
   "outputs": [
    {
     "data": {
      "text/html": [
       "<div>\n",
       "<style scoped>\n",
       "    .dataframe tbody tr th:only-of-type {\n",
       "        vertical-align: middle;\n",
       "    }\n",
       "\n",
       "    .dataframe tbody tr th {\n",
       "        vertical-align: top;\n",
       "    }\n",
       "\n",
       "    .dataframe thead th {\n",
       "        text-align: right;\n",
       "    }\n",
       "</style>\n",
       "<table border=\"1\" class=\"dataframe\">\n",
       "  <thead>\n",
       "    <tr style=\"text-align: right;\">\n",
       "      <th></th>\n",
       "      <th>Features</th>\n",
       "      <th>VIF</th>\n",
       "    </tr>\n",
       "  </thead>\n",
       "  <tbody>\n",
       "    <tr>\n",
       "      <th>0</th>\n",
       "      <td>onnet_mou_7</td>\n",
       "      <td>2.26</td>\n",
       "    </tr>\n",
       "    <tr>\n",
       "      <th>1</th>\n",
       "      <td>roam_og_mou_8</td>\n",
       "      <td>2.42</td>\n",
       "    </tr>\n",
       "    <tr>\n",
       "      <th>2</th>\n",
       "      <td>std_og_t2f_mou_8</td>\n",
       "      <td>3.73</td>\n",
       "    </tr>\n",
       "    <tr>\n",
       "      <th>3</th>\n",
       "      <td>std_og_mou_8</td>\n",
       "      <td>4.26</td>\n",
       "    </tr>\n",
       "    <tr>\n",
       "      <th>4</th>\n",
       "      <td>total_og_mou_8</td>\n",
       "      <td>4.08</td>\n",
       "    </tr>\n",
       "    <tr>\n",
       "      <th>5</th>\n",
       "      <td>loc_ic_t2t_mou_6</td>\n",
       "      <td>2.60</td>\n",
       "    </tr>\n",
       "    <tr>\n",
       "      <th>6</th>\n",
       "      <td>loc_ic_t2t_mou_8</td>\n",
       "      <td>3.12</td>\n",
       "    </tr>\n",
       "    <tr>\n",
       "      <th>7</th>\n",
       "      <td>loc_ic_t2m_mou_8</td>\n",
       "      <td>2.13</td>\n",
       "    </tr>\n",
       "    <tr>\n",
       "      <th>8</th>\n",
       "      <td>std_ic_t2f_mou_7</td>\n",
       "      <td>3.33</td>\n",
       "    </tr>\n",
       "    <tr>\n",
       "      <th>9</th>\n",
       "      <td>std_ic_mou_8</td>\n",
       "      <td>2.34</td>\n",
       "    </tr>\n",
       "    <tr>\n",
       "      <th>10</th>\n",
       "      <td>spl_ic_mou_8</td>\n",
       "      <td>1.30</td>\n",
       "    </tr>\n",
       "    <tr>\n",
       "      <th>11</th>\n",
       "      <td>isd_ic_mou_8</td>\n",
       "      <td>3.02</td>\n",
       "    </tr>\n",
       "    <tr>\n",
       "      <th>12</th>\n",
       "      <td>last_day_rch_amt_8</td>\n",
       "      <td>1.23</td>\n",
       "    </tr>\n",
       "    <tr>\n",
       "      <th>13</th>\n",
       "      <td>av_rech_amt_data_8</td>\n",
       "      <td>1.42</td>\n",
       "    </tr>\n",
       "    <tr>\n",
       "      <th>14</th>\n",
       "      <td>sachet_2g_8</td>\n",
       "      <td>1.20</td>\n",
       "    </tr>\n",
       "  </tbody>\n",
       "</table>\n",
       "</div>"
      ],
      "text/plain": [
       "              Features   VIF\n",
       "0          onnet_mou_7  2.26\n",
       "1        roam_og_mou_8  2.42\n",
       "2     std_og_t2f_mou_8  3.73\n",
       "3         std_og_mou_8  4.26\n",
       "4       total_og_mou_8  4.08\n",
       "5     loc_ic_t2t_mou_6  2.60\n",
       "6     loc_ic_t2t_mou_8  3.12\n",
       "7     loc_ic_t2m_mou_8  2.13\n",
       "8     std_ic_t2f_mou_7  3.33\n",
       "9         std_ic_mou_8  2.34\n",
       "10        spl_ic_mou_8  1.30\n",
       "11        isd_ic_mou_8  3.02\n",
       "12  last_day_rch_amt_8  1.23\n",
       "13  av_rech_amt_data_8  1.42\n",
       "14         sachet_2g_8  1.20"
      ]
     },
     "execution_count": 152,
     "metadata": {},
     "output_type": "execute_result"
    }
   ],
   "source": [
    "from statsmodels.stats.outliers_influence import variance_inflation_factor\n",
    "\n",
    "#looking at VIF of model \n",
    "vif=pd.DataFrame()\n",
    "vif['Features']=df_train[tar_cols].columns\n",
    "vif['VIF']=[variance_inflation_factor(df_train[tar_cols].values,i) for i in range(df_train[tar_cols].shape[1])]\n",
    "vif['VIF']=round(vif['VIF'],2)\n",
    "tar_cols=[i for i in tar_cols if i not in['count_rech_2g_8','isd_og_mou_8','isd_og_mou_7','isd_og_mou_6','onnet_mou_8']]\n",
    "vif\n"
   ]
  },
  {
   "cell_type": "markdown",
   "metadata": {},
   "source": [
    "#### Training the model again with 15 columns"
   ]
  },
  {
   "cell_type": "code",
   "execution_count": 153,
   "metadata": {},
   "outputs": [
    {
     "data": {
      "text/plain": [
       "LogisticRegression(C=1.0, class_weight='balanced', dual=False,\n",
       "          fit_intercept=True, intercept_scaling=1, max_iter=100,\n",
       "          multi_class='warn', n_jobs=None, penalty='l2', random_state=None,\n",
       "          solver='warn', tol=0.0001, verbose=0, warm_start=False)"
      ]
     },
     "execution_count": 153,
     "metadata": {},
     "output_type": "execute_result"
    }
   ],
   "source": [
    "#Training the model with LR using rfe features\n",
    "#using sklearn model for building the logistic regression model\n",
    "lr_nw=LogisticRegression(class_weight='balanced')\n",
    "lr_nw.fit(df_train[tar_cols],df_train['Churn'])"
   ]
  },
  {
   "cell_type": "code",
   "execution_count": 154,
   "metadata": {},
   "outputs": [],
   "source": [
    "df_train['prob']=list(lr_nw.predict_proba(df_train[tar_cols])[:,1])"
   ]
  },
  {
   "cell_type": "code",
   "execution_count": 155,
   "metadata": {},
   "outputs": [
    {
     "data": {
      "image/png": "[encoded data removed]",
      "text/plain": [
       "<Figure size 360x360 with 1 Axes>"
      ]
     },
     "metadata": {
      "needs_background": "light"
     },
     "output_type": "display_data"
    }
   ],
   "source": [
    "# Roc curve which is desirable and occupying maximum area possible\n",
    "draw_roc(df_train['Churn'], df_train['prob'])"
   ]
  },
  {
   "cell_type": "code",
   "execution_count": 156,
   "metadata": {},
   "outputs": [
    {
     "data": {
      "text/html": [
       "<div>\n",
       "<style scoped>\n",
       "    .dataframe tbody tr th:only-of-type {\n",
       "        vertical-align: middle;\n",
       "    }\n",
       "\n",
       "    .dataframe tbody tr th {\n",
       "        vertical-align: top;\n",
       "    }\n",
       "\n",
       "    .dataframe thead th {\n",
       "        text-align: right;\n",
       "    }\n",
       "</style>\n",
       "<table border=\"1\" class=\"dataframe\">\n",
       "  <thead>\n",
       "    <tr style=\"text-align: right;\">\n",
       "      <th></th>\n",
       "      <th>circle_id</th>\n",
       "      <th>loc_og_t2o_mou</th>\n",
       "      <th>std_og_t2o_mou</th>\n",
       "      <th>loc_ic_t2o_mou</th>\n",
       "      <th>arpu_6</th>\n",
       "      <th>arpu_7</th>\n",
       "      <th>arpu_8</th>\n",
       "      <th>onnet_mou_6</th>\n",
       "      <th>onnet_mou_7</th>\n",
       "      <th>onnet_mou_8</th>\n",
       "      <th>...</th>\n",
       "      <th>0.5</th>\n",
       "      <th>0.6</th>\n",
       "      <th>0.7</th>\n",
       "      <th>0.8</th>\n",
       "      <th>0.9</th>\n",
       "      <th>prob_pred</th>\n",
       "      <th>xg_prob</th>\n",
       "      <th>xg_prob_pred</th>\n",
       "      <th>XG_prob</th>\n",
       "      <th>lr_prob_pred</th>\n",
       "    </tr>\n",
       "  </thead>\n",
       "  <tbody>\n",
       "    <tr>\n",
       "      <th>49099</th>\n",
       "      <td>0.0</td>\n",
       "      <td>0.0</td>\n",
       "      <td>0.0</td>\n",
       "      <td>0.0</td>\n",
       "      <td>-0.092448</td>\n",
       "      <td>0.115523</td>\n",
       "      <td>-0.189854</td>\n",
       "      <td>-0.651970</td>\n",
       "      <td>-0.566411</td>\n",
       "      <td>-0.661957</td>\n",
       "      <td>...</td>\n",
       "      <td>0</td>\n",
       "      <td>0</td>\n",
       "      <td>0</td>\n",
       "      <td>0</td>\n",
       "      <td>0</td>\n",
       "      <td>0</td>\n",
       "      <td>0.070440</td>\n",
       "      <td>0</td>\n",
       "      <td>0.070440</td>\n",
       "      <td>0</td>\n",
       "    </tr>\n",
       "    <tr>\n",
       "      <th>43916</th>\n",
       "      <td>0.0</td>\n",
       "      <td>0.0</td>\n",
       "      <td>0.0</td>\n",
       "      <td>0.0</td>\n",
       "      <td>-0.376268</td>\n",
       "      <td>-0.064777</td>\n",
       "      <td>-1.027289</td>\n",
       "      <td>-0.687120</td>\n",
       "      <td>-0.665967</td>\n",
       "      <td>-0.677149</td>\n",
       "      <td>...</td>\n",
       "      <td>0</td>\n",
       "      <td>0</td>\n",
       "      <td>0</td>\n",
       "      <td>0</td>\n",
       "      <td>0</td>\n",
       "      <td>0</td>\n",
       "      <td>0.094468</td>\n",
       "      <td>0</td>\n",
       "      <td>0.094468</td>\n",
       "      <td>0</td>\n",
       "    </tr>\n",
       "    <tr>\n",
       "      <th>87157</th>\n",
       "      <td>0.0</td>\n",
       "      <td>0.0</td>\n",
       "      <td>0.0</td>\n",
       "      <td>0.0</td>\n",
       "      <td>0.286789</td>\n",
       "      <td>-0.326941</td>\n",
       "      <td>0.316463</td>\n",
       "      <td>-0.445329</td>\n",
       "      <td>-0.447693</td>\n",
       "      <td>-0.471585</td>\n",
       "      <td>...</td>\n",
       "      <td>0</td>\n",
       "      <td>0</td>\n",
       "      <td>0</td>\n",
       "      <td>0</td>\n",
       "      <td>0</td>\n",
       "      <td>0</td>\n",
       "      <td>0.099353</td>\n",
       "      <td>0</td>\n",
       "      <td>0.099353</td>\n",
       "      <td>0</td>\n",
       "    </tr>\n",
       "    <tr>\n",
       "      <th>19640</th>\n",
       "      <td>0.0</td>\n",
       "      <td>0.0</td>\n",
       "      <td>0.0</td>\n",
       "      <td>0.0</td>\n",
       "      <td>2.233138</td>\n",
       "      <td>0.859130</td>\n",
       "      <td>-1.101875</td>\n",
       "      <td>0.112914</td>\n",
       "      <td>-0.482091</td>\n",
       "      <td>0.042097</td>\n",
       "      <td>...</td>\n",
       "      <td>1</td>\n",
       "      <td>1</td>\n",
       "      <td>1</td>\n",
       "      <td>1</td>\n",
       "      <td>1</td>\n",
       "      <td>1</td>\n",
       "      <td>0.879300</td>\n",
       "      <td>1</td>\n",
       "      <td>0.879300</td>\n",
       "      <td>1</td>\n",
       "    </tr>\n",
       "    <tr>\n",
       "      <th>21306</th>\n",
       "      <td>0.0</td>\n",
       "      <td>0.0</td>\n",
       "      <td>0.0</td>\n",
       "      <td>0.0</td>\n",
       "      <td>1.630246</td>\n",
       "      <td>1.460190</td>\n",
       "      <td>1.909555</td>\n",
       "      <td>0.490775</td>\n",
       "      <td>0.057618</td>\n",
       "      <td>0.478606</td>\n",
       "      <td>...</td>\n",
       "      <td>0</td>\n",
       "      <td>0</td>\n",
       "      <td>0</td>\n",
       "      <td>0</td>\n",
       "      <td>0</td>\n",
       "      <td>0</td>\n",
       "      <td>0.070440</td>\n",
       "      <td>0</td>\n",
       "      <td>0.070440</td>\n",
       "      <td>0</td>\n",
       "    </tr>\n",
       "  </tbody>\n",
       "</table>\n",
       "<p>5 rows × 167 columns</p>\n",
       "</div>"
      ],
      "text/plain": [
       "       circle_id  loc_og_t2o_mou  std_og_t2o_mou  loc_ic_t2o_mou    arpu_6  \\\n",
       "49099        0.0             0.0             0.0             0.0 -0.092448   \n",
       "43916        0.0             0.0             0.0             0.0 -0.376268   \n",
       "87157        0.0             0.0             0.0             0.0  0.286789   \n",
       "19640        0.0             0.0             0.0             0.0  2.233138   \n",
       "21306        0.0             0.0             0.0             0.0  1.630246   \n",
       "\n",
       "         arpu_7    arpu_8  onnet_mou_6  onnet_mou_7  onnet_mou_8  ...  0.5  \\\n",
       "49099  0.115523 -0.189854    -0.651970    -0.566411    -0.661957  ...    0   \n",
       "43916 -0.064777 -1.027289    -0.687120    -0.665967    -0.677149  ...    0   \n",
       "87157 -0.326941  0.316463    -0.445329    -0.447693    -0.471585  ...    0   \n",
       "19640  0.859130 -1.101875     0.112914    -0.482091     0.042097  ...    1   \n",
       "21306  1.460190  1.909555     0.490775     0.057618     0.478606  ...    0   \n",
       "\n",
       "       0.6  0.7  0.8  0.9  prob_pred   xg_prob  xg_prob_pred   XG_prob  \\\n",
       "49099    0    0    0    0          0  0.070440             0  0.070440   \n",
       "43916    0    0    0    0          0  0.094468             0  0.094468   \n",
       "87157    0    0    0    0          0  0.099353             0  0.099353   \n",
       "19640    1    1    1    1          1  0.879300             1  0.879300   \n",
       "21306    0    0    0    0          0  0.070440             0  0.070440   \n",
       "\n",
       "       lr_prob_pred  \n",
       "49099             0  \n",
       "43916             0  \n",
       "87157             0  \n",
       "19640             1  \n",
       "21306             0  \n",
       "\n",
       "[5 rows x 167 columns]"
      ]
     },
     "execution_count": 156,
     "metadata": {},
     "output_type": "execute_result"
    }
   ],
   "source": [
    "#predicting the target values by using different cut offs\n",
    "numbers=[float(x)/10 for x in range(10)]\n",
    "for i in numbers:\n",
    "    df_train[i]=df_train.prob.map(lambda x: 1 if x> i else 0)\n",
    "df_train.head()"
   ]
  },
  {
   "cell_type": "code",
   "execution_count": 157,
   "metadata": {},
   "outputs": [
    {
     "name": "stdout",
     "output_type": "stream",
     "text": [
      "     prob  accuracy     sensi     speci\n",
      "0.0   0.0  0.079751  1.000000  0.000000\n",
      "0.1   0.1  0.418159  0.978790  0.369573\n",
      "0.2   0.2  0.609104  0.938241  0.580581\n",
      "0.3   0.3  0.724677  0.906425  0.708926\n",
      "0.4   0.4  0.803881  0.868372  0.798292\n",
      "0.5   0.5  0.858010  0.822832  0.861059\n",
      "0.6   0.6  0.893682  0.768559  0.904525\n",
      "0.7   0.7  0.917363  0.700561  0.936152\n",
      "0.8   0.8  0.932736  0.603868  0.961237\n",
      "0.9   0.9  0.939453  0.458515  0.981132\n"
     ]
    }
   ],
   "source": [
    "#For different cut offs calculating the metrics\n",
    "cutoff_df = pd.DataFrame( columns = ['prob','accuracy','sensi','speci'])\n",
    "from sklearn.metrics import confusion_matrix\n",
    "\n",
    "# TP = confusion[1,1] # true positive \n",
    "# TN = confusion[0,0] # true negatives\n",
    "# FP = confusion[0,1] # false positives\n",
    "# FN = confusion[1,0] # false negatives\n",
    "\n",
    "num = [0.0,0.1,0.2,0.3,0.4,0.5,0.6,0.7,0.8,0.9]\n",
    "for i in num:\n",
    "    cm1 = metrics.confusion_matrix(df_train['Churn'], df_train[i] )\n",
    "    total1=sum(sum(cm1))\n",
    "    accuracy = (cm1[0,0]+cm1[1,1])/total1\n",
    "    \n",
    "    speci = cm1[0,0]/(cm1[0,0]+cm1[0,1])\n",
    "    sensi = cm1[1,1]/(cm1[1,0]+cm1[1,1])\n",
    "    cutoff_df.loc[i] =[ i ,accuracy,sensi,speci]\n",
    "print(cutoff_df)"
   ]
  },
  {
   "cell_type": "code",
   "execution_count": 158,
   "metadata": {},
   "outputs": [
    {
     "data": {
      "image/png": "[encoded data removed]",
      "text/plain": [
       "<Figure size 432x288 with 1 Axes>"
      ]
     },
     "metadata": {
      "needs_background": "light"
     },
     "output_type": "display_data"
    }
   ],
   "source": [
    "#Plotting the metrics accuracy,sensitivity,specificity as the intersection is at 0.5 we take cutoff as 0.5\n",
    "plt.plot(cutoff_df['accuracy'])\n",
    "plt.plot(cutoff_df['sensi'])\n",
    "plt.plot(cutoff_df['speci'])\n",
    "plt.show()"
   ]
  },
  {
   "cell_type": "code",
   "execution_count": 159,
   "metadata": {},
   "outputs": [],
   "source": [
    "# Cutoff is chosen giving importance to sensitivity\n",
    "df_train['lr_prob_pred']=df_train.prob.map(lambda x: 1 if x> 0.43 else 0)"
   ]
  },
  {
   "cell_type": "code",
   "execution_count": 160,
   "metadata": {},
   "outputs": [
    {
     "data": {
      "text/plain": [
       "0.8232338308457712"
      ]
     },
     "execution_count": 160,
     "metadata": {},
     "output_type": "execute_result"
    }
   ],
   "source": [
    "#Accuracy for the train set\n",
    "metrics.accuracy_score(df_train['Churn'],df_train['lr_prob_pred'])"
   ]
  },
  {
   "cell_type": "code",
   "execution_count": 161,
   "metadata": {},
   "outputs": [
    {
     "name": "stdout",
     "output_type": "stream",
     "text": [
      "0.8232338308457712 0.8200789317186571 0.859638178415471\n"
     ]
    }
   ],
   "source": [
    "cm1 = metrics.confusion_matrix(df_train['Churn'], df_train['lr_prob_pred'] )\n",
    "total1=sum(sum(cm1))\n",
    "accuracy = (cm1[0,0]+cm1[1,1])/total1\n",
    "speci = cm1[0,0]/(cm1[0,0]+cm1[0,1])\n",
    "sensi = cm1[1,1]/(cm1[1,0]+cm1[1,1])\n",
    "print(accuracy,speci,sensi)"
   ]
  },
  {
   "cell_type": "code",
   "execution_count": 162,
   "metadata": {},
   "outputs": [],
   "source": [
    "df_test['prob']=list(lr_nw.predict_proba(df_test[tar_cols])[:,1])"
   ]
  },
  {
   "cell_type": "code",
   "execution_count": 163,
   "metadata": {},
   "outputs": [],
   "source": [
    "df_test['lr_prob_pred']=df_test.prob.map(lambda x: 1 if x> 0.43 else 0)"
   ]
  },
  {
   "cell_type": "code",
   "execution_count": 164,
   "metadata": {},
   "outputs": [
    {
     "name": "stdout",
     "output_type": "stream",
     "text": [
      "0.8127272727272727 0.8107484338938344 0.8352059925093633\n"
     ]
    }
   ],
   "source": [
    "#Metrics of test set\n",
    "cm1 = metrics.confusion_matrix(df_test['Churn'], df_test['lr_prob_pred'] )\n",
    "total1=sum(sum(cm1))\n",
    "accuracy = (cm1[0,0]+cm1[1,1])/total1\n",
    "speci = cm1[0,0]/(cm1[0,0]+cm1[0,1])\n",
    "sensi = cm1[1,1]/(cm1[1,0]+cm1[1,1])\n",
    "print(accuracy,speci,sensi)"
   ]
  },
  {
   "cell_type": "code",
   "execution_count": 188,
   "metadata": {},
   "outputs": [],
   "source": [
    "coff=lr_nw.coef_\n",
    "df_coef=pd.DataFrame()\n",
    "df_coef['features']=list(tar_cols)\n",
    "df_coef['coeff']=abs(coff.T)"
   ]
  },
  {
   "cell_type": "code",
   "execution_count": 197,
   "metadata": {},
   "outputs": [
    {
     "data": {
      "text/html": [
       "<div>\n",
       "<style scoped>\n",
       "    .dataframe tbody tr th:only-of-type {\n",
       "        vertical-align: middle;\n",
       "    }\n",
       "\n",
       "    .dataframe tbody tr th {\n",
       "        vertical-align: top;\n",
       "    }\n",
       "\n",
       "    .dataframe thead th {\n",
       "        text-align: right;\n",
       "    }\n",
       "</style>\n",
       "<table border=\"1\" class=\"dataframe\">\n",
       "  <thead>\n",
       "    <tr style=\"text-align: right;\">\n",
       "      <th></th>\n",
       "      <th>features</th>\n",
       "      <th>coeff</th>\n",
       "    </tr>\n",
       "  </thead>\n",
       "  <tbody>\n",
       "    <tr>\n",
       "      <th>1</th>\n",
       "      <td>roam_og_mou_8</td>\n",
       "      <td>3.033984</td>\n",
       "    </tr>\n",
       "    <tr>\n",
       "      <th>2</th>\n",
       "      <td>std_og_t2f_mou_8</td>\n",
       "      <td>1.757984</td>\n",
       "    </tr>\n",
       "    <tr>\n",
       "      <th>8</th>\n",
       "      <td>std_ic_t2f_mou_7</td>\n",
       "      <td>1.478749</td>\n",
       "    </tr>\n",
       "    <tr>\n",
       "      <th>11</th>\n",
       "      <td>isd_ic_mou_8</td>\n",
       "      <td>1.461472</td>\n",
       "    </tr>\n",
       "    <tr>\n",
       "      <th>6</th>\n",
       "      <td>loc_ic_t2t_mou_8</td>\n",
       "      <td>1.271515</td>\n",
       "    </tr>\n",
       "    <tr>\n",
       "      <th>13</th>\n",
       "      <td>av_rech_amt_data_8</td>\n",
       "      <td>1.160137</td>\n",
       "    </tr>\n",
       "    <tr>\n",
       "      <th>5</th>\n",
       "      <td>loc_ic_t2t_mou_6</td>\n",
       "      <td>0.946326</td>\n",
       "    </tr>\n",
       "    <tr>\n",
       "      <th>4</th>\n",
       "      <td>total_og_mou_8</td>\n",
       "      <td>0.868758</td>\n",
       "    </tr>\n",
       "    <tr>\n",
       "      <th>7</th>\n",
       "      <td>loc_ic_t2m_mou_8</td>\n",
       "      <td>0.818742</td>\n",
       "    </tr>\n",
       "    <tr>\n",
       "      <th>12</th>\n",
       "      <td>last_day_rch_amt_8</td>\n",
       "      <td>0.812945</td>\n",
       "    </tr>\n",
       "    <tr>\n",
       "      <th>10</th>\n",
       "      <td>spl_ic_mou_8</td>\n",
       "      <td>0.774000</td>\n",
       "    </tr>\n",
       "    <tr>\n",
       "      <th>9</th>\n",
       "      <td>std_ic_mou_8</td>\n",
       "      <td>0.650731</td>\n",
       "    </tr>\n",
       "    <tr>\n",
       "      <th>0</th>\n",
       "      <td>onnet_mou_7</td>\n",
       "      <td>0.563765</td>\n",
       "    </tr>\n",
       "    <tr>\n",
       "      <th>3</th>\n",
       "      <td>std_og_mou_8</td>\n",
       "      <td>0.465958</td>\n",
       "    </tr>\n",
       "    <tr>\n",
       "      <th>14</th>\n",
       "      <td>sachet_2g_8</td>\n",
       "      <td>0.171949</td>\n",
       "    </tr>\n",
       "  </tbody>\n",
       "</table>\n",
       "</div>"
      ],
      "text/plain": [
       "              features     coeff\n",
       "1        roam_og_mou_8  3.033984\n",
       "2     std_og_t2f_mou_8  1.757984\n",
       "8     std_ic_t2f_mou_7  1.478749\n",
       "11        isd_ic_mou_8  1.461472\n",
       "6     loc_ic_t2t_mou_8  1.271515\n",
       "13  av_rech_amt_data_8  1.160137\n",
       "5     loc_ic_t2t_mou_6  0.946326\n",
       "4       total_og_mou_8  0.868758\n",
       "7     loc_ic_t2m_mou_8  0.818742\n",
       "12  last_day_rch_amt_8  0.812945\n",
       "10        spl_ic_mou_8  0.774000\n",
       "9         std_ic_mou_8  0.650731\n",
       "0          onnet_mou_7  0.563765\n",
       "3         std_og_mou_8  0.465958\n",
       "14         sachet_2g_8  0.171949"
      ]
     },
     "execution_count": 197,
     "metadata": {},
     "output_type": "execute_result"
    }
   ],
   "source": [
    "#Feature importance\n",
    "df_coef.sort_values(by='coeff',ascending=False)"
   ]
  },
  {
   "cell_type": "markdown",
   "metadata": {},
   "source": [
    "### Recommendations\n",
    "\n",
    "#### Below recommendation are by considering market scenarios in 2014\n",
    "#### Providing better roaming packs or offers to the customers as top most important feature is roam_og_mou_8\n",
    "#### Great offers for std calls both incoming and outgoing\n",
    "#### Tie up with other mobile brands in proving sim netywork with attractive offers\n",
    "#### Having good business deals with other operators in order to reduce tarrifs when other networks are used (IC/OG tarrifs)\n",
    "#### Other important features related to t2f we can work with line provider companies for better offers and services on t2f\n",
    "#### Including offers data such as carry forward the lefover data from one month to the next month can decrese churn"
   ]
  }
 ],
 "metadata": {
  "accelerator": "TPU",
  "colab": {
   "collapsed_sections": [],
   "name": "telecom_eda.ipynb",
   "provenance": []
  },
  "kernelspec": {
   "display_name": "Python 3",
   "language": "python",
   "name": "python3"
  },
  "language_info": {
   "codemirror_mode": {
    "name": "ipython",
    "version": 3
   },
   "file_extension": ".py",
   "mimetype": "text/x-python",
   "name": "python",
   "nbconvert_exporter": "python",
   "pygments_lexer": "ipython3",
   "version": "3.7.3"
  }
 },
 "nbformat": 4,
 "nbformat_minor": 1
}
