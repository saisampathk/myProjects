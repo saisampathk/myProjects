{
 "cells": [
  {
   "cell_type": "code",
   "execution_count": 1,
   "metadata": {},
   "outputs": [],
   "source": [
    "#importing required lib\n",
    "import pandas as pd\n",
    "import numpy as np\n",
    "import seaborn as sns\n",
    "import matplotlib.pyplot as plt\n",
    "from sklearn.decomposition import PCA\n",
    "from sklearn.model_selection import train_test_split\n",
    "from sklearn.preprocessing import StandardScaler\n",
    "from sklearn.cluster import KMeans\n",
    "from sklearn.metrics import silhouette_score\n",
    "from scipy.cluster.hierarchy import linkage\n",
    "from scipy.cluster.hierarchy import dendrogram\n",
    "from scipy.cluster.hierarchy import cut_tree\n",
    "from sklearn.neighbors import NearestNeighbors\n",
    "from random import sample\n",
    "from numpy.random import uniform\n",
    "from math import isnan"
   ]
  },
  {
   "cell_type": "code",
   "execution_count": 2,
   "metadata": {},
   "outputs": [
    {
     "data": {
      "text/html": [
       "<div>\n",
       "<style scoped>\n",
       "    .dataframe tbody tr th:only-of-type {\n",
       "        vertical-align: middle;\n",
       "    }\n",
       "\n",
       "    .dataframe tbody tr th {\n",
       "        vertical-align: top;\n",
       "    }\n",
       "\n",
       "    .dataframe thead th {\n",
       "        text-align: right;\n",
       "    }\n",
       "</style>\n",
       "<table border=\"1\" class=\"dataframe\">\n",
       "  <thead>\n",
       "    <tr style=\"text-align: right;\">\n",
       "      <th></th>\n",
       "      <th>country</th>\n",
       "      <th>child_mort</th>\n",
       "      <th>exports</th>\n",
       "      <th>health</th>\n",
       "      <th>imports</th>\n",
       "      <th>income</th>\n",
       "      <th>inflation</th>\n",
       "      <th>life_expec</th>\n",
       "      <th>total_fer</th>\n",
       "      <th>gdpp</th>\n",
       "    </tr>\n",
       "  </thead>\n",
       "  <tbody>\n",
       "    <tr>\n",
       "      <th>0</th>\n",
       "      <td>Afghanistan</td>\n",
       "      <td>90.2</td>\n",
       "      <td>10.0</td>\n",
       "      <td>7.58</td>\n",
       "      <td>44.9</td>\n",
       "      <td>1610</td>\n",
       "      <td>9.44</td>\n",
       "      <td>56.2</td>\n",
       "      <td>5.82</td>\n",
       "      <td>553</td>\n",
       "    </tr>\n",
       "    <tr>\n",
       "      <th>1</th>\n",
       "      <td>Albania</td>\n",
       "      <td>16.6</td>\n",
       "      <td>28.0</td>\n",
       "      <td>6.55</td>\n",
       "      <td>48.6</td>\n",
       "      <td>9930</td>\n",
       "      <td>4.49</td>\n",
       "      <td>76.3</td>\n",
       "      <td>1.65</td>\n",
       "      <td>4090</td>\n",
       "    </tr>\n",
       "    <tr>\n",
       "      <th>2</th>\n",
       "      <td>Algeria</td>\n",
       "      <td>27.3</td>\n",
       "      <td>38.4</td>\n",
       "      <td>4.17</td>\n",
       "      <td>31.4</td>\n",
       "      <td>12900</td>\n",
       "      <td>16.10</td>\n",
       "      <td>76.5</td>\n",
       "      <td>2.89</td>\n",
       "      <td>4460</td>\n",
       "    </tr>\n",
       "    <tr>\n",
       "      <th>3</th>\n",
       "      <td>Angola</td>\n",
       "      <td>119.0</td>\n",
       "      <td>62.3</td>\n",
       "      <td>2.85</td>\n",
       "      <td>42.9</td>\n",
       "      <td>5900</td>\n",
       "      <td>22.40</td>\n",
       "      <td>60.1</td>\n",
       "      <td>6.16</td>\n",
       "      <td>3530</td>\n",
       "    </tr>\n",
       "    <tr>\n",
       "      <th>4</th>\n",
       "      <td>Antigua and Barbuda</td>\n",
       "      <td>10.3</td>\n",
       "      <td>45.5</td>\n",
       "      <td>6.03</td>\n",
       "      <td>58.9</td>\n",
       "      <td>19100</td>\n",
       "      <td>1.44</td>\n",
       "      <td>76.8</td>\n",
       "      <td>2.13</td>\n",
       "      <td>12200</td>\n",
       "    </tr>\n",
       "  </tbody>\n",
       "</table>\n",
       "</div>"
      ],
      "text/plain": [
       "               country  child_mort  exports  health  imports  income  \\\n",
       "0          Afghanistan        90.2     10.0    7.58     44.9    1610   \n",
       "1              Albania        16.6     28.0    6.55     48.6    9930   \n",
       "2              Algeria        27.3     38.4    4.17     31.4   12900   \n",
       "3               Angola       119.0     62.3    2.85     42.9    5900   \n",
       "4  Antigua and Barbuda        10.3     45.5    6.03     58.9   19100   \n",
       "\n",
       "   inflation  life_expec  total_fer   gdpp  \n",
       "0       9.44        56.2       5.82    553  \n",
       "1       4.49        76.3       1.65   4090  \n",
       "2      16.10        76.5       2.89   4460  \n",
       "3      22.40        60.1       6.16   3530  \n",
       "4       1.44        76.8       2.13  12200  "
      ]
     },
     "execution_count": 2,
     "metadata": {},
     "output_type": "execute_result"
    }
   ],
   "source": [
    "#loading the data frame with data from data set\n",
    "ct_df = pd.read_csv(\"Country-data.csv\")\n",
    "ct_df.head()"
   ]
  },
  {
   "cell_type": "code",
   "execution_count": 3,
   "metadata": {},
   "outputs": [
    {
     "name": "stdout",
     "output_type": "stream",
     "text": [
      "<class 'pandas.core.frame.DataFrame'>\n",
      "RangeIndex: 167 entries, 0 to 166\n",
      "Data columns (total 10 columns):\n",
      "country       167 non-null object\n",
      "child_mort    167 non-null float64\n",
      "exports       167 non-null float64\n",
      "health        167 non-null float64\n",
      "imports       167 non-null float64\n",
      "income        167 non-null int64\n",
      "inflation     167 non-null float64\n",
      "life_expec    167 non-null float64\n",
      "total_fer     167 non-null float64\n",
      "gdpp          167 non-null int64\n",
      "dtypes: float64(7), int64(2), object(1)\n",
      "memory usage: 13.1+ KB\n"
     ]
    }
   ],
   "source": [
    "#looking at the data types of all variables\n",
    "ct_df.info()"
   ]
  },
  {
   "cell_type": "code",
   "execution_count": 5,
   "metadata": {},
   "outputs": [
    {
     "data": {
      "text/plain": [
       "country       0\n",
       "child_mort    0\n",
       "exports       0\n",
       "health        0\n",
       "imports       0\n",
       "income        0\n",
       "inflation     0\n",
       "life_expec    0\n",
       "total_fer     0\n",
       "gdpp          0\n",
       "dtype: int64"
      ]
     },
     "execution_count": 5,
     "metadata": {},
     "output_type": "execute_result"
    }
   ],
   "source": [
    "#looking for null values\n",
    "ct_df.isnull().sum()"
   ]
  },
  {
   "cell_type": "code",
   "execution_count": 6,
   "metadata": {},
   "outputs": [
    {
     "data": {
      "text/html": [
       "<div>\n",
       "<style scoped>\n",
       "    .dataframe tbody tr th:only-of-type {\n",
       "        vertical-align: middle;\n",
       "    }\n",
       "\n",
       "    .dataframe tbody tr th {\n",
       "        vertical-align: top;\n",
       "    }\n",
       "\n",
       "    .dataframe thead th {\n",
       "        text-align: right;\n",
       "    }\n",
       "</style>\n",
       "<table border=\"1\" class=\"dataframe\">\n",
       "  <thead>\n",
       "    <tr style=\"text-align: right;\">\n",
       "      <th></th>\n",
       "      <th>child_mort</th>\n",
       "      <th>exports</th>\n",
       "      <th>health</th>\n",
       "      <th>imports</th>\n",
       "      <th>income</th>\n",
       "      <th>inflation</th>\n",
       "      <th>life_expec</th>\n",
       "      <th>total_fer</th>\n",
       "      <th>gdpp</th>\n",
       "    </tr>\n",
       "  </thead>\n",
       "  <tbody>\n",
       "    <tr>\n",
       "      <th>count</th>\n",
       "      <td>167.000000</td>\n",
       "      <td>167.000000</td>\n",
       "      <td>167.000000</td>\n",
       "      <td>167.000000</td>\n",
       "      <td>167.000000</td>\n",
       "      <td>167.000000</td>\n",
       "      <td>167.000000</td>\n",
       "      <td>167.000000</td>\n",
       "      <td>167.000000</td>\n",
       "    </tr>\n",
       "    <tr>\n",
       "      <th>mean</th>\n",
       "      <td>38.270060</td>\n",
       "      <td>41.108976</td>\n",
       "      <td>6.815689</td>\n",
       "      <td>46.890215</td>\n",
       "      <td>17144.688623</td>\n",
       "      <td>7.781832</td>\n",
       "      <td>70.555689</td>\n",
       "      <td>2.947964</td>\n",
       "      <td>12964.155689</td>\n",
       "    </tr>\n",
       "    <tr>\n",
       "      <th>std</th>\n",
       "      <td>40.328931</td>\n",
       "      <td>27.412010</td>\n",
       "      <td>2.746837</td>\n",
       "      <td>24.209589</td>\n",
       "      <td>19278.067698</td>\n",
       "      <td>10.570704</td>\n",
       "      <td>8.893172</td>\n",
       "      <td>1.513848</td>\n",
       "      <td>18328.704809</td>\n",
       "    </tr>\n",
       "    <tr>\n",
       "      <th>min</th>\n",
       "      <td>2.600000</td>\n",
       "      <td>0.109000</td>\n",
       "      <td>1.810000</td>\n",
       "      <td>0.065900</td>\n",
       "      <td>609.000000</td>\n",
       "      <td>-4.210000</td>\n",
       "      <td>32.100000</td>\n",
       "      <td>1.150000</td>\n",
       "      <td>231.000000</td>\n",
       "    </tr>\n",
       "    <tr>\n",
       "      <th>20%</th>\n",
       "      <td>6.320000</td>\n",
       "      <td>22.120000</td>\n",
       "      <td>4.486000</td>\n",
       "      <td>28.020000</td>\n",
       "      <td>2548.000000</td>\n",
       "      <td>1.408000</td>\n",
       "      <td>61.880000</td>\n",
       "      <td>1.630000</td>\n",
       "      <td>1146.000000</td>\n",
       "    </tr>\n",
       "    <tr>\n",
       "      <th>50%</th>\n",
       "      <td>19.300000</td>\n",
       "      <td>35.000000</td>\n",
       "      <td>6.320000</td>\n",
       "      <td>43.300000</td>\n",
       "      <td>9960.000000</td>\n",
       "      <td>5.390000</td>\n",
       "      <td>73.100000</td>\n",
       "      <td>2.410000</td>\n",
       "      <td>4660.000000</td>\n",
       "    </tr>\n",
       "    <tr>\n",
       "      <th>75%</th>\n",
       "      <td>62.100000</td>\n",
       "      <td>51.350000</td>\n",
       "      <td>8.600000</td>\n",
       "      <td>58.750000</td>\n",
       "      <td>22800.000000</td>\n",
       "      <td>10.750000</td>\n",
       "      <td>76.800000</td>\n",
       "      <td>3.880000</td>\n",
       "      <td>14050.000000</td>\n",
       "    </tr>\n",
       "    <tr>\n",
       "      <th>90%</th>\n",
       "      <td>100.220000</td>\n",
       "      <td>70.800000</td>\n",
       "      <td>10.940000</td>\n",
       "      <td>75.420000</td>\n",
       "      <td>41220.000000</td>\n",
       "      <td>16.640000</td>\n",
       "      <td>80.400000</td>\n",
       "      <td>5.322000</td>\n",
       "      <td>41840.000000</td>\n",
       "    </tr>\n",
       "    <tr>\n",
       "      <th>95%</th>\n",
       "      <td>116.000000</td>\n",
       "      <td>80.570000</td>\n",
       "      <td>11.570000</td>\n",
       "      <td>81.140000</td>\n",
       "      <td>48290.000000</td>\n",
       "      <td>20.870000</td>\n",
       "      <td>81.400000</td>\n",
       "      <td>5.861000</td>\n",
       "      <td>48610.000000</td>\n",
       "    </tr>\n",
       "    <tr>\n",
       "      <th>max</th>\n",
       "      <td>208.000000</td>\n",
       "      <td>200.000000</td>\n",
       "      <td>17.900000</td>\n",
       "      <td>174.000000</td>\n",
       "      <td>125000.000000</td>\n",
       "      <td>104.000000</td>\n",
       "      <td>82.800000</td>\n",
       "      <td>7.490000</td>\n",
       "      <td>105000.000000</td>\n",
       "    </tr>\n",
       "  </tbody>\n",
       "</table>\n",
       "</div>"
      ],
      "text/plain": [
       "       child_mort     exports      health     imports         income  \\\n",
       "count  167.000000  167.000000  167.000000  167.000000     167.000000   \n",
       "mean    38.270060   41.108976    6.815689   46.890215   17144.688623   \n",
       "std     40.328931   27.412010    2.746837   24.209589   19278.067698   \n",
       "min      2.600000    0.109000    1.810000    0.065900     609.000000   \n",
       "20%      6.320000   22.120000    4.486000   28.020000    2548.000000   \n",
       "50%     19.300000   35.000000    6.320000   43.300000    9960.000000   \n",
       "75%     62.100000   51.350000    8.600000   58.750000   22800.000000   \n",
       "90%    100.220000   70.800000   10.940000   75.420000   41220.000000   \n",
       "95%    116.000000   80.570000   11.570000   81.140000   48290.000000   \n",
       "max    208.000000  200.000000   17.900000  174.000000  125000.000000   \n",
       "\n",
       "        inflation  life_expec   total_fer           gdpp  \n",
       "count  167.000000  167.000000  167.000000     167.000000  \n",
       "mean     7.781832   70.555689    2.947964   12964.155689  \n",
       "std     10.570704    8.893172    1.513848   18328.704809  \n",
       "min     -4.210000   32.100000    1.150000     231.000000  \n",
       "20%      1.408000   61.880000    1.630000    1146.000000  \n",
       "50%      5.390000   73.100000    2.410000    4660.000000  \n",
       "75%     10.750000   76.800000    3.880000   14050.000000  \n",
       "90%     16.640000   80.400000    5.322000   41840.000000  \n",
       "95%     20.870000   81.400000    5.861000   48610.000000  \n",
       "max    104.000000   82.800000    7.490000  105000.000000  "
      ]
     },
     "execution_count": 6,
     "metadata": {},
     "output_type": "execute_result"
    }
   ],
   "source": [
    "#checking for outliers\n",
    "ct_df.describe(percentiles=[0.2,0.5,0.75,0.9,0.95])"
   ]
  },
  {
   "cell_type": "code",
   "execution_count": 7,
   "metadata": {},
   "outputs": [
    {
     "data": {
      "text/plain": [
       "(153, 10)"
      ]
     },
     "execution_count": 7,
     "metadata": {},
     "output_type": "execute_result"
    }
   ],
   "source": [
    "#removing outliers from high income and gdp as these countries seems to be doing well and dont need assistance\n",
    "#or any kind of aid from external resources.\n",
    "ct_df=ct_df[ct_df['gdpp']<=48610]\n",
    "ct_df=ct_df[ct_df['income']<=48290]\n",
    "ct_df.shape"
   ]
  },
  {
   "cell_type": "code",
   "execution_count": 8,
   "metadata": {},
   "outputs": [
    {
     "data": {
      "text/html": [
       "<div>\n",
       "<style scoped>\n",
       "    .dataframe tbody tr th:only-of-type {\n",
       "        vertical-align: middle;\n",
       "    }\n",
       "\n",
       "    .dataframe tbody tr th {\n",
       "        vertical-align: top;\n",
       "    }\n",
       "\n",
       "    .dataframe thead th {\n",
       "        text-align: right;\n",
       "    }\n",
       "</style>\n",
       "<table border=\"1\" class=\"dataframe\">\n",
       "  <thead>\n",
       "    <tr style=\"text-align: right;\">\n",
       "      <th></th>\n",
       "      <th>child_mort</th>\n",
       "      <th>exports</th>\n",
       "      <th>health</th>\n",
       "      <th>imports</th>\n",
       "      <th>income</th>\n",
       "      <th>inflation</th>\n",
       "      <th>life_expec</th>\n",
       "      <th>total_fer</th>\n",
       "      <th>gdpp</th>\n",
       "    </tr>\n",
       "  </thead>\n",
       "  <tbody>\n",
       "    <tr>\n",
       "      <th>child_mort</th>\n",
       "      <td>1.000000</td>\n",
       "      <td>-0.304534</td>\n",
       "      <td>-0.192524</td>\n",
       "      <td>-0.108502</td>\n",
       "      <td>-0.608308</td>\n",
       "      <td>0.274763</td>\n",
       "      <td>-0.881118</td>\n",
       "      <td>0.840771</td>\n",
       "      <td>-0.512642</td>\n",
       "    </tr>\n",
       "    <tr>\n",
       "      <th>exports</th>\n",
       "      <td>-0.304534</td>\n",
       "      <td>1.000000</td>\n",
       "      <td>-0.101258</td>\n",
       "      <td>0.644712</td>\n",
       "      <td>0.392301</td>\n",
       "      <td>-0.081014</td>\n",
       "      <td>0.258321</td>\n",
       "      <td>-0.298164</td>\n",
       "      <td>0.227560</td>\n",
       "    </tr>\n",
       "    <tr>\n",
       "      <th>health</th>\n",
       "      <td>-0.192524</td>\n",
       "      <td>-0.101258</td>\n",
       "      <td>1.000000</td>\n",
       "      <td>0.171770</td>\n",
       "      <td>0.265106</td>\n",
       "      <td>-0.230747</td>\n",
       "      <td>0.192576</td>\n",
       "      <td>-0.195581</td>\n",
       "      <td>0.416372</td>\n",
       "    </tr>\n",
       "    <tr>\n",
       "      <th>imports</th>\n",
       "      <td>-0.108502</td>\n",
       "      <td>0.644712</td>\n",
       "      <td>0.171770</td>\n",
       "      <td>1.000000</td>\n",
       "      <td>-0.011428</td>\n",
       "      <td>-0.254298</td>\n",
       "      <td>-0.007063</td>\n",
       "      <td>-0.133649</td>\n",
       "      <td>-0.052183</td>\n",
       "    </tr>\n",
       "    <tr>\n",
       "      <th>income</th>\n",
       "      <td>-0.608308</td>\n",
       "      <td>0.392301</td>\n",
       "      <td>0.265106</td>\n",
       "      <td>-0.011428</td>\n",
       "      <td>1.000000</td>\n",
       "      <td>-0.171574</td>\n",
       "      <td>0.678341</td>\n",
       "      <td>-0.590695</td>\n",
       "      <td>0.911917</td>\n",
       "    </tr>\n",
       "    <tr>\n",
       "      <th>inflation</th>\n",
       "      <td>0.274763</td>\n",
       "      <td>-0.081014</td>\n",
       "      <td>-0.230747</td>\n",
       "      <td>-0.254298</td>\n",
       "      <td>-0.171574</td>\n",
       "      <td>1.000000</td>\n",
       "      <td>-0.216404</td>\n",
       "      <td>0.306006</td>\n",
       "      <td>-0.231525</td>\n",
       "    </tr>\n",
       "    <tr>\n",
       "      <th>life_expec</th>\n",
       "      <td>-0.881118</td>\n",
       "      <td>0.258321</td>\n",
       "      <td>0.192576</td>\n",
       "      <td>-0.007063</td>\n",
       "      <td>0.678341</td>\n",
       "      <td>-0.216404</td>\n",
       "      <td>1.000000</td>\n",
       "      <td>-0.747826</td>\n",
       "      <td>0.617533</td>\n",
       "    </tr>\n",
       "    <tr>\n",
       "      <th>total_fer</th>\n",
       "      <td>0.840771</td>\n",
       "      <td>-0.298164</td>\n",
       "      <td>-0.195581</td>\n",
       "      <td>-0.133649</td>\n",
       "      <td>-0.590695</td>\n",
       "      <td>0.306006</td>\n",
       "      <td>-0.747826</td>\n",
       "      <td>1.000000</td>\n",
       "      <td>-0.492255</td>\n",
       "    </tr>\n",
       "    <tr>\n",
       "      <th>gdpp</th>\n",
       "      <td>-0.512642</td>\n",
       "      <td>0.227560</td>\n",
       "      <td>0.416372</td>\n",
       "      <td>-0.052183</td>\n",
       "      <td>0.911917</td>\n",
       "      <td>-0.231525</td>\n",
       "      <td>0.617533</td>\n",
       "      <td>-0.492255</td>\n",
       "      <td>1.000000</td>\n",
       "    </tr>\n",
       "  </tbody>\n",
       "</table>\n",
       "</div>"
      ],
      "text/plain": [
       "            child_mort   exports    health   imports    income  inflation  \\\n",
       "child_mort    1.000000 -0.304534 -0.192524 -0.108502 -0.608308   0.274763   \n",
       "exports      -0.304534  1.000000 -0.101258  0.644712  0.392301  -0.081014   \n",
       "health       -0.192524 -0.101258  1.000000  0.171770  0.265106  -0.230747   \n",
       "imports      -0.108502  0.644712  0.171770  1.000000 -0.011428  -0.254298   \n",
       "income       -0.608308  0.392301  0.265106 -0.011428  1.000000  -0.171574   \n",
       "inflation     0.274763 -0.081014 -0.230747 -0.254298 -0.171574   1.000000   \n",
       "life_expec   -0.881118  0.258321  0.192576 -0.007063  0.678341  -0.216404   \n",
       "total_fer     0.840771 -0.298164 -0.195581 -0.133649 -0.590695   0.306006   \n",
       "gdpp         -0.512642  0.227560  0.416372 -0.052183  0.911917  -0.231525   \n",
       "\n",
       "            life_expec  total_fer      gdpp  \n",
       "child_mort   -0.881118   0.840771 -0.512642  \n",
       "exports       0.258321  -0.298164  0.227560  \n",
       "health        0.192576  -0.195581  0.416372  \n",
       "imports      -0.007063  -0.133649 -0.052183  \n",
       "income        0.678341  -0.590695  0.911917  \n",
       "inflation    -0.216404   0.306006 -0.231525  \n",
       "life_expec    1.000000  -0.747826  0.617533  \n",
       "total_fer    -0.747826   1.000000 -0.492255  \n",
       "gdpp          0.617533  -0.492255  1.000000  "
      ]
     },
     "execution_count": 8,
     "metadata": {},
     "output_type": "execute_result"
    }
   ],
   "source": [
    "#looking at the correlation matrix for all the variables\n",
    "ct_df.corr()"
   ]
  },
  {
   "cell_type": "code",
   "execution_count": 9,
   "metadata": {},
   "outputs": [
    {
     "data": {
      "image/png": "[encoded data removed]",
      "text/plain": [
       "<Figure size 864x576 with 2 Axes>"
      ]
     },
     "metadata": {
      "needs_background": "light"
     },
     "output_type": "display_data"
    }
   ],
   "source": [
    "plt.figure(figsize=(12,8))\n",
    "plt.title('Correlation Matrix for Variables')\n",
    "sns.heatmap(ct_df.corr(),cmap='YlGnBu',annot=True)\n",
    "plt.show()"
   ]
  },
  {
   "cell_type": "code",
   "execution_count": 10,
   "metadata": {
    "scrolled": true
   },
   "outputs": [
    {
     "data": {
      "text/plain": [
       "0                         Afghanistan\n",
       "1                             Albania\n",
       "2                             Algeria\n",
       "3                              Angola\n",
       "4                 Antigua and Barbuda\n",
       "5                           Argentina\n",
       "6                             Armenia\n",
       "8                             Austria\n",
       "9                          Azerbaijan\n",
       "10                            Bahamas\n",
       "11                            Bahrain\n",
       "12                         Bangladesh\n",
       "13                           Barbados\n",
       "14                            Belarus\n",
       "15                            Belgium\n",
       "16                             Belize\n",
       "17                              Benin\n",
       "18                             Bhutan\n",
       "19                            Bolivia\n",
       "20             Bosnia and Herzegovina\n",
       "21                           Botswana\n",
       "22                             Brazil\n",
       "24                           Bulgaria\n",
       "25                       Burkina Faso\n",
       "26                            Burundi\n",
       "27                           Cambodia\n",
       "28                           Cameroon\n",
       "29                             Canada\n",
       "30                         Cape Verde\n",
       "31           Central African Republic\n",
       "                    ...              \n",
       "132                      Sierra Leone\n",
       "134                   Slovak Republic\n",
       "135                          Slovenia\n",
       "136                   Solomon Islands\n",
       "137                      South Africa\n",
       "138                       South Korea\n",
       "139                             Spain\n",
       "140                         Sri Lanka\n",
       "141    St. Vincent and the Grenadines\n",
       "142                             Sudan\n",
       "143                          Suriname\n",
       "146                        Tajikistan\n",
       "147                          Tanzania\n",
       "148                          Thailand\n",
       "149                       Timor-Leste\n",
       "150                              Togo\n",
       "151                             Tonga\n",
       "152                           Tunisia\n",
       "153                            Turkey\n",
       "154                      Turkmenistan\n",
       "155                            Uganda\n",
       "156                           Ukraine\n",
       "158                    United Kingdom\n",
       "160                           Uruguay\n",
       "161                        Uzbekistan\n",
       "162                           Vanuatu\n",
       "163                         Venezuela\n",
       "164                           Vietnam\n",
       "165                             Yemen\n",
       "166                            Zambia\n",
       "Name: country, Length: 153, dtype: object"
      ]
     },
     "execution_count": 10,
     "metadata": {},
     "output_type": "execute_result"
    }
   ],
   "source": [
    "var_col=list(ct_df.drop('country',1).columns)\n",
    "var_col\n",
    "con=ct_df.country\n",
    "con"
   ]
  },
  {
   "cell_type": "code",
   "execution_count": 11,
   "metadata": {},
   "outputs": [
    {
     "name": "stderr",
     "output_type": "stream",
     "text": [
      "/home/sam/anaconda3/lib/python3.7/site-packages/sklearn/preprocessing/data.py:625: DataConversionWarning: Data with input dtype int64, float64 were all converted to float64 by StandardScaler.\n",
      "  return self.partial_fit(X, y)\n",
      "/home/sam/anaconda3/lib/python3.7/site-packages/sklearn/base.py:462: DataConversionWarning: Data with input dtype int64, float64 were all converted to float64 by StandardScaler.\n",
      "  return self.fit(X, **fit_params).transform(X)\n"
     ]
    }
   ],
   "source": [
    "#Scaling the data before we extract PCA\n",
    "scaler=StandardScaler()\n",
    "df_sc=scaler.fit_transform(ct_df[var_col])"
   ]
  },
  {
   "cell_type": "code",
   "execution_count": 12,
   "metadata": {},
   "outputs": [
    {
     "name": "stdout",
     "output_type": "stream",
     "text": [
      "<class 'pandas.core.frame.DataFrame'>\n",
      "RangeIndex: 153 entries, 0 to 152\n",
      "Data columns (total 9 columns):\n",
      "child_mort    153 non-null float64\n",
      "exports       153 non-null float64\n",
      "health        153 non-null float64\n",
      "imports       153 non-null float64\n",
      "income        153 non-null float64\n",
      "inflation     153 non-null float64\n",
      "life_expec    153 non-null float64\n",
      "total_fer     153 non-null float64\n",
      "gdpp          153 non-null float64\n",
      "dtypes: float64(9)\n",
      "memory usage: 10.8 KB\n"
     ]
    }
   ],
   "source": [
    "#converting into DF\n",
    "df_sc=pd.DataFrame(df_sc,columns=var_col)\n",
    "df_sc.info()"
   ]
  },
  {
   "cell_type": "code",
   "execution_count": 13,
   "metadata": {},
   "outputs": [
    {
     "data": {
      "text/plain": [
       "PCA(copy=True, iterated_power='auto', n_components=None, random_state=100,\n",
       "  svd_solver='auto', tol=0.0, whiten=False)"
      ]
     },
     "execution_count": 13,
     "metadata": {},
     "output_type": "execute_result"
    }
   ],
   "source": [
    "#creating Prinicple Components\n",
    "pca=PCA(random_state=100)\n",
    "pca.fit(df_sc)"
   ]
  },
  {
   "cell_type": "code",
   "execution_count": 14,
   "metadata": {},
   "outputs": [
    {
     "data": {
      "text/plain": [
       "array([[ 0.43076815, -0.21664577, -0.17896568, -0.09305539, -0.42232342,\n",
       "         0.18670872, -0.43098768,  0.41425719, -0.39527051],\n",
       "       [ 0.03427865,  0.59436092, -0.08712022,  0.72620846, -0.13021709,\n",
       "        -0.17490075, -0.13851976,  0.00284138, -0.20940116],\n",
       "       [-0.16572296,  0.28815994, -0.72552468, -0.18060048,  0.074002  ,\n",
       "         0.51079859,  0.18285274, -0.11853149, -0.12892176],\n",
       "       [ 0.31833712,  0.29047628,  0.25917194,  0.06073961,  0.38875665,\n",
       "         0.52057774, -0.17949589,  0.32796584,  0.42604264],\n",
       "       [-0.26417498, -0.12012682,  0.49396026,  0.21079908, -0.28870852,\n",
       "         0.61510498,  0.16083436, -0.22001594, -0.30226923],\n",
       "       [ 0.19990318, -0.03096955, -0.01526009, -0.05450979,  0.13084378,\n",
       "         0.06701647, -0.60385717, -0.75460227,  0.01400194],\n",
       "       [ 0.03544262, -0.61984858, -0.34498178,  0.6095754 ,  0.07542472,\n",
       "         0.13531568,  0.04772309, -0.00952672,  0.31236116],\n",
       "       [ 0.74209944,  0.06738494,  0.01964862, -0.00420296, -0.18547508,\n",
       "        -0.00742574,  0.56824504, -0.29322868,  0.03165968],\n",
       "       [ 0.15081012, -0.16806108,  0.05654288,  0.09299856,  0.71240144,\n",
       "        -0.0377145 ,  0.11711924,  0.05353674, -0.6415954 ]])"
      ]
     },
     "execution_count": 14,
     "metadata": {},
     "output_type": "execute_result"
    }
   ],
   "source": [
    "#looking at the eigen vectors/PCAs\n",
    "pca.components_"
   ]
  },
  {
   "cell_type": "code",
   "execution_count": 80,
   "metadata": {},
   "outputs": [
    {
     "data": {
      "image/png": "[encoded data removed]",
      "text/plain": [
       "<Figure size 720x576 with 1 Axes>"
      ]
     },
     "metadata": {
      "needs_background": "light"
     },
     "output_type": "display_data"
    }
   ],
   "source": [
    "#plotting Scree graph\n",
    "var_ratio=pca.explained_variance_ratio_\n",
    "var_cum=np.cumsum(var_ratio)\n",
    "plt.figure(figsize=(10,8))\n",
    "plt.title('Scree Plot')\n",
    "plt.xlabel('Number of PCA components')\n",
    "plt.ylabel('Cummulative Explained Variation Ratio')\n",
    "plt.plot(var_cum)\n",
    "plt.show()"
   ]
  },
  {
   "cell_type": "code",
   "execution_count": 16,
   "metadata": {},
   "outputs": [],
   "source": [
    "#by looking at the graph we can 95% of the variance in the data\n",
    "#is explained by 5 PCAs\n",
    "\n",
    "#transforming data to PCAs\n",
    "pca2=PCA(n_components=5,random_state=100)\n",
    "pc_data=pca2.fit_transform(df_sc)"
   ]
  },
  {
   "cell_type": "code",
   "execution_count": 17,
   "metadata": {},
   "outputs": [
    {
     "data": {
      "text/html": [
       "<div>\n",
       "<style scoped>\n",
       "    .dataframe tbody tr th:only-of-type {\n",
       "        vertical-align: middle;\n",
       "    }\n",
       "\n",
       "    .dataframe tbody tr th {\n",
       "        vertical-align: top;\n",
       "    }\n",
       "\n",
       "    .dataframe thead th {\n",
       "        text-align: right;\n",
       "    }\n",
       "</style>\n",
       "<table border=\"1\" class=\"dataframe\">\n",
       "  <thead>\n",
       "    <tr style=\"text-align: right;\">\n",
       "      <th></th>\n",
       "      <th>PC1</th>\n",
       "      <th>PC2</th>\n",
       "      <th>PC3</th>\n",
       "      <th>PC4</th>\n",
       "      <th>PC5</th>\n",
       "    </tr>\n",
       "  </thead>\n",
       "  <tbody>\n",
       "    <tr>\n",
       "      <th>0</th>\n",
       "      <td>2.866075</td>\n",
       "      <td>-0.325729</td>\n",
       "      <td>-1.230340</td>\n",
       "      <td>0.346070</td>\n",
       "      <td>-0.072308</td>\n",
       "    </tr>\n",
       "    <tr>\n",
       "      <th>1</th>\n",
       "      <td>-0.655924</td>\n",
       "      <td>-0.125447</td>\n",
       "      <td>0.099298</td>\n",
       "      <td>-1.219038</td>\n",
       "      <td>0.529285</td>\n",
       "    </tr>\n",
       "    <tr>\n",
       "      <th>2</th>\n",
       "      <td>0.005453</td>\n",
       "      <td>-0.571431</td>\n",
       "      <td>1.505152</td>\n",
       "      <td>-0.361541</td>\n",
       "      <td>0.160933</td>\n",
       "    </tr>\n",
       "    <tr>\n",
       "      <th>3</th>\n",
       "      <td>2.857190</td>\n",
       "      <td>0.873165</td>\n",
       "      <td>1.405091</td>\n",
       "      <td>1.650288</td>\n",
       "      <td>-0.930353</td>\n",
       "    </tr>\n",
       "    <tr>\n",
       "      <th>4</th>\n",
       "      <td>-1.460498</td>\n",
       "      <td>0.525735</td>\n",
       "      <td>0.218052</td>\n",
       "      <td>-0.509000</td>\n",
       "      <td>-0.195090</td>\n",
       "    </tr>\n",
       "  </tbody>\n",
       "</table>\n",
       "</div>"
      ],
      "text/plain": [
       "        PC1       PC2       PC3       PC4       PC5\n",
       "0  2.866075 -0.325729 -1.230340  0.346070 -0.072308\n",
       "1 -0.655924 -0.125447  0.099298 -1.219038  0.529285\n",
       "2  0.005453 -0.571431  1.505152 -0.361541  0.160933\n",
       "3  2.857190  0.873165  1.405091  1.650288 -0.930353\n",
       "4 -1.460498  0.525735  0.218052 -0.509000 -0.195090"
      ]
     },
     "execution_count": 17,
     "metadata": {},
     "output_type": "execute_result"
    }
   ],
   "source": [
    "#creating Df for PCAs\n",
    "df_pc=pd.DataFrame(pc_data,columns=['PC1','PC2','PC3','PC4','PC5'])\n",
    "df_pc.head()"
   ]
  },
  {
   "cell_type": "code",
   "execution_count": 18,
   "metadata": {},
   "outputs": [
    {
     "data": {
      "image/png": "[encoded data removed]",
      "text/plain": [
       "<Figure size 720x576 with 1 Axes>"
      ]
     },
     "metadata": {
      "needs_background": "light"
     },
     "output_type": "display_data"
    }
   ],
   "source": [
    "#looking at the eigen vectors\n",
    "#PC1 and PC2 variance explaination\n",
    "plt.figure(figsize=(10,8))\n",
    "plt.scatter(df_pc['PC1'],df_pc['PC2'])\n",
    "plt.show()\n",
    "# we can see most of the variance is explained in PC1 and PC2"
   ]
  },
  {
   "cell_type": "code",
   "execution_count": 19,
   "metadata": {},
   "outputs": [
    {
     "data": {
      "image/png": "[encoded data removed]",
      "text/plain": [
       "<Figure size 720x576 with 1 Axes>"
      ]
     },
     "metadata": {
      "needs_background": "light"
     },
     "output_type": "display_data"
    }
   ],
   "source": [
    "plt.figure(figsize=(10,8))\n",
    "plt.scatter(df_sc['gdpp'],df_sc['child_mort'])\n",
    "plt.show()"
   ]
  },
  {
   "cell_type": "code",
   "execution_count": 20,
   "metadata": {},
   "outputs": [],
   "source": [
    "#looking at hopkins stat to see if the data is good for clustering\n",
    "def hopkins(X):\n",
    "    d = X.shape[1]\n",
    "    #d = len(vars) # columns\n",
    "    n = len(X) # rows\n",
    "    m = int(0.1 * n) \n",
    "    nbrs = NearestNeighbors(n_neighbors=1).fit(X.values)\n",
    " \n",
    "    rand_X = sample(range(0, n, 1), m)\n",
    " \n",
    "    ujd = []\n",
    "    wjd = []\n",
    "    for j in range(0, m):\n",
    "        u_dist, _ = nbrs.kneighbors(uniform(np.amin(X,axis=0),np.amax(X,axis=0),d).reshape(1, -1), 2, return_distance=True)\n",
    "        ujd.append(u_dist[0][1])\n",
    "        w_dist, _ = nbrs.kneighbors(X.iloc[rand_X[j]].values.reshape(1, -1), 2, return_distance=True)\n",
    "        wjd.append(w_dist[0][1])\n",
    " \n",
    "    H = sum(ujd) / (sum(ujd) + sum(wjd))\n",
    "    if isnan(H):\n",
    "        print(ujd, wjd)\n",
    "        H = 0\n",
    " \n",
    "    return H"
   ]
  },
  {
   "cell_type": "code",
   "execution_count": 21,
   "metadata": {},
   "outputs": [
    {
     "data": {
      "text/plain": [
       "0.7525450218289372"
      ]
     },
     "execution_count": 21,
     "metadata": {},
     "output_type": "execute_result"
    }
   ],
   "source": [
    "hopkins(df_pc)\n",
    "#hopiks score looks good, so we are good to cluster the data"
   ]
  },
  {
   "cell_type": "code",
   "execution_count": 22,
   "metadata": {},
   "outputs": [
    {
     "name": "stdout",
     "output_type": "stream",
     "text": [
      "2 0.3\n",
      "3 0.31\n",
      "4 0.26\n",
      "5 0.27\n",
      "6 0.27\n",
      "7 0.25\n",
      "8 0.26\n",
      "9 0.26\n"
     ]
    }
   ],
   "source": [
    "#looking for apt number of clusters for K-Means clustering\n",
    "# measuring silhouette_score and ploting elbow graph to decide on number of clusters\n",
    "ssd=[]\n",
    "range_n_clusters=[2,3,4,5,6,7,8,9]\n",
    "for num_clusters in range_n_clusters:\n",
    "    kmeans=KMeans(n_clusters=num_clusters,max_iter=50)\n",
    "    kmeans.fit(df_pc)\n",
    "    slh_src=silhouette_score(df_pc,kmeans.labels_)\n",
    "    ssd.append(kmeans.inertia_)\n",
    "    print(num_clusters,round(slh_src,2))"
   ]
  },
  {
   "cell_type": "code",
   "execution_count": 82,
   "metadata": {},
   "outputs": [
    {
     "data": {
      "image/png": "[encoded data removed]",
      "text/plain": [
       "<Figure size 432x288 with 1 Axes>"
      ]
     },
     "metadata": {
      "needs_background": "light"
     },
     "output_type": "display_data"
    }
   ],
   "source": [
    "#elbow plot\n",
    "plt.plot(range_n_clusters,ssd)\n",
    "plt.title('Elbow Curve')\n",
    "plt.xlabel('K value')\n",
    "plt.ylabel('SSD')\n",
    "plt.show()"
   ]
  },
  {
   "cell_type": "code",
   "execution_count": 24,
   "metadata": {},
   "outputs": [
    {
     "data": {
      "text/plain": [
       "KMeans(algorithm='auto', copy_x=True, init='k-means++', max_iter=50,\n",
       "    n_clusters=3, n_init=10, n_jobs=None, precompute_distances='auto',\n",
       "    random_state=100, tol=0.0001, verbose=0)"
      ]
     },
     "execution_count": 24,
     "metadata": {},
     "output_type": "execute_result"
    }
   ],
   "source": [
    "#by looking at the silhouette_score and ploting elbow graph we see the number of clusters apt for kmeans \n",
    "#clustering is 3\n",
    "# we will be clustering the data into three clusters\n",
    "kmean=KMeans(n_clusters=3,max_iter=50,random_state=100)\n",
    "kmean.fit(df_pc)"
   ]
  },
  {
   "cell_type": "code",
   "execution_count": 25,
   "metadata": {},
   "outputs": [
    {
     "data": {
      "text/plain": [
       "array([0, 1, 1, 0, 1, 1, 1, 2, 1, 2, 2, 1, 1, 1, 2, 1, 0, 1, 1, 1, 1, 1,\n",
       "       1, 0, 0, 1, 0, 2, 1, 0, 0, 1, 1, 1, 0, 0, 0, 1, 0, 1, 2, 2, 1, 1,\n",
       "       1, 1, 0, 0, 1, 1, 2, 2, 0, 0, 1, 2, 0, 2, 1, 1, 0, 0, 1, 0, 1, 2,\n",
       "       1, 1, 1, 1, 2, 2, 1, 2, 1, 1, 0, 0, 1, 0, 1, 1, 0, 0, 1, 1, 1, 0,\n",
       "       0, 1, 1, 0, 2, 0, 1, 1, 1, 1, 1, 1, 0, 0, 0, 1, 2, 0, 0, 2, 0, 1,\n",
       "       1, 1, 1, 1, 2, 1, 1, 0, 1, 2, 0, 1, 1, 0, 2, 2, 1, 0, 2, 2, 1, 1,\n",
       "       0, 1, 1, 0, 1, 0, 0, 1, 1, 1, 1, 0, 1, 2, 1, 1, 1, 1, 1, 0, 0],\n",
       "      dtype=int32)"
      ]
     },
     "execution_count": 25,
     "metadata": {},
     "output_type": "execute_result"
    }
   ],
   "source": [
    "#looking at the clustering labels\n",
    "kmean.labels_"
   ]
  },
  {
   "cell_type": "code",
   "execution_count": 26,
   "metadata": {},
   "outputs": [
    {
     "data": {
      "text/html": [
       "<div>\n",
       "<style scoped>\n",
       "    .dataframe tbody tr th:only-of-type {\n",
       "        vertical-align: middle;\n",
       "    }\n",
       "\n",
       "    .dataframe tbody tr th {\n",
       "        vertical-align: top;\n",
       "    }\n",
       "\n",
       "    .dataframe thead th {\n",
       "        text-align: right;\n",
       "    }\n",
       "</style>\n",
       "<table border=\"1\" class=\"dataframe\">\n",
       "  <thead>\n",
       "    <tr style=\"text-align: right;\">\n",
       "      <th></th>\n",
       "      <th>PC1</th>\n",
       "      <th>PC2</th>\n",
       "      <th>PC3</th>\n",
       "      <th>PC4</th>\n",
       "      <th>PC5</th>\n",
       "      <th>country</th>\n",
       "      <th>cluster_id</th>\n",
       "    </tr>\n",
       "  </thead>\n",
       "  <tbody>\n",
       "    <tr>\n",
       "      <th>0</th>\n",
       "      <td>2.866075</td>\n",
       "      <td>-0.325729</td>\n",
       "      <td>-1.230340</td>\n",
       "      <td>0.346070</td>\n",
       "      <td>-0.072308</td>\n",
       "      <td>Afghanistan</td>\n",
       "      <td>0</td>\n",
       "    </tr>\n",
       "    <tr>\n",
       "      <th>1</th>\n",
       "      <td>-0.655924</td>\n",
       "      <td>-0.125447</td>\n",
       "      <td>0.099298</td>\n",
       "      <td>-1.219038</td>\n",
       "      <td>0.529285</td>\n",
       "      <td>Albania</td>\n",
       "      <td>1</td>\n",
       "    </tr>\n",
       "    <tr>\n",
       "      <th>2</th>\n",
       "      <td>0.005453</td>\n",
       "      <td>-0.571431</td>\n",
       "      <td>1.505152</td>\n",
       "      <td>-0.361541</td>\n",
       "      <td>0.160933</td>\n",
       "      <td>Algeria</td>\n",
       "      <td>1</td>\n",
       "    </tr>\n",
       "    <tr>\n",
       "      <th>3</th>\n",
       "      <td>2.857190</td>\n",
       "      <td>0.873165</td>\n",
       "      <td>1.405091</td>\n",
       "      <td>1.650288</td>\n",
       "      <td>-0.930353</td>\n",
       "      <td>Angola</td>\n",
       "      <td>0</td>\n",
       "    </tr>\n",
       "    <tr>\n",
       "      <th>4</th>\n",
       "      <td>-1.460498</td>\n",
       "      <td>0.525735</td>\n",
       "      <td>0.218052</td>\n",
       "      <td>-0.509000</td>\n",
       "      <td>-0.195090</td>\n",
       "      <td>Antigua and Barbuda</td>\n",
       "      <td>1</td>\n",
       "    </tr>\n",
       "  </tbody>\n",
       "</table>\n",
       "</div>"
      ],
      "text/plain": [
       "        PC1       PC2       PC3       PC4       PC5              country  \\\n",
       "0  2.866075 -0.325729 -1.230340  0.346070 -0.072308          Afghanistan   \n",
       "1 -0.655924 -0.125447  0.099298 -1.219038  0.529285              Albania   \n",
       "2  0.005453 -0.571431  1.505152 -0.361541  0.160933              Algeria   \n",
       "3  2.857190  0.873165  1.405091  1.650288 -0.930353               Angola   \n",
       "4 -1.460498  0.525735  0.218052 -0.509000 -0.195090  Antigua and Barbuda   \n",
       "\n",
       "   cluster_id  \n",
       "0           0  \n",
       "1           1  \n",
       "2           1  \n",
       "3           0  \n",
       "4           1  "
      ]
     },
     "execution_count": 26,
     "metadata": {},
     "output_type": "execute_result"
    }
   ],
   "source": [
    "#adding contry and cluster labels to PCA data Frame\n",
    "df_pc['country']=con\n",
    "df_pc['cluster_id']=kmean.labels_\n",
    "df_pc.head()"
   ]
  },
  {
   "cell_type": "code",
   "execution_count": 27,
   "metadata": {},
   "outputs": [
    {
     "data": {
      "image/png": "[encoded data removed]",
      "text/plain": [
       "<Figure size 720x576 with 1 Axes>"
      ]
     },
     "metadata": {
      "needs_background": "light"
     },
     "output_type": "display_data"
    }
   ],
   "source": [
    "#looking at the distribution of each PCA across clusters\n",
    "plt.figure(figsize=(10,8))\n",
    "#y=PC1,PC2,PC3\n",
    "sns.boxplot(x='cluster_id',y='PC2',data=df_pc)\n",
    "plt.show()"
   ]
  },
  {
   "cell_type": "code",
   "execution_count": 28,
   "metadata": {},
   "outputs": [
    {
     "data": {
      "text/html": [
       "<div>\n",
       "<style scoped>\n",
       "    .dataframe tbody tr th:only-of-type {\n",
       "        vertical-align: middle;\n",
       "    }\n",
       "\n",
       "    .dataframe tbody tr th {\n",
       "        vertical-align: top;\n",
       "    }\n",
       "\n",
       "    .dataframe thead th {\n",
       "        text-align: right;\n",
       "    }\n",
       "</style>\n",
       "<table border=\"1\" class=\"dataframe\">\n",
       "  <thead>\n",
       "    <tr style=\"text-align: right;\">\n",
       "      <th></th>\n",
       "      <th>country</th>\n",
       "      <th>child_mort</th>\n",
       "      <th>exports</th>\n",
       "      <th>health</th>\n",
       "      <th>imports</th>\n",
       "      <th>income</th>\n",
       "      <th>inflation</th>\n",
       "      <th>life_expec</th>\n",
       "      <th>total_fer</th>\n",
       "      <th>gdpp</th>\n",
       "      <th>kmean_cluster_id</th>\n",
       "    </tr>\n",
       "  </thead>\n",
       "  <tbody>\n",
       "    <tr>\n",
       "      <th>0</th>\n",
       "      <td>Afghanistan</td>\n",
       "      <td>90.2</td>\n",
       "      <td>10.0</td>\n",
       "      <td>7.58</td>\n",
       "      <td>44.9</td>\n",
       "      <td>1610</td>\n",
       "      <td>9.44</td>\n",
       "      <td>56.2</td>\n",
       "      <td>5.82</td>\n",
       "      <td>553</td>\n",
       "      <td>0</td>\n",
       "    </tr>\n",
       "    <tr>\n",
       "      <th>1</th>\n",
       "      <td>Albania</td>\n",
       "      <td>16.6</td>\n",
       "      <td>28.0</td>\n",
       "      <td>6.55</td>\n",
       "      <td>48.6</td>\n",
       "      <td>9930</td>\n",
       "      <td>4.49</td>\n",
       "      <td>76.3</td>\n",
       "      <td>1.65</td>\n",
       "      <td>4090</td>\n",
       "      <td>1</td>\n",
       "    </tr>\n",
       "    <tr>\n",
       "      <th>2</th>\n",
       "      <td>Algeria</td>\n",
       "      <td>27.3</td>\n",
       "      <td>38.4</td>\n",
       "      <td>4.17</td>\n",
       "      <td>31.4</td>\n",
       "      <td>12900</td>\n",
       "      <td>16.10</td>\n",
       "      <td>76.5</td>\n",
       "      <td>2.89</td>\n",
       "      <td>4460</td>\n",
       "      <td>1</td>\n",
       "    </tr>\n",
       "    <tr>\n",
       "      <th>3</th>\n",
       "      <td>Angola</td>\n",
       "      <td>119.0</td>\n",
       "      <td>62.3</td>\n",
       "      <td>2.85</td>\n",
       "      <td>42.9</td>\n",
       "      <td>5900</td>\n",
       "      <td>22.40</td>\n",
       "      <td>60.1</td>\n",
       "      <td>6.16</td>\n",
       "      <td>3530</td>\n",
       "      <td>0</td>\n",
       "    </tr>\n",
       "    <tr>\n",
       "      <th>4</th>\n",
       "      <td>Antigua and Barbuda</td>\n",
       "      <td>10.3</td>\n",
       "      <td>45.5</td>\n",
       "      <td>6.03</td>\n",
       "      <td>58.9</td>\n",
       "      <td>19100</td>\n",
       "      <td>1.44</td>\n",
       "      <td>76.8</td>\n",
       "      <td>2.13</td>\n",
       "      <td>12200</td>\n",
       "      <td>1</td>\n",
       "    </tr>\n",
       "  </tbody>\n",
       "</table>\n",
       "</div>"
      ],
      "text/plain": [
       "               country  child_mort  exports  health  imports  income  \\\n",
       "0          Afghanistan        90.2     10.0    7.58     44.9    1610   \n",
       "1              Albania        16.6     28.0    6.55     48.6    9930   \n",
       "2              Algeria        27.3     38.4    4.17     31.4   12900   \n",
       "3               Angola       119.0     62.3    2.85     42.9    5900   \n",
       "4  Antigua and Barbuda        10.3     45.5    6.03     58.9   19100   \n",
       "\n",
       "   inflation  life_expec  total_fer   gdpp  kmean_cluster_id  \n",
       "0       9.44        56.2       5.82    553                 0  \n",
       "1       4.49        76.3       1.65   4090                 1  \n",
       "2      16.10        76.5       2.89   4460                 1  \n",
       "3      22.40        60.1       6.16   3530                 0  \n",
       "4       1.44        76.8       2.13  12200                 1  "
      ]
     },
     "execution_count": 28,
     "metadata": {},
     "output_type": "execute_result"
    }
   ],
   "source": [
    "#assinging the clustering labels to original data set\n",
    "ct_df['kmean_cluster_id']=kmean.labels_\n",
    "ct_df.head()"
   ]
  },
  {
   "cell_type": "code",
   "execution_count": 29,
   "metadata": {},
   "outputs": [
    {
     "data": {
      "text/plain": [
       "<matplotlib.axes._subplots.AxesSubplot at 0x7f32fb3524e0>"
      ]
     },
     "execution_count": 29,
     "metadata": {},
     "output_type": "execute_result"
    },
    {
     "data": {
      "image/png": "[encoded data removed]",
      "text/plain": [
       "<Figure size 720x576 with 1 Axes>"
      ]
     },
     "metadata": {
      "needs_background": "light"
     },
     "output_type": "display_data"
    }
   ],
   "source": [
    "#looking at the distribution of variable accross the clusters\n",
    "plt.figure(figsize=(10,8))\n",
    "sns.boxplot(x='kmean_cluster_id',y='income',data=ct_df)\n",
    "\n",
    "#there is distinct means of income across the clusters"
   ]
  },
  {
   "cell_type": "code",
   "execution_count": 30,
   "metadata": {},
   "outputs": [
    {
     "data": {
      "image/png": "[encoded data removed]",
      "text/plain": [
       "<Figure size 1080x864 with 1 Axes>"
      ]
     },
     "metadata": {
      "needs_background": "light"
     },
     "output_type": "display_data"
    }
   ],
   "source": [
    "#Applying hierarchical clustering\n",
    "#looking at the dendogram for single linkage\n",
    "pc=['PC1','PC2','PC3','PC4','PC5']\n",
    "merging=linkage(df_pc[pc],method='single',metric='euclidean')\n",
    "plt.figure(figsize=(15,12))\n",
    "dendrogram(merging)\n",
    "plt.show()"
   ]
  },
  {
   "cell_type": "code",
   "execution_count": 31,
   "metadata": {},
   "outputs": [
    {
     "data": {
      "text/plain": [
       "array([0, 0, 0, 0, 0, 0, 0, 0, 0, 0, 0, 0, 0, 0, 0, 0, 0, 0, 0, 0, 0, 0,\n",
       "       0, 0, 0, 0, 0, 0, 0, 0, 0, 0, 0, 0, 0, 0, 0, 0, 0, 0, 0, 0, 0, 0,\n",
       "       0, 0, 0, 0, 0, 0, 0, 0, 0, 0, 0, 0, 0, 0, 0, 0, 0, 0, 0, 0, 0, 0,\n",
       "       0, 0, 0, 0, 0, 0, 0, 0, 0, 0, 0, 0, 0, 0, 0, 0, 0, 0, 0, 0, 0, 0,\n",
       "       0, 0, 0, 0, 1, 0, 0, 0, 0, 0, 0, 0, 0, 0, 0, 0, 0, 0, 2, 0, 0, 0,\n",
       "       0, 0, 0, 0, 0, 0, 0, 0, 0, 0, 0, 0, 0, 0, 0, 0, 0, 0, 0, 0, 0, 0,\n",
       "       0, 0, 0, 0, 0, 0, 0, 0, 0, 0, 0, 0, 0, 0, 0, 0, 0, 0, 0, 0, 0])"
      ]
     },
     "execution_count": 31,
     "metadata": {},
     "output_type": "execute_result"
    }
   ],
   "source": [
    "cluster_sin_lable=cut_tree(merging,n_clusters=3).reshape(-1,)\n",
    "cluster_sin_lable"
   ]
  },
  {
   "cell_type": "code",
   "execution_count": 32,
   "metadata": {},
   "outputs": [],
   "source": [
    "# we can clearly see there are two outliers that is effecting the clustering and data balance across the clusters\n",
    "#we will try to removdd these outloers one by one and see we can get clear clusters\n",
    "ct_df['cluster_sin_lable']=cluster_sin_lable"
   ]
  },
  {
   "cell_type": "code",
   "execution_count": 33,
   "metadata": {},
   "outputs": [
    {
     "data": {
      "text/html": [
       "<div>\n",
       "<style scoped>\n",
       "    .dataframe tbody tr th:only-of-type {\n",
       "        vertical-align: middle;\n",
       "    }\n",
       "\n",
       "    .dataframe tbody tr th {\n",
       "        vertical-align: top;\n",
       "    }\n",
       "\n",
       "    .dataframe thead th {\n",
       "        text-align: right;\n",
       "    }\n",
       "</style>\n",
       "<table border=\"1\" class=\"dataframe\">\n",
       "  <thead>\n",
       "    <tr style=\"text-align: right;\">\n",
       "      <th></th>\n",
       "      <th>country</th>\n",
       "      <th>child_mort</th>\n",
       "      <th>exports</th>\n",
       "      <th>health</th>\n",
       "      <th>imports</th>\n",
       "      <th>income</th>\n",
       "      <th>inflation</th>\n",
       "      <th>life_expec</th>\n",
       "      <th>total_fer</th>\n",
       "      <th>gdpp</th>\n",
       "      <th>kmean_cluster_id</th>\n",
       "      <th>cluster_sin_lable</th>\n",
       "    </tr>\n",
       "  </thead>\n",
       "  <tbody>\n",
       "    <tr>\n",
       "      <th>98</th>\n",
       "      <td>Malta</td>\n",
       "      <td>6.8</td>\n",
       "      <td>153.0</td>\n",
       "      <td>8.65</td>\n",
       "      <td>154.0</td>\n",
       "      <td>28300</td>\n",
       "      <td>3.83</td>\n",
       "      <td>80.3</td>\n",
       "      <td>1.36</td>\n",
       "      <td>21100</td>\n",
       "      <td>2</td>\n",
       "      <td>1</td>\n",
       "    </tr>\n",
       "    <tr>\n",
       "      <th>113</th>\n",
       "      <td>Nigeria</td>\n",
       "      <td>130.0</td>\n",
       "      <td>25.3</td>\n",
       "      <td>5.07</td>\n",
       "      <td>17.4</td>\n",
       "      <td>5150</td>\n",
       "      <td>104.00</td>\n",
       "      <td>60.5</td>\n",
       "      <td>5.84</td>\n",
       "      <td>2330</td>\n",
       "      <td>0</td>\n",
       "      <td>2</td>\n",
       "    </tr>\n",
       "  </tbody>\n",
       "</table>\n",
       "</div>"
      ],
      "text/plain": [
       "     country  child_mort  exports  health  imports  income  inflation  \\\n",
       "98     Malta         6.8    153.0    8.65    154.0   28300       3.83   \n",
       "113  Nigeria       130.0     25.3    5.07     17.4    5150     104.00   \n",
       "\n",
       "     life_expec  total_fer   gdpp  kmean_cluster_id  cluster_sin_lable  \n",
       "98         80.3       1.36  21100                 2                  1  \n",
       "113        60.5       5.84   2330                 0                  2  "
      ]
     },
     "execution_count": 33,
     "metadata": {},
     "output_type": "execute_result"
    }
   ],
   "source": [
    "ct_df[ct_df['cluster_sin_lable']!=0]"
   ]
  },
  {
   "cell_type": "code",
   "execution_count": 34,
   "metadata": {},
   "outputs": [],
   "source": [
    "#Looking the gdpp and income we can conclude that Malta is developing country that needs no aid \n",
    "#where as Nigeria seems to be doing bad at child mortality\n",
    "# we will remove Malta and see if we can form clusters without outliers\n",
    "ct_df=ct_df[ct_df['country']!='Malta']\n",
    "df_pc=df_pc[df_pc['country']!='Malta']"
   ]
  },
  {
   "cell_type": "code",
   "execution_count": 35,
   "metadata": {},
   "outputs": [
    {
     "data": {
      "text/plain": [
       "(152, 7)"
      ]
     },
     "execution_count": 35,
     "metadata": {},
     "output_type": "execute_result"
    }
   ],
   "source": [
    "df_pc.shape"
   ]
  },
  {
   "cell_type": "code",
   "execution_count": 36,
   "metadata": {
    "collapsed": true
   },
   "outputs": [
    {
     "data": {
      "image/png": "[encoded data removed]",
      "text/plain": [
       "<Figure size 1080x864 with 1 Axes>"
      ]
     },
     "metadata": {
      "needs_background": "light"
     },
     "output_type": "display_data"
    }
   ],
   "source": [
    "merging=linkage(df_pc[pc],method='single',metric='euclidean')\n",
    "plt.figure(figsize=(15,12))\n",
    "dendrogram(merging)\n",
    "plt.show()"
   ]
  },
  {
   "cell_type": "code",
   "execution_count": 39,
   "metadata": {},
   "outputs": [
    {
     "data": {
      "text/plain": [
       "array([0, 0, 0, 0, 0, 0, 0, 0, 0, 0, 0, 0, 0, 0, 0, 0, 0, 0, 0, 0, 0, 0,\n",
       "       0, 0, 0, 0, 0, 0, 0, 0, 0, 0, 0, 0, 0, 0, 0, 0, 0, 0, 0, 0, 0, 0,\n",
       "       0, 0, 0, 0, 0, 0, 0, 0, 0, 0, 0, 0, 0, 0, 0, 0, 0, 0, 0, 0, 0, 0,\n",
       "       0, 0, 0, 0, 0, 0, 0, 0, 0, 0, 0, 0, 0, 0, 0, 0, 0, 0, 0, 0, 0, 0,\n",
       "       0, 0, 0, 0, 1, 0, 0, 0, 0, 0, 0, 0, 0, 0, 0, 0, 0, 2, 0, 0, 0, 0,\n",
       "       0, 0, 0, 0, 0, 0, 0, 0, 0, 0, 0, 0, 0, 0, 0, 0, 0, 0, 0, 0, 0, 0,\n",
       "       0, 0, 0, 0, 0, 0, 0, 0, 0, 0, 0, 0, 0, 0, 0, 0, 0, 0, 0, 0])"
      ]
     },
     "execution_count": 39,
     "metadata": {},
     "output_type": "execute_result"
    }
   ],
   "source": [
    "cluster_sin_lable=cut_tree(merging,n_clusters=3).reshape(-1,)\n",
    "cluster_sin_lable\n",
    "#still looks the same"
   ]
  },
  {
   "cell_type": "code",
   "execution_count": 40,
   "metadata": {
    "collapsed": true
   },
   "outputs": [
    {
     "data": {
      "image/png": "[encoded data removed]",
      "text/plain": [
       "<Figure size 1080x864 with 1 Axes>"
      ]
     },
     "metadata": {
      "needs_background": "light"
     },
     "output_type": "display_data"
    }
   ],
   "source": [
    "#now let us look at complete linkage\n",
    "merging=linkage(df_pc[pc],method='complete',metric='euclidean')\n",
    "plt.figure(figsize=(15,12))\n",
    "dendrogram(merging)\n",
    "plt.show()"
   ]
  },
  {
   "cell_type": "code",
   "execution_count": 74,
   "metadata": {},
   "outputs": [
    {
     "data": {
      "text/plain": [
       "array([0, 0, 0, 0, 0, 0, 0, 0, 0, 0, 0, 0, 0, 0, 0, 0, 0, 0, 0, 0, 0, 0,\n",
       "       0, 0, 0, 0, 0, 0, 0, 0, 0, 0, 0, 0, 0, 0, 0, 0, 0, 0, 0, 0, 0, 0,\n",
       "       0, 0, 0, 0, 0, 0, 0, 0, 0, 0, 0, 0, 0, 0, 0, 0, 0, 0, 0, 0, 0, 0,\n",
       "       0, 0, 0, 0, 0, 0, 0, 0, 0, 0, 0, 0, 0, 0, 0, 0, 0, 0, 0, 0, 0, 0,\n",
       "       0, 0, 0, 0, 1, 0, 0, 0, 0, 0, 0, 0, 0, 0, 0, 0, 0, 2, 0, 0, 0, 0,\n",
       "       0, 0, 0, 0, 0, 0, 0, 0, 0, 0, 0, 0, 0, 0, 0, 0, 0, 0, 0, 0, 0, 0,\n",
       "       0, 0, 0, 0, 0, 0, 0, 0, 0, 0, 0, 0, 0, 0, 0, 0, 0, 0, 0, 0])"
      ]
     },
     "execution_count": 74,
     "metadata": {},
     "output_type": "execute_result"
    }
   ],
   "source": [
    "#the plot looks better, now let us cut the tree for 3 clusters\n",
    "cluster_complete_lable=cut_tree(merging,n_clusters=3).reshape(-1,)\n",
    "cluster_complete_lable"
   ]
  },
  {
   "cell_type": "code",
   "execution_count": 41,
   "metadata": {},
   "outputs": [
    {
     "data": {
      "text/plain": [
       "array([0, 1, 1, 1, 1, 1, 1, 2, 1, 2, 1, 1, 1, 1, 2, 1, 0, 1, 1, 1, 0, 1,\n",
       "       1, 0, 0, 1, 0, 2, 1, 0, 0, 1, 1, 1, 0, 0, 1, 1, 0, 1, 2, 2, 1, 1,\n",
       "       1, 1, 1, 1, 1, 1, 2, 2, 1, 0, 1, 2, 0, 2, 1, 1, 0, 0, 1, 0, 1, 2,\n",
       "       1, 1, 1, 0, 2, 2, 1, 2, 1, 1, 0, 0, 1, 0, 1, 1, 0, 0, 1, 1, 1, 0,\n",
       "       0, 1, 1, 0, 3, 1, 1, 0, 1, 1, 1, 0, 1, 0, 1, 2, 0, 4, 1, 1, 1, 1,\n",
       "       1, 1, 1, 2, 1, 1, 0, 0, 1, 0, 1, 1, 0, 1, 2, 0, 0, 2, 2, 1, 1, 0,\n",
       "       1, 0, 0, 1, 0, 0, 0, 1, 1, 1, 0, 1, 2, 1, 1, 1, 1, 1, 0, 0])"
      ]
     },
     "execution_count": 41,
     "metadata": {},
     "output_type": "execute_result"
    }
   ],
   "source": [
    "#By looking at the plot, we can try cutting the tree at 5 clusters and how it turns out\n",
    "cluster_complete_lable=cut_tree(merging,n_clusters=5).reshape(-1,)\n",
    "cluster_complete_lable"
   ]
  },
  {
   "cell_type": "code",
   "execution_count": 42,
   "metadata": {},
   "outputs": [],
   "source": [
    "#the clusters seems to be looking good\n",
    "ct_df['cluster_complete_lable']=cluster_complete_lable"
   ]
  },
  {
   "cell_type": "code",
   "execution_count": 43,
   "metadata": {},
   "outputs": [
    {
     "data": {
      "text/plain": [
       "<matplotlib.axes._subplots.AxesSubplot at 0x7f32f37970b8>"
      ]
     },
     "execution_count": 43,
     "metadata": {},
     "output_type": "execute_result"
    },
    {
     "data": {
      "image/png": "[encoded data removed]",
      "text/plain": [
       "<Figure size 720x576 with 1 Axes>"
      ]
     },
     "metadata": {
      "needs_background": "light"
     },
     "output_type": "display_data"
    }
   ],
   "source": [
    "#looking at the distribution of variable accross the clusters\n",
    "plt.figure(figsize=(10,8))\n",
    "sns.boxplot(x='cluster_complete_lable',y='income',data=ct_df)\n",
    "\n",
    "#there is distinct means of income across the clusters"
   ]
  },
  {
   "cell_type": "code",
   "execution_count": 44,
   "metadata": {},
   "outputs": [
    {
     "data": {
      "text/html": [
       "<div>\n",
       "<style scoped>\n",
       "    .dataframe tbody tr th:only-of-type {\n",
       "        vertical-align: middle;\n",
       "    }\n",
       "\n",
       "    .dataframe tbody tr th {\n",
       "        vertical-align: top;\n",
       "    }\n",
       "\n",
       "    .dataframe thead th {\n",
       "        text-align: right;\n",
       "    }\n",
       "</style>\n",
       "<table border=\"1\" class=\"dataframe\">\n",
       "  <thead>\n",
       "    <tr style=\"text-align: right;\">\n",
       "      <th></th>\n",
       "      <th>country</th>\n",
       "      <th>child_mort</th>\n",
       "      <th>exports</th>\n",
       "      <th>health</th>\n",
       "      <th>imports</th>\n",
       "      <th>income</th>\n",
       "      <th>inflation</th>\n",
       "      <th>life_expec</th>\n",
       "      <th>total_fer</th>\n",
       "      <th>gdpp</th>\n",
       "      <th>kmean_cluster_id</th>\n",
       "      <th>cluster_sin_lable</th>\n",
       "      <th>cluster_complete_lable</th>\n",
       "    </tr>\n",
       "  </thead>\n",
       "  <tbody>\n",
       "    <tr>\n",
       "      <th>99</th>\n",
       "      <td>Mauritania</td>\n",
       "      <td>97.4</td>\n",
       "      <td>50.7</td>\n",
       "      <td>4.41</td>\n",
       "      <td>61.2</td>\n",
       "      <td>3320</td>\n",
       "      <td>18.9</td>\n",
       "      <td>68.2</td>\n",
       "      <td>4.98</td>\n",
       "      <td>1200</td>\n",
       "      <td>0</td>\n",
       "      <td>0</td>\n",
       "      <td>3</td>\n",
       "    </tr>\n",
       "    <tr>\n",
       "      <th>113</th>\n",
       "      <td>Nigeria</td>\n",
       "      <td>130.0</td>\n",
       "      <td>25.3</td>\n",
       "      <td>5.07</td>\n",
       "      <td>17.4</td>\n",
       "      <td>5150</td>\n",
       "      <td>104.0</td>\n",
       "      <td>60.5</td>\n",
       "      <td>5.84</td>\n",
       "      <td>2330</td>\n",
       "      <td>0</td>\n",
       "      <td>2</td>\n",
       "      <td>4</td>\n",
       "    </tr>\n",
       "  </tbody>\n",
       "</table>\n",
       "</div>"
      ],
      "text/plain": [
       "        country  child_mort  exports  health  imports  income  inflation  \\\n",
       "99   Mauritania        97.4     50.7    4.41     61.2    3320       18.9   \n",
       "113     Nigeria       130.0     25.3    5.07     17.4    5150      104.0   \n",
       "\n",
       "     life_expec  total_fer  gdpp  kmean_cluster_id  cluster_sin_lable  \\\n",
       "99         68.2       4.98  1200                 0                  0   \n",
       "113        60.5       5.84  2330                 0                  2   \n",
       "\n",
       "     cluster_complete_lable  \n",
       "99                        3  \n",
       "113                       4  "
      ]
     },
     "execution_count": 44,
     "metadata": {},
     "output_type": "execute_result"
    }
   ],
   "source": [
    "ct_df[(ct_df['cluster_complete_lable']==3) | (ct_df['cluster_complete_lable']==4)]"
   ]
  },
  {
   "cell_type": "code",
   "execution_count": 45,
   "metadata": {},
   "outputs": [],
   "source": [
    "#if we look at the mean incoome accross the clusters the countries in cluster are under-developer/poor countries.\n",
    "poor_con=ct_df[(ct_df['cluster_complete_lable']==0)]"
   ]
  },
  {
   "cell_type": "code",
   "execution_count": 46,
   "metadata": {},
   "outputs": [
    {
     "data": {
      "text/html": [
       "<div>\n",
       "<style scoped>\n",
       "    .dataframe tbody tr th:only-of-type {\n",
       "        vertical-align: middle;\n",
       "    }\n",
       "\n",
       "    .dataframe tbody tr th {\n",
       "        vertical-align: top;\n",
       "    }\n",
       "\n",
       "    .dataframe thead th {\n",
       "        text-align: right;\n",
       "    }\n",
       "</style>\n",
       "<table border=\"1\" class=\"dataframe\">\n",
       "  <thead>\n",
       "    <tr style=\"text-align: right;\">\n",
       "      <th></th>\n",
       "      <th>child_mort</th>\n",
       "      <th>exports</th>\n",
       "      <th>health</th>\n",
       "      <th>imports</th>\n",
       "      <th>income</th>\n",
       "      <th>inflation</th>\n",
       "      <th>life_expec</th>\n",
       "      <th>total_fer</th>\n",
       "      <th>gdpp</th>\n",
       "      <th>kmean_cluster_id</th>\n",
       "      <th>cluster_sin_lable</th>\n",
       "      <th>cluster_complete_lable</th>\n",
       "    </tr>\n",
       "  </thead>\n",
       "  <tbody>\n",
       "    <tr>\n",
       "      <th>count</th>\n",
       "      <td>44.000000</td>\n",
       "      <td>44.000000</td>\n",
       "      <td>44.000000</td>\n",
       "      <td>44.000000</td>\n",
       "      <td>44.000000</td>\n",
       "      <td>44.000000</td>\n",
       "      <td>44.000000</td>\n",
       "      <td>44.000000</td>\n",
       "      <td>44.000000</td>\n",
       "      <td>44.000000</td>\n",
       "      <td>44.0</td>\n",
       "      <td>44.0</td>\n",
       "    </tr>\n",
       "    <tr>\n",
       "      <th>mean</th>\n",
       "      <td>85.702273</td>\n",
       "      <td>25.680000</td>\n",
       "      <td>7.054545</td>\n",
       "      <td>46.004545</td>\n",
       "      <td>2934.386364</td>\n",
       "      <td>8.425795</td>\n",
       "      <td>59.640909</td>\n",
       "      <td>4.840227</td>\n",
       "      <td>1450.863636</td>\n",
       "      <td>0.159091</td>\n",
       "      <td>0.0</td>\n",
       "      <td>0.0</td>\n",
       "    </tr>\n",
       "    <tr>\n",
       "      <th>std</th>\n",
       "      <td>39.232553</td>\n",
       "      <td>11.872169</td>\n",
       "      <td>2.478793</td>\n",
       "      <td>18.395525</td>\n",
       "      <td>3050.720138</td>\n",
       "      <td>6.509603</td>\n",
       "      <td>7.228475</td>\n",
       "      <td>1.207351</td>\n",
       "      <td>1637.433139</td>\n",
       "      <td>0.369989</td>\n",
       "      <td>0.0</td>\n",
       "      <td>0.0</td>\n",
       "    </tr>\n",
       "    <tr>\n",
       "      <th>min</th>\n",
       "      <td>17.200000</td>\n",
       "      <td>2.200000</td>\n",
       "      <td>3.770000</td>\n",
       "      <td>17.200000</td>\n",
       "      <td>609.000000</td>\n",
       "      <td>0.885000</td>\n",
       "      <td>32.100000</td>\n",
       "      <td>1.270000</td>\n",
       "      <td>231.000000</td>\n",
       "      <td>0.000000</td>\n",
       "      <td>0.0</td>\n",
       "      <td>0.0</td>\n",
       "    </tr>\n",
       "    <tr>\n",
       "      <th>25%</th>\n",
       "      <td>62.200000</td>\n",
       "      <td>16.725000</td>\n",
       "      <td>5.152500</td>\n",
       "      <td>33.975000</td>\n",
       "      <td>1380.000000</td>\n",
       "      <td>3.412500</td>\n",
       "      <td>56.450000</td>\n",
       "      <td>4.262500</td>\n",
       "      <td>551.500000</td>\n",
       "      <td>0.000000</td>\n",
       "      <td>0.0</td>\n",
       "      <td>0.0</td>\n",
       "    </tr>\n",
       "    <tr>\n",
       "      <th>50%</th>\n",
       "      <td>82.050000</td>\n",
       "      <td>23.300000</td>\n",
       "      <td>6.395000</td>\n",
       "      <td>43.100000</td>\n",
       "      <td>1835.000000</td>\n",
       "      <td>6.600000</td>\n",
       "      <td>59.050000</td>\n",
       "      <td>5.035000</td>\n",
       "      <td>763.500000</td>\n",
       "      <td>0.000000</td>\n",
       "      <td>0.0</td>\n",
       "      <td>0.0</td>\n",
       "    </tr>\n",
       "    <tr>\n",
       "      <th>75%</th>\n",
       "      <td>109.500000</td>\n",
       "      <td>35.750000</td>\n",
       "      <td>8.512500</td>\n",
       "      <td>52.050000</td>\n",
       "      <td>3115.000000</td>\n",
       "      <td>12.150000</td>\n",
       "      <td>64.150000</td>\n",
       "      <td>5.462500</td>\n",
       "      <td>1347.500000</td>\n",
       "      <td>0.000000</td>\n",
       "      <td>0.0</td>\n",
       "      <td>0.0</td>\n",
       "    </tr>\n",
       "    <tr>\n",
       "      <th>max</th>\n",
       "      <td>208.000000</td>\n",
       "      <td>50.600000</td>\n",
       "      <td>13.100000</td>\n",
       "      <td>101.000000</td>\n",
       "      <td>13300.000000</td>\n",
       "      <td>26.500000</td>\n",
       "      <td>71.500000</td>\n",
       "      <td>7.490000</td>\n",
       "      <td>7280.000000</td>\n",
       "      <td>1.000000</td>\n",
       "      <td>0.0</td>\n",
       "      <td>0.0</td>\n",
       "    </tr>\n",
       "  </tbody>\n",
       "</table>\n",
       "</div>"
      ],
      "text/plain": [
       "       child_mort    exports     health     imports        income  inflation  \\\n",
       "count   44.000000  44.000000  44.000000   44.000000     44.000000  44.000000   \n",
       "mean    85.702273  25.680000   7.054545   46.004545   2934.386364   8.425795   \n",
       "std     39.232553  11.872169   2.478793   18.395525   3050.720138   6.509603   \n",
       "min     17.200000   2.200000   3.770000   17.200000    609.000000   0.885000   \n",
       "25%     62.200000  16.725000   5.152500   33.975000   1380.000000   3.412500   \n",
       "50%     82.050000  23.300000   6.395000   43.100000   1835.000000   6.600000   \n",
       "75%    109.500000  35.750000   8.512500   52.050000   3115.000000  12.150000   \n",
       "max    208.000000  50.600000  13.100000  101.000000  13300.000000  26.500000   \n",
       "\n",
       "       life_expec  total_fer         gdpp  kmean_cluster_id  \\\n",
       "count   44.000000  44.000000    44.000000         44.000000   \n",
       "mean    59.640909   4.840227  1450.863636          0.159091   \n",
       "std      7.228475   1.207351  1637.433139          0.369989   \n",
       "min     32.100000   1.270000   231.000000          0.000000   \n",
       "25%     56.450000   4.262500   551.500000          0.000000   \n",
       "50%     59.050000   5.035000   763.500000          0.000000   \n",
       "75%     64.150000   5.462500  1347.500000          0.000000   \n",
       "max     71.500000   7.490000  7280.000000          1.000000   \n",
       "\n",
       "       cluster_sin_lable  cluster_complete_lable  \n",
       "count               44.0                    44.0  \n",
       "mean                 0.0                     0.0  \n",
       "std                  0.0                     0.0  \n",
       "min                  0.0                     0.0  \n",
       "25%                  0.0                     0.0  \n",
       "50%                  0.0                     0.0  \n",
       "75%                  0.0                     0.0  \n",
       "max                  0.0                     0.0  "
      ]
     },
     "execution_count": 46,
     "metadata": {},
     "output_type": "execute_result"
    }
   ],
   "source": [
    "poor_con.describe()"
   ]
  },
  {
   "cell_type": "code",
   "execution_count": 47,
   "metadata": {},
   "outputs": [
    {
     "data": {
      "text/html": [
       "<div>\n",
       "<style scoped>\n",
       "    .dataframe tbody tr th:only-of-type {\n",
       "        vertical-align: middle;\n",
       "    }\n",
       "\n",
       "    .dataframe tbody tr th {\n",
       "        vertical-align: top;\n",
       "    }\n",
       "\n",
       "    .dataframe thead th {\n",
       "        text-align: right;\n",
       "    }\n",
       "</style>\n",
       "<table border=\"1\" class=\"dataframe\">\n",
       "  <thead>\n",
       "    <tr style=\"text-align: right;\">\n",
       "      <th></th>\n",
       "      <th>country</th>\n",
       "      <th>child_mort</th>\n",
       "      <th>exports</th>\n",
       "      <th>health</th>\n",
       "      <th>imports</th>\n",
       "      <th>income</th>\n",
       "      <th>inflation</th>\n",
       "      <th>life_expec</th>\n",
       "      <th>total_fer</th>\n",
       "      <th>gdpp</th>\n",
       "      <th>kmean_cluster_id</th>\n",
       "      <th>cluster_sin_lable</th>\n",
       "      <th>cluster_complete_lable</th>\n",
       "    </tr>\n",
       "  </thead>\n",
       "  <tbody>\n",
       "    <tr>\n",
       "      <th>25</th>\n",
       "      <td>Burkina Faso</td>\n",
       "      <td>116.0</td>\n",
       "      <td>19.2</td>\n",
       "      <td>6.74</td>\n",
       "      <td>29.6</td>\n",
       "      <td>1430</td>\n",
       "      <td>6.81</td>\n",
       "      <td>57.9</td>\n",
       "      <td>5.87</td>\n",
       "      <td>575</td>\n",
       "      <td>0</td>\n",
       "      <td>0</td>\n",
       "      <td>0</td>\n",
       "    </tr>\n",
       "    <tr>\n",
       "      <th>31</th>\n",
       "      <td>Central African Republic</td>\n",
       "      <td>149.0</td>\n",
       "      <td>11.8</td>\n",
       "      <td>3.98</td>\n",
       "      <td>26.5</td>\n",
       "      <td>888</td>\n",
       "      <td>2.01</td>\n",
       "      <td>47.5</td>\n",
       "      <td>5.21</td>\n",
       "      <td>446</td>\n",
       "      <td>0</td>\n",
       "      <td>0</td>\n",
       "      <td>0</td>\n",
       "    </tr>\n",
       "    <tr>\n",
       "      <th>37</th>\n",
       "      <td>Congo, Dem. Rep.</td>\n",
       "      <td>116.0</td>\n",
       "      <td>41.1</td>\n",
       "      <td>7.91</td>\n",
       "      <td>49.6</td>\n",
       "      <td>609</td>\n",
       "      <td>20.80</td>\n",
       "      <td>57.5</td>\n",
       "      <td>6.54</td>\n",
       "      <td>334</td>\n",
       "      <td>0</td>\n",
       "      <td>0</td>\n",
       "      <td>0</td>\n",
       "    </tr>\n",
       "    <tr>\n",
       "      <th>63</th>\n",
       "      <td>Guinea</td>\n",
       "      <td>109.0</td>\n",
       "      <td>30.3</td>\n",
       "      <td>4.93</td>\n",
       "      <td>43.2</td>\n",
       "      <td>1190</td>\n",
       "      <td>16.10</td>\n",
       "      <td>58.0</td>\n",
       "      <td>5.34</td>\n",
       "      <td>648</td>\n",
       "      <td>0</td>\n",
       "      <td>0</td>\n",
       "      <td>0</td>\n",
       "    </tr>\n",
       "    <tr>\n",
       "      <th>64</th>\n",
       "      <td>Guinea-Bissau</td>\n",
       "      <td>114.0</td>\n",
       "      <td>14.9</td>\n",
       "      <td>8.50</td>\n",
       "      <td>35.2</td>\n",
       "      <td>1390</td>\n",
       "      <td>2.97</td>\n",
       "      <td>55.6</td>\n",
       "      <td>5.05</td>\n",
       "      <td>547</td>\n",
       "      <td>0</td>\n",
       "      <td>0</td>\n",
       "      <td>0</td>\n",
       "    </tr>\n",
       "    <tr>\n",
       "      <th>106</th>\n",
       "      <td>Mozambique</td>\n",
       "      <td>101.0</td>\n",
       "      <td>31.5</td>\n",
       "      <td>5.21</td>\n",
       "      <td>46.2</td>\n",
       "      <td>918</td>\n",
       "      <td>7.64</td>\n",
       "      <td>54.5</td>\n",
       "      <td>5.56</td>\n",
       "      <td>419</td>\n",
       "      <td>0</td>\n",
       "      <td>0</td>\n",
       "      <td>0</td>\n",
       "    </tr>\n",
       "    <tr>\n",
       "      <th>112</th>\n",
       "      <td>Niger</td>\n",
       "      <td>123.0</td>\n",
       "      <td>22.2</td>\n",
       "      <td>5.16</td>\n",
       "      <td>49.1</td>\n",
       "      <td>814</td>\n",
       "      <td>2.55</td>\n",
       "      <td>58.8</td>\n",
       "      <td>7.49</td>\n",
       "      <td>348</td>\n",
       "      <td>0</td>\n",
       "      <td>0</td>\n",
       "      <td>0</td>\n",
       "    </tr>\n",
       "    <tr>\n",
       "      <th>132</th>\n",
       "      <td>Sierra Leone</td>\n",
       "      <td>160.0</td>\n",
       "      <td>16.8</td>\n",
       "      <td>13.10</td>\n",
       "      <td>34.5</td>\n",
       "      <td>1220</td>\n",
       "      <td>17.20</td>\n",
       "      <td>55.0</td>\n",
       "      <td>5.20</td>\n",
       "      <td>399</td>\n",
       "      <td>0</td>\n",
       "      <td>0</td>\n",
       "      <td>0</td>\n",
       "    </tr>\n",
       "  </tbody>\n",
       "</table>\n",
       "</div>"
      ],
      "text/plain": [
       "                      country  child_mort  exports  health  imports  income  \\\n",
       "25               Burkina Faso       116.0     19.2    6.74     29.6    1430   \n",
       "31   Central African Republic       149.0     11.8    3.98     26.5     888   \n",
       "37           Congo, Dem. Rep.       116.0     41.1    7.91     49.6     609   \n",
       "63                     Guinea       109.0     30.3    4.93     43.2    1190   \n",
       "64              Guinea-Bissau       114.0     14.9    8.50     35.2    1390   \n",
       "106                Mozambique       101.0     31.5    5.21     46.2     918   \n",
       "112                     Niger       123.0     22.2    5.16     49.1     814   \n",
       "132              Sierra Leone       160.0     16.8   13.10     34.5    1220   \n",
       "\n",
       "     inflation  life_expec  total_fer  gdpp  kmean_cluster_id  \\\n",
       "25        6.81        57.9       5.87   575                 0   \n",
       "31        2.01        47.5       5.21   446                 0   \n",
       "37       20.80        57.5       6.54   334                 0   \n",
       "63       16.10        58.0       5.34   648                 0   \n",
       "64        2.97        55.6       5.05   547                 0   \n",
       "106       7.64        54.5       5.56   419                 0   \n",
       "112       2.55        58.8       7.49   348                 0   \n",
       "132      17.20        55.0       5.20   399                 0   \n",
       "\n",
       "     cluster_sin_lable  cluster_complete_lable  \n",
       "25                   0                       0  \n",
       "31                   0                       0  \n",
       "37                   0                       0  \n",
       "63                   0                       0  \n",
       "64                   0                       0  \n",
       "106                  0                       0  \n",
       "112                  0                       0  \n",
       "132                  0                       0  "
      ]
     },
     "execution_count": 47,
     "metadata": {},
     "output_type": "execute_result"
    }
   ],
   "source": [
    "poor_con[(poor_con['income']<1500)&(poor_con['gdpp']<1000)&(poor_con['child_mort']>100)]"
   ]
  },
  {
   "cell_type": "code",
   "execution_count": 68,
   "metadata": {},
   "outputs": [],
   "source": [
    "#By choosing Kmean-clusters, lets divide the coutries into: which also help us for a better business approach \n",
    "# 1.Under-Developing\n",
    "# 2.Developing\n",
    "# 3.Developed \n",
    "\n",
    "df_ud=ct_df[(ct_df['kmean_cluster_id']==0)]\n",
    "df_dv=ct_df[(ct_df['kmean_cluster_id']==1)]\n",
    "df_d=ct_df[(ct_df['kmean_cluster_id']==2)]\n",
    "\n",
    "df_ud_pc=df_pc[(df_pc['cluster_id']==0)]\n",
    "df_dv_pc=df_pc[(df_pc['cluster_id']==1)]\n",
    "df_d_pc=df_pc[(df_pc['cluster_id']==2)]"
   ]
  },
  {
   "cell_type": "code",
   "execution_count": 69,
   "metadata": {},
   "outputs": [
    {
     "data": {
      "image/png": "[encoded data removed]",
      "text/plain": [
       "<Figure size 720x576 with 1 Axes>"
      ]
     },
     "metadata": {
      "needs_background": "light"
     },
     "output_type": "display_data"
    }
   ],
   "source": [
    "#Scatter plot between GDP and Child Mortality across the clusters\n",
    "plt.figure(figsize=(10,8))\n",
    "plt.scatter(df_ud['gdpp'],df_ud['child_mort'])\n",
    "plt.scatter(df_dv['gdpp'],df_dv['child_mort'])\n",
    "plt.scatter(df_d['gdpp'],df_d['child_mort'])\n",
    "plt.xlabel('GDPP')\n",
    "plt.ylabel('CHILD MORTALITY')\n",
    "plt.legend(['Under-Developed','Developing','Developed'])\n",
    "plt.show()"
   ]
  },
  {
   "cell_type": "code",
   "execution_count": 73,
   "metadata": {},
   "outputs": [
    {
     "data": {
      "image/png": "[encoded data removed]",
      "text/plain": [
       "<Figure size 720x576 with 1 Axes>"
      ]
     },
     "metadata": {
      "needs_background": "light"
     },
     "output_type": "display_data"
    }
   ],
   "source": [
    "#Scatter plot between PC1 and PC2 across the clusters\n",
    "plt.figure(figsize=(10,8))\n",
    "plt.scatter(df_ud_pc['PC1'],df_ud_pc['PC2'])\n",
    "plt.scatter(df_dv_pc['PC1'],df_dv_pc['PC2'])\n",
    "plt.scatter(df_d_pc['PC1'],df_d_pc['PC2'])\n",
    "plt.xlabel('PC1')\n",
    "plt.ylabel('PC2')\n",
    "plt.legend(['Under-Developed','Developing','Developed'])\n",
    "plt.show()"
   ]
  },
  {
   "cell_type": "code",
   "execution_count": 74,
   "metadata": {},
   "outputs": [
    {
     "data": {
      "text/html": [
       "<div>\n",
       "<style scoped>\n",
       "    .dataframe tbody tr th:only-of-type {\n",
       "        vertical-align: middle;\n",
       "    }\n",
       "\n",
       "    .dataframe tbody tr th {\n",
       "        vertical-align: top;\n",
       "    }\n",
       "\n",
       "    .dataframe thead th {\n",
       "        text-align: right;\n",
       "    }\n",
       "</style>\n",
       "<table border=\"1\" class=\"dataframe\">\n",
       "  <thead>\n",
       "    <tr style=\"text-align: right;\">\n",
       "      <th></th>\n",
       "      <th>income</th>\n",
       "      <th>gdpp</th>\n",
       "      <th>child_mort</th>\n",
       "      <th>health</th>\n",
       "    </tr>\n",
       "  </thead>\n",
       "  <tbody>\n",
       "    <tr>\n",
       "      <th>count</th>\n",
       "      <td>46.000000</td>\n",
       "      <td>46.000000</td>\n",
       "      <td>46.000000</td>\n",
       "      <td>46.000000</td>\n",
       "    </tr>\n",
       "    <tr>\n",
       "      <th>mean</th>\n",
       "      <td>3543.760870</td>\n",
       "      <td>1749.782609</td>\n",
       "      <td>94.439130</td>\n",
       "      <td>6.206957</td>\n",
       "    </tr>\n",
       "    <tr>\n",
       "      <th>std</th>\n",
       "      <td>5359.622604</td>\n",
       "      <td>2887.629200</td>\n",
       "      <td>32.377966</td>\n",
       "      <td>2.733487</td>\n",
       "    </tr>\n",
       "    <tr>\n",
       "      <th>min</th>\n",
       "      <td>609.000000</td>\n",
       "      <td>231.000000</td>\n",
       "      <td>53.700000</td>\n",
       "      <td>1.970000</td>\n",
       "    </tr>\n",
       "    <tr>\n",
       "      <th>25%</th>\n",
       "      <td>1390.000000</td>\n",
       "      <td>548.500000</td>\n",
       "      <td>65.000000</td>\n",
       "      <td>4.487500</td>\n",
       "    </tr>\n",
       "    <tr>\n",
       "      <th>50%</th>\n",
       "      <td>1860.000000</td>\n",
       "      <td>833.000000</td>\n",
       "      <td>90.250000</td>\n",
       "      <td>5.260000</td>\n",
       "    </tr>\n",
       "    <tr>\n",
       "      <th>75%</th>\n",
       "      <td>3357.500000</td>\n",
       "      <td>1310.000000</td>\n",
       "      <td>111.000000</td>\n",
       "      <td>7.632500</td>\n",
       "    </tr>\n",
       "    <tr>\n",
       "      <th>max</th>\n",
       "      <td>33700.000000</td>\n",
       "      <td>17100.000000</td>\n",
       "      <td>208.000000</td>\n",
       "      <td>13.100000</td>\n",
       "    </tr>\n",
       "  </tbody>\n",
       "</table>\n",
       "</div>"
      ],
      "text/plain": [
       "             income          gdpp  child_mort     health\n",
       "count     46.000000     46.000000   46.000000  46.000000\n",
       "mean    3543.760870   1749.782609   94.439130   6.206957\n",
       "std     5359.622604   2887.629200   32.377966   2.733487\n",
       "min      609.000000    231.000000   53.700000   1.970000\n",
       "25%     1390.000000    548.500000   65.000000   4.487500\n",
       "50%     1860.000000    833.000000   90.250000   5.260000\n",
       "75%     3357.500000   1310.000000  111.000000   7.632500\n",
       "max    33700.000000  17100.000000  208.000000  13.100000"
      ]
     },
     "execution_count": 74,
     "metadata": {},
     "output_type": "execute_result"
    }
   ],
   "source": [
    "#Lets look at the countries that needs aid immediately in under-developed countries\n",
    "criteria=['income','gdpp','child_mort','health']\n",
    "df_ud[criteria].describe()"
   ]
  },
  {
   "cell_type": "code",
   "execution_count": 75,
   "metadata": {},
   "outputs": [
    {
     "data": {
      "text/plain": [
       "(14, 13)"
      ]
     },
     "execution_count": 75,
     "metadata": {},
     "output_type": "execute_result"
    }
   ],
   "source": [
    "#coutries that need aid\n",
    "con_aid=df_ud[(df_ud['child_mort']>100)&(df_ud['income']<3540)&(df_ud['gdpp']<1749)]\n",
    "con_aid.shape"
   ]
  },
  {
   "cell_type": "code",
   "execution_count": 88,
   "metadata": {},
   "outputs": [
    {
     "data": {
      "text/html": [
       "<div>\n",
       "<style scoped>\n",
       "    .dataframe tbody tr th:only-of-type {\n",
       "        vertical-align: middle;\n",
       "    }\n",
       "\n",
       "    .dataframe tbody tr th {\n",
       "        vertical-align: top;\n",
       "    }\n",
       "\n",
       "    .dataframe thead th {\n",
       "        text-align: right;\n",
       "    }\n",
       "</style>\n",
       "<table border=\"1\" class=\"dataframe\">\n",
       "  <thead>\n",
       "    <tr style=\"text-align: right;\">\n",
       "      <th></th>\n",
       "      <th>income</th>\n",
       "      <th>gdpp</th>\n",
       "      <th>child_mort</th>\n",
       "      <th>health</th>\n",
       "      <th>country</th>\n",
       "    </tr>\n",
       "  </thead>\n",
       "  <tbody>\n",
       "    <tr>\n",
       "      <th>37</th>\n",
       "      <td>609</td>\n",
       "      <td>334</td>\n",
       "      <td>116.0</td>\n",
       "      <td>7.91</td>\n",
       "      <td>Congo, Dem. Rep.</td>\n",
       "    </tr>\n",
       "    <tr>\n",
       "      <th>112</th>\n",
       "      <td>814</td>\n",
       "      <td>348</td>\n",
       "      <td>123.0</td>\n",
       "      <td>5.16</td>\n",
       "      <td>Niger</td>\n",
       "    </tr>\n",
       "    <tr>\n",
       "      <th>31</th>\n",
       "      <td>888</td>\n",
       "      <td>446</td>\n",
       "      <td>149.0</td>\n",
       "      <td>3.98</td>\n",
       "      <td>Central African Republic</td>\n",
       "    </tr>\n",
       "    <tr>\n",
       "      <th>106</th>\n",
       "      <td>918</td>\n",
       "      <td>419</td>\n",
       "      <td>101.0</td>\n",
       "      <td>5.21</td>\n",
       "      <td>Mozambique</td>\n",
       "    </tr>\n",
       "    <tr>\n",
       "      <th>63</th>\n",
       "      <td>1190</td>\n",
       "      <td>648</td>\n",
       "      <td>109.0</td>\n",
       "      <td>4.93</td>\n",
       "      <td>Guinea</td>\n",
       "    </tr>\n",
       "    <tr>\n",
       "      <th>132</th>\n",
       "      <td>1220</td>\n",
       "      <td>399</td>\n",
       "      <td>160.0</td>\n",
       "      <td>13.10</td>\n",
       "      <td>Sierra Leone</td>\n",
       "    </tr>\n",
       "    <tr>\n",
       "      <th>64</th>\n",
       "      <td>1390</td>\n",
       "      <td>547</td>\n",
       "      <td>114.0</td>\n",
       "      <td>8.50</td>\n",
       "      <td>Guinea-Bissau</td>\n",
       "    </tr>\n",
       "    <tr>\n",
       "      <th>25</th>\n",
       "      <td>1430</td>\n",
       "      <td>575</td>\n",
       "      <td>116.0</td>\n",
       "      <td>6.74</td>\n",
       "      <td>Burkina Faso</td>\n",
       "    </tr>\n",
       "    <tr>\n",
       "      <th>66</th>\n",
       "      <td>1500</td>\n",
       "      <td>662</td>\n",
       "      <td>208.0</td>\n",
       "      <td>6.91</td>\n",
       "      <td>Haiti</td>\n",
       "    </tr>\n",
       "    <tr>\n",
       "      <th>17</th>\n",
       "      <td>1820</td>\n",
       "      <td>758</td>\n",
       "      <td>111.0</td>\n",
       "      <td>4.10</td>\n",
       "      <td>Benin</td>\n",
       "    </tr>\n",
       "    <tr>\n",
       "      <th>97</th>\n",
       "      <td>1870</td>\n",
       "      <td>708</td>\n",
       "      <td>137.0</td>\n",
       "      <td>4.98</td>\n",
       "      <td>Mali</td>\n",
       "    </tr>\n",
       "    <tr>\n",
       "      <th>32</th>\n",
       "      <td>1930</td>\n",
       "      <td>897</td>\n",
       "      <td>150.0</td>\n",
       "      <td>4.53</td>\n",
       "      <td>Chad</td>\n",
       "    </tr>\n",
       "    <tr>\n",
       "      <th>28</th>\n",
       "      <td>2660</td>\n",
       "      <td>1310</td>\n",
       "      <td>108.0</td>\n",
       "      <td>5.13</td>\n",
       "      <td>Cameroon</td>\n",
       "    </tr>\n",
       "    <tr>\n",
       "      <th>40</th>\n",
       "      <td>2690</td>\n",
       "      <td>1220</td>\n",
       "      <td>111.0</td>\n",
       "      <td>5.30</td>\n",
       "      <td>Cote d'Ivoire</td>\n",
       "    </tr>\n",
       "  </tbody>\n",
       "</table>\n",
       "</div>"
      ],
      "text/plain": [
       "     income  gdpp  child_mort  health                   country\n",
       "37      609   334       116.0    7.91          Congo, Dem. Rep.\n",
       "112     814   348       123.0    5.16                     Niger\n",
       "31      888   446       149.0    3.98  Central African Republic\n",
       "106     918   419       101.0    5.21                Mozambique\n",
       "63     1190   648       109.0    4.93                    Guinea\n",
       "132    1220   399       160.0   13.10              Sierra Leone\n",
       "64     1390   547       114.0    8.50             Guinea-Bissau\n",
       "25     1430   575       116.0    6.74              Burkina Faso\n",
       "66     1500   662       208.0    6.91                     Haiti\n",
       "17     1820   758       111.0    4.10                     Benin\n",
       "97     1870   708       137.0    4.98                      Mali\n",
       "32     1930   897       150.0    4.53                      Chad\n",
       "28     2660  1310       108.0    5.13                  Cameroon\n",
       "40     2690  1220       111.0    5.30             Cote d'Ivoire"
      ]
     },
     "execution_count": 88,
     "metadata": {},
     "output_type": "execute_result"
    }
   ],
   "source": [
    "df_fin=con_aid[criteria+['country']].sort_values(by=['income','gdpp'],ascending=True)\n",
    "df_fin"
   ]
  },
  {
   "cell_type": "code",
   "execution_count": 87,
   "metadata": {},
   "outputs": [
    {
     "data": {
      "text/plain": [
       "37             Congo, Dem. Rep.\n",
       "112                       Niger\n",
       "31     Central African Republic\n",
       "106                  Mozambique\n",
       "63                       Guinea\n",
       "Name: country, dtype: object"
      ]
     },
     "execution_count": 87,
     "metadata": {},
     "output_type": "execute_result"
    }
   ],
   "source": [
    "df_fin['country'][:5]"
   ]
  },
  {
   "cell_type": "code",
   "execution_count": 83,
   "metadata": {
    "scrolled": true
   },
   "outputs": [
    {
     "data": {
      "text/plain": [
       "['Congo, Dem. Rep.',\n",
       " 'Niger',\n",
       " 'Central African Republic',\n",
       " 'Mozambique',\n",
       " 'Guinea',\n",
       " 'Haiti',\n",
       " 'Chad']"
      ]
     },
     "execution_count": 83,
     "metadata": {},
     "output_type": "execute_result"
    }
   ],
   "source": [
    "#Countries That will be reciving the aid in PHASE-1\n",
    "#There two more countries that have very high child Mortality rate and low life expectancy \n",
    "#that need aid from our organisation\n",
    "list_con=['Congo, Dem. Rep.','Niger','Central African Republic','Mozambique','Guinea','Haiti','Chad']\n",
    "list_con"
   ]
  },
  {
   "cell_type": "code",
   "execution_count": null,
   "metadata": {},
   "outputs": [],
   "source": []
  }
 ],
 "metadata": {
  "kernelspec": {
   "display_name": "Python 3",
   "language": "python",
   "name": "python3"
  },
  "language_info": {
   "codemirror_mode": {
    "name": "ipython",
    "version": 3
   },
   "file_extension": ".py",
   "mimetype": "text/x-python",
   "name": "python",
   "nbconvert_exporter": "python",
   "pygments_lexer": "ipython3",
   "version": "3.7.1"
  }
 },
 "nbformat": 4,
 "nbformat_minor": 2
}
