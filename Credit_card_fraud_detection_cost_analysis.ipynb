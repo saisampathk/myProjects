{
 "cells": [
  {
   "cell_type": "markdown",
   "metadata": {
    "colab_type": "text",
    "id": "ZQulMfajaDfB"
   },
   "source": [
    "## Credit Card Fraud Detection\n",
    "\n",
    "In this project you will predict fraudulent credit card transactions with the help of Machine learning models. Please import the following libraries to get started."
   ]
  },
  {
   "cell_type": "code",
   "execution_count": 10,
   "metadata": {
    "colab": {},
    "colab_type": "code",
    "id": "Uqf6NY6YaDfJ",
    "scrolled": false
   },
   "outputs": [],
   "source": [
    "import numpy as np\n",
    "import pandas as pd\n",
    "\n",
    "import matplotlib.pyplot as plt\n",
    "%matplotlib inline\n",
    "import seaborn as sns\n",
    "\n",
    "from sklearn import metrics\n",
    "from sklearn import preprocessing\n",
    "\n",
    "# To ignore warnings\n",
    "import warnings\n",
    "warnings.filterwarnings(\"ignore\")"
   ]
  },
  {
   "cell_type": "markdown",
   "metadata": {
    "colab_type": "text",
    "id": "4mspjZ4_aDfb"
   },
   "source": [
    "## Exploratory data analysis"
   ]
  },
  {
   "cell_type": "code",
   "execution_count": 11,
   "metadata": {
    "colab": {
     "base_uri": "https://localhost:8080/",
     "height": 222
    },
    "colab_type": "code",
    "executionInfo": {
     "elapsed": 3139,
     "status": "ok",
     "timestamp": 1589147609969,
     "user": {
      "displayName": "Vinaykumar Uppala",
      "photoUrl": "",
      "userId": "04118229899259509988"
     },
     "user_tz": -330
    },
    "id": "nlAP0FYGaDfe",
    "outputId": "f262b246-bf29-46a3-ed7d-3c19eaa6c57b"
   },
   "outputs": [
    {
     "data": {
      "text/html": [
       "<div>\n",
       "<style scoped>\n",
       "    .dataframe tbody tr th:only-of-type {\n",
       "        vertical-align: middle;\n",
       "    }\n",
       "\n",
       "    .dataframe tbody tr th {\n",
       "        vertical-align: top;\n",
       "    }\n",
       "\n",
       "    .dataframe thead th {\n",
       "        text-align: right;\n",
       "    }\n",
       "</style>\n",
       "<table border=\"1\" class=\"dataframe\">\n",
       "  <thead>\n",
       "    <tr style=\"text-align: right;\">\n",
       "      <th></th>\n",
       "      <th>Time</th>\n",
       "      <th>V1</th>\n",
       "      <th>V2</th>\n",
       "      <th>V3</th>\n",
       "      <th>V4</th>\n",
       "      <th>V5</th>\n",
       "      <th>V6</th>\n",
       "      <th>V7</th>\n",
       "      <th>V8</th>\n",
       "      <th>V9</th>\n",
       "      <th>...</th>\n",
       "      <th>V21</th>\n",
       "      <th>V22</th>\n",
       "      <th>V23</th>\n",
       "      <th>V24</th>\n",
       "      <th>V25</th>\n",
       "      <th>V26</th>\n",
       "      <th>V27</th>\n",
       "      <th>V28</th>\n",
       "      <th>Amount</th>\n",
       "      <th>Class</th>\n",
       "    </tr>\n",
       "  </thead>\n",
       "  <tbody>\n",
       "    <tr>\n",
       "      <th>0</th>\n",
       "      <td>0.0</td>\n",
       "      <td>-1.359807</td>\n",
       "      <td>-0.072781</td>\n",
       "      <td>2.536347</td>\n",
       "      <td>1.378155</td>\n",
       "      <td>-0.338321</td>\n",
       "      <td>0.462388</td>\n",
       "      <td>0.239599</td>\n",
       "      <td>0.098698</td>\n",
       "      <td>0.363787</td>\n",
       "      <td>...</td>\n",
       "      <td>-0.018307</td>\n",
       "      <td>0.277838</td>\n",
       "      <td>-0.110474</td>\n",
       "      <td>0.066928</td>\n",
       "      <td>0.128539</td>\n",
       "      <td>-0.189115</td>\n",
       "      <td>0.133558</td>\n",
       "      <td>-0.021053</td>\n",
       "      <td>149.62</td>\n",
       "      <td>0</td>\n",
       "    </tr>\n",
       "    <tr>\n",
       "      <th>1</th>\n",
       "      <td>0.0</td>\n",
       "      <td>1.191857</td>\n",
       "      <td>0.266151</td>\n",
       "      <td>0.166480</td>\n",
       "      <td>0.448154</td>\n",
       "      <td>0.060018</td>\n",
       "      <td>-0.082361</td>\n",
       "      <td>-0.078803</td>\n",
       "      <td>0.085102</td>\n",
       "      <td>-0.255425</td>\n",
       "      <td>...</td>\n",
       "      <td>-0.225775</td>\n",
       "      <td>-0.638672</td>\n",
       "      <td>0.101288</td>\n",
       "      <td>-0.339846</td>\n",
       "      <td>0.167170</td>\n",
       "      <td>0.125895</td>\n",
       "      <td>-0.008983</td>\n",
       "      <td>0.014724</td>\n",
       "      <td>2.69</td>\n",
       "      <td>0</td>\n",
       "    </tr>\n",
       "    <tr>\n",
       "      <th>2</th>\n",
       "      <td>1.0</td>\n",
       "      <td>-1.358354</td>\n",
       "      <td>-1.340163</td>\n",
       "      <td>1.773209</td>\n",
       "      <td>0.379780</td>\n",
       "      <td>-0.503198</td>\n",
       "      <td>1.800499</td>\n",
       "      <td>0.791461</td>\n",
       "      <td>0.247676</td>\n",
       "      <td>-1.514654</td>\n",
       "      <td>...</td>\n",
       "      <td>0.247998</td>\n",
       "      <td>0.771679</td>\n",
       "      <td>0.909412</td>\n",
       "      <td>-0.689281</td>\n",
       "      <td>-0.327642</td>\n",
       "      <td>-0.139097</td>\n",
       "      <td>-0.055353</td>\n",
       "      <td>-0.059752</td>\n",
       "      <td>378.66</td>\n",
       "      <td>0</td>\n",
       "    </tr>\n",
       "    <tr>\n",
       "      <th>3</th>\n",
       "      <td>1.0</td>\n",
       "      <td>-0.966272</td>\n",
       "      <td>-0.185226</td>\n",
       "      <td>1.792993</td>\n",
       "      <td>-0.863291</td>\n",
       "      <td>-0.010309</td>\n",
       "      <td>1.247203</td>\n",
       "      <td>0.237609</td>\n",
       "      <td>0.377436</td>\n",
       "      <td>-1.387024</td>\n",
       "      <td>...</td>\n",
       "      <td>-0.108300</td>\n",
       "      <td>0.005274</td>\n",
       "      <td>-0.190321</td>\n",
       "      <td>-1.175575</td>\n",
       "      <td>0.647376</td>\n",
       "      <td>-0.221929</td>\n",
       "      <td>0.062723</td>\n",
       "      <td>0.061458</td>\n",
       "      <td>123.50</td>\n",
       "      <td>0</td>\n",
       "    </tr>\n",
       "    <tr>\n",
       "      <th>4</th>\n",
       "      <td>2.0</td>\n",
       "      <td>-1.158233</td>\n",
       "      <td>0.877737</td>\n",
       "      <td>1.548718</td>\n",
       "      <td>0.403034</td>\n",
       "      <td>-0.407193</td>\n",
       "      <td>0.095921</td>\n",
       "      <td>0.592941</td>\n",
       "      <td>-0.270533</td>\n",
       "      <td>0.817739</td>\n",
       "      <td>...</td>\n",
       "      <td>-0.009431</td>\n",
       "      <td>0.798278</td>\n",
       "      <td>-0.137458</td>\n",
       "      <td>0.141267</td>\n",
       "      <td>-0.206010</td>\n",
       "      <td>0.502292</td>\n",
       "      <td>0.219422</td>\n",
       "      <td>0.215153</td>\n",
       "      <td>69.99</td>\n",
       "      <td>0</td>\n",
       "    </tr>\n",
       "  </tbody>\n",
       "</table>\n",
       "<p>5 rows × 31 columns</p>\n",
       "</div>"
      ],
      "text/plain": [
       "   Time        V1        V2        V3        V4        V5        V6        V7  \\\n",
       "0   0.0 -1.359807 -0.072781  2.536347  1.378155 -0.338321  0.462388  0.239599   \n",
       "1   0.0  1.191857  0.266151  0.166480  0.448154  0.060018 -0.082361 -0.078803   \n",
       "2   1.0 -1.358354 -1.340163  1.773209  0.379780 -0.503198  1.800499  0.791461   \n",
       "3   1.0 -0.966272 -0.185226  1.792993 -0.863291 -0.010309  1.247203  0.237609   \n",
       "4   2.0 -1.158233  0.877737  1.548718  0.403034 -0.407193  0.095921  0.592941   \n",
       "\n",
       "         V8        V9  ...       V21       V22       V23       V24       V25  \\\n",
       "0  0.098698  0.363787  ... -0.018307  0.277838 -0.110474  0.066928  0.128539   \n",
       "1  0.085102 -0.255425  ... -0.225775 -0.638672  0.101288 -0.339846  0.167170   \n",
       "2  0.247676 -1.514654  ...  0.247998  0.771679  0.909412 -0.689281 -0.327642   \n",
       "3  0.377436 -1.387024  ... -0.108300  0.005274 -0.190321 -1.175575  0.647376   \n",
       "4 -0.270533  0.817739  ... -0.009431  0.798278 -0.137458  0.141267 -0.206010   \n",
       "\n",
       "        V26       V27       V28  Amount  Class  \n",
       "0 -0.189115  0.133558 -0.021053  149.62      0  \n",
       "1  0.125895 -0.008983  0.014724    2.69      0  \n",
       "2 -0.139097 -0.055353 -0.059752  378.66      0  \n",
       "3 -0.221929  0.062723  0.061458  123.50      0  \n",
       "4  0.502292  0.219422  0.215153   69.99      0  \n",
       "\n",
       "[5 rows x 31 columns]"
      ]
     },
     "execution_count": 11,
     "metadata": {},
     "output_type": "execute_result"
    }
   ],
   "source": [
    "#Loading the data set\n",
    "df_frd = pd.read_csv('creditcard.csv')\n",
    "df_frd.head()"
   ]
  },
  {
   "cell_type": "code",
   "execution_count": 12,
   "metadata": {
    "colab": {
     "base_uri": "https://localhost:8080/",
     "height": 676
    },
    "colab_type": "code",
    "executionInfo": {
     "elapsed": 1108,
     "status": "ok",
     "timestamp": 1589139476538,
     "user": {
      "displayName": "Vinaykumar Uppala",
      "photoUrl": "",
      "userId": "04118229899259509988"
     },
     "user_tz": -330
    },
    "id": "5FVYy-2oaDft",
    "outputId": "e2f8342c-d5bf-4958-fc23-00fd3f65bf19"
   },
   "outputs": [
    {
     "name": "stdout",
     "output_type": "stream",
     "text": [
      "<class 'pandas.core.frame.DataFrame'>\n",
      "RangeIndex: 284807 entries, 0 to 284806\n",
      "Data columns (total 31 columns):\n",
      " #   Column  Non-Null Count   Dtype  \n",
      "---  ------  --------------   -----  \n",
      " 0   Time    284807 non-null  float64\n",
      " 1   V1      284807 non-null  float64\n",
      " 2   V2      284807 non-null  float64\n",
      " 3   V3      284807 non-null  float64\n",
      " 4   V4      284807 non-null  float64\n",
      " 5   V5      284807 non-null  float64\n",
      " 6   V6      284807 non-null  float64\n",
      " 7   V7      284807 non-null  float64\n",
      " 8   V8      284807 non-null  float64\n",
      " 9   V9      284807 non-null  float64\n",
      " 10  V10     284807 non-null  float64\n",
      " 11  V11     284807 non-null  float64\n",
      " 12  V12     284807 non-null  float64\n",
      " 13  V13     284807 non-null  float64\n",
      " 14  V14     284807 non-null  float64\n",
      " 15  V15     284807 non-null  float64\n",
      " 16  V16     284807 non-null  float64\n",
      " 17  V17     284807 non-null  float64\n",
      " 18  V18     284807 non-null  float64\n",
      " 19  V19     284807 non-null  float64\n",
      " 20  V20     284807 non-null  float64\n",
      " 21  V21     284807 non-null  float64\n",
      " 22  V22     284807 non-null  float64\n",
      " 23  V23     284807 non-null  float64\n",
      " 24  V24     284807 non-null  float64\n",
      " 25  V25     284807 non-null  float64\n",
      " 26  V26     284807 non-null  float64\n",
      " 27  V27     284807 non-null  float64\n",
      " 28  V28     284807 non-null  float64\n",
      " 29  Amount  284807 non-null  float64\n",
      " 30  Class   284807 non-null  int64  \n",
      "dtypes: float64(30), int64(1)\n",
      "memory usage: 67.4 MB\n"
     ]
    }
   ],
   "source": [
    "#observe the different feature type present in the data\n",
    "df_frd.info()\n"
   ]
  },
  {
   "cell_type": "markdown",
   "metadata": {
    "colab_type": "text",
    "id": "wh_phH6EaDf8"
   },
   "source": [
    "#### Here we will observe the distribution of our classes"
   ]
  },
  {
   "cell_type": "code",
   "execution_count": 13,
   "metadata": {
    "colab": {
     "base_uri": "https://localhost:8080/",
     "height": 87
    },
    "colab_type": "code",
    "executionInfo": {
     "elapsed": 1140,
     "status": "ok",
     "timestamp": 1589139594368,
     "user": {
      "displayName": "Vinaykumar Uppala",
      "photoUrl": "",
      "userId": "04118229899259509988"
     },
     "user_tz": -330
    },
    "id": "z5WVgG6BaDgB",
    "outputId": "d79ab75b-64f5-4afe-f42a-c42e7d639c49"
   },
   "outputs": [
    {
     "name": "stdout",
     "output_type": "stream",
     "text": [
      "0    284315\n",
      "1       492\n",
      "Name: Class, dtype: int64\n",
      "normal_share= 99.82725143693798 fraud_share= 0.1727485630620034\n"
     ]
    }
   ],
   "source": [
    "classes=df_frd['Class'].value_counts()\n",
    "normal_share=classes[0]/df_frd['Class'].count()*100\n",
    "fraud_share=classes[1]/df_frd['Class'].count()*100\n",
    "print(classes)\n",
    "print('normal_share=',normal_share,'fraud_share=',fraud_share)"
   ]
  },
  {
   "cell_type": "code",
   "execution_count": 14,
   "metadata": {},
   "outputs": [
    {
     "data": {
      "image/png": "[encoded data removed]",
      "text/plain": [
       "<Figure size 432x288 with 1 Axes>"
      ]
     },
     "metadata": {
      "needs_background": "light"
     },
     "output_type": "display_data"
    }
   ],
   "source": [
    "df_frd['Class'].value_counts().plot(kind='bar')\n",
    "plt.yscale('log')"
   ]
  },
  {
   "cell_type": "code",
   "execution_count": 15,
   "metadata": {
    "colab": {
     "base_uri": "https://localhost:8080/",
     "height": 283
    },
    "colab_type": "code",
    "executionInfo": {
     "elapsed": 2719,
     "status": "ok",
     "timestamp": 1589139881484,
     "user": {
      "displayName": "Vinaykumar Uppala",
      "photoUrl": "",
      "userId": "04118229899259509988"
     },
     "user_tz": -330
    },
    "id": "Is5EQ5nhaDgb",
    "outputId": "a65f963a-56a4-4a18-cd7a-e12aa2aba6ae"
   },
   "outputs": [
    {
     "data": {
      "text/plain": [
       "<matplotlib.collections.PathCollection at 0x7f1a6e028a58>"
      ]
     },
     "execution_count": 15,
     "metadata": {},
     "output_type": "execute_result"
    },
    {
     "data": {
      "image/png": "[encoded data removed]",
      "text/plain": [
       "<Figure size 432x288 with 1 Axes>"
      ]
     },
     "metadata": {
      "needs_background": "light"
     },
     "output_type": "display_data"
    }
   ],
   "source": [
    "# Create a scatter plot to observe the distribution of classes with time\n",
    "plt.scatter(x=df_frd['Time'],y=df_frd['Class'])"
   ]
  },
  {
   "cell_type": "code",
   "execution_count": 16,
   "metadata": {
    "colab": {
     "base_uri": "https://localhost:8080/",
     "height": 283
    },
    "colab_type": "code",
    "executionInfo": {
     "elapsed": 2306,
     "status": "ok",
     "timestamp": 1589139922156,
     "user": {
      "displayName": "Vinaykumar Uppala",
      "photoUrl": "",
      "userId": "04118229899259509988"
     },
     "user_tz": -330
    },
    "id": "zFetijGraDgw",
    "outputId": "99e12ccf-2abc-454a-fd63-7693c09140f3"
   },
   "outputs": [
    {
     "data": {
      "text/plain": [
       "<matplotlib.collections.PathCollection at 0x7f1a6e70c898>"
      ]
     },
     "execution_count": 16,
     "metadata": {},
     "output_type": "execute_result"
    },
    {
     "data": {
      "image/png": "[encoded data removed]",
      "text/plain": [
       "<Figure size 432x288 with 1 Axes>"
      ]
     },
     "metadata": {
      "needs_background": "light"
     },
     "output_type": "display_data"
    }
   ],
   "source": [
    "# Create a scatter plot to observe the distribution of classes with Amount\n",
    "plt.scatter(x=df_frd['Amount'],y=df_frd['Class'])"
   ]
  },
  {
   "cell_type": "code",
   "execution_count": 17,
   "metadata": {
    "colab": {},
    "colab_type": "code",
    "id": "BeSh4OGfaDhF"
   },
   "outputs": [],
   "source": [
    "# Drop unnecessary columns"
   ]
  },
  {
   "cell_type": "markdown",
   "metadata": {
    "colab_type": "text",
    "id": "6iHwEN77aDhV"
   },
   "source": [
    "### Splitting the data into train & test data"
   ]
  },
  {
   "cell_type": "code",
   "execution_count": 18,
   "metadata": {
    "colab": {},
    "colab_type": "code",
    "id": "Drx75XUcaDhY"
   },
   "outputs": [],
   "source": [
    "y= df_frd['Class'] #class variable\n",
    "x_var=[k for k in df_frd.columns if k!='Class']"
   ]
  },
  {
   "cell_type": "code",
   "execution_count": 19,
   "metadata": {
    "colab": {},
    "colab_type": "code",
    "id": "Uzx_Z4nIaDho"
   },
   "outputs": [],
   "source": [
    "from sklearn import model_selection\n",
    "from sklearn.model_selection import train_test_split\n",
    "X_train, X_test, y_train, y_test = train_test_split(df_frd[x_var], df_frd['Class'],\n",
    "                                                    stratify=df_frd['Class'],test_size=0.3,\n",
    "                                                    random_state=48)"
   ]
  },
  {
   "cell_type": "markdown",
   "metadata": {
    "colab_type": "text",
    "id": "V_1T7yiKaDh0"
   },
   "source": [
    "##### Preserve X_test & y_test to evaluate on the test data once you build the model"
   ]
  },
  {
   "cell_type": "code",
   "execution_count": 20,
   "metadata": {
    "colab": {
     "base_uri": "https://localhost:8080/",
     "height": 69
    },
    "colab_type": "code",
    "executionInfo": {
     "elapsed": 1093,
     "status": "ok",
     "timestamp": 1589140037034,
     "user": {
      "displayName": "Vinaykumar Uppala",
      "photoUrl": "",
      "userId": "04118229899259509988"
     },
     "user_tz": -330
    },
    "id": "mfaP4BjNaDh2",
    "outputId": "61e27994-2d55-40f7-c0c0-640b83b3f37b"
   },
   "outputs": [
    {
     "name": "stdout",
     "output_type": "stream",
     "text": [
      "492\n",
      "344\n",
      "148\n"
     ]
    }
   ],
   "source": [
    "print(np.sum(y))\n",
    "print(np.sum(y_train))\n",
    "print(np.sum(y_test))"
   ]
  },
  {
   "cell_type": "markdown",
   "metadata": {
    "colab_type": "text",
    "id": "w-Oc_8BpaDiJ"
   },
   "source": [
    "### Plotting the distribution of a variable"
   ]
  },
  {
   "cell_type": "code",
   "execution_count": 21,
   "metadata": {
    "colab": {
     "base_uri": "https://localhost:8080/",
     "height": 615
    },
    "colab_type": "code",
    "executionInfo": {
     "elapsed": 4985,
     "status": "ok",
     "timestamp": 1589140065795,
     "user": {
      "displayName": "Vinaykumar Uppala",
      "photoUrl": "",
      "userId": "04118229899259509988"
     },
     "user_tz": -330
    },
    "id": "LDdJLkeNaDiN",
    "outputId": "5648da2f-3bca-48aa-feff-1a7d85adaa1b"
   },
   "outputs": [
    {
     "data": {
      "image/png": "[encoded data removed]",
      "text/plain": [
       "<Figure size 1080x864 with 9 Axes>"
      ]
     },
     "metadata": {
      "needs_background": "light"
     },
     "output_type": "display_data"
    }
   ],
   "source": [
    "# plot the histogram of a variable from the dataset to see the skewness\n",
    "plt.figure(figsize=(15,12))\n",
    "for i in range(9):\n",
    "    plt.subplot(3,3,i+1)\n",
    "    df_frd[df_frd.columns[i]].plot(kind='hist')\n",
    "    plt.title(df_frd.columns[i])\n",
    "    plt.yscale('log')\n",
    "plt.show()\n"
   ]
  },
  {
   "cell_type": "code",
   "execution_count": 22,
   "metadata": {
    "colab": {
     "base_uri": "https://localhost:8080/",
     "height": 615
    },
    "colab_type": "code",
    "executionInfo": {
     "elapsed": 4811,
     "status": "ok",
     "timestamp": 1589140145878,
     "user": {
      "displayName": "Vinaykumar Uppala",
      "photoUrl": "",
      "userId": "04118229899259509988"
     },
     "user_tz": -330
    },
    "id": "oNA5wn1vDkPR",
    "outputId": "cdbfe33d-5eab-45db-fa19-b2bb87b7c181"
   },
   "outputs": [
    {
     "data": {
      "image/png": "[encoded data removed]",
      "text/plain": [
       "<Figure size 1080x864 with 9 Axes>"
      ]
     },
     "metadata": {
      "needs_background": "light"
     },
     "output_type": "display_data"
    }
   ],
   "source": [
    "plt.figure(figsize=(15,12))\n",
    "for i in range(9):\n",
    "    plt.subplot(3,3,i+1)\n",
    "    df_frd[df_frd.columns[i]].plot(kind='hist')\n",
    "    plt.title(df_frd.columns[i+9])\n",
    "    plt.yscale('log')\n",
    "plt.show()\n"
   ]
  },
  {
   "cell_type": "code",
   "execution_count": 23,
   "metadata": {
    "colab": {
     "base_uri": "https://localhost:8080/",
     "height": 615
    },
    "colab_type": "code",
    "executionInfo": {
     "elapsed": 4950,
     "status": "ok",
     "timestamp": 1589140160548,
     "user": {
      "displayName": "Vinaykumar Uppala",
      "photoUrl": "",
      "userId": "04118229899259509988"
     },
     "user_tz": -330
    },
    "id": "JJ63xRNEDpYe",
    "outputId": "9ed4b009-d46d-4cf2-d868-539740738ef9"
   },
   "outputs": [
    {
     "data": {
      "image/png": "[encoded data removed]",
      "text/plain": [
       "<Figure size 1080x864 with 9 Axes>"
      ]
     },
     "metadata": {
      "needs_background": "light"
     },
     "output_type": "display_data"
    }
   ],
   "source": [
    "plt.figure(figsize=(15,12))\n",
    "for i in range(9):\n",
    "    plt.subplot(3,3,i+1)\n",
    "    df_frd[df_frd.columns[i]].plot(kind='hist')\n",
    "    plt.title(df_frd.columns[i+18])\n",
    "    plt.yscale('log')\n",
    "plt.show()"
   ]
  },
  {
   "cell_type": "code",
   "execution_count": 24,
   "metadata": {
    "colab": {
     "base_uri": "https://localhost:8080/",
     "height": 139
    },
    "colab_type": "code",
    "executionInfo": {
     "elapsed": 1552,
     "status": "ok",
     "timestamp": 1589140165541,
     "user": {
      "displayName": "Vinaykumar Uppala",
      "photoUrl": "",
      "userId": "04118229899259509988"
     },
     "user_tz": -330
    },
    "id": "rRLvt0c2DsuJ",
    "outputId": "721c5392-4b4e-4131-9aaf-98bb0ee9505c"
   },
   "outputs": [
    {
     "data": {
      "image/png": "[encoded data removed]",
      "text/plain": [
       "<Figure size 1080x432 with 3 Axes>"
      ]
     },
     "metadata": {
      "needs_background": "light"
     },
     "output_type": "display_data"
    }
   ],
   "source": [
    "plt.figure(figsize=(15,6))\n",
    "for i in range(3):\n",
    "    plt.subplot(3,3,i+1)\n",
    "    df_frd[df_frd.columns[i]].plot(kind='hist')\n",
    "    plt.title(df_frd.columns[i+27])\n",
    "    plt.yscale('log')\n",
    "plt.show()"
   ]
  },
  {
   "cell_type": "code",
   "execution_count": 25,
   "metadata": {
    "colab": {
     "base_uri": "https://localhost:8080/",
     "height": 623
    },
    "colab_type": "code",
    "executionInfo": {
     "elapsed": 2603,
     "status": "ok",
     "timestamp": 1589140173461,
     "user": {
      "displayName": "Vinaykumar Uppala",
      "photoUrl": "",
      "userId": "04118229899259509988"
     },
     "user_tz": -330
    },
    "id": "gLRRCQ9mDNGm",
    "outputId": "94790be2-59ec-4a1d-f83a-9a47009fa7d5"
   },
   "outputs": [
    {
     "data": {
      "image/png": "[encoded data removed]",
      "text/plain": [
       "<Figure size 1080x864 with 9 Axes>"
      ]
     },
     "metadata": {
      "needs_background": "light"
     },
     "output_type": "display_data"
    }
   ],
   "source": [
    "plt.figure(figsize=(15,12))\n",
    "for i in range(9):\n",
    "    plt.subplot(3,3,i+1)\n",
    "    df_frd[df_frd.columns[i]].plot(kind='box')\n",
    "    plt.title(df_frd.columns[i])\n",
    "plt.show()"
   ]
  },
  {
   "cell_type": "code",
   "execution_count": 26,
   "metadata": {
    "colab": {
     "base_uri": "https://localhost:8080/",
     "height": 623
    },
    "colab_type": "code",
    "executionInfo": {
     "elapsed": 2764,
     "status": "ok",
     "timestamp": 1589140180970,
     "user": {
      "displayName": "Vinaykumar Uppala",
      "photoUrl": "",
      "userId": "04118229899259509988"
     },
     "user_tz": -330
    },
    "id": "rpfNDzaoD2-f",
    "outputId": "9ba1a198-49da-49ff-d9fa-3cd327869ffc"
   },
   "outputs": [
    {
     "data": {
      "image/png": "[encoded data removed]",
      "text/plain": [
       "<Figure size 1080x864 with 9 Axes>"
      ]
     },
     "metadata": {
      "needs_background": "light"
     },
     "output_type": "display_data"
    }
   ],
   "source": [
    "plt.figure(figsize=(15,12))\n",
    "for i in range(9):\n",
    "    plt.subplot(3,3,i+1)\n",
    "    df_frd[df_frd.columns[i]].plot(kind='box')\n",
    "    plt.title(df_frd.columns[i+9])\n",
    "plt.show()"
   ]
  },
  {
   "cell_type": "code",
   "execution_count": 27,
   "metadata": {
    "colab": {
     "base_uri": "https://localhost:8080/",
     "height": 623
    },
    "colab_type": "code",
    "executionInfo": {
     "elapsed": 2565,
     "status": "ok",
     "timestamp": 1589140186933,
     "user": {
      "displayName": "Vinaykumar Uppala",
      "photoUrl": "",
      "userId": "04118229899259509988"
     },
     "user_tz": -330
    },
    "id": "eOWAqaCvD53u",
    "outputId": "8d9876e1-2463-41cf-b35e-ce8229486d8b"
   },
   "outputs": [
    {
     "data": {
      "image/png": "[encoded data removed]",
      "text/plain": [
       "<Figure size 1080x864 with 9 Axes>"
      ]
     },
     "metadata": {
      "needs_background": "light"
     },
     "output_type": "display_data"
    }
   ],
   "source": [
    "plt.figure(figsize=(15,12))\n",
    "for i in range(9):\n",
    "    plt.subplot(3,3,i+1)\n",
    "    df_frd[df_frd.columns[i]].plot(kind='box')\n",
    "    plt.title(df_frd.columns[i+18])\n",
    "plt.show()"
   ]
  },
  {
   "cell_type": "code",
   "execution_count": 28,
   "metadata": {
    "colab": {
     "base_uri": "https://localhost:8080/",
     "height": 141
    },
    "colab_type": "code",
    "executionInfo": {
     "elapsed": 1214,
     "status": "ok",
     "timestamp": 1589140191964,
     "user": {
      "displayName": "Vinaykumar Uppala",
      "photoUrl": "",
      "userId": "04118229899259509988"
     },
     "user_tz": -330
    },
    "id": "rvNbj_-3D8ji",
    "outputId": "ce662f86-617b-49ec-9bbd-3c3cffd23c89"
   },
   "outputs": [
    {
     "data": {
      "image/png": "[encoded data removed]",
      "text/plain": [
       "<Figure size 1080x432 with 3 Axes>"
      ]
     },
     "metadata": {
      "needs_background": "light"
     },
     "output_type": "display_data"
    }
   ],
   "source": [
    "plt.figure(figsize=(15,6))\n",
    "for i in range(3):\n",
    "    plt.subplot(3,3,i+1)\n",
    "    df_frd[df_frd.columns[i]].plot(kind='box')\n",
    "    plt.title(df_frd.columns[i+27])\n",
    "plt.show()"
   ]
  },
  {
   "cell_type": "markdown",
   "metadata": {
    "colab_type": "text",
    "id": "2OIbtwJGaDiY"
   },
   "source": [
    "### If there is skewness present in the distribution use:\n",
    "- <b>Power Transformer</b> package present in the <b>preprocessing library provided by sklearn</b> to make distribution more gaussian"
   ]
  },
  {
   "cell_type": "code",
   "execution_count": 29,
   "metadata": {
    "colab": {},
    "colab_type": "code",
    "id": "-80cu7EFaDib"
   },
   "outputs": [],
   "source": [
    "from sklearn.preprocessing import PowerTransformer\n",
    "# - Apply : preprocessing.PowerTransformer(copy=False) to fit & transform the train & test data\n",
    "trans_cols=['Time','V1','V2','V3','V4','V11','V12','V14','V17','Amount']\n",
    "pt = PowerTransformer()\n",
    "pt.fit(X_train[trans_cols])\n",
    "X_train[trans_cols]=pt.transform(X_train[trans_cols])\n",
    "X_test[trans_cols]=pt.transform(X_test[trans_cols])"
   ]
  },
  {
   "cell_type": "code",
   "execution_count": 30,
   "metadata": {
    "colab": {
     "base_uri": "https://localhost:8080/",
     "height": 621
    },
    "colab_type": "code",
    "executionInfo": {
     "elapsed": 5090,
     "status": "ok",
     "timestamp": 1589147676798,
     "user": {
      "displayName": "Vinaykumar Uppala",
      "photoUrl": "",
      "userId": "04118229899259509988"
     },
     "user_tz": -330
    },
    "id": "HTnBGHSQaDix",
    "outputId": "3f8cb1f5-a5ed-4092-d09c-75c0da0345d9"
   },
   "outputs": [
    {
     "data": {
      "image/png": "[encoded data removed]",
      "text/plain": [
       "<Figure size 1080x864 with 10 Axes>"
      ]
     },
     "metadata": {
      "needs_background": "light"
     },
     "output_type": "display_data"
    }
   ],
   "source": [
    "# plot the histogram of a variable from the dataset again to see the result \n",
    "plt.figure(figsize=(15,12))\n",
    "for i in range(len(trans_cols)):\n",
    "    plt.subplot(4,3,i+1)\n",
    "    X_train[trans_cols[i]].plot(kind='hist')\n",
    "    plt.title(trans_cols[i])\n",
    "    plt.yscale('log')\n",
    "plt.show()"
   ]
  },
  {
   "cell_type": "markdown",
   "metadata": {
    "colab_type": "text",
    "id": "fZrQt0VEaDi7"
   },
   "source": [
    "## Model Building\n",
    "- Build different models on the imbalanced dataset and see the result"
   ]
  },
  {
   "cell_type": "code",
   "execution_count": 22,
   "metadata": {
    "colab": {},
    "colab_type": "code",
    "id": "-Hf7DatQaDi8",
    "scrolled": false
   },
   "outputs": [],
   "source": [
    "# Importing LogisticRegression and metrics from sklearn library\n",
    "from sklearn.linear_model import LogisticRegression\n",
    "from sklearn import metrics\n",
    "import statsmodels.api as sm\n",
    "from sklearn.preprocessing import StandardScaler\n",
    "from sklearn.feature_selection import RFE\n",
    "from sklearn.linear_model import LogisticRegression\n",
    "from sklearn import metrics\n",
    "from sklearn.preprocessing import MinMaxScaler\n",
    "from statsmodels.stats.outliers_influence import variance_inflation_factor\n",
    "\n",
    "# GridSearchCV to find optimal n_estimators\n",
    "from sklearn.model_selection import KFold\n",
    "from sklearn.model_selection import GridSearchCV"
   ]
  },
  {
   "cell_type": "code",
   "execution_count": 37,
   "metadata": {},
   "outputs": [
    {
     "name": "stdout",
     "output_type": "stream",
     "text": [
      "best_score= 0.9814428305260139\n",
      "best_params= {'C': 0.1, 'penalty': 'l2'}\n"
     ]
    }
   ],
   "source": [
    "# Create the parameter grid based on the results of random search \n",
    "\n",
    "lr = LogisticRegression()\n",
    "#perform hyperparameter tuning\n",
    "params = { 'C': [0.1, 0.5, 1, 2, 3, 4, 5, 10], 'penalty': ['l1', 'l2']}\n",
    "\n",
    "# create 3 folds\n",
    "folds = StratifiedKFold(n_splits = 5, shuffle = True, random_state = 48)\n",
    "\n",
    "#Hyper parameter tuning using Logistic regression\n",
    "# create gridsearch object\n",
    "model = GridSearchCV(estimator=lr, cv=folds, param_grid=params, scoring='roc_auc')\n",
    "model.fit(X_train, y_train)\n",
    "#print the evaluation result by choosing a evaluation metric\n",
    "print('best_score=',model.best_score_)\n",
    "#print the optimum value of hyperparameters\n",
    "print('best_params=',model.best_params_)"
   ]
  },
  {
   "cell_type": "code",
   "execution_count": 38,
   "metadata": {},
   "outputs": [
    {
     "data": {
      "text/plain": [
       "LogisticRegression(C=0.1, class_weight=None, dual=False, fit_intercept=True,\n",
       "                   intercept_scaling=1, l1_ratio=None, max_iter=100,\n",
       "                   multi_class='auto', n_jobs=None, penalty='l2',\n",
       "                   random_state=None, solver='lbfgs', tol=0.0001, verbose=0,\n",
       "                   warm_start=False)"
      ]
     },
     "execution_count": 38,
     "metadata": {},
     "output_type": "execute_result"
    }
   ],
   "source": [
    "# Fitting the model\n",
    "logreg = LogisticRegression(C=0.1,penalty='l2')\n",
    "logreg.fit(X_train, y_train)"
   ]
  },
  {
   "cell_type": "code",
   "execution_count": 42,
   "metadata": {},
   "outputs": [
    {
     "name": "stdout",
     "output_type": "stream",
     "text": [
      "auc_roc= 0.9727448299463071\n"
     ]
    }
   ],
   "source": [
    "print('auc_roc=',roc_auc_score(y_test,logreg.predict_proba(X_test)[:,1]))"
   ]
  },
  {
   "cell_type": "markdown",
   "metadata": {},
   "source": [
    "lets look at some other model and evaluate the auc_roc curve"
   ]
  },
  {
   "cell_type": "markdown",
   "metadata": {},
   "source": [
    "### RandomForest Model"
   ]
  },
  {
   "cell_type": "code",
   "execution_count": 35,
   "metadata": {},
   "outputs": [],
   "source": [
    "from sklearn import preprocessing\n",
    "from sklearn.linear_model import LinearRegression\n",
    "from sklearn.metrics import r2_score\n",
    "import statsmodels.api as sm\n",
    "from sklearn.feature_selection import RFE\n",
    "from statsmodels.stats.outliers_influence import variance_inflation_factor\n",
    "from sklearn.model_selection import GridSearchCV\n",
    "from sklearn import tree\n",
    "import sklearn\n",
    "from sklearn.ensemble import RandomForestClassifier"
   ]
  },
  {
   "cell_type": "code",
   "execution_count": 47,
   "metadata": {
    "scrolled": true
   },
   "outputs": [
    {
     "data": {
      "text/plain": [
       "GridSearchCV(cv=3, error_score=nan,\n",
       "             estimator=RandomForestClassifier(bootstrap=True, ccp_alpha=0.0,\n",
       "                                              class_weight=None,\n",
       "                                              criterion='gini', max_depth=None,\n",
       "                                              max_features='auto',\n",
       "                                              max_leaf_nodes=None,\n",
       "                                              max_samples=None,\n",
       "                                              min_impurity_decrease=0.0,\n",
       "                                              min_impurity_split=None,\n",
       "                                              min_samples_leaf=1,\n",
       "                                              min_samples_split=2,\n",
       "                                              min_weight_fraction_leaf=0.0,\n",
       "                                              n_estimators=100, n_jobs=None,\n",
       "                                              oob_score=False,\n",
       "                                              random_state=None, verbose=0,\n",
       "                                              warm_start=False),\n",
       "             iid='deprecated', n_jobs=4,\n",
       "             param_grid={'max_depth': range(9, 16, 2)}, pre_dispatch='2*n_jobs',\n",
       "             refit=True, return_train_score=True, scoring='roc_auc', verbose=0)"
      ]
     },
     "execution_count": 47,
     "metadata": {},
     "output_type": "execute_result"
    }
   ],
   "source": [
    "# GridSearchCV to find optimal n_estimators\n",
    "from sklearn.model_selection import KFold\n",
    "from sklearn.model_selection import GridSearchCV\n",
    "from sklearn import tree\n",
    "\n",
    "# specify number of folds for k-fold CV\n",
    "n_folds = 3\n",
    "\n",
    "# parameters to build the model on\n",
    "parameters = {'max_depth': range(9,16,2)}\n",
    "\n",
    "# instantiate the model\n",
    "rf = RandomForestClassifier()\n",
    "\n",
    "\n",
    "# fit tree on training data\n",
    "rf = GridSearchCV(rf, parameters, \n",
    "                    cv=n_folds, \n",
    "                   scoring='roc_auc',return_train_score=True,n_jobs=4)\n",
    "rf.fit(X_train, y_train)"
   ]
  },
  {
   "cell_type": "code",
   "execution_count": 48,
   "metadata": {},
   "outputs": [
    {
     "data": {
      "text/html": [
       "<div>\n",
       "<style scoped>\n",
       "    .dataframe tbody tr th:only-of-type {\n",
       "        vertical-align: middle;\n",
       "    }\n",
       "\n",
       "    .dataframe tbody tr th {\n",
       "        vertical-align: top;\n",
       "    }\n",
       "\n",
       "    .dataframe thead th {\n",
       "        text-align: right;\n",
       "    }\n",
       "</style>\n",
       "<table border=\"1\" class=\"dataframe\">\n",
       "  <thead>\n",
       "    <tr style=\"text-align: right;\">\n",
       "      <th></th>\n",
       "      <th>mean_fit_time</th>\n",
       "      <th>std_fit_time</th>\n",
       "      <th>mean_score_time</th>\n",
       "      <th>std_score_time</th>\n",
       "      <th>param_max_depth</th>\n",
       "      <th>params</th>\n",
       "      <th>split0_test_score</th>\n",
       "      <th>split1_test_score</th>\n",
       "      <th>split2_test_score</th>\n",
       "      <th>mean_test_score</th>\n",
       "      <th>std_test_score</th>\n",
       "      <th>rank_test_score</th>\n",
       "      <th>split0_train_score</th>\n",
       "      <th>split1_train_score</th>\n",
       "      <th>split2_train_score</th>\n",
       "      <th>mean_train_score</th>\n",
       "      <th>std_train_score</th>\n",
       "    </tr>\n",
       "  </thead>\n",
       "  <tbody>\n",
       "    <tr>\n",
       "      <th>3</th>\n",
       "      <td>170.262936</td>\n",
       "      <td>5.411104</td>\n",
       "      <td>0.827581</td>\n",
       "      <td>0.108955</td>\n",
       "      <td>15</td>\n",
       "      <td>{'max_depth': 15}</td>\n",
       "      <td>0.97428</td>\n",
       "      <td>0.980988</td>\n",
       "      <td>0.980523</td>\n",
       "      <td>0.978597</td>\n",
       "      <td>0.003059</td>\n",
       "      <td>1</td>\n",
       "      <td>0.999999</td>\n",
       "      <td>0.999998</td>\n",
       "      <td>0.999998</td>\n",
       "      <td>0.999998</td>\n",
       "      <td>3.781317e-07</td>\n",
       "    </tr>\n",
       "  </tbody>\n",
       "</table>\n",
       "</div>"
      ],
      "text/plain": [
       "   mean_fit_time  std_fit_time  mean_score_time  std_score_time  \\\n",
       "3     170.262936      5.411104         0.827581        0.108955   \n",
       "\n",
       "  param_max_depth             params  split0_test_score  split1_test_score  \\\n",
       "3              15  {'max_depth': 15}            0.97428           0.980988   \n",
       "\n",
       "   split2_test_score  mean_test_score  std_test_score  rank_test_score  \\\n",
       "3           0.980523         0.978597        0.003059                1   \n",
       "\n",
       "   split0_train_score  split1_train_score  split2_train_score  \\\n",
       "3            0.999999            0.999998            0.999998   \n",
       "\n",
       "   mean_train_score  std_train_score  \n",
       "3          0.999998     3.781317e-07  "
      ]
     },
     "execution_count": 48,
     "metadata": {},
     "output_type": "execute_result"
    }
   ],
   "source": [
    "# scores of GridSearch CV\n",
    "scores = rf.cv_results_\n",
    "sc=pd.DataFrame(scores)\n",
    "sc.head()\n",
    "\n",
    "sc[sc['rank_test_score']==1]"
   ]
  },
  {
   "cell_type": "code",
   "execution_count": 49,
   "metadata": {},
   "outputs": [
    {
     "data": {
      "image/png": "[encoded data removed]",
      "text/plain": [
       "<Figure size 432x288 with 1 Axes>"
      ]
     },
     "metadata": {
      "needs_background": "light"
     },
     "output_type": "display_data"
    }
   ],
   "source": [
    "# plotting accuracies with max_depth\n",
    "plt.figure()\n",
    "plt.plot(scores[\"param_max_depth\"], \n",
    "         scores[\"mean_train_score\"], \n",
    "         label=\"training accuracy\")\n",
    "plt.plot(scores[\"param_max_depth\"], \n",
    "         scores[\"mean_test_score\"], \n",
    "         label=\"test accuracy\")\n",
    "plt.xlabel(\"max_depth\")\n",
    "plt.ylabel(\"Accuracy\")\n",
    "plt.legend()\n",
    "plt.show()"
   ]
  },
  {
   "cell_type": "code",
   "execution_count": 53,
   "metadata": {},
   "outputs": [],
   "source": [
    "# Create the parameter grid based on the results of random search \n",
    "param_grid = {\n",
    "    'max_depth': [9,15],\n",
    "    'min_samples_leaf': [7,4],\n",
    "    'min_samples_split': [4,7]\n",
    "}\n",
    "# Create a based mo\n",
    "rf = RandomForestClassifier()\n",
    "# Instantiate the grid search model\n",
    "grid_search = GridSearchCV(estimator = rf, param_grid = param_grid,scoring=\"roc_auc\",\n",
    "                          cv = 3, n_jobs = 4,verbose = 1)"
   ]
  },
  {
   "cell_type": "code",
   "execution_count": 54,
   "metadata": {},
   "outputs": [
    {
     "name": "stdout",
     "output_type": "stream",
     "text": [
      "Fitting 3 folds for each of 8 candidates, totalling 24 fits\n"
     ]
    },
    {
     "name": "stderr",
     "output_type": "stream",
     "text": [
      "[Parallel(n_jobs=4)]: Using backend LokyBackend with 4 concurrent workers.\n",
      "[Parallel(n_jobs=4)]: Done  24 out of  24 | elapsed: 14.9min finished\n"
     ]
    },
    {
     "data": {
      "text/plain": [
       "GridSearchCV(cv=3, error_score=nan,\n",
       "             estimator=RandomForestClassifier(bootstrap=True, ccp_alpha=0.0,\n",
       "                                              class_weight=None,\n",
       "                                              criterion='gini', max_depth=None,\n",
       "                                              max_features='auto',\n",
       "                                              max_leaf_nodes=None,\n",
       "                                              max_samples=None,\n",
       "                                              min_impurity_decrease=0.0,\n",
       "                                              min_impurity_split=None,\n",
       "                                              min_samples_leaf=1,\n",
       "                                              min_samples_split=2,\n",
       "                                              min_weight_fraction_leaf=0.0,\n",
       "                                              n_estimators=100, n_jobs=None,\n",
       "                                              oob_score=False,\n",
       "                                              random_state=None, verbose=0,\n",
       "                                              warm_start=False),\n",
       "             iid='deprecated', n_jobs=4,\n",
       "             param_grid={'max_depth': [9, 15], 'min_samples_leaf': [7, 4],\n",
       "                         'min_samples_split': [4, 7]},\n",
       "             pre_dispatch='2*n_jobs', refit=True, return_train_score=False,\n",
       "             scoring='roc_auc', verbose=1)"
      ]
     },
     "execution_count": 54,
     "metadata": {},
     "output_type": "execute_result"
    }
   ],
   "source": [
    "# Fit the grid search to the data\n",
    "grid_search.fit(X_train, y_train)"
   ]
  },
  {
   "cell_type": "code",
   "execution_count": 55,
   "metadata": {},
   "outputs": [
    {
     "name": "stdout",
     "output_type": "stream",
     "text": [
      "We can get accuracy of 0.9792305194001331 using {'max_depth': 15, 'min_samples_leaf': 4, 'min_samples_split': 7}\n"
     ]
    }
   ],
   "source": [
    "# printing the optimal accuracy score and hyperparameters\n",
    "print('We can get accuracy of',grid_search.best_score_,'using',grid_search.best_params_)"
   ]
  },
  {
   "cell_type": "code",
   "execution_count": 85,
   "metadata": {},
   "outputs": [
    {
     "data": {
      "text/plain": [
       "RandomForestClassifier(bootstrap=True, ccp_alpha=0.0, class_weight=None,\n",
       "                       criterion='gini', max_depth=15, max_features='auto',\n",
       "                       max_leaf_nodes=None, max_samples=None,\n",
       "                       min_impurity_decrease=0.0, min_impurity_split=None,\n",
       "                       min_samples_leaf=4, min_samples_split=7,\n",
       "                       min_weight_fraction_leaf=0.0, n_estimators=100,\n",
       "                       n_jobs=None, oob_score=False, random_state=None,\n",
       "                       verbose=0, warm_start=False)"
      ]
     },
     "execution_count": 85,
     "metadata": {},
     "output_type": "execute_result"
    }
   ],
   "source": [
    "#Building the model with tuned parameters\n",
    "rfc = RandomForestClassifier(\n",
    "                             max_depth=15,\n",
    "                             min_samples_leaf=4, \n",
    "                             min_samples_split=7,\n",
    "                           )\n",
    "rfc.fit(X_train, y_train)"
   ]
  },
  {
   "cell_type": "code",
   "execution_count": 86,
   "metadata": {},
   "outputs": [
    {
     "name": "stdout",
     "output_type": "stream",
     "text": [
      "auc_roc= 0.9747724114876352\n"
     ]
    }
   ],
   "source": [
    "print('auc_roc=',roc_auc_score(y_test,rfc.predict_proba(X_test)[:,1]))"
   ]
  },
  {
   "cell_type": "markdown",
   "metadata": {},
   "source": [
    "Since this model has better auc_roc score, lets try to find the optimal cutoff for probability score that results in max of sensitivity since we have very number of records for class=1."
   ]
  },
  {
   "cell_type": "code",
   "execution_count": 87,
   "metadata": {},
   "outputs": [],
   "source": [
    "#predicting the class for train data set\n",
    "y_train_pred_rf=rfc.predict(X_train)\n",
    "y_train_prob_rf=rfc.predict_proba(X_train)[:,1]"
   ]
  },
  {
   "cell_type": "code",
   "execution_count": 9,
   "metadata": {},
   "outputs": [],
   "source": [
    "#Function for ROC curve\n",
    "def draw_roc( actual, probs ):\n",
    "    fpr, tpr, thresholds = metrics.roc_curve( actual, probs,\n",
    "                                              drop_intermediate = False )\n",
    "    auc_score = metrics.roc_auc_score( actual, probs )\n",
    "    plt.figure(figsize=(5, 5))\n",
    "    plt.plot( fpr, tpr, label='ROC curve (area = %0.2f)' % auc_score )\n",
    "    plt.plot([0, 1], [0, 1], 'k--')\n",
    "    plt.xlim([0.0, 1.0])\n",
    "    plt.ylim([0.0, 1.05])\n",
    "    plt.xlabel('False Positive Rate or [1 - True Negative Rate]')\n",
    "    plt.ylabel('True Positive Rate')\n",
    "    plt.title('Receiver operating characteristic example')\n",
    "    plt.legend(loc=\"lower right\")\n",
    "    plt.show()\n",
    "\n",
    "    return None"
   ]
  },
  {
   "cell_type": "code",
   "execution_count": 88,
   "metadata": {
    "scrolled": true
   },
   "outputs": [
    {
     "data": {
      "image/png": "[encoded data removed]",
      "text/plain": [
       "<Figure size 360x360 with 1 Axes>"
      ]
     },
     "metadata": {
      "needs_background": "light"
     },
     "output_type": "display_data"
    }
   ],
   "source": [
    "# Roc curve which is desirable and occupying maximum area possible\n",
    "draw_roc(y_train, y_train_pred_rf)"
   ]
  },
  {
   "cell_type": "code",
   "execution_count": 89,
   "metadata": {},
   "outputs": [
    {
     "data": {
      "text/html": [
       "<div>\n",
       "<style scoped>\n",
       "    .dataframe tbody tr th:only-of-type {\n",
       "        vertical-align: middle;\n",
       "    }\n",
       "\n",
       "    .dataframe tbody tr th {\n",
       "        vertical-align: top;\n",
       "    }\n",
       "\n",
       "    .dataframe thead th {\n",
       "        text-align: right;\n",
       "    }\n",
       "</style>\n",
       "<table border=\"1\" class=\"dataframe\">\n",
       "  <thead>\n",
       "    <tr style=\"text-align: right;\">\n",
       "      <th></th>\n",
       "      <th>0.0</th>\n",
       "      <th>0.1</th>\n",
       "      <th>0.2</th>\n",
       "      <th>0.3</th>\n",
       "      <th>0.4</th>\n",
       "      <th>0.5</th>\n",
       "      <th>0.6</th>\n",
       "      <th>0.7</th>\n",
       "      <th>0.8</th>\n",
       "      <th>0.9</th>\n",
       "    </tr>\n",
       "  </thead>\n",
       "  <tbody>\n",
       "    <tr>\n",
       "      <th>0</th>\n",
       "      <td>1</td>\n",
       "      <td>0</td>\n",
       "      <td>0</td>\n",
       "      <td>0</td>\n",
       "      <td>0</td>\n",
       "      <td>0</td>\n",
       "      <td>0</td>\n",
       "      <td>0</td>\n",
       "      <td>0</td>\n",
       "      <td>0</td>\n",
       "    </tr>\n",
       "    <tr>\n",
       "      <th>1</th>\n",
       "      <td>1</td>\n",
       "      <td>0</td>\n",
       "      <td>0</td>\n",
       "      <td>0</td>\n",
       "      <td>0</td>\n",
       "      <td>0</td>\n",
       "      <td>0</td>\n",
       "      <td>0</td>\n",
       "      <td>0</td>\n",
       "      <td>0</td>\n",
       "    </tr>\n",
       "    <tr>\n",
       "      <th>2</th>\n",
       "      <td>1</td>\n",
       "      <td>0</td>\n",
       "      <td>0</td>\n",
       "      <td>0</td>\n",
       "      <td>0</td>\n",
       "      <td>0</td>\n",
       "      <td>0</td>\n",
       "      <td>0</td>\n",
       "      <td>0</td>\n",
       "      <td>0</td>\n",
       "    </tr>\n",
       "    <tr>\n",
       "      <th>3</th>\n",
       "      <td>1</td>\n",
       "      <td>0</td>\n",
       "      <td>0</td>\n",
       "      <td>0</td>\n",
       "      <td>0</td>\n",
       "      <td>0</td>\n",
       "      <td>0</td>\n",
       "      <td>0</td>\n",
       "      <td>0</td>\n",
       "      <td>0</td>\n",
       "    </tr>\n",
       "    <tr>\n",
       "      <th>4</th>\n",
       "      <td>1</td>\n",
       "      <td>0</td>\n",
       "      <td>0</td>\n",
       "      <td>0</td>\n",
       "      <td>0</td>\n",
       "      <td>0</td>\n",
       "      <td>0</td>\n",
       "      <td>0</td>\n",
       "      <td>0</td>\n",
       "      <td>0</td>\n",
       "    </tr>\n",
       "  </tbody>\n",
       "</table>\n",
       "</div>"
      ],
      "text/plain": [
       "   0.0  0.1  0.2  0.3  0.4  0.5  0.6  0.7  0.8  0.9\n",
       "0    1    0    0    0    0    0    0    0    0    0\n",
       "1    1    0    0    0    0    0    0    0    0    0\n",
       "2    1    0    0    0    0    0    0    0    0    0\n",
       "3    1    0    0    0    0    0    0    0    0    0\n",
       "4    1    0    0    0    0    0    0    0    0    0"
      ]
     },
     "execution_count": 89,
     "metadata": {},
     "output_type": "execute_result"
    }
   ],
   "source": [
    "#predicting the class for different cuttoff \n",
    "rf_df=pd.DataFrame()\n",
    "numbers=[float(x)/10 for x in range(10)]\n",
    "for i in numbers:\n",
    "    rf_df[i]=list(map(lambda x: 1 if x> i else 0,y_train_prob_rf))\n",
    "rf_df.head()"
   ]
  },
  {
   "cell_type": "code",
   "execution_count": 90,
   "metadata": {},
   "outputs": [
    {
     "name": "stdout",
     "output_type": "stream",
     "text": [
      "     prob  accuracy     sensi     speci\n",
      "0.0   0.0  0.001725  1.000000  0.000000\n",
      "0.1   0.1  0.999448  0.938953  0.999553\n",
      "0.2   0.2  0.999544  0.863372  0.999779\n",
      "0.3   0.3  0.999629  0.848837  0.999889\n",
      "0.4   0.4  0.999679  0.845930  0.999945\n",
      "0.5   0.5  0.999669  0.828488  0.999965\n",
      "0.6   0.6  0.999624  0.799419  0.999970\n",
      "0.7   0.7  0.999579  0.755814  1.000000\n",
      "0.8   0.8  0.999433  0.671512  1.000000\n",
      "0.9   0.9  0.999137  0.500000  1.000000\n"
     ]
    }
   ],
   "source": [
    "#For different cut offs calculating the metrics\n",
    "cutoff_df = pd.DataFrame( columns = ['prob','accuracy','sensi','speci'])\n",
    "from sklearn.metrics import confusion_matrix\n",
    "\n",
    "# TP = confusion[1,1] # true positive \n",
    "# TN = confusion[0,0] # true negatives\n",
    "# FP = confusion[0,1] # false positives\n",
    "# FN = confusion[1,0] # false negatives\n",
    "\n",
    "num = [0.0,0.1,0.2,0.3,0.4,0.5,0.6,0.7,0.8,0.9]\n",
    "for i in num:\n",
    "    cm1 = metrics.confusion_matrix(y_train, rf_df[i] )\n",
    "    total1=sum(sum(cm1))\n",
    "    accuracy = (cm1[0,0]+cm1[1,1])/total1\n",
    "    \n",
    "    speci = cm1[0,0]/(cm1[0,0]+cm1[0,1])\n",
    "    sensi = cm1[1,1]/(cm1[1,0]+cm1[1,1])\n",
    "    cutoff_df.loc[i] =[ i ,accuracy,sensi,speci]\n",
    "print(cutoff_df)"
   ]
  },
  {
   "cell_type": "code",
   "execution_count": 91,
   "metadata": {},
   "outputs": [
    {
     "data": {
      "image/png": "[encoded data removed]",
      "text/plain": [
       "<Figure size 432x288 with 1 Axes>"
      ]
     },
     "metadata": {
      "needs_background": "light"
     },
     "output_type": "display_data"
    }
   ],
   "source": [
    "#Plotting the metrics accuracy,sensitivity,specificity as the intersection is around 0.3 \n",
    "#so we take cutoff as 0.4 for now\n",
    "plt.plot(cutoff_df['accuracy'])\n",
    "plt.plot(cutoff_df['sensi'])\n",
    "plt.plot(cutoff_df['speci'])\n",
    "plt.show()"
   ]
  },
  {
   "cell_type": "code",
   "execution_count": 92,
   "metadata": {},
   "outputs": [],
   "source": [
    "y_test_prob_rf=rfc.predict_proba(X_test)[:,1]"
   ]
  },
  {
   "cell_type": "code",
   "execution_count": 94,
   "metadata": {},
   "outputs": [],
   "source": [
    "y_test_pred_rf=pd.Series(map(lambda x:1 if x>0.1 else 0,y_test_prob_rf))"
   ]
  },
  {
   "cell_type": "code",
   "execution_count": 95,
   "metadata": {},
   "outputs": [
    {
     "data": {
      "text/plain": [
       "99.94"
      ]
     },
     "execution_count": 95,
     "metadata": {},
     "output_type": "execute_result"
    }
   ],
   "source": [
    "#Accuracy for the test set\n",
    "round(metrics.accuracy_score(y_test, y_test_pred_rf)*100,2)"
   ]
  },
  {
   "cell_type": "code",
   "execution_count": 96,
   "metadata": {},
   "outputs": [
    {
     "name": "stdout",
     "output_type": "stream",
     "text": [
      "[[85269    26]\n",
      " [   25   123]]\n",
      "Sensitivity: \t0.83\n",
      "Specificity: \t1.0\n",
      "AUC:    \t 0.97\n"
     ]
    }
   ],
   "source": [
    "from imblearn.metrics import sensitivity_specificity_support\n",
    "from sklearn.metrics import roc_auc_score\n",
    "# create onfusion matrix\n",
    "cm = confusion_matrix(y_test, y_test_pred_rf)\n",
    "print(cm)\n",
    "\n",
    "# check sensitivity and specificity\n",
    "sensitivity, specificity, _ = sensitivity_specificity_support(y_test, y_test_pred_rf, average='binary')\n",
    "print(\"Sensitivity: \\t\", round(sensitivity, 2), \"\\n\", \"Specificity: \\t\", round(specificity, 2), sep='')\n",
    "\n",
    "print(\"AUC:    \\t\", round(roc_auc_score(y_test, y_test_prob_rf),2))"
   ]
  },
  {
   "cell_type": "markdown",
   "metadata": {},
   "source": [
    "#### As we can see here the sesitivity relatively low and false negative is high for class=1 minority data set, so we shall performe oversampling techniques to treat class imbalance in the data set."
   ]
  },
  {
   "cell_type": "code",
   "execution_count": null,
   "metadata": {},
   "outputs": [],
   "source": []
  },
  {
   "cell_type": "markdown",
   "metadata": {
    "colab_type": "text",
    "id": "IsdVyKM_aDj2"
   },
   "source": [
    "### Print the important features of the best model to understand the dataset\n",
    "- This will not give much explanation on the already transformed dataset\n",
    "- But it will help us in understanding if the dataset is not PCA transformed"
   ]
  },
  {
   "cell_type": "code",
   "execution_count": 0,
   "metadata": {
    "colab": {},
    "colab_type": "code",
    "id": "498Gqx-naDj5"
   },
   "outputs": [],
   "source": [
    "var_imp = []\n",
    "for i in rfc.feature_importances_:\n",
    "    var_imp.append(i)\n",
    "print('Top var =', var_imp.index(np.sort(rfc.feature_importances_)[-1])+1)\n",
    "print('2nd Top var =', var_imp.index(np.sort(rfc.feature_importances_)[-2])+1)\n",
    "print('3rd Top var =', var_imp.index(np.sort(rfc.feature_importances_)[-3])+1)\n",
    "\n",
    "# Variable on Index-16 and Index-13 seems to be the top 2 variables\n",
    "top_var_index = var_imp.index(np.sort(rfc.feature_importances_)[-1])\n",
    "second_top_var_index = var_imp.index(np.sort(rfc.feature_importances_)[-2])\n",
    "\n",
    "X_train_1 = X_train.to_numpy()[np.where(y_train==1.0)]\n",
    "X_train_0 = X_train.to_numpy()[np.where(y_train==0.0)]\n",
    "\n",
    "np.random.shuffle(X_train_0)\n",
    "\n",
    "import matplotlib.pyplot as plt\n",
    "%matplotlib inline\n",
    "plt.rcParams['figure.figsize'] = [20, 20]\n",
    "\n",
    "plt.scatter(X_train_1[:, top_var_index], X_train_1[:, second_top_var_index], label='Actual Class-1 Examples')\n",
    "plt.scatter(X_train_0[:X_train_1.shape[0], top_var_index], X_train_0[:X_train_1.shape[0], second_top_var_index],\n",
    "            label='Actual Class-0 Examples')\n",
    "plt.legend()"
   ]
  },
  {
   "cell_type": "markdown",
   "metadata": {
    "colab_type": "text",
    "id": "fTsF3332aDkI"
   },
   "source": [
    "## Model building with balancing Classes\n",
    "\n",
    "##### Perform class balancing with :\n",
    "- Random Oversampling\n",
    "- SMOTE\n",
    "- ADASYN"
   ]
  },
  {
   "cell_type": "markdown",
   "metadata": {
    "colab_type": "text",
    "id": "sjiAvO1JaDkK"
   },
   "source": [
    "## Model Building\n",
    "- Build different models on the balanced dataset and see the result"
   ]
  },
  {
   "cell_type": "code",
   "execution_count": 36,
   "metadata": {
    "colab": {},
    "colab_type": "code",
    "id": "1GR8Nq0saDkN"
   },
   "outputs": [],
   "source": [
    "# Logistic Regression\n",
    "from sklearn import linear_model #import the package\n",
    "from sklearn.linear_model import LogisticRegression\n",
    "from imblearn.pipeline import Pipeline\n",
    "from sklearn.metrics import confusion_matrix\n",
    "from sklearn.metrics import roc_auc_score\n",
    "from sklearn.model_selection import StratifiedKFold\n",
    "from sklearn.model_selection import GridSearchCV\n",
    "from sklearn import metrics\n",
    "from sklearn.metrics import confusion_matrix\n"
   ]
  },
  {
   "cell_type": "markdown",
   "metadata": {
    "colab_type": "text",
    "id": "pTjDy1wQaDka"
   },
   "source": [
    "#### perfom cross validation on the X_train & y_train to create:\n",
    "- X_train_cv\n",
    "- X_test_cv \n",
    "- y_train_cv\n",
    "- y_test_cv "
   ]
  },
  {
   "cell_type": "markdown",
   "metadata": {
    "colab_type": "text",
    "id": "4i1pVrHiaDkc"
   },
   "source": [
    "### Random Oversampling"
   ]
  },
  {
   "cell_type": "code",
   "execution_count": 0,
   "metadata": {
    "colab": {},
    "colab_type": "code",
    "id": "-AmuP1dNQam_"
   },
   "outputs": [],
   "source": [
    "from imblearn import over_sampling #- import the packages\n",
    "from imblearn.over_sampling import RandomOverSampler\n",
    "\n",
    "#perform cross validation & then balance classes on X_train_cv & y_train_cv using Random Oversampling\n",
    "oversample = RandomOverSampler(sampling_strategy=0.5,random_state=48)\n",
    "X_ran,y_ran=oversample.fit_resample(X_train,y_train)\n"
   ]
  },
  {
   "cell_type": "code",
   "execution_count": 166,
   "metadata": {
    "colab": {
     "base_uri": "https://localhost:8080/",
     "height": 222
    },
    "colab_type": "code",
    "executionInfo": {
     "elapsed": 1137,
     "status": "ok",
     "timestamp": 1589147702024,
     "user": {
      "displayName": "Vinaykumar Uppala",
      "photoUrl": "",
      "userId": "04118229899259509988"
     },
     "user_tz": -330
    },
    "id": "qEKqe30tRRV6",
    "outputId": "5cc36d6f-3087-4051-8fff-d812e48be95a"
   },
   "outputs": [
    {
     "data": {
      "text/html": [
       "<div>\n",
       "<style scoped>\n",
       "    .dataframe tbody tr th:only-of-type {\n",
       "        vertical-align: middle;\n",
       "    }\n",
       "\n",
       "    .dataframe tbody tr th {\n",
       "        vertical-align: top;\n",
       "    }\n",
       "\n",
       "    .dataframe thead th {\n",
       "        text-align: right;\n",
       "    }\n",
       "</style>\n",
       "<table border=\"1\" class=\"dataframe\">\n",
       "  <thead>\n",
       "    <tr style=\"text-align: right;\">\n",
       "      <th></th>\n",
       "      <th>Time</th>\n",
       "      <th>V1</th>\n",
       "      <th>V2</th>\n",
       "      <th>V3</th>\n",
       "      <th>V4</th>\n",
       "      <th>V5</th>\n",
       "      <th>V6</th>\n",
       "      <th>V7</th>\n",
       "      <th>V8</th>\n",
       "      <th>V9</th>\n",
       "      <th>V10</th>\n",
       "      <th>V11</th>\n",
       "      <th>V12</th>\n",
       "      <th>V13</th>\n",
       "      <th>V14</th>\n",
       "      <th>V15</th>\n",
       "      <th>V16</th>\n",
       "      <th>V17</th>\n",
       "      <th>V18</th>\n",
       "      <th>V19</th>\n",
       "      <th>V20</th>\n",
       "      <th>V21</th>\n",
       "      <th>V22</th>\n",
       "      <th>V23</th>\n",
       "      <th>V24</th>\n",
       "      <th>V25</th>\n",
       "      <th>V26</th>\n",
       "      <th>V27</th>\n",
       "      <th>V28</th>\n",
       "      <th>Amount</th>\n",
       "    </tr>\n",
       "  </thead>\n",
       "  <tbody>\n",
       "    <tr>\n",
       "      <th>0</th>\n",
       "      <td>-0.803780</td>\n",
       "      <td>-0.974531</td>\n",
       "      <td>-2.519685</td>\n",
       "      <td>-0.092178</td>\n",
       "      <td>1.843056</td>\n",
       "      <td>-2.541003</td>\n",
       "      <td>1.177054</td>\n",
       "      <td>0.815671</td>\n",
       "      <td>-0.013970</td>\n",
       "      <td>1.567896</td>\n",
       "      <td>-1.023891</td>\n",
       "      <td>-1.855599</td>\n",
       "      <td>0.644499</td>\n",
       "      <td>-0.055918</td>\n",
       "      <td>-0.833637</td>\n",
       "      <td>-1.401238</td>\n",
       "      <td>-0.245292</td>\n",
       "      <td>0.261389</td>\n",
       "      <td>0.159797</td>\n",
       "      <td>-0.107253</td>\n",
       "      <td>2.636207</td>\n",
       "      <td>0.719642</td>\n",
       "      <td>-0.556416</td>\n",
       "      <td>-1.343423</td>\n",
       "      <td>0.143539</td>\n",
       "      <td>0.091303</td>\n",
       "      <td>-0.366592</td>\n",
       "      <td>-0.154589</td>\n",
       "      <td>0.274232</td>\n",
       "      <td>2.286174</td>\n",
       "    </tr>\n",
       "    <tr>\n",
       "      <th>1</th>\n",
       "      <td>-0.568892</td>\n",
       "      <td>0.577608</td>\n",
       "      <td>-1.368744</td>\n",
       "      <td>-0.247525</td>\n",
       "      <td>-1.604814</td>\n",
       "      <td>-0.121064</td>\n",
       "      <td>4.281005</td>\n",
       "      <td>-2.316777</td>\n",
       "      <td>1.107012</td>\n",
       "      <td>-0.814674</td>\n",
       "      <td>1.185907</td>\n",
       "      <td>-0.775355</td>\n",
       "      <td>-0.905914</td>\n",
       "      <td>0.562820</td>\n",
       "      <td>-1.151456</td>\n",
       "      <td>-0.022466</td>\n",
       "      <td>-0.006705</td>\n",
       "      <td>0.183297</td>\n",
       "      <td>0.928594</td>\n",
       "      <td>0.060972</td>\n",
       "      <td>0.159819</td>\n",
       "      <td>0.050532</td>\n",
       "      <td>0.248024</td>\n",
       "      <td>-0.234717</td>\n",
       "      <td>1.039939</td>\n",
       "      <td>0.401875</td>\n",
       "      <td>0.019847</td>\n",
       "      <td>0.074852</td>\n",
       "      <td>0.061433</td>\n",
       "      <td>1.248229</td>\n",
       "    </tr>\n",
       "    <tr>\n",
       "      <th>2</th>\n",
       "      <td>-1.157676</td>\n",
       "      <td>-1.387629</td>\n",
       "      <td>-3.323788</td>\n",
       "      <td>-0.726240</td>\n",
       "      <td>1.821903</td>\n",
       "      <td>-2.046707</td>\n",
       "      <td>3.456960</td>\n",
       "      <td>1.285310</td>\n",
       "      <td>0.558278</td>\n",
       "      <td>1.210200</td>\n",
       "      <td>-1.302176</td>\n",
       "      <td>0.814515</td>\n",
       "      <td>1.633078</td>\n",
       "      <td>-1.190853</td>\n",
       "      <td>-0.012723</td>\n",
       "      <td>-0.986013</td>\n",
       "      <td>-1.424923</td>\n",
       "      <td>1.769776</td>\n",
       "      <td>-1.419462</td>\n",
       "      <td>-1.291963</td>\n",
       "      <td>3.483521</td>\n",
       "      <td>0.993582</td>\n",
       "      <td>-0.898069</td>\n",
       "      <td>-1.587151</td>\n",
       "      <td>-1.257629</td>\n",
       "      <td>-0.504680</td>\n",
       "      <td>-0.490517</td>\n",
       "      <td>-0.207149</td>\n",
       "      <td>0.332869</td>\n",
       "      <td>2.442618</td>\n",
       "    </tr>\n",
       "    <tr>\n",
       "      <th>3</th>\n",
       "      <td>-0.933471</td>\n",
       "      <td>-0.350386</td>\n",
       "      <td>-0.091669</td>\n",
       "      <td>1.165344</td>\n",
       "      <td>-0.474730</td>\n",
       "      <td>0.019998</td>\n",
       "      <td>-0.018094</td>\n",
       "      <td>0.225923</td>\n",
       "      <td>-0.239960</td>\n",
       "      <td>-1.331195</td>\n",
       "      <td>0.488468</td>\n",
       "      <td>-0.343506</td>\n",
       "      <td>-0.577882</td>\n",
       "      <td>1.086931</td>\n",
       "      <td>-0.807186</td>\n",
       "      <td>0.442659</td>\n",
       "      <td>-0.077379</td>\n",
       "      <td>1.115903</td>\n",
       "      <td>-1.856164</td>\n",
       "      <td>1.723957</td>\n",
       "      <td>0.436940</td>\n",
       "      <td>0.103570</td>\n",
       "      <td>0.520776</td>\n",
       "      <td>-0.140201</td>\n",
       "      <td>-0.220681</td>\n",
       "      <td>-0.189450</td>\n",
       "      <td>-0.146411</td>\n",
       "      <td>-0.011902</td>\n",
       "      <td>-0.094254</td>\n",
       "      <td>0.165738</td>\n",
       "    </tr>\n",
       "    <tr>\n",
       "      <th>4</th>\n",
       "      <td>-1.218083</td>\n",
       "      <td>0.534646</td>\n",
       "      <td>-0.148222</td>\n",
       "      <td>1.006407</td>\n",
       "      <td>0.980265</td>\n",
       "      <td>-0.987740</td>\n",
       "      <td>0.075023</td>\n",
       "      <td>-0.656055</td>\n",
       "      <td>0.230403</td>\n",
       "      <td>0.923224</td>\n",
       "      <td>-0.235464</td>\n",
       "      <td>-0.294805</td>\n",
       "      <td>0.405677</td>\n",
       "      <td>-0.424732</td>\n",
       "      <td>-0.329610</td>\n",
       "      <td>0.448392</td>\n",
       "      <td>-0.291543</td>\n",
       "      <td>0.169980</td>\n",
       "      <td>-0.570809</td>\n",
       "      <td>-0.690190</td>\n",
       "      <td>-0.199482</td>\n",
       "      <td>-0.017387</td>\n",
       "      <td>0.169467</td>\n",
       "      <td>0.069608</td>\n",
       "      <td>0.400284</td>\n",
       "      <td>0.285550</td>\n",
       "      <td>-0.398529</td>\n",
       "      <td>0.086772</td>\n",
       "      <td>0.037520</td>\n",
       "      <td>-0.426953</td>\n",
       "    </tr>\n",
       "  </tbody>\n",
       "</table>\n",
       "</div>"
      ],
      "text/plain": [
       "       Time        V1        V2  ...       V27       V28    Amount\n",
       "0 -0.803780 -0.974531 -2.519685  ... -0.154589  0.274232  2.286174\n",
       "1 -0.568892  0.577608 -1.368744  ...  0.074852  0.061433  1.248229\n",
       "2 -1.157676 -1.387629 -3.323788  ... -0.207149  0.332869  2.442618\n",
       "3 -0.933471 -0.350386 -0.091669  ... -0.011902 -0.094254  0.165738\n",
       "4 -1.218083  0.534646 -0.148222  ...  0.086772  0.037520 -0.426953\n",
       "\n",
       "[5 rows x 30 columns]"
      ]
     },
     "execution_count": 166,
     "metadata": {
      "tags": []
     },
     "output_type": "execute_result"
    }
   ],
   "source": [
    "df_resam=pd.DataFrame(X_ran,columns=x_var)\n",
    "df_resam.head() "
   ]
  },
  {
   "cell_type": "code",
   "execution_count": 167,
   "metadata": {
    "colab": {
     "base_uri": "https://localhost:8080/",
     "height": 483
    },
    "colab_type": "code",
    "executionInfo": {
     "elapsed": 1608,
     "status": "ok",
     "timestamp": 1589147708642,
     "user": {
      "displayName": "Vinaykumar Uppala",
      "photoUrl": "",
      "userId": "04118229899259509988"
     },
     "user_tz": -330
    },
    "id": "3bXalDVYQqDa",
    "outputId": "71682763-2f78-464d-a571-7be5c2d73c01"
   },
   "outputs": [
    {
     "data": {
      "image/png": "[encoded data removed]",
      "text/plain": [
       "<Figure size 720x576 with 1 Axes>"
      ]
     },
     "metadata": {
      "needs_background": "light",
      "tags": []
     },
     "output_type": "display_data"
    }
   ],
   "source": [
    "df_c1=df_resam[y_ran==0][['V1','V7']]\n",
    "df_c2=df_resam[y_ran==1][['V1','V7']]\n",
    "plt.figure(figsize=(10,8))\n",
    "plt.scatter(x=df_c1['V1'],y=df_c1['V7'])\n",
    "plt.scatter(x=df_c2['V1'],y=df_c2['V7'])\n",
    "plt.show()"
   ]
  },
  {
   "cell_type": "code",
   "execution_count": 170,
   "metadata": {
    "colab": {
     "base_uri": "https://localhost:8080/",
     "height": 52
    },
    "colab_type": "code",
    "executionInfo": {
     "elapsed": 81479,
     "status": "ok",
     "timestamp": 1589148201343,
     "user": {
      "displayName": "Vinaykumar Uppala",
      "photoUrl": "",
      "userId": "04118229899259509988"
     },
     "user_tz": -330
    },
    "id": "NFHPjlkjaDke",
    "outputId": "de54c024-9aa5-4ad7-f9c5-edf3bfb5e34f",
    "scrolled": true
   },
   "outputs": [
    {
     "name": "stdout",
     "output_type": "stream",
     "text": [
      "best_score= 0.9874366142162115\n",
      "best_params= {'C': 0.1, 'penalty': 'l2'}\n"
     ]
    }
   ],
   "source": [
    "#perform hyperparameter tuning\n",
    "params = { 'C': [0.1, 0.5, 1, 2, 3, 4, 5, 10], 'penalty': ['l1', 'l2']}\n",
    "\n",
    "# create 3 folds\n",
    "folds = StratifiedKFold(n_splits = 5, shuffle = True, random_state = 48)\n",
    "\n",
    "#Hyper parameter tuning using Logistic regression\n",
    "# create gridsearch object\n",
    "model = GridSearchCV(estimator=logistic, cv=folds, param_grid=params, scoring='roc_auc')\n",
    "model.fit(X_ran,y_ran)\n",
    "#print the evaluation result by choosing a evaluation metric\n",
    "print('best_score=',model.best_score_)\n",
    "#print the optimum value of hyperparameters\n",
    "print('best_params=',model.best_params_)"
   ]
  },
  {
   "cell_type": "code",
   "execution_count": 170,
   "metadata": {
    "colab": {
     "base_uri": "https://localhost:8080/",
     "height": 52
    },
    "colab_type": "code",
    "executionInfo": {
     "elapsed": 81479,
     "status": "ok",
     "timestamp": 1589148201343,
     "user": {
      "displayName": "Vinaykumar Uppala",
      "photoUrl": "",
      "userId": "04118229899259509988"
     },
     "user_tz": -330
    },
    "id": "NFHPjlkjaDke",
    "outputId": "de54c024-9aa5-4ad7-f9c5-edf3bfb5e34f",
    "scrolled": true
   },
   "outputs": [
    {
     "name": "stdout",
     "output_type": "stream",
     "text": [
      "best_score= 0.9874366142162115\n",
      "best_params= {'C': 0.1, 'penalty': 'l2'}\n"
     ]
    }
   ],
   "source": [
    "#perform hyperparameter tuning\n",
    "params = { 'C': [0.1, 0.5, 1, 2, 3, 4, 5, 10], 'penalty': ['l1', 'l2']}\n",
    "\n",
    "# create 3 folds\n",
    "folds = StratifiedKFold(n_splits = 5, shuffle = True, random_state = 48)\n",
    "\n",
    "#Hyper parameter tuning using Logistic regression\n",
    "# create gridsearch object\n",
    "model = GridSearchCV(estimator=logistic, cv=folds, param_grid=params, scoring='roc_auc')\n",
    "model.fit(X_ran,y_ran)\n",
    "#print the evaluation result by choosing a evaluation metric\n",
    "print('best_score=',model.best_score_)\n",
    "#print the optimum value of hyperparameters\n",
    "print('best_params=',model.best_params_)"
   ]
  },
  {
   "cell_type": "code",
   "execution_count": 16,
   "metadata": {
    "colab": {
     "base_uri": "https://localhost:8080/",
     "height": 35
    },
    "colab_type": "code",
    "executionInfo": {
     "elapsed": 3402,
     "status": "ok",
     "timestamp": 1589189504955,
     "user": {
      "displayName": "Vinaykumar Uppala",
      "photoUrl": "",
      "userId": "04118229899259509988"
     },
     "user_tz": -330
    },
    "id": "WYAfwmAdmd5r",
    "outputId": "df9595f9-cb0a-48c4-fc92-a9791483f62e",
    "scrolled": true
   },
   "outputs": [
    {
     "name": "stdout",
     "output_type": "stream",
     "text": [
      "auc_roc= 0.9774093250293496\n"
     ]
    }
   ],
   "source": [
    "#AUC_ROC score for test data set\n",
    "logistic = LogisticRegression(C=0.1,penalty='l2')\n",
    "logistic.fit(X_ran,y_ran)\n",
    "print('auc_roc=',roc_auc_score(y_test,logistic.predict_proba(X_test)[:,1]))\n"
   ]
  },
  {
   "cell_type": "markdown",
   "metadata": {
    "colab_type": "text",
    "id": "bOpb9vCmOtSH"
   },
   "source": [
    "Random Forest\n"
   ]
  },
  {
   "cell_type": "code",
   "execution_count": 178,
   "metadata": {
    "colab": {
     "base_uri": "https://localhost:8080/",
     "height": 381
    },
    "colab_type": "code",
    "executionInfo": {
     "elapsed": 655958,
     "status": "ok",
     "timestamp": 1589150171638,
     "user": {
      "displayName": "Vinaykumar Uppala",
      "photoUrl": "",
      "userId": "04118229899259509988"
     },
     "user_tz": -330
    },
    "id": "rTBc6GriPCB6",
    "outputId": "faab25ae-ceee-41c9-9cf1-d54c6095437c"
   },
   "outputs": [
    {
     "name": "stdout",
     "output_type": "stream",
     "text": [
      "Fitting 3 folds for each of 4 candidates, totalling 12 fits\n"
     ]
    },
    {
     "name": "stderr",
     "output_type": "stream",
     "text": [
      "[Parallel(n_jobs=4)]: Using backend LokyBackend with 4 concurrent workers.\n",
      "[Parallel(n_jobs=4)]: Done  12 out of  12 | elapsed:  8.8min finished\n"
     ]
    },
    {
     "data": {
      "text/plain": [
       "GridSearchCV(cv=3, error_score=nan,\n",
       "             estimator=RandomForestClassifier(bootstrap=True, ccp_alpha=0.0,\n",
       "                                              class_weight=None,\n",
       "                                              criterion='gini', max_depth=None,\n",
       "                                              max_features='auto',\n",
       "                                              max_leaf_nodes=None,\n",
       "                                              max_samples=None,\n",
       "                                              min_impurity_decrease=0.0,\n",
       "                                              min_impurity_split=None,\n",
       "                                              min_samples_leaf=1,\n",
       "                                              min_samples_split=2,\n",
       "                                              min_weight_fraction_leaf=0.0,\n",
       "                                              n_estimators=100, n_jobs=None,\n",
       "                                              oob_score=False, random_state=48,\n",
       "                                              verbose=0, warm_start=False),\n",
       "             iid='deprecated', n_jobs=4, param_grid={'max_depth': [3, 5, 7, 9]},\n",
       "             pre_dispatch='2*n_jobs', refit=True, return_train_score=True,\n",
       "             scoring='roc_auc', verbose=1)"
      ]
     },
     "execution_count": 178,
     "metadata": {
      "tags": []
     },
     "output_type": "execute_result"
    }
   ],
   "source": [
    "from sklearn.ensemble import RandomForestClassifier\n",
    "\n",
    "# specify number of folds for k-fold CV\n",
    "n_folds = 3\n",
    "\n",
    "# parameters to build the model on\n",
    "parameters = {'max_depth':[3,5,7,9]}\n",
    "\n",
    "# instantiate the model (note we are specifying a max_depth)\n",
    "rf = RandomForestClassifier(random_state=48)\n",
    "\n",
    "\n",
    "# fit tree on training data\n",
    "rf1 = GridSearchCV(rf, parameters, \n",
    "                    cv=n_folds, \n",
    "                   scoring=\"roc_auc\",verbose=1,return_train_score=True,\n",
    "                   n_jobs=4)\n",
    "rf1.fit(X_ran,y_ran)\n"
   ]
  },
  {
   "cell_type": "code",
   "execution_count": 179,
   "metadata": {
    "colab": {
     "base_uri": "https://localhost:8080/",
     "height": 261
    },
    "colab_type": "code",
    "executionInfo": {
     "elapsed": 3153,
     "status": "ok",
     "timestamp": 1589150219440,
     "user": {
      "displayName": "Vinaykumar Uppala",
      "photoUrl": "",
      "userId": "04118229899259509988"
     },
     "user_tz": -330
    },
    "id": "9NbzKCU1Pg3j",
    "outputId": "ea644f98-d589-4dbe-acef-c29ef7420011"
   },
   "outputs": [
    {
     "data": {
      "text/html": [
       "<div>\n",
       "<style scoped>\n",
       "    .dataframe tbody tr th:only-of-type {\n",
       "        vertical-align: middle;\n",
       "    }\n",
       "\n",
       "    .dataframe tbody tr th {\n",
       "        vertical-align: top;\n",
       "    }\n",
       "\n",
       "    .dataframe thead th {\n",
       "        text-align: right;\n",
       "    }\n",
       "</style>\n",
       "<table border=\"1\" class=\"dataframe\">\n",
       "  <thead>\n",
       "    <tr style=\"text-align: right;\">\n",
       "      <th></th>\n",
       "      <th>mean_fit_time</th>\n",
       "      <th>std_fit_time</th>\n",
       "      <th>mean_score_time</th>\n",
       "      <th>std_score_time</th>\n",
       "      <th>param_max_depth</th>\n",
       "      <th>params</th>\n",
       "      <th>split0_test_score</th>\n",
       "      <th>split1_test_score</th>\n",
       "      <th>split2_test_score</th>\n",
       "      <th>mean_test_score</th>\n",
       "      <th>std_test_score</th>\n",
       "      <th>rank_test_score</th>\n",
       "      <th>split0_train_score</th>\n",
       "      <th>split1_train_score</th>\n",
       "      <th>split2_train_score</th>\n",
       "      <th>mean_train_score</th>\n",
       "      <th>std_train_score</th>\n",
       "    </tr>\n",
       "  </thead>\n",
       "  <tbody>\n",
       "    <tr>\n",
       "      <th>0</th>\n",
       "      <td>91.160298</td>\n",
       "      <td>0.550162</td>\n",
       "      <td>1.594457</td>\n",
       "      <td>0.025655</td>\n",
       "      <td>3</td>\n",
       "      <td>{'max_depth': 3}</td>\n",
       "      <td>0.983989</td>\n",
       "      <td>0.983412</td>\n",
       "      <td>0.982774</td>\n",
       "      <td>0.983392</td>\n",
       "      <td>0.000497</td>\n",
       "      <td>4</td>\n",
       "      <td>0.983699</td>\n",
       "      <td>0.982911</td>\n",
       "      <td>0.983748</td>\n",
       "      <td>0.983453</td>\n",
       "      <td>0.000384</td>\n",
       "    </tr>\n",
       "    <tr>\n",
       "      <th>1</th>\n",
       "      <td>143.183755</td>\n",
       "      <td>0.529946</td>\n",
       "      <td>1.728450</td>\n",
       "      <td>0.011095</td>\n",
       "      <td>5</td>\n",
       "      <td>{'max_depth': 5}</td>\n",
       "      <td>0.994701</td>\n",
       "      <td>0.995158</td>\n",
       "      <td>0.994247</td>\n",
       "      <td>0.994702</td>\n",
       "      <td>0.000372</td>\n",
       "      <td>3</td>\n",
       "      <td>0.994595</td>\n",
       "      <td>0.995046</td>\n",
       "      <td>0.994628</td>\n",
       "      <td>0.994756</td>\n",
       "      <td>0.000205</td>\n",
       "    </tr>\n",
       "    <tr>\n",
       "      <th>2</th>\n",
       "      <td>194.860165</td>\n",
       "      <td>3.434847</td>\n",
       "      <td>1.974304</td>\n",
       "      <td>0.040974</td>\n",
       "      <td>7</td>\n",
       "      <td>{'max_depth': 7}</td>\n",
       "      <td>0.999152</td>\n",
       "      <td>0.999153</td>\n",
       "      <td>0.999155</td>\n",
       "      <td>0.999153</td>\n",
       "      <td>0.000002</td>\n",
       "      <td>2</td>\n",
       "      <td>0.999212</td>\n",
       "      <td>0.999174</td>\n",
       "      <td>0.999249</td>\n",
       "      <td>0.999212</td>\n",
       "      <td>0.000030</td>\n",
       "    </tr>\n",
       "    <tr>\n",
       "      <th>3</th>\n",
       "      <td>205.780448</td>\n",
       "      <td>23.668669</td>\n",
       "      <td>1.096864</td>\n",
       "      <td>0.286123</td>\n",
       "      <td>9</td>\n",
       "      <td>{'max_depth': 9}</td>\n",
       "      <td>0.999857</td>\n",
       "      <td>0.999924</td>\n",
       "      <td>0.999905</td>\n",
       "      <td>0.999895</td>\n",
       "      <td>0.000028</td>\n",
       "      <td>1</td>\n",
       "      <td>0.999913</td>\n",
       "      <td>0.999944</td>\n",
       "      <td>0.999921</td>\n",
       "      <td>0.999926</td>\n",
       "      <td>0.000013</td>\n",
       "    </tr>\n",
       "  </tbody>\n",
       "</table>\n",
       "</div>"
      ],
      "text/plain": [
       "   mean_fit_time  std_fit_time  ...  mean_train_score  std_train_score\n",
       "0      91.160298      0.550162  ...          0.983453         0.000384\n",
       "1     143.183755      0.529946  ...          0.994756         0.000205\n",
       "2     194.860165      3.434847  ...          0.999212         0.000030\n",
       "3     205.780448     23.668669  ...          0.999926         0.000013\n",
       "\n",
       "[4 rows x 17 columns]"
      ]
     },
     "execution_count": 179,
     "metadata": {
      "tags": []
     },
     "output_type": "execute_result"
    }
   ],
   "source": [
    "# scores of GridSearch CV\n",
    "scores = rf1.cv_results_\n",
    "pd.DataFrame(scores).head()"
   ]
  },
  {
   "cell_type": "code",
   "execution_count": 180,
   "metadata": {
    "colab": {
     "base_uri": "https://localhost:8080/",
     "height": 280
    },
    "colab_type": "code",
    "executionInfo": {
     "elapsed": 5365,
     "status": "ok",
     "timestamp": 1589150232664,
     "user": {
      "displayName": "Vinaykumar Uppala",
      "photoUrl": "",
      "userId": "04118229899259509988"
     },
     "user_tz": -330
    },
    "id": "oyhCX-MNPmMo",
    "outputId": "0e2724cd-806f-4058-fe92-0934ba83bcd1"
   },
   "outputs": [
    {
     "data": {
      "image/png": "[encoded data removed]",
      "text/plain": [
       "<Figure size 432x288 with 1 Axes>"
      ]
     },
     "metadata": {
      "needs_background": "light",
      "tags": []
     },
     "output_type": "display_data"
    }
   ],
   "source": [
    "# plotting roc_auc with max_depth\n",
    "plt.figure()\n",
    "plt.plot(scores[\"param_max_depth\"], \n",
    "         scores[\"mean_train_score\"], \n",
    "         label=\"training accuracy\")\n",
    "plt.plot(scores[\"param_max_depth\"], \n",
    "         scores[\"mean_test_score\"], \n",
    "         label=\"test accuracy\")\n",
    "plt.xlabel(\"max_depth\")\n",
    "plt.ylabel(\"roc_auc\")\n",
    "plt.legend()\n",
    "plt.show()"
   ]
  },
  {
   "cell_type": "code",
   "execution_count": 182,
   "metadata": {
    "colab": {
     "base_uri": "https://localhost:8080/",
     "height": 399
    },
    "colab_type": "code",
    "executionInfo": {
     "elapsed": 1390216,
     "status": "ok",
     "timestamp": 1589153830860,
     "user": {
      "displayName": "Vinaykumar Uppala",
      "photoUrl": "",
      "userId": "04118229899259509988"
     },
     "user_tz": -330
    },
    "id": "L0bjEVGOobXO",
    "outputId": "452e8e29-bc0d-4714-f13d-59f29c6d373e"
   },
   "outputs": [
    {
     "name": "stdout",
     "output_type": "stream",
     "text": [
      "Fitting 3 folds for each of 4 candidates, totalling 12 fits\n"
     ]
    },
    {
     "name": "stderr",
     "output_type": "stream",
     "text": [
      "[Parallel(n_jobs=4)]: Using backend LokyBackend with 4 concurrent workers.\n",
      "[Parallel(n_jobs=4)]: Done  12 out of  12 | elapsed: 22.1min finished\n"
     ]
    },
    {
     "data": {
      "text/plain": [
       "GridSearchCV(cv=3, error_score=nan,\n",
       "             estimator=RandomForestClassifier(bootstrap=True, ccp_alpha=0.0,\n",
       "                                              class_weight=None,\n",
       "                                              criterion='gini', max_depth=None,\n",
       "                                              max_features='auto',\n",
       "                                              max_leaf_nodes=None,\n",
       "                                              max_samples=None,\n",
       "                                              min_impurity_decrease=0.0,\n",
       "                                              min_impurity_split=None,\n",
       "                                              min_samples_leaf=1,\n",
       "                                              min_samples_split=2,\n",
       "                                              min_weight_fraction_leaf=0.0,\n",
       "                                              n_estimators=100, n_jobs=None,\n",
       "                                              oob_score=False, random_state=48,\n",
       "                                              verbose=0, warm_start=False),\n",
       "             iid='deprecated', n_jobs=4,\n",
       "             param_grid={'max_depth': [5], 'max_features': [4, 14, 20, 24]},\n",
       "             pre_dispatch='2*n_jobs', refit=True, return_train_score=True,\n",
       "             scoring='roc_auc', verbose=1)"
      ]
     },
     "execution_count": 182,
     "metadata": {
      "tags": []
     },
     "output_type": "execute_result"
    }
   ],
   "source": [
    "from sklearn.ensemble import RandomForestClassifier\n",
    "\n",
    "# specify number of folds for k-fold CV\n",
    "n_folds = 3\n",
    "\n",
    "# parameters to build the model on\n",
    "parameters = {'max_features': [4, 14, 20, 24],'max_depth':[5]}\n",
    "\n",
    "# instantiate the model (note we are specifying a max_depth)\n",
    "rf = RandomForestClassifier(random_state=48)\n",
    "\n",
    "\n",
    "# fit tree on training data\n",
    "rf1 = GridSearchCV(rf, parameters, \n",
    "                    cv=n_folds, \n",
    "                   scoring=\"roc_auc\",verbose=1,return_train_score=True,n_jobs=4)\n",
    "rf1.fit(X_ran,y_ran)\n"
   ]
  },
  {
   "cell_type": "code",
   "execution_count": 0,
   "metadata": {
    "colab": {},
    "colab_type": "code",
    "id": "-z0OXdC0oxqd"
   },
   "outputs": [],
   "source": [
    "# scores of GridSearch CV\n",
    "scores = rf1.cv_results_\n",
    "pd.DataFrame(scores).head()"
   ]
  },
  {
   "cell_type": "code",
   "execution_count": 185,
   "metadata": {
    "colab": {
     "base_uri": "https://localhost:8080/",
     "height": 280
    },
    "colab_type": "code",
    "executionInfo": {
     "elapsed": 1973,
     "status": "ok",
     "timestamp": 1589153862612,
     "user": {
      "displayName": "Vinaykumar Uppala",
      "photoUrl": "",
      "userId": "04118229899259509988"
     },
     "user_tz": -330
    },
    "id": "sdSOtC8Qo1C3",
    "outputId": "114e4829-9215-4e38-9563-69af5f747119"
   },
   "outputs": [
    {
     "data": {
      "image/png": "[encoded data removed]",
      "text/plain": [
       "<Figure size 432x288 with 1 Axes>"
      ]
     },
     "metadata": {
      "needs_background": "light",
      "tags": []
     },
     "output_type": "display_data"
    }
   ],
   "source": [
    "# plotting roc_auc with max_depth\n",
    "plt.figure()\n",
    "plt.plot(scores[\"param_max_features\"], \n",
    "         scores[\"mean_train_score\"], \n",
    "         label=\"training accuracy\")\n",
    "plt.plot(scores[\"param_max_features\"], \n",
    "         scores[\"mean_test_score\"], \n",
    "         label=\"test accuracy\")\n",
    "plt.xlabel(\"max_features\")\n",
    "plt.ylabel(\"roc_auc\")\n",
    "plt.legend()\n",
    "plt.show()"
   ]
  },
  {
   "cell_type": "code",
   "execution_count": 190,
   "metadata": {
    "colab": {
     "base_uri": "https://localhost:8080/",
     "height": 416
    },
    "colab_type": "code",
    "executionInfo": {
     "elapsed": 559096,
     "status": "ok",
     "timestamp": 1589155303499,
     "user": {
      "displayName": "Vinaykumar Uppala",
      "photoUrl": "",
      "userId": "04118229899259509988"
     },
     "user_tz": -330
    },
    "id": "2JtSp66PpJlz",
    "outputId": "c0d1a36f-5a8b-4570-daa8-d925a1bca882"
   },
   "outputs": [
    {
     "name": "stdout",
     "output_type": "stream",
     "text": [
      "Fitting 3 folds for each of 6 candidates, totalling 18 fits\n"
     ]
    },
    {
     "name": "stderr",
     "output_type": "stream",
     "text": [
      "[Parallel(n_jobs=4)]: Using backend LokyBackend with 4 concurrent workers.\n",
      "[Parallel(n_jobs=4)]: Done  18 out of  18 | elapsed:  8.5min finished\n"
     ]
    },
    {
     "data": {
      "text/plain": [
       "GridSearchCV(cv=3, error_score=nan,\n",
       "             estimator=RandomForestClassifier(bootstrap=True, ccp_alpha=0.0,\n",
       "                                              class_weight=None,\n",
       "                                              criterion='gini', max_depth=None,\n",
       "                                              max_features='auto',\n",
       "                                              max_leaf_nodes=None,\n",
       "                                              max_samples=None,\n",
       "                                              min_impurity_decrease=0.0,\n",
       "                                              min_impurity_split=None,\n",
       "                                              min_samples_leaf=1,\n",
       "                                              min_samples_split=2,\n",
       "                                              min_weight_fraction_leaf=0.0,\n",
       "                                              n_estimators=100, n_jobs=None,\n",
       "                                              oob_score=False, random_state=48,\n",
       "                                              verbose=0, warm_start=False),\n",
       "             iid='deprecated', n_jobs=4,\n",
       "             param_grid={'max_depth': [5], 'max_features': [3, 4],\n",
       "                         'min_samples_leaf': range(100, 400, 100)},\n",
       "             pre_dispatch='2*n_jobs', refit=True, return_train_score=True,\n",
       "             scoring='roc_auc', verbose=1)"
      ]
     },
     "execution_count": 190,
     "metadata": {
      "tags": []
     },
     "output_type": "execute_result"
    }
   ],
   "source": [
    "# specify number of folds for k-fold CV\n",
    "n_folds = 3\n",
    "\n",
    "# parameters to build the model on\n",
    "parameters = {'min_samples_leaf': range(100, 400, 100),'max_depth':[5]}\n",
    "\n",
    "# instantiate the model (note we are specifying a max_depth)\n",
    "rf = RandomForestClassifier(random_state=48)\n",
    "\n",
    "\n",
    "# fit tree on training data\n",
    "rf1 = GridSearchCV(rf, parameters, \n",
    "                    cv=n_folds, \n",
    "                   scoring=\"roc_auc\",verbose=1,return_train_score=True,n_jobs=4)\n",
    "rf1.fit(X_ran,y_ran)\n"
   ]
  },
  {
   "cell_type": "code",
   "execution_count": 188,
   "metadata": {
    "colab": {
     "base_uri": "https://localhost:8080/",
     "height": 265
    },
    "colab_type": "code",
    "executionInfo": {
     "elapsed": 1462,
     "status": "ok",
     "timestamp": 1589154506756,
     "user": {
      "displayName": "Vinaykumar Uppala",
      "photoUrl": "",
      "userId": "04118229899259509988"
     },
     "user_tz": -330
    },
    "id": "p7-IshugpAyl",
    "outputId": "61348038-dbee-4746-a76d-f6fed48dbce6"
   },
   "outputs": [
    {
     "data": {
      "text/html": [
       "<div>\n",
       "<style scoped>\n",
       "    .dataframe tbody tr th:only-of-type {\n",
       "        vertical-align: middle;\n",
       "    }\n",
       "\n",
       "    .dataframe tbody tr th {\n",
       "        vertical-align: top;\n",
       "    }\n",
       "\n",
       "    .dataframe thead th {\n",
       "        text-align: right;\n",
       "    }\n",
       "</style>\n",
       "<table border=\"1\" class=\"dataframe\">\n",
       "  <thead>\n",
       "    <tr style=\"text-align: right;\">\n",
       "      <th></th>\n",
       "      <th>mean_fit_time</th>\n",
       "      <th>std_fit_time</th>\n",
       "      <th>mean_score_time</th>\n",
       "      <th>std_score_time</th>\n",
       "      <th>param_max_depth</th>\n",
       "      <th>param_min_samples_leaf</th>\n",
       "      <th>params</th>\n",
       "      <th>split0_test_score</th>\n",
       "      <th>split1_test_score</th>\n",
       "      <th>split2_test_score</th>\n",
       "      <th>mean_test_score</th>\n",
       "      <th>std_test_score</th>\n",
       "      <th>rank_test_score</th>\n",
       "      <th>split0_train_score</th>\n",
       "      <th>split1_train_score</th>\n",
       "      <th>split2_train_score</th>\n",
       "      <th>mean_train_score</th>\n",
       "      <th>std_train_score</th>\n",
       "    </tr>\n",
       "  </thead>\n",
       "  <tbody>\n",
       "    <tr>\n",
       "      <th>0</th>\n",
       "      <td>156.306521</td>\n",
       "      <td>0.427915</td>\n",
       "      <td>1.863423</td>\n",
       "      <td>0.056919</td>\n",
       "      <td>5</td>\n",
       "      <td>100</td>\n",
       "      <td>{'max_depth': 5, 'min_samples_leaf': 100}</td>\n",
       "      <td>0.994455</td>\n",
       "      <td>0.994949</td>\n",
       "      <td>0.993317</td>\n",
       "      <td>0.994240</td>\n",
       "      <td>0.000683</td>\n",
       "      <td>1</td>\n",
       "      <td>0.994353</td>\n",
       "      <td>0.994791</td>\n",
       "      <td>0.993826</td>\n",
       "      <td>0.994324</td>\n",
       "      <td>0.000395</td>\n",
       "    </tr>\n",
       "    <tr>\n",
       "      <th>1</th>\n",
       "      <td>152.553970</td>\n",
       "      <td>2.722745</td>\n",
       "      <td>1.843594</td>\n",
       "      <td>0.038893</td>\n",
       "      <td>5</td>\n",
       "      <td>200</td>\n",
       "      <td>{'max_depth': 5, 'min_samples_leaf': 200}</td>\n",
       "      <td>0.993935</td>\n",
       "      <td>0.994404</td>\n",
       "      <td>0.993363</td>\n",
       "      <td>0.993900</td>\n",
       "      <td>0.000426</td>\n",
       "      <td>3</td>\n",
       "      <td>0.993800</td>\n",
       "      <td>0.994282</td>\n",
       "      <td>0.993922</td>\n",
       "      <td>0.994001</td>\n",
       "      <td>0.000205</td>\n",
       "    </tr>\n",
       "    <tr>\n",
       "      <th>2</th>\n",
       "      <td>115.446832</td>\n",
       "      <td>47.468319</td>\n",
       "      <td>1.408923</td>\n",
       "      <td>0.579112</td>\n",
       "      <td>5</td>\n",
       "      <td>300</td>\n",
       "      <td>{'max_depth': 5, 'min_samples_leaf': 300}</td>\n",
       "      <td>0.994475</td>\n",
       "      <td>0.994271</td>\n",
       "      <td>0.993302</td>\n",
       "      <td>0.994016</td>\n",
       "      <td>0.000511</td>\n",
       "      <td>2</td>\n",
       "      <td>0.994394</td>\n",
       "      <td>0.994170</td>\n",
       "      <td>0.993787</td>\n",
       "      <td>0.994117</td>\n",
       "      <td>0.000251</td>\n",
       "    </tr>\n",
       "  </tbody>\n",
       "</table>\n",
       "</div>"
      ],
      "text/plain": [
       "   mean_fit_time  std_fit_time  ...  mean_train_score  std_train_score\n",
       "0     156.306521      0.427915  ...          0.994324         0.000395\n",
       "1     152.553970      2.722745  ...          0.994001         0.000205\n",
       "2     115.446832     47.468319  ...          0.994117         0.000251\n",
       "\n",
       "[3 rows x 18 columns]"
      ]
     },
     "execution_count": 188,
     "metadata": {
      "tags": []
     },
     "output_type": "execute_result"
    }
   ],
   "source": [
    "# scores of GridSearch CV\n",
    "scores = rf1.cv_results_\n",
    "pd.DataFrame(scores).head()"
   ]
  },
  {
   "cell_type": "code",
   "execution_count": 189,
   "metadata": {
    "colab": {
     "base_uri": "https://localhost:8080/",
     "height": 280
    },
    "colab_type": "code",
    "executionInfo": {
     "elapsed": 1720,
     "status": "ok",
     "timestamp": 1589154516512,
     "user": {
      "displayName": "Vinaykumar Uppala",
      "photoUrl": "",
      "userId": "04118229899259509988"
     },
     "user_tz": -330
    },
    "id": "keX_4vXWpD-E",
    "outputId": "d7fa2de9-6cda-4077-bfe2-4a11e02aae09"
   },
   "outputs": [
    {
     "data": {
      "image/png": "[encoded data removed]",
      "text/plain": [
       "<Figure size 432x288 with 1 Axes>"
      ]
     },
     "metadata": {
      "needs_background": "light",
      "tags": []
     },
     "output_type": "display_data"
    }
   ],
   "source": [
    "# plotting roc_auc with max_depth\n",
    "plt.figure()\n",
    "plt.plot(scores[\"param_min_samples_leaf\"], \n",
    "         scores[\"mean_train_score\"], \n",
    "         label=\"training accuracy\")\n",
    "plt.plot(scores[\"param_min_samples_leaf\"], \n",
    "         scores[\"mean_test_score\"], \n",
    "         label=\"test accuracy\")\n",
    "plt.xlabel(\"min_samples_leaf\")\n",
    "plt.ylabel(\"roc_auc\")\n",
    "plt.legend()\n",
    "plt.show()"
   ]
  },
  {
   "cell_type": "code",
   "execution_count": 200,
   "metadata": {
    "colab": {
     "base_uri": "https://localhost:8080/",
     "height": 416
    },
    "colab_type": "code",
    "executionInfo": {
     "elapsed": 2685987,
     "status": "ok",
     "timestamp": 1589173077487,
     "user": {
      "displayName": "Vinaykumar Uppala",
      "photoUrl": "",
      "userId": "04118229899259509988"
     },
     "user_tz": -330
    },
    "id": "pqa3HQ3x_g23",
    "outputId": "e3e6e8a6-2263-49bd-e8e4-f8e071aa8d53"
   },
   "outputs": [
    {
     "name": "stdout",
     "output_type": "stream",
     "text": [
      "Fitting 3 folds for each of 6 candidates, totalling 18 fits\n"
     ]
    },
    {
     "name": "stderr",
     "output_type": "stream",
     "text": [
      "[Parallel(n_jobs=4)]: Using backend LokyBackend with 4 concurrent workers.\n",
      "[Parallel(n_jobs=4)]: Done  18 out of  18 | elapsed: 40.5min finished\n"
     ]
    },
    {
     "data": {
      "text/plain": [
       "GridSearchCV(cv=3, error_score=nan,\n",
       "             estimator=RandomForestClassifier(bootstrap=True, ccp_alpha=0.0,\n",
       "                                              class_weight=None,\n",
       "                                              criterion='gini', max_depth=None,\n",
       "                                              max_features='auto',\n",
       "                                              max_leaf_nodes=None,\n",
       "                                              max_samples=None,\n",
       "                                              min_impurity_decrease=0.0,\n",
       "                                              min_impurity_split=None,\n",
       "                                              min_samples_leaf=1,\n",
       "                                              min_samples_split=2,\n",
       "                                              min_weight_fraction_leaf=0.0,\n",
       "                                              n_estimators=100, n_jobs=None,\n",
       "                                              oob_score=False, random_state=48,\n",
       "                                              verbose=0, warm_start=False),\n",
       "             iid='deprecated', n_jobs=4,\n",
       "             param_grid={'max_depth': [5], 'max_features': [17, 19, 22],\n",
       "                         'min_samples_leaf': range(100, 160, 30)},\n",
       "             pre_dispatch='2*n_jobs', refit=True, return_train_score=True,\n",
       "             scoring='roc_auc', verbose=1)"
      ]
     },
     "execution_count": 200,
     "metadata": {
      "tags": []
     },
     "output_type": "execute_result"
    }
   ],
   "source": [
    "# specify number of folds for k-fold CV\n",
    "n_folds = 3\n",
    "\n",
    "# parameters to build the model on\n",
    "parameters = {'min_samples_leaf': range(100, 160, 30),'max_depth':[5],'max_features':[17,19,22]}\n",
    "\n",
    "# instantiate the model (note we are specifying a max_depth)\n",
    "rf = RandomForestClassifier(random_state=48)\n",
    "\n",
    "\n",
    "# fit tree on training data\n",
    "rf1 = GridSearchCV(rf, parameters, \n",
    "                    cv=n_folds, \n",
    "                   scoring=\"roc_auc\",verbose=1,return_train_score=True,n_jobs=4)\n",
    "rf1.fit(X_ran,y_ran)\n"
   ]
  },
  {
   "cell_type": "code",
   "execution_count": 202,
   "metadata": {
    "colab": {
     "base_uri": "https://localhost:8080/",
     "height": 35
    },
    "colab_type": "code",
    "executionInfo": {
     "elapsed": 1144,
     "status": "ok",
     "timestamp": 1589173097817,
     "user": {
      "displayName": "Vinaykumar Uppala",
      "photoUrl": "",
      "userId": "04118229899259509988"
     },
     "user_tz": -330
    },
    "id": "uxkXmFHAPau4",
    "outputId": "f715ae43-2836-4734-f013-58663985a124"
   },
   "outputs": [
    {
     "data": {
      "text/plain": [
       "{'max_depth': 5, 'max_features': 17, 'min_samples_leaf': 100}"
      ]
     },
     "execution_count": 202,
     "metadata": {
      "tags": []
     },
     "output_type": "execute_result"
    }
   ],
   "source": [
    "rf1.best_params_"
   ]
  },
  {
   "cell_type": "code",
   "execution_count": 19,
   "metadata": {
    "colab": {
     "base_uri": "https://localhost:8080/",
     "height": 35
    },
    "colab_type": "code",
    "executionInfo": {
     "elapsed": 248754,
     "status": "ok",
     "timestamp": 1589189883647,
     "user": {
      "displayName": "Vinaykumar Uppala",
      "photoUrl": "",
      "userId": "04118229899259509988"
     },
     "user_tz": -330
    },
    "id": "RY-lJeyOPkRC",
    "outputId": "d8aac108-dd37-4150-e4a6-cbc6fa7d0bf1"
   },
   "outputs": [
    {
     "data": {
      "text/plain": [
       "0.9706988702167201"
      ]
     },
     "execution_count": 19,
     "metadata": {
      "tags": []
     },
     "output_type": "execute_result"
    }
   ],
   "source": [
    "#ROC_AUC score for test data set\n",
    "rf = RandomForestClassifier(random_state=48,max_depth=5,max_features=17,min_samples_leaf=100)\n",
    "rf.fit(X_ran,y_ran)\n",
    "roc_auc_score(y_test,rf.predict_proba(X_test)[:,1])\n"
   ]
  },
  {
   "cell_type": "code",
   "execution_count": 23,
   "metadata": {
    "colab": {
     "base_uri": "https://localhost:8080/",
     "height": 35
    },
    "colab_type": "code",
    "executionInfo": {
     "elapsed": 3618,
     "status": "ok",
     "timestamp": 1589190384505,
     "user": {
      "displayName": "Vinaykumar Uppala",
      "photoUrl": "",
      "userId": "04118229899259509988"
     },
     "user_tz": -330
    },
    "id": "B6UAFuInHejS",
    "outputId": "0cd3e5b6-dc39-407b-ea7e-83f9761066bc"
   },
   "outputs": [
    {
     "data": {
      "text/plain": [
       "0.9928062649935139"
      ]
     },
     "execution_count": 23,
     "metadata": {
      "tags": []
     },
     "output_type": "execute_result"
    }
   ],
   "source": [
    "#ROC_AUC score for train data set\n",
    "roc_auc_score(y_ran,rf.predict_proba(X_ran)[:,1])"
   ]
  },
  {
   "cell_type": "markdown",
   "metadata": {
    "colab_type": "text",
    "id": "9zDskWFhaDko"
   },
   "source": [
    "### Similarly explore other algorithms on balanced dataset by building models:"
   ]
  },
  {
   "cell_type": "markdown",
   "metadata": {
    "colab_type": "text",
    "id": "1M_X5KPcaDkq"
   },
   "source": [
    "### Print the class distribution after applying SMOTE "
   ]
  },
  {
   "cell_type": "code",
   "execution_count": 205,
   "metadata": {
    "colab": {
     "base_uri": "https://localhost:8080/",
     "height": 789
    },
    "colab_type": "code",
    "executionInfo": {
     "elapsed": 3915,
     "status": "ok",
     "timestamp": 1589173499134,
     "user": {
      "displayName": "Vinaykumar Uppala",
      "photoUrl": "",
      "userId": "04118229899259509988"
     },
     "user_tz": -330
    },
    "id": "ek5qRIJ5aDks",
    "outputId": "88db5b39-29fe-4d16-fcdb-8a59e1e7ba3a"
   },
   "outputs": [
    {
     "data": {
      "text/plain": [
       "<matplotlib.legend.Legend at 0x7ff76b275710>"
      ]
     },
     "execution_count": 205,
     "metadata": {
      "tags": []
     },
     "output_type": "execute_result"
    },
    {
     "data": {
      "image/png": "[encoded data removed]",
      "text/plain": [
       "<Figure size 1440x1440 with 3 Axes>"
      ]
     },
     "metadata": {
      "needs_background": "light",
      "tags": []
     },
     "output_type": "display_data"
    }
   ],
   "source": [
    "import warnings\n",
    "warnings.filterwarnings(\"ignore\")\n",
    "\n",
    "\n",
    "sm = over_sampling.SMOTE(random_state=0)\n",
    "X_train_smote, y_train_smote = sm.fit_resample(X_train, y_train)\n",
    "# Artificial minority samples and corresponding minority labels from SMOTE are appended\n",
    "# below X_train and y_train respectively\n",
    "# So to exclusively get the artificial minority samples from SMOTE, we do\n",
    "X_train_smote_1 = X_train_smote[X_train.shape[0]:]\n",
    "\n",
    "X_train_1 = X_train.to_numpy()[np.where(y_train==1.0)]\n",
    "X_train_0 = X_train.to_numpy()[np.where(y_train==0.0)]\n",
    "\n",
    "\n",
    "plt.rcParams['figure.figsize'] = [20, 20]\n",
    "fig = plt.figure()\n",
    "\n",
    "plt.subplot(3, 1, 1)\n",
    "plt.scatter(X_train_1[:, 0], X_train_1[:, 1], label='Actual Class-1 Examples')\n",
    "plt.legend()\n",
    "\n",
    "plt.subplot(3, 1, 2)\n",
    "plt.scatter(X_train_1[:, 0], X_train_1[:, 1], label='Actual Class-1 Examples')\n",
    "plt.scatter(X_train_smote_1[:X_train_1.shape[0], 0], X_train_smote_1[:X_train_1.shape[0], 1],\n",
    "            label='Artificial SMOTE Class-1 Examples')\n",
    "plt.legend()\n",
    "\n",
    "plt.subplot(3, 1, 3)\n",
    "plt.scatter(X_train_1[:, 0], X_train_1[:, 1], label='Actual Class-1 Examples')\n",
    "plt.scatter(X_train_0[:X_train_1.shape[0], 0], X_train_0[:X_train_1.shape[0], 1], label='Actual Class-0 Examples')\n",
    "plt.legend()"
   ]
  },
  {
   "cell_type": "code",
   "execution_count": 207,
   "metadata": {
    "colab": {
     "base_uri": "https://localhost:8080/",
     "height": 52
    },
    "colab_type": "code",
    "executionInfo": {
     "elapsed": 105247,
     "status": "ok",
     "timestamp": 1589173686143,
     "user": {
      "displayName": "Vinaykumar Uppala",
      "photoUrl": "",
      "userId": "04118229899259509988"
     },
     "user_tz": -330
    },
    "id": "jbD72e9kaDk5",
    "outputId": "76c61d94-cd85-41d5-f535-1bd1482d6a78"
   },
   "outputs": [
    {
     "name": "stdout",
     "output_type": "stream",
     "text": [
      "best_score= 0.9906291807143719\n",
      "best_params= {'C': 0.1, 'penalty': 'l2'}\n"
     ]
    }
   ],
   "source": [
    "#perform cross validation & then balance classes on X_train_cv & y_train_cv using SMOTE\n",
    "#perform hyperparameter tuning\n",
    "params = { 'C': [0.1, 0.5, 1, 2, 3, 4, 5, 10], 'penalty': ['l1', 'l2']}\n",
    "\n",
    "# create 3 folds\n",
    "folds = StratifiedKFold(n_splits = 5, shuffle = True, random_state = 48)\n",
    "\n",
    "#Hyper parameter tuning using Logistic regression\n",
    "# create gridsearch object\n",
    "model = GridSearchCV(estimator=logistic, cv=folds, param_grid=params, scoring='roc_auc')\n",
    "model.fit(X_train_smote,y_train_smote)\n",
    "#print the evaluation result by choosing a evaluation metric\n",
    "print('best_score=',model.best_score_)\n",
    "#print the optimum value of hyperparameters\n",
    "print('best_params=',model.best_params_)\n"
   ]
  },
  {
   "cell_type": "code",
   "execution_count": 209,
   "metadata": {
    "colab": {
     "base_uri": "https://localhost:8080/",
     "height": 35
    },
    "colab_type": "code",
    "executionInfo": {
     "elapsed": 4060,
     "status": "ok",
     "timestamp": 1589173875616,
     "user": {
      "displayName": "Vinaykumar Uppala",
      "photoUrl": "",
      "userId": "04118229899259509988"
     },
     "user_tz": -330
    },
    "id": "-38QMIpNIoFQ",
    "outputId": "93f66e45-8db9-47e9-df5d-5a317fdedba1"
   },
   "outputs": [
    {
     "data": {
      "text/plain": [
       "0.9434425911344254"
      ]
     },
     "execution_count": 209,
     "metadata": {
      "tags": []
     },
     "output_type": "execute_result"
    }
   ],
   "source": [
    "logistic=LogisticRegression(random_state=48,C=0.1,penalty='l2')\n",
    "logistic.fit(X_train_smote,y_train_smote)\n",
    "roc_auc_score(y_test,logistic.predict(X_test))"
   ]
  },
  {
   "cell_type": "code",
   "execution_count": 210,
   "metadata": {
    "colab": {
     "base_uri": "https://localhost:8080/",
     "height": 416
    },
    "colab_type": "code",
    "executionInfo": {
     "elapsed": 4657262,
     "status": "ok",
     "timestamp": 1589178602851,
     "user": {
      "displayName": "Vinaykumar Uppala",
      "photoUrl": "",
      "userId": "04118229899259509988"
     },
     "user_tz": -330
    },
    "id": "-mMVu0wiIfM-",
    "outputId": "3ca4e1d3-46e9-4fa3-ae7b-50e55f810f81"
   },
   "outputs": [
    {
     "name": "stdout",
     "output_type": "stream",
     "text": [
      "Fitting 3 folds for each of 6 candidates, totalling 18 fits\n"
     ]
    },
    {
     "name": "stderr",
     "output_type": "stream",
     "text": [
      "[Parallel(n_jobs=4)]: Using backend LokyBackend with 4 concurrent workers.\n",
      "[Parallel(n_jobs=4)]: Done  18 out of  18 | elapsed: 70.3min finished\n"
     ]
    },
    {
     "data": {
      "text/plain": [
       "GridSearchCV(cv=3, error_score=nan,\n",
       "             estimator=RandomForestClassifier(bootstrap=True, ccp_alpha=0.0,\n",
       "                                              class_weight=None,\n",
       "                                              criterion='gini', max_depth=None,\n",
       "                                              max_features='auto',\n",
       "                                              max_leaf_nodes=None,\n",
       "                                              max_samples=None,\n",
       "                                              min_impurity_decrease=0.0,\n",
       "                                              min_impurity_split=None,\n",
       "                                              min_samples_leaf=1,\n",
       "                                              min_samples_split=2,\n",
       "                                              min_weight_fraction_leaf=0.0,\n",
       "                                              n_estimators=100, n_jobs=None,\n",
       "                                              oob_score=False, random_state=48,\n",
       "                                              verbose=0, warm_start=False),\n",
       "             iid='deprecated', n_jobs=4,\n",
       "             param_grid={'max_depth': [5], 'max_features': [17, 19, 22],\n",
       "                         'min_samples_leaf': range(100, 160, 30)},\n",
       "             pre_dispatch='2*n_jobs', refit=True, return_train_score=True,\n",
       "             scoring='roc_auc', verbose=1)"
      ]
     },
     "execution_count": 210,
     "metadata": {
      "tags": []
     },
     "output_type": "execute_result"
    }
   ],
   "source": [
    "# specify number of folds for k-fold CV\n",
    "n_folds = 3\n",
    "\n",
    "# parameters to build the model on\n",
    "parameters = {'min_samples_leaf': range(100, 160, 30),'max_depth':[5],'max_features':[17,19,22]}\n",
    "\n",
    "# instantiate the model (note we are specifying a max_depth)\n",
    "rf = RandomForestClassifier(random_state=48)\n",
    "\n",
    "\n",
    "# fit tree on training data\n",
    "rf1 = GridSearchCV(rf, parameters, \n",
    "                    cv=n_folds, \n",
    "                   scoring=\"roc_auc\",verbose=1,return_train_score=True,n_jobs=4)\n",
    "rf1.fit(X_train_smote,y_train_smote)\n"
   ]
  },
  {
   "cell_type": "code",
   "execution_count": 211,
   "metadata": {
    "colab": {
     "base_uri": "https://localhost:8080/",
     "height": 35
    },
    "colab_type": "code",
    "executionInfo": {
     "elapsed": 1144,
     "status": "ok",
     "timestamp": 1589179000222,
     "user": {
      "displayName": "Vinaykumar Uppala",
      "photoUrl": "",
      "userId": "04118229899259509988"
     },
     "user_tz": -330
    },
    "id": "fx3tpg6Fcpw9",
    "outputId": "7e022dee-242c-40ed-c59d-2a29c34b13ad"
   },
   "outputs": [
    {
     "data": {
      "text/plain": [
       "{'max_depth': 5, 'max_features': 17, 'min_samples_leaf': 130}"
      ]
     },
     "execution_count": 211,
     "metadata": {
      "tags": []
     },
     "output_type": "execute_result"
    }
   ],
   "source": [
    "rf1.best_params_"
   ]
  },
  {
   "cell_type": "code",
   "execution_count": 27,
   "metadata": {
    "colab": {
     "base_uri": "https://localhost:8080/",
     "height": 35
    },
    "colab_type": "code",
    "executionInfo": {
     "elapsed": 451535,
     "status": "ok",
     "timestamp": 1589190911843,
     "user": {
      "displayName": "Vinaykumar Uppala",
      "photoUrl": "",
      "userId": "04118229899259509988"
     },
     "user_tz": -330
    },
    "id": "eigzS1nbWCS7",
    "outputId": "0536c546-4be8-4d2a-ba46-a988be3526df"
   },
   "outputs": [
    {
     "data": {
      "text/plain": [
       "0.9757502182409856"
      ]
     },
     "execution_count": 27,
     "metadata": {
      "tags": []
     },
     "output_type": "execute_result"
    }
   ],
   "source": [
    "#ROC_AUC score test data Set\n",
    "rf = RandomForestClassifier(random_state=48,max_depth=5,max_features=17,min_samples_leaf=130)\n",
    "rf.fit(X_train_smote,y_train_smote)\n",
    "roc_auc_score(y_test,rf.predict_proba(X_test)[:,1])\n"
   ]
  },
  {
   "cell_type": "code",
   "execution_count": 28,
   "metadata": {
    "colab": {
     "base_uri": "https://localhost:8080/",
     "height": 35
    },
    "colab_type": "code",
    "executionInfo": {
     "elapsed": 3461,
     "status": "ok",
     "timestamp": 1589191000229,
     "user": {
      "displayName": "Vinaykumar Uppala",
      "photoUrl": "",
      "userId": "04118229899259509988"
     },
     "user_tz": -330
    },
    "id": "ElRY50vfc4Lb",
    "outputId": "2d1591cb-7720-4625-892b-0b51e392b790"
   },
   "outputs": [
    {
     "data": {
      "text/plain": [
       "0.9955949937908494"
      ]
     },
     "execution_count": 28,
     "metadata": {
      "tags": []
     },
     "output_type": "execute_result"
    }
   ],
   "source": [
    "#ROC_AUC score train data Set\n",
    "roc_auc_score(y_train_smote,rf.predict_proba(X_train_smote)[:,1])"
   ]
  },
  {
   "cell_type": "code",
   "execution_count": null,
   "metadata": {},
   "outputs": [],
   "source": []
  },
  {
   "cell_type": "markdown",
   "metadata": {
    "colab_type": "text",
    "id": "GVbGmY2raDlI"
   },
   "source": [
    "##### Build models on other algorithms to see the better performing on SMOTE. \n",
    "#### Next we will be using ADASYN"
   ]
  },
  {
   "cell_type": "code",
   "execution_count": 32,
   "metadata": {},
   "outputs": [],
   "source": [
    "from imblearn.pipeline import Pipeline\n",
    "from imblearn.over_sampling import ADASYN\n",
    "from sklearn.metrics import roc_auc_score\n",
    "from sklearn.model_selection import StratifiedKFold"
   ]
  },
  {
   "cell_type": "code",
   "execution_count": 59,
   "metadata": {},
   "outputs": [],
   "source": [
    "#Creating ADASYS model\n",
    "oversample = ADASYN(random_state=100)"
   ]
  },
  {
   "cell_type": "code",
   "execution_count": 60,
   "metadata": {},
   "outputs": [],
   "source": [
    "# We shall 1st look at the logistic regression\n",
    "logistic = LogisticRegression()"
   ]
  },
  {
   "cell_type": "code",
   "execution_count": 61,
   "metadata": {},
   "outputs": [],
   "source": [
    "# create pipeline\n",
    "steps = [(\"oversample\", oversample),\n",
    "         (\"logistic\", logistic)\n",
    "        ]\n",
    "\n",
    "# compile pipeline\n",
    "over_logistic = Pipeline(steps)"
   ]
  },
  {
   "cell_type": "code",
   "execution_count": 62,
   "metadata": {},
   "outputs": [],
   "source": [
    "# hyperparameter space\n",
    "params = { 'oversample__n_neighbors':[1,3,5],\n",
    "          'logistic__C': [0.1, 0.5, 1, 2, 3, 4, 5, 10], 'logistic__penalty': ['l1', 'l2']}\n",
    "\n",
    "# create 3 folds\n",
    "folds = StratifiedKFold(n_splits = 3, shuffle = True, random_state = 4)\n",
    "\n",
    "# create gridsearch object\n",
    "model = GridSearchCV(estimator=over_logistic, cv=folds, param_grid=params, scoring='roc_auc')"
   ]
  },
  {
   "cell_type": "code",
   "execution_count": 63,
   "metadata": {
    "scrolled": true
   },
   "outputs": [
    {
     "data": {
      "text/plain": [
       "GridSearchCV(cv=StratifiedKFold(n_splits=3, random_state=4, shuffle=True),\n",
       "             error_score=nan,\n",
       "             estimator=Pipeline(memory=None,\n",
       "                                steps=[('oversample',\n",
       "                                        ADASYN(n_jobs=None, n_neighbors=5,\n",
       "                                               random_state=100,\n",
       "                                               sampling_strategy='auto')),\n",
       "                                       ('logistic',\n",
       "                                        LogisticRegression(C=1.0,\n",
       "                                                           class_weight=None,\n",
       "                                                           dual=False,\n",
       "                                                           fit_intercept=True,\n",
       "                                                           intercept_scaling=1,\n",
       "                                                           l1_ratio=None,\n",
       "                                                           max_iter=100,\n",
       "                                                           m...o',\n",
       "                                                           n_jobs=None,\n",
       "                                                           penalty='l2',\n",
       "                                                           random_state=None,\n",
       "                                                           solver='lbfgs',\n",
       "                                                           tol=0.0001,\n",
       "                                                           verbose=0,\n",
       "                                                           warm_start=False))],\n",
       "                                verbose=False),\n",
       "             iid='deprecated', n_jobs=None,\n",
       "             param_grid={'logistic__C': [0.1, 0.5, 1, 2, 3, 4, 5, 10],\n",
       "                         'logistic__penalty': ['l1', 'l2'],\n",
       "                         'oversample__n_neighbors': [1, 3, 5]},\n",
       "             pre_dispatch='2*n_jobs', refit=True, return_train_score=False,\n",
       "             scoring='roc_auc', verbose=0)"
      ]
     },
     "execution_count": 63,
     "metadata": {},
     "output_type": "execute_result"
    }
   ],
   "source": [
    "# fit model\n",
    "model.fit(X_train, y_train)"
   ]
  },
  {
   "cell_type": "code",
   "execution_count": 64,
   "metadata": {},
   "outputs": [
    {
     "name": "stdout",
     "output_type": "stream",
     "text": [
      "Best AUC:  0.9710761729423067\n",
      "Best hyperparameters:  {'logistic__C': 0.1, 'logistic__penalty': 'l2', 'oversample__n_neighbors': 5}\n"
     ]
    }
   ],
   "source": [
    "# print best hyperparameters\n",
    "print(\"Best AUC: \", model.best_score_)\n",
    "print(\"Best hyperparameters: \", model.best_params_)"
   ]
  },
  {
   "cell_type": "code",
   "execution_count": 33,
   "metadata": {},
   "outputs": [],
   "source": [
    "#Creating balanced data set using tuned parameters for ADASYN\n",
    "ada = ADASYN(random_state=100,n_neighbors=5) \n",
    "X_ada,y_ada = ada.fit_resample(X_train,y_train)"
   ]
  },
  {
   "cell_type": "code",
   "execution_count": null,
   "metadata": {},
   "outputs": [],
   "source": [
    "#Lets look at the distribution of class after apply ADASYN\n",
    "\n",
    "X_train_adasyn, y_train_adasyn = X_ada,y_ada\n",
    "# Artificial minority samples and corresponding minority labels from ADASYN are appended\n",
    "# below X_train and y_train respectively\n",
    "# So to exclusively get the artificial minority samples from ADASYN, we do\n",
    "X_train_adasyn_1 = X_train_adasyn[X_train.shape[0]:]\n",
    "\n",
    "X_train_1 = X_train.to_numpy[np.where(y_train==1.0)]\n",
    "X_train_0 = X_train.to_numpy[np.where(y_train==0.0)]\n",
    "\n",
    "\n",
    "\n",
    "import matplotlib.pyplot as plt\n",
    "%matplotlib inline\n",
    "plt.rcParams['figure.figsize'] = [20, 20]\n",
    "fig = plt.figure()\n",
    "\n",
    "plt.subplot(3, 1, 1)\n",
    "plt.scatter(X_train_1[:, 0], X_train_1[:, 1], label='Actual Class-1 Examples')\n",
    "plt.legend()\n",
    "\n",
    "plt.subplot(3, 1, 2)\n",
    "plt.scatter(X_train_1[:, 0], X_train_1[:, 1], label='Actual Class-1 Examples')\n",
    "plt.scatter(X_train_adasyn_1[:X_train_1.shape[0], 0], X_train_adasyn_1[:X_train_1.shape[0], 1],\n",
    "            label='Artificial ADASYN Class-1 Examples')\n",
    "plt.legend()\n",
    "\n",
    "plt.subplot(3, 1, 3)\n",
    "plt.scatter(X_train_1[:, 0], X_train_1[:, 1], label='Actual Class-1 Examples')\n",
    "plt.scatter(X_train_0[:X_train_1.shape[0], 0], X_train_0[:X_train_1.shape[0], 1], label='Actual Class-0 Examples')\n",
    "plt.legend()"
   ]
  },
  {
   "cell_type": "code",
   "execution_count": 66,
   "metadata": {},
   "outputs": [
    {
     "name": "stdout",
     "output_type": "stream",
     "text": [
      "0    199020\n",
      "1       344\n",
      "Name: Class, dtype: int64\n",
      "1    199059\n",
      "0    199020\n",
      "Name: Class, dtype: int64\n"
     ]
    }
   ],
   "source": [
    "print(y_train.value_counts())\n",
    "print(y_ada.value_counts())"
   ]
  },
  {
   "cell_type": "code",
   "execution_count": 67,
   "metadata": {
    "scrolled": true
   },
   "outputs": [
    {
     "data": {
      "text/plain": [
       "LogisticRegression(C=0.1, class_weight=None, dual=False, fit_intercept=True,\n",
       "                   intercept_scaling=1, l1_ratio=None, max_iter=100,\n",
       "                   multi_class='auto', n_jobs=None, penalty='l2',\n",
       "                   random_state=None, solver='lbfgs', tol=0.0001, verbose=0,\n",
       "                   warm_start=False)"
      ]
     },
     "execution_count": 67,
     "metadata": {},
     "output_type": "execute_result"
    }
   ],
   "source": [
    "# Fitting the model\n",
    "logreg_os = LogisticRegression(C=0.1,penalty='l2')\n",
    "logreg_os.fit(X_ada, y_ada)"
   ]
  },
  {
   "cell_type": "code",
   "execution_count": 70,
   "metadata": {},
   "outputs": [
    {
     "data": {
      "text/plain": [
       "0.9767866846857409"
      ]
     },
     "execution_count": 70,
     "metadata": {},
     "output_type": "execute_result"
    }
   ],
   "source": [
    "#ROC_AUC score test data Set\n",
    "roc_auc_score(y_test,logreg_os.predict_proba(X_test)[:,1])"
   ]
  },
  {
   "cell_type": "markdown",
   "metadata": {},
   "source": [
    "### looking for a better Model: Building Model Random Forest "
   ]
  },
  {
   "cell_type": "code",
   "execution_count": 75,
   "metadata": {
    "scrolled": false
   },
   "outputs": [
    {
     "data": {
      "text/plain": [
       "GridSearchCV(cv=3, error_score=nan,\n",
       "             estimator=RandomForestClassifier(bootstrap=True, ccp_alpha=0.0,\n",
       "                                              class_weight=None,\n",
       "                                              criterion='gini', max_depth=None,\n",
       "                                              max_features='auto',\n",
       "                                              max_leaf_nodes=None,\n",
       "                                              max_samples=None,\n",
       "                                              min_impurity_decrease=0.0,\n",
       "                                              min_impurity_split=None,\n",
       "                                              min_samples_leaf=1,\n",
       "                                              min_samples_split=2,\n",
       "                                              min_weight_fraction_leaf=0.0,\n",
       "                                              n_estimators=100, n_jobs=None,\n",
       "                                              oob_score=False,\n",
       "                                              random_state=None, verbose=0,\n",
       "                                              warm_start=False),\n",
       "             iid='deprecated', n_jobs=4,\n",
       "             param_grid={'max_depth': range(9, 16, 2)}, pre_dispatch='2*n_jobs',\n",
       "             refit=True, return_train_score=True, scoring='roc_auc', verbose=0)"
      ]
     },
     "execution_count": 75,
     "metadata": {},
     "output_type": "execute_result"
    }
   ],
   "source": [
    "# GridSearchCV to find optimal n_estimators\n",
    "from sklearn.model_selection import KFold\n",
    "from sklearn.model_selection import GridSearchCV\n",
    "from sklearn import tree\n",
    "\n",
    "# specify number of folds for k-fold CV\n",
    "n_folds = 3\n",
    "\n",
    "# parameters to build the model on\n",
    "parameters = {'max_depth': range(9,16,2)}\n",
    "\n",
    "# instantiate the model\n",
    "rf = RandomForestClassifier()\n",
    "\n",
    "\n",
    "# fit tree on training data\n",
    "rf = GridSearchCV(rf, parameters, \n",
    "                    cv=n_folds, \n",
    "                   scoring='roc_auc',return_train_score=True,n_jobs=4)\n",
    "rf.fit(X_ada, y_ada)"
   ]
  },
  {
   "cell_type": "code",
   "execution_count": 76,
   "metadata": {},
   "outputs": [
    {
     "data": {
      "text/html": [
       "<div>\n",
       "<style scoped>\n",
       "    .dataframe tbody tr th:only-of-type {\n",
       "        vertical-align: middle;\n",
       "    }\n",
       "\n",
       "    .dataframe tbody tr th {\n",
       "        vertical-align: top;\n",
       "    }\n",
       "\n",
       "    .dataframe thead th {\n",
       "        text-align: right;\n",
       "    }\n",
       "</style>\n",
       "<table border=\"1\" class=\"dataframe\">\n",
       "  <thead>\n",
       "    <tr style=\"text-align: right;\">\n",
       "      <th></th>\n",
       "      <th>mean_fit_time</th>\n",
       "      <th>std_fit_time</th>\n",
       "      <th>mean_score_time</th>\n",
       "      <th>std_score_time</th>\n",
       "      <th>param_max_depth</th>\n",
       "      <th>params</th>\n",
       "      <th>split0_test_score</th>\n",
       "      <th>split1_test_score</th>\n",
       "      <th>split2_test_score</th>\n",
       "      <th>mean_test_score</th>\n",
       "      <th>std_test_score</th>\n",
       "      <th>rank_test_score</th>\n",
       "      <th>split0_train_score</th>\n",
       "      <th>split1_train_score</th>\n",
       "      <th>split2_train_score</th>\n",
       "      <th>mean_train_score</th>\n",
       "      <th>std_train_score</th>\n",
       "    </tr>\n",
       "  </thead>\n",
       "  <tbody>\n",
       "    <tr>\n",
       "      <th>3</th>\n",
       "      <td>268.197401</td>\n",
       "      <td>4.300794</td>\n",
       "      <td>1.696444</td>\n",
       "      <td>0.093352</td>\n",
       "      <td>15</td>\n",
       "      <td>{'max_depth': 15}</td>\n",
       "      <td>0.994157</td>\n",
       "      <td>0.993386</td>\n",
       "      <td>0.995271</td>\n",
       "      <td>0.994271</td>\n",
       "      <td>0.000774</td>\n",
       "      <td>1</td>\n",
       "      <td>1.0</td>\n",
       "      <td>0.999995</td>\n",
       "      <td>1.0</td>\n",
       "      <td>0.999998</td>\n",
       "      <td>0.000002</td>\n",
       "    </tr>\n",
       "  </tbody>\n",
       "</table>\n",
       "</div>"
      ],
      "text/plain": [
       "   mean_fit_time  std_fit_time  mean_score_time  std_score_time  \\\n",
       "3     268.197401      4.300794         1.696444        0.093352   \n",
       "\n",
       "  param_max_depth             params  split0_test_score  split1_test_score  \\\n",
       "3              15  {'max_depth': 15}           0.994157           0.993386   \n",
       "\n",
       "   split2_test_score  mean_test_score  std_test_score  rank_test_score  \\\n",
       "3           0.995271         0.994271        0.000774                1   \n",
       "\n",
       "   split0_train_score  split1_train_score  split2_train_score  \\\n",
       "3                 1.0            0.999995                 1.0   \n",
       "\n",
       "   mean_train_score  std_train_score  \n",
       "3          0.999998         0.000002  "
      ]
     },
     "execution_count": 76,
     "metadata": {},
     "output_type": "execute_result"
    }
   ],
   "source": [
    "# scores of GridSearch CV\n",
    "scores = rf.cv_results_\n",
    "sc=pd.DataFrame(scores)\n",
    "sc.head()\n",
    "\n",
    "sc[sc['rank_test_score']==1]"
   ]
  },
  {
   "cell_type": "code",
   "execution_count": 78,
   "metadata": {},
   "outputs": [
    {
     "data": {
      "image/png": "[encoded data removed]",
      "text/plain": [
       "<Figure size 432x288 with 1 Axes>"
      ]
     },
     "metadata": {
      "needs_background": "light"
     },
     "output_type": "display_data"
    }
   ],
   "source": [
    "# plotting accuracies with max_depth\n",
    "plt.figure()\n",
    "plt.plot(scores[\"param_max_depth\"], \n",
    "         scores[\"mean_train_score\"], \n",
    "         label=\"training accuracy\")\n",
    "plt.plot(scores[\"param_max_depth\"], \n",
    "         scores[\"mean_test_score\"], \n",
    "         label=\"test accuracy\")\n",
    "plt.xlabel(\"max_depth\")\n",
    "plt.ylabel(\"Accuracy\")\n",
    "plt.legend()\n",
    "plt.show()"
   ]
  },
  {
   "cell_type": "code",
   "execution_count": 79,
   "metadata": {},
   "outputs": [],
   "source": [
    "# Create the parameter grid based on the results of random search \n",
    "param_grid = {\n",
    "    'max_depth': [15],\n",
    "    'min_samples_leaf': [7,4],\n",
    "    'min_samples_split': [4,7]\n",
    "}\n",
    "# Create a based mo\n",
    "rf = RandomForestClassifier(class_weight='balanced')\n",
    "# Instantiate the grid search model\n",
    "grid_search = GridSearchCV(estimator = rf, param_grid = param_grid, \n",
    "                          cv = 3, n_jobs = 4,verbose = 1)"
   ]
  },
  {
   "cell_type": "code",
   "execution_count": 80,
   "metadata": {},
   "outputs": [
    {
     "name": "stdout",
     "output_type": "stream",
     "text": [
      "Fitting 3 folds for each of 4 candidates, totalling 12 fits\n"
     ]
    },
    {
     "name": "stderr",
     "output_type": "stream",
     "text": [
      "[Parallel(n_jobs=4)]: Using backend LokyBackend with 4 concurrent workers.\n",
      "[Parallel(n_jobs=4)]: Done  12 out of  12 | elapsed: 14.8min finished\n"
     ]
    },
    {
     "data": {
      "text/plain": [
       "GridSearchCV(cv=3, error_score=nan,\n",
       "             estimator=RandomForestClassifier(bootstrap=True, ccp_alpha=0.0,\n",
       "                                              class_weight='balanced',\n",
       "                                              criterion='gini', max_depth=None,\n",
       "                                              max_features='auto',\n",
       "                                              max_leaf_nodes=None,\n",
       "                                              max_samples=None,\n",
       "                                              min_impurity_decrease=0.0,\n",
       "                                              min_impurity_split=None,\n",
       "                                              min_samples_leaf=1,\n",
       "                                              min_samples_split=2,\n",
       "                                              min_weight_fraction_leaf=0.0,\n",
       "                                              n_estimators=100, n_jobs=None,\n",
       "                                              oob_score=False,\n",
       "                                              random_state=None, verbose=0,\n",
       "                                              warm_start=False),\n",
       "             iid='deprecated', n_jobs=4,\n",
       "             param_grid={'max_depth': [15], 'min_samples_leaf': [7, 4],\n",
       "                         'min_samples_split': [4, 7]},\n",
       "             pre_dispatch='2*n_jobs', refit=True, return_train_score=False,\n",
       "             scoring=None, verbose=1)"
      ]
     },
     "execution_count": 80,
     "metadata": {},
     "output_type": "execute_result"
    }
   ],
   "source": [
    "# Fit the grid search to the data\n",
    "grid_search.fit(X_ada, y_ada)"
   ]
  },
  {
   "cell_type": "code",
   "execution_count": 81,
   "metadata": {},
   "outputs": [
    {
     "name": "stdout",
     "output_type": "stream",
     "text": [
      "We can get accuracy of 0.9168356029833274 using {'max_depth': 15, 'min_samples_leaf': 4, 'min_samples_split': 4}\n"
     ]
    }
   ],
   "source": [
    "# printing the optimal accuracy score and hyperparameters\n",
    "print('We can get accuracy of',grid_search.best_score_,'using',grid_search.best_params_)"
   ]
  },
  {
   "cell_type": "code",
   "execution_count": 36,
   "metadata": {},
   "outputs": [
    {
     "data": {
      "text/plain": [
       "RandomForestClassifier(bootstrap=True, ccp_alpha=0.0, class_weight=None,\n",
       "                       criterion='gini', max_depth=15, max_features='auto',\n",
       "                       max_leaf_nodes=None, max_samples=None,\n",
       "                       min_impurity_decrease=0.0, min_impurity_split=None,\n",
       "                       min_samples_leaf=2, min_samples_split=4,\n",
       "                       min_weight_fraction_leaf=0.0, n_estimators=100,\n",
       "                       n_jobs=None, oob_score=False, random_state=None,\n",
       "                       verbose=0, warm_start=False)"
      ]
     },
     "execution_count": 36,
     "metadata": {},
     "output_type": "execute_result"
    }
   ],
   "source": [
    "rfc_ada = RandomForestClassifier(\n",
    "                             max_depth=15,\n",
    "                             min_samples_leaf=2, \n",
    "                             min_samples_split=4\n",
    "                           )\n",
    "rfc_ada.fit(X_ada, y_ada)"
   ]
  },
  {
   "cell_type": "code",
   "execution_count": 37,
   "metadata": {},
   "outputs": [
    {
     "data": {
      "text/plain": [
       "0.9752201817856311"
      ]
     },
     "execution_count": 37,
     "metadata": {},
     "output_type": "execute_result"
    }
   ],
   "source": [
    "#ROC_AUC score test data Set\n",
    "roc_auc_score(y_test,rfc_ada.predict_proba(X_test)[:,1])"
   ]
  },
  {
   "cell_type": "code",
   "execution_count": 38,
   "metadata": {},
   "outputs": [],
   "source": [
    "#predicting class for training set\n",
    "y_train_ada_pred_rf=rfc_ada.predict(X_ada)\n",
    "y_train_ada_prob_rf=rfc_ada.predict_proba(X_ada)[:,1]"
   ]
  },
  {
   "cell_type": "code",
   "execution_count": 39,
   "metadata": {},
   "outputs": [
    {
     "name": "stdout",
     "output_type": "stream",
     "text": [
      "199364\n"
     ]
    }
   ],
   "source": [
    "print(len(y_train))"
   ]
  },
  {
   "cell_type": "code",
   "execution_count": 40,
   "metadata": {},
   "outputs": [
    {
     "data": {
      "image/png": "[encoded data removed]",
      "text/plain": [
       "<Figure size 360x360 with 1 Axes>"
      ]
     },
     "metadata": {
      "needs_background": "light"
     },
     "output_type": "display_data"
    }
   ],
   "source": [
    "# Roc curve which is desirable and occupying maximum area possible\n",
    "draw_roc(y_ada, y_train_ada_pred_rf)"
   ]
  },
  {
   "cell_type": "markdown",
   "metadata": {},
   "source": [
    "As we can the ROC curve is better in this model compared to all other model, we shall proceed further in evaluating the this model as final model"
   ]
  },
  {
   "cell_type": "code",
   "execution_count": 41,
   "metadata": {},
   "outputs": [
    {
     "data": {
      "text/html": [
       "<div>\n",
       "<style scoped>\n",
       "    .dataframe tbody tr th:only-of-type {\n",
       "        vertical-align: middle;\n",
       "    }\n",
       "\n",
       "    .dataframe tbody tr th {\n",
       "        vertical-align: top;\n",
       "    }\n",
       "\n",
       "    .dataframe thead th {\n",
       "        text-align: right;\n",
       "    }\n",
       "</style>\n",
       "<table border=\"1\" class=\"dataframe\">\n",
       "  <thead>\n",
       "    <tr style=\"text-align: right;\">\n",
       "      <th></th>\n",
       "      <th>0.0</th>\n",
       "      <th>0.1</th>\n",
       "      <th>0.2</th>\n",
       "      <th>0.3</th>\n",
       "      <th>0.4</th>\n",
       "      <th>0.5</th>\n",
       "      <th>0.6</th>\n",
       "      <th>0.7</th>\n",
       "      <th>0.8</th>\n",
       "      <th>0.9</th>\n",
       "    </tr>\n",
       "  </thead>\n",
       "  <tbody>\n",
       "    <tr>\n",
       "      <th>0</th>\n",
       "      <td>1</td>\n",
       "      <td>0</td>\n",
       "      <td>0</td>\n",
       "      <td>0</td>\n",
       "      <td>0</td>\n",
       "      <td>0</td>\n",
       "      <td>0</td>\n",
       "      <td>0</td>\n",
       "      <td>0</td>\n",
       "      <td>0</td>\n",
       "    </tr>\n",
       "    <tr>\n",
       "      <th>1</th>\n",
       "      <td>1</td>\n",
       "      <td>0</td>\n",
       "      <td>0</td>\n",
       "      <td>0</td>\n",
       "      <td>0</td>\n",
       "      <td>0</td>\n",
       "      <td>0</td>\n",
       "      <td>0</td>\n",
       "      <td>0</td>\n",
       "      <td>0</td>\n",
       "    </tr>\n",
       "    <tr>\n",
       "      <th>2</th>\n",
       "      <td>1</td>\n",
       "      <td>0</td>\n",
       "      <td>0</td>\n",
       "      <td>0</td>\n",
       "      <td>0</td>\n",
       "      <td>0</td>\n",
       "      <td>0</td>\n",
       "      <td>0</td>\n",
       "      <td>0</td>\n",
       "      <td>0</td>\n",
       "    </tr>\n",
       "    <tr>\n",
       "      <th>3</th>\n",
       "      <td>1</td>\n",
       "      <td>0</td>\n",
       "      <td>0</td>\n",
       "      <td>0</td>\n",
       "      <td>0</td>\n",
       "      <td>0</td>\n",
       "      <td>0</td>\n",
       "      <td>0</td>\n",
       "      <td>0</td>\n",
       "      <td>0</td>\n",
       "    </tr>\n",
       "    <tr>\n",
       "      <th>4</th>\n",
       "      <td>1</td>\n",
       "      <td>0</td>\n",
       "      <td>0</td>\n",
       "      <td>0</td>\n",
       "      <td>0</td>\n",
       "      <td>0</td>\n",
       "      <td>0</td>\n",
       "      <td>0</td>\n",
       "      <td>0</td>\n",
       "      <td>0</td>\n",
       "    </tr>\n",
       "  </tbody>\n",
       "</table>\n",
       "</div>"
      ],
      "text/plain": [
       "   0.0  0.1  0.2  0.3  0.4  0.5  0.6  0.7  0.8  0.9\n",
       "0    1    0    0    0    0    0    0    0    0    0\n",
       "1    1    0    0    0    0    0    0    0    0    0\n",
       "2    1    0    0    0    0    0    0    0    0    0\n",
       "3    1    0    0    0    0    0    0    0    0    0\n",
       "4    1    0    0    0    0    0    0    0    0    0"
      ]
     },
     "execution_count": 41,
     "metadata": {},
     "output_type": "execute_result"
    }
   ],
   "source": [
    "# Creting class for different cutoffs from probabilty score predicted\n",
    "rf_ada_df=pd.DataFrame()\n",
    "numbers=[float(x)/10 for x in range(10)]\n",
    "for i in numbers:\n",
    "    rf_ada_df[i]=list(map(lambda x: 1 if x> i else 0,y_train_ada_prob_rf))\n",
    "rf_ada_df.head()"
   ]
  },
  {
   "cell_type": "code",
   "execution_count": 42,
   "metadata": {},
   "outputs": [
    {
     "name": "stdout",
     "output_type": "stream",
     "text": [
      "     prob  accuracy     sensi     speci\n",
      "0.0   0.0  0.574893  1.000000  0.149704\n",
      "0.1   0.1  0.981177  1.000000  0.962351\n",
      "0.2   0.2  0.990467  1.000000  0.980932\n",
      "0.3   0.3  0.994652  1.000000  0.989303\n",
      "0.4   0.4  0.997068  1.000000  0.994136\n",
      "0.5   0.5  0.998530  1.000000  0.997061\n",
      "0.6   0.6  0.999254  0.999995  0.998513\n",
      "0.7   0.7  0.999636  0.999995  0.999276\n",
      "0.8   0.8  0.999844  0.999985  0.999704\n",
      "0.9   0.9  0.999797  0.999689  0.999905\n"
     ]
    }
   ],
   "source": [
    "#For different cut offs calculating the metrics\n",
    "cutoff_df = pd.DataFrame( columns = ['prob','accuracy','sensi','speci'])\n",
    "from sklearn.metrics import confusion_matrix\n",
    "\n",
    "# TP = confusion[1,1] # true positive \n",
    "# TN = confusion[0,0] # true negatives\n",
    "# FP = confusion[0,1] # false positives\n",
    "# FN = confusion[1,0] # false negatives\n",
    "\n",
    "num = [0.0,0.1,0.2,0.3,0.4,0.5,0.6,0.7,0.8,0.9]\n",
    "for i in num:\n",
    "    cm1 = metrics.confusion_matrix(y_ada, rf_ada_df[i] )\n",
    "    total1=sum(sum(cm1))\n",
    "    accuracy = (cm1[0,0]+cm1[1,1])/total1\n",
    "    \n",
    "    speci = cm1[0,0]/(cm1[0,0]+cm1[0,1])\n",
    "    sensi = cm1[1,1]/(cm1[1,0]+cm1[1,1])\n",
    "    cutoff_df.loc[i] =[ i ,accuracy,sensi,speci]\n",
    "print(cutoff_df)"
   ]
  },
  {
   "cell_type": "code",
   "execution_count": 43,
   "metadata": {},
   "outputs": [
    {
     "data": {
      "image/png": "[encoded data removed]",
      "text/plain": [
       "<Figure size 432x288 with 1 Axes>"
      ]
     },
     "metadata": {
      "needs_background": "light"
     },
     "output_type": "display_data"
    }
   ],
   "source": [
    "#Plotting the metrics accuracy,sensitivity,specificity as the intersection is around 0.3 \n",
    "#so we take cutoff as 0.4 for now\n",
    "plt.plot(cutoff_df['accuracy'])\n",
    "plt.plot(cutoff_df['sensi'])\n",
    "plt.plot(cutoff_df['speci'])\n",
    "plt.show()"
   ]
  },
  {
   "cell_type": "code",
   "execution_count": 44,
   "metadata": {},
   "outputs": [],
   "source": [
    "#Predicting probability score for test data set\n",
    "y_test_ada_prob_rf=rfc_ada.predict_proba(X_test)[:,1]"
   ]
  },
  {
   "cell_type": "markdown",
   "metadata": {},
   "source": [
    "Looking at the graph and confusion we choose cutoff as 0.1 as it gives maximum output for all the three matrix: accurancy,sensitivity and specificity"
   ]
  },
  {
   "cell_type": "code",
   "execution_count": 45,
   "metadata": {},
   "outputs": [],
   "source": [
    "y_train_ada_pred_rf=pd.Series(map(lambda x:1 if x>0.1 else 0,y_train_ada_prob_rf))"
   ]
  },
  {
   "cell_type": "code",
   "execution_count": 46,
   "metadata": {},
   "outputs": [],
   "source": [
    "y_test_ada_pred_rf=pd.Series(map(lambda x:1 if x>0.1 else 0,y_test_ada_prob_rf))"
   ]
  },
  {
   "cell_type": "code",
   "execution_count": 47,
   "metadata": {},
   "outputs": [
    {
     "data": {
      "text/plain": [
       "98.12"
      ]
     },
     "execution_count": 47,
     "metadata": {},
     "output_type": "execute_result"
    }
   ],
   "source": [
    "#Accuracy for the train set after updating cutoff point\n",
    "round(metrics.accuracy_score(y_ada, y_train_ada_pred_rf)*100,2)"
   ]
  },
  {
   "cell_type": "code",
   "execution_count": 48,
   "metadata": {},
   "outputs": [
    {
     "data": {
      "text/plain": [
       "95.98"
      ]
     },
     "execution_count": 48,
     "metadata": {},
     "output_type": "execute_result"
    }
   ],
   "source": [
    "#Accuracy for the test set after updating cutoff point\n",
    "round(metrics.accuracy_score(y_test, y_test_ada_pred_rf)*100,2)"
   ]
  },
  {
   "cell_type": "code",
   "execution_count": 49,
   "metadata": {},
   "outputs": [
    {
     "name": "stdout",
     "output_type": "stream",
     "text": [
      "[[81869  3426]\n",
      " [   12   136]]\n",
      "Sensitivity: \t0.92\n",
      "Specificity: \t0.96\n",
      "AUC:    \t 0.98\n"
     ]
    }
   ],
   "source": [
    "from imblearn.metrics import sensitivity_specificity_support\n",
    "from sklearn.metrics import roc_auc_score\n",
    "# create onfusion matrix\n",
    "cm = confusion_matrix(y_test, y_test_ada_pred_rf)\n",
    "print(cm)\n",
    "\n",
    "# check sensitivity and specificity\n",
    "sensitivity, specificity, _ = sensitivity_specificity_support(y_test, y_test_ada_pred_rf, average='binary')\n",
    "print(\"Sensitivity: \\t\", round(sensitivity, 2), \"\\n\", \"Specificity: \\t\", round(specificity, 2), sep='')\n",
    "\n",
    "print(\"AUC:    \\t\", round(roc_auc_score(y_test, y_test_ada_prob_rf),2))"
   ]
  },
  {
   "cell_type": "markdown",
   "metadata": {},
   "source": [
    "#### As we can see from confusion matrix the False negative are less than that of model build without oversampling,So we can be sure these are best scores from final model for this data set."
   ]
  },
  {
   "cell_type": "markdown",
   "metadata": {
    "colab_type": "text",
    "id": "ttiCX4-8aDl8"
   },
   "source": [
    "### Print the important features of the best model to understand the dataset"
   ]
  },
  {
   "cell_type": "code",
   "execution_count": 0,
   "metadata": {
    "colab": {},
    "colab_type": "code",
    "id": "8KRru0_1aDl-"
   },
   "outputs": [],
   "source": [
    "var_imp = []\n",
    "for i in rfc_ada.feature_importances_:\n",
    "    var_imp.append(i)\n",
    "print('Top var =', var_imp.index(np.sort(rfc_ada.feature_importances_)[-1])+1)\n",
    "print('2nd Top var =', var_imp.index(np.sort(rfc_ada.feature_importances_)[-2])+1)\n",
    "print('3rd Top var =', var_imp.index(np.sort(rfc_ada.feature_importances_)[-3])+1)\n",
    "\n",
    "# Variable on Index-13 and Index-9 seems to be the top 2 variables\n",
    "top_var_index = var_imp.index(np.sort(rfc_ada.feature_importances_)[-1])\n",
    "second_top_var_index = var_imp.index(np.sort(rfc_ada.feature_importances_)[-2])\n",
    "\n",
    "X_train_1 = X_train.to_numpy()[np.where(y_train==1.0)]\n",
    "X_train_0 = X_train.to_numpy()[np.where(y_train==0.0)]\n",
    "\n",
    "np.random.shuffle(X_train_0)\n",
    "\n",
    "import matplotlib.pyplot as plt\n",
    "%matplotlib inline\n",
    "plt.rcParams['figure.figsize'] = [20, 20]\n",
    "\n",
    "plt.scatter(X_train_1[:, top_var_index], X_train_1[:, second_top_var_index], label='Actual Class-1 Examples')\n",
    "plt.scatter(X_train_0[:X_train_1.shape[0], top_var_index], X_train_0[:X_train_1.shape[0], second_top_var_index],\n",
    "            label='Actual Class-0 Examples')\n",
    "plt.legend()"
   ]
  },
  {
   "cell_type": "markdown",
   "metadata": {
    "colab_type": "text",
    "id": "UUgRJ_HvNw6H"
   },
   "source": [
    "### COST ANALYSIS\n"
   ]
  },
  {
   "cell_type": "code",
   "execution_count": 50,
   "metadata": {
    "colab": {
     "base_uri": "https://localhost:8080/",
     "height": 202
    },
    "colab_type": "code",
    "executionInfo": {
     "elapsed": 1556,
     "status": "ok",
     "timestamp": 1589194066412,
     "user": {
      "displayName": "Vinaykumar Uppala",
      "photoUrl": "",
      "userId": "04118229899259509988"
     },
     "user_tz": -330
    },
    "id": "Ypyoz2JxN8A9",
    "outputId": "7ba35b74-b384-4014-b99b-91a21ab4180c"
   },
   "outputs": [
    {
     "data": {
      "text/html": [
       "<div>\n",
       "<style scoped>\n",
       "    .dataframe tbody tr th:only-of-type {\n",
       "        vertical-align: middle;\n",
       "    }\n",
       "\n",
       "    .dataframe tbody tr th {\n",
       "        vertical-align: top;\n",
       "    }\n",
       "\n",
       "    .dataframe thead th {\n",
       "        text-align: right;\n",
       "    }\n",
       "</style>\n",
       "<table border=\"1\" class=\"dataframe\">\n",
       "  <thead>\n",
       "    <tr style=\"text-align: right;\">\n",
       "      <th></th>\n",
       "      <th>Amount</th>\n",
       "      <th>pred_prob</th>\n",
       "      <th>true_class</th>\n",
       "    </tr>\n",
       "  </thead>\n",
       "  <tbody>\n",
       "    <tr>\n",
       "      <th>1</th>\n",
       "      <td>2.69</td>\n",
       "      <td>0.000004</td>\n",
       "      <td>0</td>\n",
       "    </tr>\n",
       "    <tr>\n",
       "      <th>2</th>\n",
       "      <td>378.66</td>\n",
       "      <td>0.000073</td>\n",
       "      <td>0</td>\n",
       "    </tr>\n",
       "    <tr>\n",
       "      <th>3</th>\n",
       "      <td>123.50</td>\n",
       "      <td>0.000046</td>\n",
       "      <td>0</td>\n",
       "    </tr>\n",
       "    <tr>\n",
       "      <th>13</th>\n",
       "      <td>27.50</td>\n",
       "      <td>0.000046</td>\n",
       "      <td>0</td>\n",
       "    </tr>\n",
       "    <tr>\n",
       "      <th>18</th>\n",
       "      <td>46.80</td>\n",
       "      <td>0.015000</td>\n",
       "      <td>0</td>\n",
       "    </tr>\n",
       "  </tbody>\n",
       "</table>\n",
       "</div>"
      ],
      "text/plain": [
       "    Amount  pred_prob  true_class\n",
       "1     2.69   0.000004           0\n",
       "2   378.66   0.000073           0\n",
       "3   123.50   0.000046           0\n",
       "13   27.50   0.000046           0\n",
       "18   46.80   0.015000           0"
      ]
     },
     "execution_count": 50,
     "metadata": {},
     "output_type": "execute_result"
    }
   ],
   "source": [
    "#Creating a dataframe with amount,true and predicted values\n",
    "X_test_ama=X_test.copy()\n",
    "X_test_ama['true_class']=y_test\n",
    "X_test_ama['pred_prob']=y_test_ada_prob_rf\n",
    "ama=df_frd[['Amount']].merge(X_test_ama[['pred_prob','true_class']],left_index=True, right_index=True)\n",
    "ama.head()"
   ]
  },
  {
   "cell_type": "code",
   "execution_count": 51,
   "metadata": {
    "colab": {
     "base_uri": "https://localhost:8080/",
     "height": 202
    },
    "colab_type": "code",
    "executionInfo": {
     "elapsed": 1144,
     "status": "ok",
     "timestamp": 1589195024716,
     "user": {
      "displayName": "Vinaykumar Uppala",
      "photoUrl": "",
      "userId": "04118229899259509988"
     },
     "user_tz": -330
    },
    "id": "lUYll1GzYlHD",
    "outputId": "3f0c9378-0423-4a4c-8c00-c01dc56261ca"
   },
   "outputs": [
    {
     "data": {
      "text/html": [
       "<div>\n",
       "<style scoped>\n",
       "    .dataframe tbody tr th:only-of-type {\n",
       "        vertical-align: middle;\n",
       "    }\n",
       "\n",
       "    .dataframe tbody tr th {\n",
       "        vertical-align: top;\n",
       "    }\n",
       "\n",
       "    .dataframe thead th {\n",
       "        text-align: right;\n",
       "    }\n",
       "</style>\n",
       "<table border=\"1\" class=\"dataframe\">\n",
       "  <thead>\n",
       "    <tr style=\"text-align: right;\">\n",
       "      <th></th>\n",
       "      <th>Amount</th>\n",
       "      <th>pred_prob</th>\n",
       "      <th>true_class</th>\n",
       "      <th>0.0</th>\n",
       "      <th>0.1</th>\n",
       "      <th>0.2</th>\n",
       "      <th>0.3</th>\n",
       "      <th>0.4</th>\n",
       "      <th>0.5</th>\n",
       "      <th>0.6</th>\n",
       "      <th>0.7</th>\n",
       "      <th>0.8</th>\n",
       "      <th>0.9</th>\n",
       "    </tr>\n",
       "  </thead>\n",
       "  <tbody>\n",
       "    <tr>\n",
       "      <th>1</th>\n",
       "      <td>2.69</td>\n",
       "      <td>0.000004</td>\n",
       "      <td>0</td>\n",
       "      <td>1</td>\n",
       "      <td>0</td>\n",
       "      <td>0</td>\n",
       "      <td>0</td>\n",
       "      <td>0</td>\n",
       "      <td>0</td>\n",
       "      <td>0</td>\n",
       "      <td>0</td>\n",
       "      <td>0</td>\n",
       "      <td>0</td>\n",
       "    </tr>\n",
       "    <tr>\n",
       "      <th>2</th>\n",
       "      <td>378.66</td>\n",
       "      <td>0.000073</td>\n",
       "      <td>0</td>\n",
       "      <td>1</td>\n",
       "      <td>0</td>\n",
       "      <td>0</td>\n",
       "      <td>0</td>\n",
       "      <td>0</td>\n",
       "      <td>0</td>\n",
       "      <td>0</td>\n",
       "      <td>0</td>\n",
       "      <td>0</td>\n",
       "      <td>0</td>\n",
       "    </tr>\n",
       "    <tr>\n",
       "      <th>3</th>\n",
       "      <td>123.50</td>\n",
       "      <td>0.000046</td>\n",
       "      <td>0</td>\n",
       "      <td>1</td>\n",
       "      <td>0</td>\n",
       "      <td>0</td>\n",
       "      <td>0</td>\n",
       "      <td>0</td>\n",
       "      <td>0</td>\n",
       "      <td>0</td>\n",
       "      <td>0</td>\n",
       "      <td>0</td>\n",
       "      <td>0</td>\n",
       "    </tr>\n",
       "    <tr>\n",
       "      <th>13</th>\n",
       "      <td>27.50</td>\n",
       "      <td>0.000046</td>\n",
       "      <td>0</td>\n",
       "      <td>1</td>\n",
       "      <td>0</td>\n",
       "      <td>0</td>\n",
       "      <td>0</td>\n",
       "      <td>0</td>\n",
       "      <td>0</td>\n",
       "      <td>0</td>\n",
       "      <td>0</td>\n",
       "      <td>0</td>\n",
       "      <td>0</td>\n",
       "    </tr>\n",
       "    <tr>\n",
       "      <th>18</th>\n",
       "      <td>46.80</td>\n",
       "      <td>0.015000</td>\n",
       "      <td>0</td>\n",
       "      <td>1</td>\n",
       "      <td>0</td>\n",
       "      <td>0</td>\n",
       "      <td>0</td>\n",
       "      <td>0</td>\n",
       "      <td>0</td>\n",
       "      <td>0</td>\n",
       "      <td>0</td>\n",
       "      <td>0</td>\n",
       "      <td>0</td>\n",
       "    </tr>\n",
       "  </tbody>\n",
       "</table>\n",
       "</div>"
      ],
      "text/plain": [
       "    Amount  pred_prob  true_class  0.0  0.1  0.2  0.3  0.4  0.5  0.6  0.7  \\\n",
       "1     2.69   0.000004           0    1    0    0    0    0    0    0    0   \n",
       "2   378.66   0.000073           0    1    0    0    0    0    0    0    0   \n",
       "3   123.50   0.000046           0    1    0    0    0    0    0    0    0   \n",
       "13   27.50   0.000046           0    1    0    0    0    0    0    0    0   \n",
       "18   46.80   0.015000           0    1    0    0    0    0    0    0    0   \n",
       "\n",
       "    0.8  0.9  \n",
       "1     0    0  \n",
       "2     0    0  \n",
       "3     0    0  \n",
       "13    0    0  \n",
       "18    0    0  "
      ]
     },
     "execution_count": 51,
     "metadata": {},
     "output_type": "execute_result"
    }
   ],
   "source": [
    "#predicting the target values by using different cut offs\n",
    "numbers=[float(x)/10 for x in range(10)]\n",
    "for i in numbers:\n",
    "    ama[i]=ama.pred_prob.map(lambda x: 1 if x> i else 0)\n",
    "ama.head()"
   ]
  },
  {
   "cell_type": "code",
   "execution_count": 52,
   "metadata": {
    "colab": {
     "base_uri": "https://localhost:8080/",
     "height": 208
    },
    "colab_type": "code",
    "executionInfo": {
     "elapsed": 1525,
     "status": "ok",
     "timestamp": 1589195054920,
     "user": {
      "displayName": "Vinaykumar Uppala",
      "photoUrl": "",
      "userId": "04118229899259509988"
     },
     "user_tz": -330
    },
    "id": "LPBZB8KfYWEo",
    "outputId": "943199f4-a0d1-4510-c00c-ad1a0c6a090d"
   },
   "outputs": [
    {
     "name": "stdout",
     "output_type": "stream",
     "text": [
      "     prob  accuracy     sensi     speci\n",
      "0.0   0.0  0.144084  0.993243  0.142611\n",
      "0.1   0.1  0.959763  0.918919  0.959834\n",
      "0.2   0.2  0.980232  0.864865  0.980433\n",
      "0.3   0.3  0.988846  0.851351  0.989085\n",
      "0.4   0.4  0.993739  0.837838  0.994009\n",
      "0.5   0.5  0.996770  0.824324  0.997069\n",
      "0.6   0.6  0.998268  0.804054  0.998605\n",
      "0.7   0.7  0.998982  0.797297  0.999332\n",
      "0.8   0.8  0.999298  0.736486  0.999754\n",
      "0.9   0.9  0.999251  0.621622  0.999906\n"
     ]
    }
   ],
   "source": [
    "#For different cut offs calculating the metrics\n",
    "cutoff_df = pd.DataFrame( columns = ['prob','accuracy','sensi','speci'])\n",
    "from sklearn.metrics import confusion_matrix\n",
    "\n",
    "# TP = confusion[1,1] # true positive \n",
    "# TN = confusion[0,0] # true negatives\n",
    "# FP = confusion[0,1] # false positives\n",
    "# FN = confusion[1,0] # false negatives\n",
    "\n",
    "num = [0.0,0.1,0.2,0.3,0.4,0.5,0.6,0.7,0.8,0.9]\n",
    "for i in num:\n",
    "    cm1 = metrics.confusion_matrix(ama['true_class'], ama[i] )\n",
    "    total1=sum(sum(cm1))\n",
    "    accuracy = (cm1[0,0]+cm1[1,1])/total1\n",
    "    \n",
    "    speci = cm1[0,0]/(cm1[0,0]+cm1[0,1])\n",
    "    sensi = cm1[1,1]/(cm1[1,0]+cm1[1,1])\n",
    "    cutoff_df.loc[i] =[ i ,accuracy,sensi,speci]\n",
    "print(cutoff_df)"
   ]
  },
  {
   "cell_type": "code",
   "execution_count": 53,
   "metadata": {
    "colab": {
     "base_uri": "https://localhost:8080/",
     "height": 225
    },
    "colab_type": "code",
    "executionInfo": {
     "elapsed": 998,
     "status": "ok",
     "timestamp": 1589195221465,
     "user": {
      "displayName": "Vinaykumar Uppala",
      "photoUrl": "",
      "userId": "04118229899259509988"
     },
     "user_tz": -330
    },
    "id": "EyErzHj9aSLm",
    "outputId": "7d1ec41f-a065-4a71-8847-82000d0e6dd1"
   },
   "outputs": [
    {
     "data": {
      "image/png": "[encoded data removed]",
      "text/plain": [
       "<Figure size 1080x432 with 2 Axes>"
      ]
     },
     "metadata": {
      "needs_background": "light"
     },
     "output_type": "display_data"
    }
   ],
   "source": [
    "plt.figure(figsize=(15,6))\n",
    "plt.subplot(1,2,1)\n",
    "ama[ama[0.1]==1]['Amount'].plot(kind='hist')\n",
    "plt.yscale('log')\n",
    "plt.subplot(1,2,2)\n",
    "ama[ama[0.2]==1]['Amount'].plot(kind='hist')\n",
    "plt.yscale('log')\n",
    "plt.show()"
   ]
  },
  {
   "cell_type": "markdown",
   "metadata": {},
   "source": [
    "choosing between 0.1 and 0.2 as cutoff considering the cost to company for stopping the fraud vs the actual loss amount due to fraud"
   ]
  },
  {
   "cell_type": "code",
   "execution_count": 57,
   "metadata": {},
   "outputs": [
    {
     "name": "stdout",
     "output_type": "stream",
     "text": [
      "Amount loss due to Fraud for cutoff 0.1 = 312489.27\n",
      "Amount loss due to Fraud for cutoff 0.2 = 133363.61\n"
     ]
    }
   ],
   "source": [
    "amt_1=ama[ama[0.1]==1]['Amount'].sum()\n",
    "amt_2=ama[ama[0.2]==1]['Amount'].sum()\n",
    "print('Amount loss due to Fraud for cutoff 0.1 =',amt_1)\n",
    "print('Amount loss due to Fraud for cutoff 0.2 =',amt_2)"
   ]
  },
  {
   "cell_type": "markdown",
   "metadata": {},
   "source": [
    "suppose the cost to company to stop the fraud 100 units then the following the cost to company for two separate cuttoffs"
   ]
  },
  {
   "cell_type": "code",
   "execution_count": 58,
   "metadata": {},
   "outputs": [
    {
     "name": "stdout",
     "output_type": "stream",
     "text": [
      "Cost to company to stop Fraud for cutoff 0.1 = 356200\n",
      "Cost to company to stop Fraud for cutoff 0.2 = 179700\n"
     ]
    }
   ],
   "source": [
    "cost_1=ama[ama[0.1]==1]['Amount'].count()\n",
    "cost_2=ama[ama[0.2]==1]['Amount'].count()\n",
    "print('Cost to company to stop Fraud for cutoff 0.1 =',cost_1*100)\n",
    "print('Cost to company to stop Fraud for cutoff 0.2 =',cost_2*100)"
   ]
  },
  {
   "cell_type": "code",
   "execution_count": 59,
   "metadata": {},
   "outputs": [
    {
     "name": "stdout",
     "output_type": "stream",
     "text": [
      "cost to company saving for cutoff 0.2 instead of 0.1 = 1765\n",
      "Amount that will be lost for letting go the fraud for selecting cutoff 0.2 over 0.1 = 179125.66000000003\n"
     ]
    }
   ],
   "source": [
    "print('cost to company saving for cutoff 0.2 instead of 0.1 =',cost_1-cost_2)\n",
    "print('Amount that will be lost for letting go the fraud for selecting cutoff 0.2 over 0.1 =',amt_1-amt_2)"
   ]
  },
  {
   "cell_type": "code",
   "execution_count": null,
   "metadata": {},
   "outputs": [],
   "source": []
  }
 ],
 "metadata": {
  "colab": {
   "collapsed_sections": [],
   "name": "Credit_card_fraud_detection_Starter_code+.ipynb",
   "provenance": [],
   "toc_visible": true
  },
  "kernelspec": {
   "display_name": "Python 3",
   "language": "python",
   "name": "python3"
  },
  "language_info": {
   "codemirror_mode": {
    "name": "ipython",
    "version": 3
   },
   "file_extension": ".py",
   "mimetype": "text/x-python",
   "name": "python",
   "nbconvert_exporter": "python",
   "pygments_lexer": "ipython3",
   "version": "3.7.1"
  }
 },
 "nbformat": 4,
 "nbformat_minor": 1
}
